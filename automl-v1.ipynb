{
 "cells": [
  {
   "cell_type": "markdown",
   "metadata": {},
   "source": [
    "## Automated ML\n",
    "\n",
    "Import Dependencies. "
   ]
  },
  {
   "cell_type": "code",
   "execution_count": 2,
   "metadata": {
    "gather": {
     "logged": 1598423888013
    },
    "jupyter": {
     "outputs_hidden": false,
     "source_hidden": false
    },
    "nteract": {
     "transient": {
      "deleting": false
     }
    }
   },
   "outputs": [],
   "source": [
    "import logging\n",
    "\n",
    "from matplotlib import pyplot as plt\n",
    "import pandas as pd\n",
    "import os\n",
    "\n",
    "import azureml.core\n",
    "from azureml.core.experiment import Experiment\n",
    "from azureml.core.workspace import Workspace\n",
    "from azureml.automl.core.featurization import FeaturizationConfig\n",
    "from azureml.core.dataset import Dataset\n",
    "from azureml.train.automl import AutoMLConfig\n",
    "from azureml.interpret import ExplanationClient"
   ]
  },
  {
   "cell_type": "markdown",
   "metadata": {},
   "source": [
    "## Dataset\n",
    "\n",
    "### Overview\n",
    "\n",
    "Dataset from Davide Chicco, Giuseppe Jurman: \"Machine learning can predict survival of patients with heart failure from serum creatinine and ejection fraction alone\". BMC Medical Informatics and Decision Making 20, 16 (2020)\n",
    "\n",
    "Cardiovascular diseases (CVDs) are the number 1 cause of death globally, taking an estimated 17.9 million lives each year, which accounts for 31% of all deaths worlwide.\n",
    "Heart failure is a common event caused by CVDs and this dataset contains 12 features that can be used to predict mortality by heart failure.\n",
    "\n",
    "Twelve (12) clinical features:\n",
    "\n",
    "- age: age of the patient (years)\n",
    "- anaemia: decrease of red blood cells or hemoglobin (boolean)\n",
    "- high blood pressure: if the patient has hypertension (boolean)\n",
    "- creatinine phosphokinase (CPK): level of the CPK enzyme in the blood (mcg/L)\n",
    "- diabetes: if the patient has diabetes (boolean)\n",
    "- ejection fraction: percentage of blood leaving the heart at each contraction (percentage)\n",
    "- platelets: platelets in the blood (kiloplatelets/mL)\n",
    "- sex: woman or man (binary)\n",
    "- serum creatinine: level of serum creatinine in the blood (mg/dL)\n",
    "- serum sodium: level of serum sodium in the blood (mEq/L)\n",
    "- smoking: if the patient smokes or not (boolean)\n",
    "- time: follow-up period (days)\n",
    "\n",
    "Most cardiovascular diseases can be prevented by addressing behavioural risk factors such as tobacco use, unhealthy diet and obesity, physical inactivity and harmful use of alcohol using population-wide strategies.\n",
    "\n",
    "People with cardiovascular disease or who are at high cardiovascular risk (due to the presence of one or more risk factors such as hypertension, diabetes, hyperlipidaemia or already established disease) need early detection and management wherein a machine learning model can be of great help.\n",
    "\n",
    "For this task, Azure auto machine learning will be performed to make accurate prediction on the death event based on patient's 12 clinical features. "
   ]
  },
  {
   "cell_type": "markdown",
   "metadata": {},
   "source": [
    "## Review Dataset Result"
   ]
  },
  {
   "cell_type": "code",
   "execution_count": 3,
   "metadata": {
    "gather": {
     "logged": 1598423890461
    },
    "jupyter": {
     "outputs_hidden": false,
     "source_hidden": false
    },
    "nteract": {
     "transient": {
      "deleting": false
     }
    },
    "scrolled": false
   },
   "outputs": [
    {
     "data": {
      "text/html": [
       "<div>\n",
       "<style scoped>\n",
       "    .dataframe tbody tr th:only-of-type {\n",
       "        vertical-align: middle;\n",
       "    }\n",
       "\n",
       "    .dataframe tbody tr th {\n",
       "        vertical-align: top;\n",
       "    }\n",
       "\n",
       "    .dataframe thead th {\n",
       "        text-align: right;\n",
       "    }\n",
       "</style>\n",
       "<table border=\"1\" class=\"dataframe\">\n",
       "  <thead>\n",
       "    <tr style=\"text-align: right;\">\n",
       "      <th></th>\n",
       "      <th></th>\n",
       "    </tr>\n",
       "  </thead>\n",
       "  <tbody>\n",
       "    <tr>\n",
       "      <th>Subscription ID</th>\n",
       "      <td>30d182b7-c8c4-421c-8fa0-d3037ecfe6d2</td>\n",
       "    </tr>\n",
       "    <tr>\n",
       "      <th>Workspace</th>\n",
       "      <td>quick-starts-ws-130577</td>\n",
       "    </tr>\n",
       "    <tr>\n",
       "      <th>Resource Group</th>\n",
       "      <td>aml-quickstarts-130577</td>\n",
       "    </tr>\n",
       "    <tr>\n",
       "      <th>Location</th>\n",
       "      <td>southcentralus</td>\n",
       "    </tr>\n",
       "    <tr>\n",
       "      <th>Experiment Name</th>\n",
       "      <td>automl-classification-experiment</td>\n",
       "    </tr>\n",
       "  </tbody>\n",
       "</table>\n",
       "</div>"
      ],
      "text/plain": [
       "                                                     \n",
       "Subscription ID  30d182b7-c8c4-421c-8fa0-d3037ecfe6d2\n",
       "Workspace        quick-starts-ws-130577              \n",
       "Resource Group   aml-quickstarts-130577              \n",
       "Location         southcentralus                      \n",
       "Experiment Name  automl-classification-experiment    "
      ]
     },
     "execution_count": 3,
     "metadata": {},
     "output_type": "execute_result"
    }
   ],
   "source": [
    "ws = Workspace.from_config()\n",
    "\n",
    "# choose a name for experiment\n",
    "experiment_name = 'automl-classification-experiment'\n",
    "\n",
    "experiment=Experiment(ws, experiment_name)\n",
    "\n",
    "output = {}\n",
    "output['Subscription ID'] = ws.subscription_id\n",
    "output['Workspace'] = ws.name\n",
    "output['Resource Group'] = ws.resource_group\n",
    "output['Location'] = ws.location\n",
    "output['Experiment Name'] = experiment.name\n",
    "pd.set_option('display.max_colwidth', -1)\n",
    "outputDf = pd.DataFrame(data = output, index = [''])\n",
    "outputDf.T"
   ]
  },
  {
   "cell_type": "code",
   "execution_count": 4,
   "metadata": {
    "scrolled": true
   },
   "outputs": [
    {
     "data": {
      "text/html": [
       "<div>\n",
       "<style scoped>\n",
       "    .dataframe tbody tr th:only-of-type {\n",
       "        vertical-align: middle;\n",
       "    }\n",
       "\n",
       "    .dataframe tbody tr th {\n",
       "        vertical-align: top;\n",
       "    }\n",
       "\n",
       "    .dataframe thead th {\n",
       "        text-align: right;\n",
       "    }\n",
       "</style>\n",
       "<table border=\"1\" class=\"dataframe\">\n",
       "  <thead>\n",
       "    <tr style=\"text-align: right;\">\n",
       "      <th></th>\n",
       "      <th>age</th>\n",
       "      <th>anaemia</th>\n",
       "      <th>creatinine_phosphokinase</th>\n",
       "      <th>diabetes</th>\n",
       "      <th>ejection_fraction</th>\n",
       "      <th>high_blood_pressure</th>\n",
       "      <th>platelets</th>\n",
       "      <th>serum_creatinine</th>\n",
       "      <th>serum_sodium</th>\n",
       "      <th>sex</th>\n",
       "      <th>smoking</th>\n",
       "      <th>time</th>\n",
       "      <th>DEATH_EVENT</th>\n",
       "    </tr>\n",
       "  </thead>\n",
       "  <tbody>\n",
       "    <tr>\n",
       "      <th>count</th>\n",
       "      <td>299.000000</td>\n",
       "      <td>299.000000</td>\n",
       "      <td>299.000000</td>\n",
       "      <td>299.000000</td>\n",
       "      <td>299.000000</td>\n",
       "      <td>299.000000</td>\n",
       "      <td>299.000000</td>\n",
       "      <td>299.00000</td>\n",
       "      <td>299.000000</td>\n",
       "      <td>299.000000</td>\n",
       "      <td>299.00000</td>\n",
       "      <td>299.000000</td>\n",
       "      <td>299.00000</td>\n",
       "    </tr>\n",
       "    <tr>\n",
       "      <th>mean</th>\n",
       "      <td>60.833893</td>\n",
       "      <td>0.431438</td>\n",
       "      <td>581.839465</td>\n",
       "      <td>0.418060</td>\n",
       "      <td>38.083612</td>\n",
       "      <td>0.351171</td>\n",
       "      <td>263358.029264</td>\n",
       "      <td>1.39388</td>\n",
       "      <td>136.625418</td>\n",
       "      <td>0.648829</td>\n",
       "      <td>0.32107</td>\n",
       "      <td>130.260870</td>\n",
       "      <td>0.32107</td>\n",
       "    </tr>\n",
       "    <tr>\n",
       "      <th>std</th>\n",
       "      <td>11.894809</td>\n",
       "      <td>0.496107</td>\n",
       "      <td>970.287881</td>\n",
       "      <td>0.494067</td>\n",
       "      <td>11.834841</td>\n",
       "      <td>0.478136</td>\n",
       "      <td>97804.236869</td>\n",
       "      <td>1.03451</td>\n",
       "      <td>4.412477</td>\n",
       "      <td>0.478136</td>\n",
       "      <td>0.46767</td>\n",
       "      <td>77.614208</td>\n",
       "      <td>0.46767</td>\n",
       "    </tr>\n",
       "    <tr>\n",
       "      <th>min</th>\n",
       "      <td>40.000000</td>\n",
       "      <td>0.000000</td>\n",
       "      <td>23.000000</td>\n",
       "      <td>0.000000</td>\n",
       "      <td>14.000000</td>\n",
       "      <td>0.000000</td>\n",
       "      <td>25100.000000</td>\n",
       "      <td>0.50000</td>\n",
       "      <td>113.000000</td>\n",
       "      <td>0.000000</td>\n",
       "      <td>0.00000</td>\n",
       "      <td>4.000000</td>\n",
       "      <td>0.00000</td>\n",
       "    </tr>\n",
       "    <tr>\n",
       "      <th>25%</th>\n",
       "      <td>51.000000</td>\n",
       "      <td>0.000000</td>\n",
       "      <td>116.500000</td>\n",
       "      <td>0.000000</td>\n",
       "      <td>30.000000</td>\n",
       "      <td>0.000000</td>\n",
       "      <td>212500.000000</td>\n",
       "      <td>0.90000</td>\n",
       "      <td>134.000000</td>\n",
       "      <td>0.000000</td>\n",
       "      <td>0.00000</td>\n",
       "      <td>73.000000</td>\n",
       "      <td>0.00000</td>\n",
       "    </tr>\n",
       "    <tr>\n",
       "      <th>50%</th>\n",
       "      <td>60.000000</td>\n",
       "      <td>0.000000</td>\n",
       "      <td>250.000000</td>\n",
       "      <td>0.000000</td>\n",
       "      <td>38.000000</td>\n",
       "      <td>0.000000</td>\n",
       "      <td>262000.000000</td>\n",
       "      <td>1.10000</td>\n",
       "      <td>137.000000</td>\n",
       "      <td>1.000000</td>\n",
       "      <td>0.00000</td>\n",
       "      <td>115.000000</td>\n",
       "      <td>0.00000</td>\n",
       "    </tr>\n",
       "    <tr>\n",
       "      <th>75%</th>\n",
       "      <td>70.000000</td>\n",
       "      <td>1.000000</td>\n",
       "      <td>582.000000</td>\n",
       "      <td>1.000000</td>\n",
       "      <td>45.000000</td>\n",
       "      <td>1.000000</td>\n",
       "      <td>303500.000000</td>\n",
       "      <td>1.40000</td>\n",
       "      <td>140.000000</td>\n",
       "      <td>1.000000</td>\n",
       "      <td>1.00000</td>\n",
       "      <td>203.000000</td>\n",
       "      <td>1.00000</td>\n",
       "    </tr>\n",
       "    <tr>\n",
       "      <th>max</th>\n",
       "      <td>95.000000</td>\n",
       "      <td>1.000000</td>\n",
       "      <td>7861.000000</td>\n",
       "      <td>1.000000</td>\n",
       "      <td>80.000000</td>\n",
       "      <td>1.000000</td>\n",
       "      <td>850000.000000</td>\n",
       "      <td>9.40000</td>\n",
       "      <td>148.000000</td>\n",
       "      <td>1.000000</td>\n",
       "      <td>1.00000</td>\n",
       "      <td>285.000000</td>\n",
       "      <td>1.00000</td>\n",
       "    </tr>\n",
       "  </tbody>\n",
       "</table>\n",
       "</div>"
      ],
      "text/plain": [
       "              age     anaemia  creatinine_phosphokinase    diabetes  \\\n",
       "count  299.000000  299.000000  299.000000                299.000000   \n",
       "mean   60.833893   0.431438    581.839465                0.418060     \n",
       "std    11.894809   0.496107    970.287881                0.494067     \n",
       "min    40.000000   0.000000    23.000000                 0.000000     \n",
       "25%    51.000000   0.000000    116.500000                0.000000     \n",
       "50%    60.000000   0.000000    250.000000                0.000000     \n",
       "75%    70.000000   1.000000    582.000000                1.000000     \n",
       "max    95.000000   1.000000    7861.000000               1.000000     \n",
       "\n",
       "       ejection_fraction  high_blood_pressure      platelets  \\\n",
       "count  299.000000         299.000000           299.000000      \n",
       "mean   38.083612          0.351171             263358.029264   \n",
       "std    11.834841          0.478136             97804.236869    \n",
       "min    14.000000          0.000000             25100.000000    \n",
       "25%    30.000000          0.000000             212500.000000   \n",
       "50%    38.000000          0.000000             262000.000000   \n",
       "75%    45.000000          1.000000             303500.000000   \n",
       "max    80.000000          1.000000             850000.000000   \n",
       "\n",
       "       serum_creatinine  serum_sodium         sex    smoking        time  \\\n",
       "count  299.00000         299.000000    299.000000  299.00000  299.000000   \n",
       "mean   1.39388           136.625418    0.648829    0.32107    130.260870   \n",
       "std    1.03451           4.412477      0.478136    0.46767    77.614208    \n",
       "min    0.50000           113.000000    0.000000    0.00000    4.000000     \n",
       "25%    0.90000           134.000000    0.000000    0.00000    73.000000    \n",
       "50%    1.10000           137.000000    1.000000    0.00000    115.000000   \n",
       "75%    1.40000           140.000000    1.000000    1.00000    203.000000   \n",
       "max    9.40000           148.000000    1.000000    1.00000    285.000000   \n",
       "\n",
       "       DEATH_EVENT  \n",
       "count  299.00000    \n",
       "mean   0.32107      \n",
       "std    0.46767      \n",
       "min    0.00000      \n",
       "25%    0.00000      \n",
       "50%    0.00000      \n",
       "75%    1.00000      \n",
       "max    1.00000      "
      ]
     },
     "execution_count": 4,
     "metadata": {},
     "output_type": "execute_result"
    }
   ],
   "source": [
    "# Try to load the dataset from the Workspace. Otherwise, create it from the file\n",
    "# NOTE: update the key to match the dataset name\n",
    "found = False\n",
    "key = \"heart-failure\"\n",
    "description_text = \"Clinical Record DataSet for Predicting Death Event\"\n",
    "\n",
    "if key in ws.datasets.keys(): \n",
    "        found = True\n",
    "        dataset = ws.datasets[key] \n",
    "\n",
    "if not found:\n",
    "        # Create AML Dataset and register it into Workspace\n",
    "        example_data = 'https://mlstrg130254.blob.core.windows.net/azureml-blobstore-01848383-aa83-4b0d-a1e9-2957a2018b7b'\n",
    "        dataset = Dataset.Tabular.from_delimited_files(example_data)        \n",
    "        #Register Dataset in Workspace\n",
    "        dataset = dataset.register(workspace=ws,\n",
    "                                   name=key,\n",
    "                                   description=description_text)\n",
    "\n",
    "\n",
    "df = dataset.to_pandas_dataframe()\n",
    "df.describe()"
   ]
  },
  {
   "cell_type": "code",
   "execution_count": 5,
   "metadata": {},
   "outputs": [
    {
     "data": {
      "text/html": [
       "<div>\n",
       "<style scoped>\n",
       "    .dataframe tbody tr th:only-of-type {\n",
       "        vertical-align: middle;\n",
       "    }\n",
       "\n",
       "    .dataframe tbody tr th {\n",
       "        vertical-align: top;\n",
       "    }\n",
       "\n",
       "    .dataframe thead th {\n",
       "        text-align: right;\n",
       "    }\n",
       "</style>\n",
       "<table border=\"1\" class=\"dataframe\">\n",
       "  <thead>\n",
       "    <tr style=\"text-align: right;\">\n",
       "      <th></th>\n",
       "      <th>age</th>\n",
       "      <th>anaemia</th>\n",
       "      <th>creatinine_phosphokinase</th>\n",
       "      <th>diabetes</th>\n",
       "      <th>ejection_fraction</th>\n",
       "      <th>high_blood_pressure</th>\n",
       "      <th>platelets</th>\n",
       "      <th>serum_creatinine</th>\n",
       "      <th>serum_sodium</th>\n",
       "      <th>sex</th>\n",
       "      <th>smoking</th>\n",
       "      <th>time</th>\n",
       "      <th>DEATH_EVENT</th>\n",
       "    </tr>\n",
       "  </thead>\n",
       "  <tbody>\n",
       "    <tr>\n",
       "      <th>0</th>\n",
       "      <td>75.0</td>\n",
       "      <td>0</td>\n",
       "      <td>582</td>\n",
       "      <td>0</td>\n",
       "      <td>20</td>\n",
       "      <td>1</td>\n",
       "      <td>265000.00</td>\n",
       "      <td>1.9</td>\n",
       "      <td>130</td>\n",
       "      <td>1</td>\n",
       "      <td>0</td>\n",
       "      <td>4</td>\n",
       "      <td>1</td>\n",
       "    </tr>\n",
       "    <tr>\n",
       "      <th>1</th>\n",
       "      <td>55.0</td>\n",
       "      <td>0</td>\n",
       "      <td>7861</td>\n",
       "      <td>0</td>\n",
       "      <td>38</td>\n",
       "      <td>0</td>\n",
       "      <td>263358.03</td>\n",
       "      <td>1.1</td>\n",
       "      <td>136</td>\n",
       "      <td>1</td>\n",
       "      <td>0</td>\n",
       "      <td>6</td>\n",
       "      <td>1</td>\n",
       "    </tr>\n",
       "    <tr>\n",
       "      <th>2</th>\n",
       "      <td>65.0</td>\n",
       "      <td>0</td>\n",
       "      <td>146</td>\n",
       "      <td>0</td>\n",
       "      <td>20</td>\n",
       "      <td>0</td>\n",
       "      <td>162000.00</td>\n",
       "      <td>1.3</td>\n",
       "      <td>129</td>\n",
       "      <td>1</td>\n",
       "      <td>1</td>\n",
       "      <td>7</td>\n",
       "      <td>1</td>\n",
       "    </tr>\n",
       "    <tr>\n",
       "      <th>3</th>\n",
       "      <td>50.0</td>\n",
       "      <td>1</td>\n",
       "      <td>111</td>\n",
       "      <td>0</td>\n",
       "      <td>20</td>\n",
       "      <td>0</td>\n",
       "      <td>210000.00</td>\n",
       "      <td>1.9</td>\n",
       "      <td>137</td>\n",
       "      <td>1</td>\n",
       "      <td>0</td>\n",
       "      <td>7</td>\n",
       "      <td>1</td>\n",
       "    </tr>\n",
       "    <tr>\n",
       "      <th>4</th>\n",
       "      <td>65.0</td>\n",
       "      <td>1</td>\n",
       "      <td>160</td>\n",
       "      <td>1</td>\n",
       "      <td>20</td>\n",
       "      <td>0</td>\n",
       "      <td>327000.00</td>\n",
       "      <td>2.7</td>\n",
       "      <td>116</td>\n",
       "      <td>0</td>\n",
       "      <td>0</td>\n",
       "      <td>8</td>\n",
       "      <td>1</td>\n",
       "    </tr>\n",
       "  </tbody>\n",
       "</table>\n",
       "</div>"
      ],
      "text/plain": [
       "    age  anaemia  creatinine_phosphokinase  diabetes  ejection_fraction  \\\n",
       "0  75.0  0        582                       0         20                  \n",
       "1  55.0  0        7861                      0         38                  \n",
       "2  65.0  0        146                       0         20                  \n",
       "3  50.0  1        111                       0         20                  \n",
       "4  65.0  1        160                       1         20                  \n",
       "\n",
       "   high_blood_pressure  platelets  serum_creatinine  serum_sodium  sex  \\\n",
       "0  1                    265000.00  1.9               130           1     \n",
       "1  0                    263358.03  1.1               136           1     \n",
       "2  0                    162000.00  1.3               129           1     \n",
       "3  0                    210000.00  1.9               137           1     \n",
       "4  0                    327000.00  2.7               116           0     \n",
       "\n",
       "   smoking  time  DEATH_EVENT  \n",
       "0  0        4     1            \n",
       "1  0        6     1            \n",
       "2  1        7     1            \n",
       "3  0        7     1            \n",
       "4  0        8     1            "
      ]
     },
     "execution_count": 5,
     "metadata": {},
     "output_type": "execute_result"
    }
   ],
   "source": [
    "dataset.take(5).to_pandas_dataframe()"
   ]
  },
  {
   "cell_type": "markdown",
   "metadata": {},
   "source": [
    "## Create or Attach an AmlCompute Cluster"
   ]
  },
  {
   "cell_type": "code",
   "execution_count": 6,
   "metadata": {},
   "outputs": [
    {
     "name": "stdout",
     "output_type": "stream",
     "text": [
      "Found existing cluster, use it.\n",
      "Succeeded\n",
      "AmlCompute wait for completion finished\n",
      "\n",
      "Minimum number of nodes requested have been provisioned\n"
     ]
    }
   ],
   "source": [
    "from azureml.core.compute import ComputeTarget, AmlCompute\n",
    "from azureml.core.compute_target import ComputeTargetException\n",
    "\n",
    "# Choose a name for your CPU cluster\n",
    "cpu_cluster_name = \"cpu-cluster\"\n",
    "\n",
    "# Verify that cluster does not exist already\n",
    "try:\n",
    "    compute_target = ComputeTarget(workspace=ws, name=cpu_cluster_name)\n",
    "    print('Found existing cluster, use it.')\n",
    "except ComputeTargetException:\n",
    "    compute_config = AmlCompute.provisioning_configuration(vm_size='STANDARD_D12_V2',\n",
    "                                                           max_nodes=5)\n",
    "    compute_target = ComputeTarget.create(ws, cpu_cluster_name, compute_config)\n",
    "\n",
    "compute_target.wait_for_completion(show_output=True)"
   ]
  },
  {
   "cell_type": "markdown",
   "metadata": {},
   "source": [
    "## AutoML Configuration"
   ]
  },
  {
   "cell_type": "code",
   "execution_count": 7,
   "metadata": {
    "gather": {
     "logged": 1598429217746
    },
    "jupyter": {
     "outputs_hidden": false,
     "source_hidden": false
    },
    "nteract": {
     "transient": {
      "deleting": false
     }
    }
   },
   "outputs": [],
   "source": [
    "project_folder = './automl'\n",
    "\n",
    "automl_settings = {\n",
    "    \"experiment_timeout_minutes\": 30,\n",
    "    \"max_concurrent_iterations\": 5,\n",
    "    \"primary_metric\" : 'AUC_weighted'\n",
    "}\n",
    "automl_config = AutoMLConfig(compute_target=compute_target,\n",
    "                             task = \"classification\",\n",
    "                             training_data=dataset,\n",
    "                             label_column_name=\"DEATH_EVENT\", \n",
    "                             enable_onnx_compatible_models=True,\n",
    "                             path = project_folder,\n",
    "                             enable_early_stopping= True,\n",
    "                             featurization= 'auto',\n",
    "                             debug_log = \"automl_errors.log\",\n",
    "                             **automl_settings\n",
    "                            )"
   ]
  },
  {
   "cell_type": "markdown",
   "metadata": {},
   "source": [
    "AutoML typically performs cross validation, data balance check, cardinality check in prior to machine learning process with a variety of algorithms. "
   ]
  },
  {
   "cell_type": "code",
   "execution_count": 8,
   "metadata": {
    "scrolled": true
   },
   "outputs": [
    {
     "name": "stdout",
     "output_type": "stream",
     "text": [
      "Running on remote.\n",
      "No run_configuration provided, running on cpu-cluster with default configuration\n",
      "Running on remote compute: cpu-cluster\n",
      "Parent Run ID: AutoML_2d76aec7-a6dd-4206-9615-bf5c59423e1a\n",
      "\n",
      "Current status: FeaturesGeneration. Generating features for the dataset.\n",
      "Current status: DatasetCrossValidationSplit. Generating individually featurized CV splits.\n",
      "Current status: ModelSelection. Beginning model selection.\n",
      "\n",
      "****************************************************************************************************\n",
      "DATA GUARDRAILS: \n",
      "\n",
      "TYPE:         Cross validation\n",
      "STATUS:       DONE\n",
      "DESCRIPTION:  Each iteration of the trained model was validated through cross-validation.\n",
      "              \n",
      "DETAILS:      \n",
      "+---------------------------------+\n",
      "|Number of folds                  |\n",
      "+=================================+\n",
      "|10                               |\n",
      "+---------------------------------+\n",
      "\n",
      "****************************************************************************************************\n",
      "\n",
      "TYPE:         Class balancing detection\n",
      "STATUS:       PASSED\n",
      "DESCRIPTION:  Your inputs were analyzed, and all classes are balanced in your training data.\n",
      "              Learn more about imbalanced data: https://aka.ms/AutomatedMLImbalancedData\n",
      "\n",
      "****************************************************************************************************\n",
      "\n",
      "TYPE:         High cardinality feature detection\n",
      "STATUS:       PASSED\n",
      "DESCRIPTION:  Your inputs were analyzed, and no high cardinality features were detected.\n",
      "              Learn more about high cardinality feature handling: https://aka.ms/AutomatedMLFeaturization\n",
      "\n",
      "****************************************************************************************************\n",
      "\n",
      "****************************************************************************************************\n",
      "ITERATION: The iteration being evaluated.\n",
      "PIPELINE: A summary description of the pipeline being evaluated.\n",
      "DURATION: Time taken for the current iteration.\n",
      "METRIC: The result of computing score on the fitted pipeline.\n",
      "BEST: The best observed score thus far.\n",
      "****************************************************************************************************\n",
      "\n",
      " ITERATION   PIPELINE                                       DURATION      METRIC      BEST\n",
      "         0   MaxAbsScaler LightGBM                          0:00:54       0.8822    0.8822\n",
      "         4   MinMaxScaler RandomForest                      0:00:51       0.9017    0.9017\n",
      "         2   MinMaxScaler RandomForest                      0:00:54       0.8756    0.9017\n",
      "         3   RobustScaler ExtremeRandomTrees                0:00:52       0.8611    0.9017\n",
      "         5   MinMaxScaler RandomForest                      0:00:50       0.8775    0.9017\n",
      "         1   MaxAbsScaler XGBoostClassifier                 0:01:01       0.8717    0.9017\n",
      "         6   StandardScalerWrapper RandomForest             0:00:51       0.8746    0.9017\n",
      "         8   MinMaxScaler ExtremeRandomTrees                0:00:56       0.8604    0.9017\n",
      "         9   SparseNormalizer KNN                           0:00:45       0.7207    0.9017\n",
      "        10   MinMaxScaler ExtremeRandomTrees                0:00:53       0.8528    0.9017\n",
      "        11   RobustScaler ExtremeRandomTrees                0:01:01       0.8582    0.9017\n",
      "         7   MinMaxScaler ExtremeRandomTrees                0:02:28       0.8910    0.9017\n",
      "        12   StandardScalerWrapper RandomForest             0:01:00       0.8864    0.9017\n",
      "        13   StandardScalerWrapper SGD                      0:00:51       0.8554    0.9017\n",
      "        14   RobustScaler RandomForest                      0:00:43       0.8599    0.9017\n",
      "        15   StandardScalerWrapper KNN                      0:00:42       0.5682    0.9017\n",
      "        16   MinMaxScaler RandomForest                      0:00:47       0.8802    0.9017\n",
      "        17   MinMaxScaler ExtremeRandomTrees                0:00:56       0.8071    0.9017\n",
      "        18   MaxAbsScaler RandomForest                      0:01:02       0.8578    0.9017\n",
      "        19   StandardScalerWrapper XGBoostClassifier        0:00:51       0.8910    0.9017\n",
      "        20   MaxAbsScaler RandomForest                      0:00:50       0.8684    0.9017\n",
      "        21   MaxAbsScaler ExtremeRandomTrees                0:00:52       0.8427    0.9017\n",
      "        22   MaxAbsScaler ExtremeRandomTrees                0:00:56       0.8580    0.9017\n",
      "        23   StandardScalerWrapper XGBoostClassifier        0:00:53       0.8918    0.9017\n",
      "        24   MinMaxScaler ExtremeRandomTrees                0:01:01       0.8830    0.9017\n",
      "        25   MinMaxScaler RandomForest                      0:01:03       0.8758    0.9017\n",
      "        26   MaxAbsScaler ExtremeRandomTrees                0:01:08       0.8851    0.9017\n",
      "        27   StandardScalerWrapper XGBoostClassifier        0:00:55       0.8864    0.9017\n",
      "        28   MaxAbsScaler RandomForest                      0:01:01       0.8811    0.9017\n",
      "        29   StandardScalerWrapper XGBoostClassifier        0:00:52       0.8880    0.9017\n",
      "        30   StandardScalerWrapper RandomForest             0:01:02       0.8838    0.9017\n",
      "        31   MinMaxScaler RandomForest                      0:00:59       0.9030    0.9030\n",
      "        32   StandardScalerWrapper LightGBM                 0:00:54       0.8938    0.9030\n",
      "        33   MinMaxScaler RandomForest                      0:01:00       0.9011    0.9030\n",
      "        34   RobustScaler RandomForest                      0:01:03       0.8988    0.9030\n",
      "        35   TruncatedSVDWrapper RandomForest               0:00:55       0.7492    0.9030\n",
      "        36   RobustScaler LightGBM                          0:00:52       0.9058    0.9058\n",
      "        37   StandardScalerWrapper LightGBM                 0:00:57       0.8921    0.9058\n",
      "        38   MinMaxScaler LightGBM                          0:00:59       0.9052    0.9058\n",
      "        39   StandardScalerWrapper LightGBM                 0:00:55       0.9041    0.9058\n",
      "        41   StandardScalerWrapper XGBoostClassifier        0:00:55       0.8905    0.9058\n",
      "        40   StandardScalerWrapper RandomForest             0:01:07       0.8096    0.9058\n",
      "        42   StandardScalerWrapper RandomForest             0:01:10       0.8938    0.9058\n",
      "        43   StandardScalerWrapper LightGBM                 0:00:53       0.8980    0.9058\n",
      "        44   StandardScalerWrapper LightGBM                 0:00:59       0.8977    0.9058\n",
      "        45   MinMaxScaler LightGBM                          0:00:52       0.9054    0.9058\n",
      "        46   RobustScaler LightGBM                          0:00:59       0.8937    0.9058\n",
      "        47   StandardScalerWrapper LightGBM                 0:01:04       0.9044    0.9058\n",
      "        48   StandardScalerWrapper ExtremeRandomTrees       0:01:34       0.8890    0.9058\n",
      "        50   StandardScalerWrapper LightGBM                 0:01:20       0.8761    0.9058\n",
      "        49   MinMaxScaler GradientBoosting                  0:01:46       0.9014    0.9058\n",
      "        52                                                  0:00:16          nan    0.9058\n",
      "        53                                                  0:00:59          nan    0.9058\n",
      "        51   MaxAbsScaler LogisticRegression                0:01:02       0.8523    0.9058\n",
      "        54                                                  0:00:19          nan    0.9058\n",
      "        55    VotingEnsemble                                0:04:02       0.9148    0.9148\n"
     ]
    }
   ],
   "source": [
    "remote_run = experiment.submit(automl_config, show_output = True)"
   ]
  },
  {
   "cell_type": "code",
   "execution_count": 9,
   "metadata": {
    "scrolled": true
   },
   "outputs": [
    {
     "data": {
      "text/html": [
       "<table style=\"width:100%\"><tr><th>Experiment</th><th>Id</th><th>Type</th><th>Status</th><th>Details Page</th><th>Docs Page</th></tr><tr><td>automl-classification-experiment</td><td>AutoML_2d76aec7-a6dd-4206-9615-bf5c59423e1a</td><td>automl</td><td>Completed</td><td><a href=\"https://ml.azure.com/experiments/automl-classification-experiment/runs/AutoML_2d76aec7-a6dd-4206-9615-bf5c59423e1a?wsid=/subscriptions/30d182b7-c8c4-421c-8fa0-d3037ecfe6d2/resourcegroups/aml-quickstarts-130577/workspaces/quick-starts-ws-130577\" target=\"_blank\" rel=\"noopener\">Link to Azure Machine Learning studio</a></td><td><a href=\"https://docs.microsoft.com/en-us/python/api/overview/azure/ml/intro?view=azure-ml-py\" target=\"_blank\" rel=\"noopener\">Link to Documentation</a></td></tr></table>"
      ],
      "text/plain": [
       "Run(Experiment: automl-classification-experiment,\n",
       "Id: AutoML_2d76aec7-a6dd-4206-9615-bf5c59423e1a,\n",
       "Type: automl,\n",
       "Status: Completed)"
      ]
     },
     "execution_count": 9,
     "metadata": {},
     "output_type": "execute_result"
    }
   ],
   "source": [
    "remote_run"
   ]
  },
  {
   "cell_type": "code",
   "execution_count": 10,
   "metadata": {},
   "outputs": [],
   "source": [
    "#from azureml.train.automl.run import AutoMLRun\n",
    "#remote_run = AutoMLRun(experiment=experiment, run_id='AutoML_b580a705-20af-4f6c-a516-3aaede13be37')\n",
    "#remote_run"
   ]
  },
  {
   "cell_type": "code",
   "execution_count": 11,
   "metadata": {},
   "outputs": [
    {
     "data": {
      "application/vnd.jupyter.widget-view+json": {
       "model_id": "5d5bfb269c8344639823818767fe858a",
       "version_major": 2,
       "version_minor": 0
      },
      "text/plain": [
       "_AutoMLWidget(widget_settings={'childWidgetDisplay': 'popup', 'send_telemetry': False, 'log_level': 'INFO', 's…"
      ]
     },
     "metadata": {},
     "output_type": "display_data"
    },
    {
     "data": {
      "application/aml.mini.widget.v1": "{\"status\": \"Completed\", \"workbench_run_details_uri\": \"https://ml.azure.com/experiments/automl-classification-experiment/runs/AutoML_2d76aec7-a6dd-4206-9615-bf5c59423e1a?wsid=/subscriptions/30d182b7-c8c4-421c-8fa0-d3037ecfe6d2/resourcegroups/aml-quickstarts-130577/workspaces/quick-starts-ws-130577\", \"run_id\": \"AutoML_2d76aec7-a6dd-4206-9615-bf5c59423e1a\", \"run_properties\": {\"run_id\": \"AutoML_2d76aec7-a6dd-4206-9615-bf5c59423e1a\", \"created_utc\": \"2020-12-15T05:54:48.087082Z\", \"properties\": {\"num_iterations\": \"1000\", \"training_type\": \"TrainFull\", \"acquisition_function\": \"EI\", \"primary_metric\": \"AUC_weighted\", \"train_split\": \"0\", \"acquisition_parameter\": \"0\", \"num_cross_validation\": null, \"target\": \"cpu-cluster\", \"AMLSettingsJsonString\": \"{\\\"path\\\":null,\\\"name\\\":\\\"automl-classification-experiment\\\",\\\"subscription_id\\\":\\\"30d182b7-c8c4-421c-8fa0-d3037ecfe6d2\\\",\\\"resource_group\\\":\\\"aml-quickstarts-130577\\\",\\\"workspace_name\\\":\\\"quick-starts-ws-130577\\\",\\\"region\\\":\\\"southcentralus\\\",\\\"compute_target\\\":\\\"cpu-cluster\\\",\\\"spark_service\\\":null,\\\"azure_service\\\":\\\"remote\\\",\\\"many_models\\\":false,\\\"pipeline_fetch_max_batch_size\\\":1,\\\"iterations\\\":1000,\\\"primary_metric\\\":\\\"AUC_weighted\\\",\\\"task_type\\\":\\\"classification\\\",\\\"data_script\\\":null,\\\"validation_size\\\":0.0,\\\"n_cross_validations\\\":null,\\\"y_min\\\":null,\\\"y_max\\\":null,\\\"num_classes\\\":null,\\\"featurization\\\":\\\"auto\\\",\\\"_ignore_package_version_incompatibilities\\\":false,\\\"is_timeseries\\\":false,\\\"max_cores_per_iteration\\\":1,\\\"max_concurrent_iterations\\\":5,\\\"iteration_timeout_minutes\\\":null,\\\"mem_in_mb\\\":null,\\\"enforce_time_on_windows\\\":false,\\\"experiment_timeout_minutes\\\":30,\\\"experiment_exit_score\\\":null,\\\"whitelist_models\\\":null,\\\"blacklist_algos\\\":[\\\"TensorFlowLinearClassifier\\\",\\\"TensorFlowDNN\\\"],\\\"supported_models\\\":[\\\"LinearSVM\\\",\\\"SGD\\\",\\\"XGBoostClassifier\\\",\\\"AveragedPerceptronClassifier\\\",\\\"BernoulliNaiveBayes\\\",\\\"MultinomialNaiveBayes\\\",\\\"GradientBoosting\\\",\\\"LogisticRegression\\\",\\\"KNN\\\",\\\"TensorFlowLinearClassifier\\\",\\\"TensorFlowDNN\\\",\\\"DecisionTree\\\",\\\"RandomForest\\\",\\\"LightGBM\\\",\\\"ExtremeRandomTrees\\\",\\\"SVM\\\"],\\\"auto_blacklist\\\":true,\\\"blacklist_samples_reached\\\":false,\\\"exclude_nan_labels\\\":true,\\\"verbosity\\\":20,\\\"_debug_log\\\":\\\"azureml_automl.log\\\",\\\"show_warnings\\\":false,\\\"model_explainability\\\":true,\\\"service_url\\\":null,\\\"sdk_url\\\":null,\\\"sdk_packages\\\":null,\\\"enable_onnx_compatible_models\\\":true,\\\"enable_split_onnx_featurizer_estimator_models\\\":false,\\\"vm_type\\\":\\\"STANDARD_D12_V2\\\",\\\"telemetry_verbosity\\\":20,\\\"send_telemetry\\\":true,\\\"enable_dnn\\\":false,\\\"scenario\\\":\\\"SDK-1.13.0\\\",\\\"environment_label\\\":null,\\\"force_text_dnn\\\":false,\\\"enable_feature_sweeping\\\":false,\\\"enable_early_stopping\\\":true,\\\"early_stopping_n_iters\\\":10,\\\"metrics\\\":null,\\\"enable_ensembling\\\":true,\\\"enable_stack_ensembling\\\":false,\\\"ensemble_iterations\\\":15,\\\"enable_tf\\\":false,\\\"enable_subsampling\\\":null,\\\"subsample_seed\\\":null,\\\"enable_nimbusml\\\":false,\\\"enable_streaming\\\":false,\\\"force_streaming\\\":false,\\\"track_child_runs\\\":true,\\\"allowed_private_models\\\":[],\\\"label_column_name\\\":\\\"DEATH_EVENT\\\",\\\"weight_column_name\\\":null,\\\"cv_split_column_names\\\":null,\\\"enable_local_managed\\\":false,\\\"_local_managed_run_id\\\":null,\\\"cost_mode\\\":1,\\\"lag_length\\\":0,\\\"metric_operation\\\":\\\"maximize\\\",\\\"preprocess\\\":true}\", \"DataPrepJsonString\": \"{\\\\\\\"training_data\\\\\\\": \\\\\\\"{\\\\\\\\\\\\\\\"blocks\\\\\\\\\\\\\\\": [{\\\\\\\\\\\\\\\"id\\\\\\\\\\\\\\\": \\\\\\\\\\\\\\\"16fa2975-2387-4cbe-ba18-e208cdd9a61a\\\\\\\\\\\\\\\", \\\\\\\\\\\\\\\"type\\\\\\\\\\\\\\\": \\\\\\\\\\\\\\\"Microsoft.DPrep.GetDatastoreFilesBlock\\\\\\\\\\\\\\\", \\\\\\\\\\\\\\\"arguments\\\\\\\\\\\\\\\": {\\\\\\\\\\\\\\\"datastores\\\\\\\\\\\\\\\": [{\\\\\\\\\\\\\\\"datastoreName\\\\\\\\\\\\\\\": \\\\\\\\\\\\\\\"workspaceblobstore\\\\\\\\\\\\\\\", \\\\\\\\\\\\\\\"path\\\\\\\\\\\\\\\": \\\\\\\\\\\\\\\"UI/12-15-2020_051023_UTC/heart_failure_clinical_records_dataset.csv\\\\\\\\\\\\\\\", \\\\\\\\\\\\\\\"resourceGroup\\\\\\\\\\\\\\\": \\\\\\\\\\\\\\\"aml-quickstarts-130577\\\\\\\\\\\\\\\", \\\\\\\\\\\\\\\"subscription\\\\\\\\\\\\\\\": \\\\\\\\\\\\\\\"30d182b7-c8c4-421c-8fa0-d3037ecfe6d2\\\\\\\\\\\\\\\", \\\\\\\\\\\\\\\"workspaceName\\\\\\\\\\\\\\\": \\\\\\\\\\\\\\\"quick-starts-ws-130577\\\\\\\\\\\\\\\"}]}, \\\\\\\\\\\\\\\"localData\\\\\\\\\\\\\\\": {}, \\\\\\\\\\\\\\\"isEnabled\\\\\\\\\\\\\\\": true, \\\\\\\\\\\\\\\"name\\\\\\\\\\\\\\\": null, \\\\\\\\\\\\\\\"annotation\\\\\\\\\\\\\\\": null}, {\\\\\\\\\\\\\\\"id\\\\\\\\\\\\\\\": \\\\\\\\\\\\\\\"c431d026-784d-443d-9b12-3b439b1ef35b\\\\\\\\\\\\\\\", \\\\\\\\\\\\\\\"type\\\\\\\\\\\\\\\": \\\\\\\\\\\\\\\"Microsoft.DPrep.ParseDelimitedBlock\\\\\\\\\\\\\\\", \\\\\\\\\\\\\\\"arguments\\\\\\\\\\\\\\\": {\\\\\\\\\\\\\\\"columnHeadersMode\\\\\\\\\\\\\\\": 1, \\\\\\\\\\\\\\\"fileEncoding\\\\\\\\\\\\\\\": 0, \\\\\\\\\\\\\\\"handleQuotedLineBreaks\\\\\\\\\\\\\\\": false, \\\\\\\\\\\\\\\"preview\\\\\\\\\\\\\\\": false, \\\\\\\\\\\\\\\"separator\\\\\\\\\\\\\\\": \\\\\\\\\\\\\\\",\\\\\\\\\\\\\\\", \\\\\\\\\\\\\\\"skipRows\\\\\\\\\\\\\\\": 0, \\\\\\\\\\\\\\\"skipRowsMode\\\\\\\\\\\\\\\": 0}, \\\\\\\\\\\\\\\"localData\\\\\\\\\\\\\\\": {}, \\\\\\\\\\\\\\\"isEnabled\\\\\\\\\\\\\\\": true, \\\\\\\\\\\\\\\"name\\\\\\\\\\\\\\\": null, \\\\\\\\\\\\\\\"annotation\\\\\\\\\\\\\\\": null}, {\\\\\\\\\\\\\\\"id\\\\\\\\\\\\\\\": \\\\\\\\\\\\\\\"8acabaaa-1374-4cab-931d-58647683c6e2\\\\\\\\\\\\\\\", \\\\\\\\\\\\\\\"type\\\\\\\\\\\\\\\": \\\\\\\\\\\\\\\"Microsoft.DPrep.DropColumnsBlock\\\\\\\\\\\\\\\", \\\\\\\\\\\\\\\"arguments\\\\\\\\\\\\\\\": {\\\\\\\\\\\\\\\"columns\\\\\\\\\\\\\\\": {\\\\\\\\\\\\\\\"type\\\\\\\\\\\\\\\": 0, \\\\\\\\\\\\\\\"details\\\\\\\\\\\\\\\": {\\\\\\\\\\\\\\\"selectedColumns\\\\\\\\\\\\\\\": [\\\\\\\\\\\\\\\"Path\\\\\\\\\\\\\\\"]}}}, \\\\\\\\\\\\\\\"localData\\\\\\\\\\\\\\\": {}, \\\\\\\\\\\\\\\"isEnabled\\\\\\\\\\\\\\\": true, \\\\\\\\\\\\\\\"name\\\\\\\\\\\\\\\": null, \\\\\\\\\\\\\\\"annotation\\\\\\\\\\\\\\\": null}, {\\\\\\\\\\\\\\\"id\\\\\\\\\\\\\\\": \\\\\\\\\\\\\\\"04b34647-c157-4957-921b-fdd0c33c815c\\\\\\\\\\\\\\\", \\\\\\\\\\\\\\\"type\\\\\\\\\\\\\\\": \\\\\\\\\\\\\\\"Microsoft.DPrep.SetColumnTypesBlock\\\\\\\\\\\\\\\", \\\\\\\\\\\\\\\"arguments\\\\\\\\\\\\\\\": {\\\\\\\\\\\\\\\"columnConversion\\\\\\\\\\\\\\\": [{\\\\\\\\\\\\\\\"column\\\\\\\\\\\\\\\": {\\\\\\\\\\\\\\\"type\\\\\\\\\\\\\\\": 2, \\\\\\\\\\\\\\\"details\\\\\\\\\\\\\\\": {\\\\\\\\\\\\\\\"selectedColumn\\\\\\\\\\\\\\\": \\\\\\\\\\\\\\\"Path\\\\\\\\\\\\\\\"}}, \\\\\\\\\\\\\\\"typeProperty\\\\\\\\\\\\\\\": 0}, {\\\\\\\\\\\\\\\"column\\\\\\\\\\\\\\\": {\\\\\\\\\\\\\\\"type\\\\\\\\\\\\\\\": 2, \\\\\\\\\\\\\\\"details\\\\\\\\\\\\\\\": {\\\\\\\\\\\\\\\"selectedColumn\\\\\\\\\\\\\\\": \\\\\\\\\\\\\\\"age\\\\\\\\\\\\\\\"}}, \\\\\\\\\\\\\\\"typeProperty\\\\\\\\\\\\\\\": 3}, {\\\\\\\\\\\\\\\"column\\\\\\\\\\\\\\\": {\\\\\\\\\\\\\\\"type\\\\\\\\\\\\\\\": 2, \\\\\\\\\\\\\\\"details\\\\\\\\\\\\\\\": {\\\\\\\\\\\\\\\"selectedColumn\\\\\\\\\\\\\\\": \\\\\\\\\\\\\\\"anaemia\\\\\\\\\\\\\\\"}}, \\\\\\\\\\\\\\\"typeProperty\\\\\\\\\\\\\\\": 2}, {\\\\\\\\\\\\\\\"column\\\\\\\\\\\\\\\": {\\\\\\\\\\\\\\\"type\\\\\\\\\\\\\\\": 2, \\\\\\\\\\\\\\\"details\\\\\\\\\\\\\\\": {\\\\\\\\\\\\\\\"selectedColumn\\\\\\\\\\\\\\\": \\\\\\\\\\\\\\\"creatinine_phosphokinase\\\\\\\\\\\\\\\"}}, \\\\\\\\\\\\\\\"typeProperty\\\\\\\\\\\\\\\": 2}, {\\\\\\\\\\\\\\\"column\\\\\\\\\\\\\\\": {\\\\\\\\\\\\\\\"type\\\\\\\\\\\\\\\": 2, \\\\\\\\\\\\\\\"details\\\\\\\\\\\\\\\": {\\\\\\\\\\\\\\\"selectedColumn\\\\\\\\\\\\\\\": \\\\\\\\\\\\\\\"diabetes\\\\\\\\\\\\\\\"}}, \\\\\\\\\\\\\\\"typeProperty\\\\\\\\\\\\\\\": 2}, {\\\\\\\\\\\\\\\"column\\\\\\\\\\\\\\\": {\\\\\\\\\\\\\\\"type\\\\\\\\\\\\\\\": 2, \\\\\\\\\\\\\\\"details\\\\\\\\\\\\\\\": {\\\\\\\\\\\\\\\"selectedColumn\\\\\\\\\\\\\\\": \\\\\\\\\\\\\\\"ejection_fraction\\\\\\\\\\\\\\\"}}, \\\\\\\\\\\\\\\"typeProperty\\\\\\\\\\\\\\\": 2}, {\\\\\\\\\\\\\\\"column\\\\\\\\\\\\\\\": {\\\\\\\\\\\\\\\"type\\\\\\\\\\\\\\\": 2, \\\\\\\\\\\\\\\"details\\\\\\\\\\\\\\\": {\\\\\\\\\\\\\\\"selectedColumn\\\\\\\\\\\\\\\": \\\\\\\\\\\\\\\"high_blood_pressure\\\\\\\\\\\\\\\"}}, \\\\\\\\\\\\\\\"typeProperty\\\\\\\\\\\\\\\": 2}, {\\\\\\\\\\\\\\\"column\\\\\\\\\\\\\\\": {\\\\\\\\\\\\\\\"type\\\\\\\\\\\\\\\": 2, \\\\\\\\\\\\\\\"details\\\\\\\\\\\\\\\": {\\\\\\\\\\\\\\\"selectedColumn\\\\\\\\\\\\\\\": \\\\\\\\\\\\\\\"platelets\\\\\\\\\\\\\\\"}}, \\\\\\\\\\\\\\\"typeProperty\\\\\\\\\\\\\\\": 3}, {\\\\\\\\\\\\\\\"column\\\\\\\\\\\\\\\": {\\\\\\\\\\\\\\\"type\\\\\\\\\\\\\\\": 2, \\\\\\\\\\\\\\\"details\\\\\\\\\\\\\\\": {\\\\\\\\\\\\\\\"selectedColumn\\\\\\\\\\\\\\\": \\\\\\\\\\\\\\\"serum_creatinine\\\\\\\\\\\\\\\"}}, \\\\\\\\\\\\\\\"typeProperty\\\\\\\\\\\\\\\": 3}, {\\\\\\\\\\\\\\\"column\\\\\\\\\\\\\\\": {\\\\\\\\\\\\\\\"type\\\\\\\\\\\\\\\": 2, \\\\\\\\\\\\\\\"details\\\\\\\\\\\\\\\": {\\\\\\\\\\\\\\\"selectedColumn\\\\\\\\\\\\\\\": \\\\\\\\\\\\\\\"serum_sodium\\\\\\\\\\\\\\\"}}, \\\\\\\\\\\\\\\"typeProperty\\\\\\\\\\\\\\\": 2}, {\\\\\\\\\\\\\\\"column\\\\\\\\\\\\\\\": {\\\\\\\\\\\\\\\"type\\\\\\\\\\\\\\\": 2, \\\\\\\\\\\\\\\"details\\\\\\\\\\\\\\\": {\\\\\\\\\\\\\\\"selectedColumn\\\\\\\\\\\\\\\": \\\\\\\\\\\\\\\"sex\\\\\\\\\\\\\\\"}}, \\\\\\\\\\\\\\\"typeProperty\\\\\\\\\\\\\\\": 2}, {\\\\\\\\\\\\\\\"column\\\\\\\\\\\\\\\": {\\\\\\\\\\\\\\\"type\\\\\\\\\\\\\\\": 2, \\\\\\\\\\\\\\\"details\\\\\\\\\\\\\\\": {\\\\\\\\\\\\\\\"selectedColumn\\\\\\\\\\\\\\\": \\\\\\\\\\\\\\\"smoking\\\\\\\\\\\\\\\"}}, \\\\\\\\\\\\\\\"typeProperty\\\\\\\\\\\\\\\": 2}, {\\\\\\\\\\\\\\\"column\\\\\\\\\\\\\\\": {\\\\\\\\\\\\\\\"type\\\\\\\\\\\\\\\": 2, \\\\\\\\\\\\\\\"details\\\\\\\\\\\\\\\": {\\\\\\\\\\\\\\\"selectedColumn\\\\\\\\\\\\\\\": \\\\\\\\\\\\\\\"time\\\\\\\\\\\\\\\"}}, \\\\\\\\\\\\\\\"typeProperty\\\\\\\\\\\\\\\": 2}, {\\\\\\\\\\\\\\\"column\\\\\\\\\\\\\\\": {\\\\\\\\\\\\\\\"type\\\\\\\\\\\\\\\": 2, \\\\\\\\\\\\\\\"details\\\\\\\\\\\\\\\": {\\\\\\\\\\\\\\\"selectedColumn\\\\\\\\\\\\\\\": \\\\\\\\\\\\\\\"DEATH_EVENT\\\\\\\\\\\\\\\"}}, \\\\\\\\\\\\\\\"typeProperty\\\\\\\\\\\\\\\": 2}]}, \\\\\\\\\\\\\\\"localData\\\\\\\\\\\\\\\": {}, \\\\\\\\\\\\\\\"isEnabled\\\\\\\\\\\\\\\": true, \\\\\\\\\\\\\\\"name\\\\\\\\\\\\\\\": null, \\\\\\\\\\\\\\\"annotation\\\\\\\\\\\\\\\": null}], \\\\\\\\\\\\\\\"inspectors\\\\\\\\\\\\\\\": [], \\\\\\\\\\\\\\\"meta\\\\\\\\\\\\\\\": {\\\\\\\\\\\\\\\"savedDatasetId\\\\\\\\\\\\\\\": \\\\\\\\\\\\\\\"f0a7b4b5-7282-4864-8c58-a968de4a35f1\\\\\\\\\\\\\\\", \\\\\\\\\\\\\\\"datasetType\\\\\\\\\\\\\\\": \\\\\\\\\\\\\\\"tabular\\\\\\\\\\\\\\\", \\\\\\\\\\\\\\\"subscriptionId\\\\\\\\\\\\\\\": \\\\\\\\\\\\\\\"30d182b7-c8c4-421c-8fa0-d3037ecfe6d2\\\\\\\\\\\\\\\", \\\\\\\\\\\\\\\"workspaceId\\\\\\\\\\\\\\\": \\\\\\\\\\\\\\\"f893c2e7-cbdb-4078-8f7d-5e405bf591b1\\\\\\\\\\\\\\\", \\\\\\\\\\\\\\\"workspaceLocation\\\\\\\\\\\\\\\": \\\\\\\\\\\\\\\"southcentralus\\\\\\\\\\\\\\\"}}\\\\\\\", \\\\\\\"activities\\\\\\\": 0}\", \"EnableSubsampling\": null, \"runTemplate\": \"AutoML\", \"azureml.runsource\": \"automl\", \"display_task_type\": \"classification\", \"dependencies_versions\": \"{\\\"azureml-widgets\\\": \\\"1.19.0\\\", \\\"azureml-train\\\": \\\"1.19.0\\\", \\\"azureml-train-restclients-hyperdrive\\\": \\\"1.19.0\\\", \\\"azureml-train-core\\\": \\\"1.19.0\\\", \\\"azureml-train-automl\\\": \\\"1.19.0\\\", \\\"azureml-train-automl-runtime\\\": \\\"1.19.0\\\", \\\"azureml-train-automl-client\\\": \\\"1.19.0\\\", \\\"azureml-tensorboard\\\": \\\"1.19.0\\\", \\\"azureml-telemetry\\\": \\\"1.19.0\\\", \\\"azureml-sdk\\\": \\\"1.19.0\\\", \\\"azureml-samples\\\": \\\"0+unknown\\\", \\\"azureml-pipeline\\\": \\\"1.19.0\\\", \\\"azureml-pipeline-steps\\\": \\\"1.19.0\\\", \\\"azureml-pipeline-core\\\": \\\"1.19.0\\\", \\\"azureml-opendatasets\\\": \\\"1.19.0\\\", \\\"azureml-model-management-sdk\\\": \\\"1.0.1b6.post1\\\", \\\"azureml-mlflow\\\": \\\"1.19.0\\\", \\\"azureml-interpret\\\": \\\"1.19.0\\\", \\\"azureml-explain-model\\\": \\\"1.19.0\\\", \\\"azureml-defaults\\\": \\\"1.19.0\\\", \\\"azureml-dataset-runtime\\\": \\\"1.19.0\\\", \\\"azureml-dataprep\\\": \\\"2.6.1\\\", \\\"azureml-dataprep-rslex\\\": \\\"1.4.0\\\", \\\"azureml-dataprep-native\\\": \\\"26.0.0\\\", \\\"azureml-datadrift\\\": \\\"1.19.0\\\", \\\"azureml-core\\\": \\\"1.19.0\\\", \\\"azureml-contrib-services\\\": \\\"1.19.0\\\", \\\"azureml-contrib-server\\\": \\\"1.19.0\\\", \\\"azureml-contrib-reinforcementlearning\\\": \\\"1.19.0\\\", \\\"azureml-contrib-pipeline-steps\\\": \\\"1.19.0\\\", \\\"azureml-contrib-notebook\\\": \\\"1.19.0\\\", \\\"azureml-contrib-interpret\\\": \\\"1.19.0\\\", \\\"azureml-contrib-gbdt\\\": \\\"1.19.0\\\", \\\"azureml-contrib-fairness\\\": \\\"1.19.0\\\", \\\"azureml-contrib-dataset\\\": \\\"1.19.0\\\", \\\"azureml-cli-common\\\": \\\"1.19.0\\\", \\\"azureml-automl-runtime\\\": \\\"1.19.0\\\", \\\"azureml-automl-core\\\": \\\"1.19.0\\\", \\\"azureml-accel-models\\\": \\\"1.19.0\\\"}\", \"_aml_system_scenario_identification\": \"Remote.Parent\", \"ClientType\": \"SDK\", \"environment_cpu_name\": \"AzureML-AutoML\", \"environment_cpu_version\": \"49\", \"environment_gpu_name\": \"AzureML-AutoML-GPU\", \"environment_gpu_version\": \"37\", \"root_attribution\": \"automl\", \"attribution\": \"AutoML\", \"Orchestrator\": \"AutoML\", \"CancelUri\": \"https://southcentralus.experiments.azureml.net/jasmine/v1.0/subscriptions/30d182b7-c8c4-421c-8fa0-d3037ecfe6d2/resourceGroups/aml-quickstarts-130577/providers/Microsoft.MachineLearningServices/workspaces/quick-starts-ws-130577/experimentids/967874f9-febb-4d55-965b-29d4c24cb3f5/cancel/AutoML_2d76aec7-a6dd-4206-9615-bf5c59423e1a\", \"ClientSdkVersion\": \"1.18.0.post1\", \"snapshotId\": \"00000000-0000-0000-0000-000000000000\", \"SetupRunId\": \"AutoML_2d76aec7-a6dd-4206-9615-bf5c59423e1a_setup\", \"SetupRunContainerId\": \"dcid.AutoML_2d76aec7-a6dd-4206-9615-bf5c59423e1a_setup\", \"FeaturizationRunJsonPath\": \"featurizer_container.json\", \"FeaturizationRunId\": \"AutoML_2d76aec7-a6dd-4206-9615-bf5c59423e1a_featurize\", \"ProblemInfoJsonString\": \"{\\\"dataset_num_categorical\\\": 0, \\\"is_sparse\\\": false, \\\"subsampling\\\": false, \\\"dataset_classes\\\": 2, \\\"dataset_features\\\": 12, \\\"dataset_samples\\\": 299, \\\"single_frequency_class_detected\\\": false}\", \"ModelExplainRunId\": \"AutoML_2d76aec7-a6dd-4206-9615-bf5c59423e1a_ModelExplain\"}, \"tags\": {\"model_explain_run\": \"best_run\", \"_aml_system_azureml.automlComponent\": \"AutoML\", \"pipeline_id\": \"\", \"score\": \"\", \"predicted_cost\": \"\", \"fit_time\": \"\", \"training_percent\": \"\", \"iteration\": \"\", \"run_preprocessor\": \"\", \"run_algorithm\": \"\", \"dynamic_whitelisting_iterations\": \"<25>;<30>;<35>;<40>;<45>;<50>;\", \"automl_best_child_run_id\": \"AutoML_2d76aec7-a6dd-4206-9615-bf5c59423e1a_55\", \"model_explain_best_run_child_id\": \"AutoML_2d76aec7-a6dd-4206-9615-bf5c59423e1a_55\"}, \"end_time_utc\": \"2020-12-15T06:30:25.662475Z\", \"status\": \"Completed\", \"log_files\": {}, \"log_groups\": [], \"run_duration\": \"0:35:37\"}, \"child_runs\": [{\"run_id\": \"AutoML_2d76aec7-a6dd-4206-9615-bf5c59423e1a_0\", \"run_number\": 77, \"metric\": null, \"status\": \"Completed\", \"run_type\": \"azureml.scriptrun\", \"training_percent\": \"100\", \"start_time\": \"2020-12-15T06:06:04.207851Z\", \"end_time\": \"2020-12-15T06:06:57.779383Z\", \"created_time\": \"2020-12-15T06:05:53.027492Z\", \"created_time_dt\": \"2020-12-15T06:05:53.027492Z\", \"duration\": \"0:01:04\", \"iteration\": \"0\", \"goal\": \"AUC_weighted_max\", \"run_name\": \"MaxAbsScaler, LightGBM\", \"run_properties\": \"copy=True\", \"primary_metric\": 0.88218288, \"best_metric\": 0.88218288}, {\"run_id\": \"AutoML_2d76aec7-a6dd-4206-9615-bf5c59423e1a_1\", \"run_number\": 78, \"metric\": null, \"status\": \"Completed\", \"run_type\": \"azureml.scriptrun\", \"training_percent\": \"100\", \"start_time\": \"2020-12-15T06:07:55.510411Z\", \"end_time\": \"2020-12-15T06:08:56.828433Z\", \"created_time\": \"2020-12-15T06:05:53.153576Z\", \"created_time_dt\": \"2020-12-15T06:05:53.153576Z\", \"duration\": \"0:03:03\", \"iteration\": \"1\", \"goal\": \"AUC_weighted_max\", \"run_name\": \"MaxAbsScaler, XGBoostClassifier\", \"run_properties\": \"copy=True\", \"primary_metric\": 0.87172218, \"best_metric\": 0.88218288}, {\"run_id\": \"AutoML_2d76aec7-a6dd-4206-9615-bf5c59423e1a_3\", \"run_number\": 79, \"metric\": null, \"status\": \"Completed\", \"run_type\": \"azureml.scriptrun\", \"training_percent\": \"100\", \"start_time\": \"2020-12-15T06:07:00.99937Z\", \"end_time\": \"2020-12-15T06:07:52.860851Z\", \"created_time\": \"2020-12-15T06:05:53.166212Z\", \"created_time_dt\": \"2020-12-15T06:05:53.166212Z\", \"duration\": \"0:01:59\", \"iteration\": \"3\", \"goal\": \"AUC_weighted_max\", \"run_name\": \"RobustScaler, ExtremeRandomTrees\", \"run_properties\": \"copy=True, quantile_range=[10, 90], with_centering=False,\\n             with_scaling=False\", \"primary_metric\": 0.86109468, \"best_metric\": 0.88218288}, {\"run_id\": \"AutoML_2d76aec7-a6dd-4206-9615-bf5c59423e1a_4\", \"run_number\": 80, \"metric\": null, \"status\": \"Completed\", \"run_type\": \"azureml.scriptrun\", \"training_percent\": \"100\", \"start_time\": \"2020-12-15T06:06:04.75171Z\", \"end_time\": \"2020-12-15T06:06:55.542761Z\", \"created_time\": \"2020-12-15T06:05:53.207087Z\", \"created_time_dt\": \"2020-12-15T06:05:53.207087Z\", \"duration\": \"0:01:02\", \"iteration\": \"4\", \"goal\": \"AUC_weighted_max\", \"run_name\": \"MinMaxScaler, RandomForest\", \"run_properties\": \"copy=True, feature_range=(0, 1\", \"primary_metric\": 0.90174537, \"best_metric\": 0.90174537}, {\"run_id\": \"AutoML_2d76aec7-a6dd-4206-9615-bf5c59423e1a_2\", \"run_number\": 81, \"metric\": null, \"status\": \"Completed\", \"run_type\": \"azureml.scriptrun\", \"training_percent\": \"100\", \"start_time\": \"2020-12-15T06:06:58.753966Z\", \"end_time\": \"2020-12-15T06:07:53.094739Z\", \"created_time\": \"2020-12-15T06:05:53.243756Z\", \"created_time_dt\": \"2020-12-15T06:05:53.243756Z\", \"duration\": \"0:01:59\", \"iteration\": \"2\", \"goal\": \"AUC_weighted_max\", \"run_name\": \"MinMaxScaler, RandomForest\", \"run_properties\": \"copy=True, feature_range=(0, 1\", \"primary_metric\": 0.87559201, \"best_metric\": 0.88218288}, {\"run_id\": \"AutoML_2d76aec7-a6dd-4206-9615-bf5c59423e1a_5\", \"run_number\": 82, \"metric\": null, \"status\": \"Completed\", \"run_type\": \"azureml.scriptrun\", \"training_percent\": \"100\", \"start_time\": \"2020-12-15T06:07:58.535283Z\", \"end_time\": \"2020-12-15T06:08:48.161333Z\", \"created_time\": \"2020-12-15T06:06:59.821377Z\", \"created_time_dt\": \"2020-12-15T06:06:59.821377Z\", \"duration\": \"0:01:48\", \"iteration\": \"5\", \"goal\": \"AUC_weighted_max\", \"run_name\": \"MinMaxScaler, RandomForest\", \"run_properties\": \"copy=True, feature_range=(0, 1\", \"primary_metric\": 0.87747624, \"best_metric\": 0.90174537}, {\"run_id\": \"AutoML_2d76aec7-a6dd-4206-9615-bf5c59423e1a_6\", \"run_number\": 83, \"metric\": null, \"status\": \"Completed\", \"run_type\": \"azureml.scriptrun\", \"training_percent\": \"100\", \"start_time\": \"2020-12-15T06:08:50.819962Z\", \"end_time\": \"2020-12-15T06:09:41.823224Z\", \"created_time\": \"2020-12-15T06:07:05.749626Z\", \"created_time_dt\": \"2020-12-15T06:07:05.749626Z\", \"duration\": \"0:02:36\", \"iteration\": \"6\", \"goal\": \"AUC_weighted_max\", \"run_name\": \"StandardScalerWrapper, RandomForest\", \"run_properties\": \"<azureml.automl.runtime.shared.model_wrappers.StandardScalerWrapper object at 0x7f95180dddd8\", \"primary_metric\": 0.87457553, \"best_metric\": 0.90174537}, {\"run_id\": \"AutoML_2d76aec7-a6dd-4206-9615-bf5c59423e1a_8\", \"run_number\": 84, \"metric\": null, \"status\": \"Completed\", \"run_type\": \"azureml.scriptrun\", \"training_percent\": \"100\", \"start_time\": \"2020-12-15T06:09:01.842156Z\", \"end_time\": \"2020-12-15T06:09:57.560637Z\", \"created_time\": \"2020-12-15T06:07:56.480619Z\", \"created_time_dt\": \"2020-12-15T06:07:56.480619Z\", \"duration\": \"0:02:01\", \"iteration\": \"8\", \"goal\": \"AUC_weighted_max\", \"run_name\": \"MinMaxScaler, ExtremeRandomTrees\", \"run_properties\": \"copy=True, feature_range=(0, 1\", \"primary_metric\": 0.86044487, \"best_metric\": 0.90174537}, {\"run_id\": \"AutoML_2d76aec7-a6dd-4206-9615-bf5c59423e1a_7\", \"run_number\": 85, \"metric\": null, \"status\": \"Completed\", \"run_type\": \"azureml.scriptrun\", \"training_percent\": \"100\", \"start_time\": \"2020-12-15T06:09:09.308761Z\", \"end_time\": \"2020-12-15T06:11:36.827278Z\", \"created_time\": \"2020-12-15T06:07:56.510821Z\", \"created_time_dt\": \"2020-12-15T06:07:56.510821Z\", \"duration\": \"0:03:40\", \"iteration\": \"7\", \"goal\": \"AUC_weighted_max\", \"run_name\": \"MinMaxScaler, ExtremeRandomTrees\", \"run_properties\": \"copy=True, feature_range=(0, 1\", \"primary_metric\": 0.89096049, \"best_metric\": 0.90174537}, {\"run_id\": \"AutoML_2d76aec7-a6dd-4206-9615-bf5c59423e1a_9\", \"run_number\": 86, \"metric\": null, \"status\": \"Completed\", \"run_type\": \"azureml.scriptrun\", \"training_percent\": \"100\", \"start_time\": \"2020-12-15T06:09:45.218729Z\", \"end_time\": \"2020-12-15T06:10:30.471237Z\", \"created_time\": \"2020-12-15T06:08:51.600383Z\", \"created_time_dt\": \"2020-12-15T06:08:51.600383Z\", \"duration\": \"0:01:38\", \"iteration\": \"9\", \"goal\": \"AUC_weighted_max\", \"run_name\": \"SparseNormalizer, KNN\", \"run_properties\": \"<azureml.automl.runtime.shared.model_wrappers.SparseNormalizer object at 0x7fd07c150780\", \"primary_metric\": 0.72069191, \"best_metric\": 0.90174537}, {\"run_id\": \"AutoML_2d76aec7-a6dd-4206-9615-bf5c59423e1a_10\", \"run_number\": 87, \"metric\": null, \"status\": \"Completed\", \"run_type\": \"azureml.scriptrun\", \"training_percent\": \"100\", \"start_time\": \"2020-12-15T06:09:58.372915Z\", \"end_time\": \"2020-12-15T06:10:51.806229Z\", \"created_time\": \"2020-12-15T06:09:00.236459Z\", \"created_time_dt\": \"2020-12-15T06:09:00.236459Z\", \"duration\": \"0:01:51\", \"iteration\": \"10\", \"goal\": \"AUC_weighted_max\", \"run_name\": \"MinMaxScaler, ExtremeRandomTrees\", \"run_properties\": \"copy=True, feature_range=(0, 1\", \"primary_metric\": 0.85282809, \"best_metric\": 0.90174537}, {\"run_id\": \"AutoML_2d76aec7-a6dd-4206-9615-bf5c59423e1a_11\", \"run_number\": 88, \"metric\": null, \"status\": \"Completed\", \"run_type\": \"azureml.scriptrun\", \"training_percent\": \"100\", \"start_time\": \"2020-12-15T06:10:35.104712Z\", \"end_time\": \"2020-12-15T06:11:36.091136Z\", \"created_time\": \"2020-12-15T06:09:45.463189Z\", \"created_time_dt\": \"2020-12-15T06:09:45.463189Z\", \"duration\": \"0:01:50\", \"iteration\": \"11\", \"goal\": \"AUC_weighted_max\", \"run_name\": \"RobustScaler, ExtremeRandomTrees\", \"run_properties\": \"copy=True, quantile_range=[10, 90], with_centering=True,\\n             with_scaling=False\", \"primary_metric\": 0.8582159, \"best_metric\": 0.90174537}, {\"run_id\": \"AutoML_2d76aec7-a6dd-4206-9615-bf5c59423e1a_12\", \"run_number\": 89, \"metric\": null, \"status\": \"Completed\", \"run_type\": \"azureml.scriptrun\", \"training_percent\": \"100\", \"start_time\": \"2020-12-15T06:10:52.853091Z\", \"end_time\": \"2020-12-15T06:11:52.386399Z\", \"created_time\": \"2020-12-15T06:10:06.309889Z\", \"created_time_dt\": \"2020-12-15T06:10:06.309889Z\", \"duration\": \"0:01:46\", \"iteration\": \"12\", \"goal\": \"AUC_weighted_max\", \"run_name\": \"StandardScalerWrapper, RandomForest\", \"run_properties\": \"<azureml.automl.runtime.shared.model_wrappers.StandardScalerWrapper object at 0x7f775dae2e48\", \"primary_metric\": 0.88638925, \"best_metric\": 0.90174537}, {\"run_id\": \"AutoML_2d76aec7-a6dd-4206-9615-bf5c59423e1a_13\", \"run_number\": 90, \"metric\": null, \"status\": \"Completed\", \"run_type\": \"azureml.scriptrun\", \"training_percent\": \"100\", \"start_time\": \"2020-12-15T06:11:39.17981Z\", \"end_time\": \"2020-12-15T06:12:29.919335Z\", \"created_time\": \"2020-12-15T06:10:33.797069Z\", \"created_time_dt\": \"2020-12-15T06:10:33.797069Z\", \"duration\": \"0:01:56\", \"iteration\": \"13\", \"goal\": \"AUC_weighted_max\", \"run_name\": \"StandardScalerWrapper, SGD\", \"run_properties\": \"<azureml.automl.runtime.shared.model_wrappers.StandardScalerWrapper object at 0x7fc03533a2e8\", \"primary_metric\": 0.85535356, \"best_metric\": 0.90174537}, {\"run_id\": \"AutoML_2d76aec7-a6dd-4206-9615-bf5c59423e1a_14\", \"run_number\": 91, \"metric\": null, \"status\": \"Completed\", \"run_type\": \"azureml.scriptrun\", \"training_percent\": \"100\", \"start_time\": \"2020-12-15T06:11:42.761679Z\", \"end_time\": \"2020-12-15T06:12:25.958102Z\", \"created_time\": \"2020-12-15T06:10:55.101331Z\", \"created_time_dt\": \"2020-12-15T06:10:55.101331Z\", \"duration\": \"0:01:30\", \"iteration\": \"14\", \"goal\": \"AUC_weighted_max\", \"run_name\": \"RobustScaler, RandomForest\", \"run_properties\": \"copy=True, quantile_range=[10, 90], with_centering=True,\\n             with_scaling=False\", \"primary_metric\": 0.85991493, \"best_metric\": 0.90174537}, {\"run_id\": \"AutoML_2d76aec7-a6dd-4206-9615-bf5c59423e1a_15\", \"run_number\": 92, \"metric\": null, \"status\": \"Completed\", \"run_type\": \"azureml.scriptrun\", \"training_percent\": \"100\", \"start_time\": \"2020-12-15T06:12:00.905501Z\", \"end_time\": \"2020-12-15T06:12:43.292609Z\", \"created_time\": \"2020-12-15T06:11:46.96165Z\", \"created_time_dt\": \"2020-12-15T06:11:46.96165Z\", \"duration\": \"0:00:56\", \"iteration\": \"15\", \"goal\": \"AUC_weighted_max\", \"run_name\": \"StandardScalerWrapper, KNN\", \"run_properties\": \"<azureml.automl.runtime.shared.model_wrappers.StandardScalerWrapper object at 0x7fda44065c18\", \"primary_metric\": 0.56820407, \"best_metric\": 0.90174537}, {\"run_id\": \"AutoML_2d76aec7-a6dd-4206-9615-bf5c59423e1a_16\", \"run_number\": 93, \"metric\": null, \"status\": \"Completed\", \"run_type\": \"azureml.scriptrun\", \"training_percent\": \"100\", \"start_time\": \"2020-12-15T06:12:30.817849Z\", \"end_time\": \"2020-12-15T06:13:18.233216Z\", \"created_time\": \"2020-12-15T06:11:53.544972Z\", \"created_time_dt\": \"2020-12-15T06:11:53.544972Z\", \"duration\": \"0:01:24\", \"iteration\": \"16\", \"goal\": \"AUC_weighted_max\", \"run_name\": \"MinMaxScaler, RandomForest\", \"run_properties\": \"copy=True, feature_range=(0, 1\", \"primary_metric\": 0.88020973, \"best_metric\": 0.90174537}, {\"run_id\": \"AutoML_2d76aec7-a6dd-4206-9615-bf5c59423e1a_17\", \"run_number\": 94, \"metric\": null, \"status\": \"Completed\", \"run_type\": \"azureml.scriptrun\", \"training_percent\": \"100\", \"start_time\": \"2020-12-15T06:12:32.734004Z\", \"end_time\": \"2020-12-15T06:13:29.060143Z\", \"created_time\": \"2020-12-15T06:11:59.317556Z\", \"created_time_dt\": \"2020-12-15T06:11:59.317556Z\", \"duration\": \"0:01:29\", \"iteration\": \"17\", \"goal\": \"AUC_weighted_max\", \"run_name\": \"MinMaxScaler, ExtremeRandomTrees\", \"run_properties\": \"copy=True, feature_range=(0, 1\", \"primary_metric\": 0.8071113, \"best_metric\": 0.90174537}, {\"run_id\": \"AutoML_2d76aec7-a6dd-4206-9615-bf5c59423e1a_18\", \"run_number\": 95, \"metric\": null, \"status\": \"Completed\", \"run_type\": \"azureml.scriptrun\", \"training_percent\": \"100\", \"start_time\": \"2020-12-15T06:12:47.328403Z\", \"end_time\": \"2020-12-15T06:13:49.815939Z\", \"created_time\": \"2020-12-15T06:12:29.432656Z\", \"created_time_dt\": \"2020-12-15T06:12:29.432656Z\", \"duration\": \"0:01:20\", \"iteration\": \"18\", \"goal\": \"AUC_weighted_max\", \"run_name\": \"MaxAbsScaler, RandomForest\", \"run_properties\": \"copy=True\", \"primary_metric\": 0.85776055, \"best_metric\": 0.90174537}, {\"run_id\": \"AutoML_2d76aec7-a6dd-4206-9615-bf5c59423e1a_19\", \"run_number\": 96, \"metric\": null, \"status\": \"Completed\", \"run_type\": \"azureml.scriptrun\", \"training_percent\": \"100\", \"start_time\": \"2020-12-15T06:13:25.826183Z\", \"end_time\": \"2020-12-15T06:14:16.513639Z\", \"created_time\": \"2020-12-15T06:12:34.964494Z\", \"created_time_dt\": \"2020-12-15T06:12:34.964494Z\", \"duration\": \"0:01:41\", \"iteration\": \"19\", \"goal\": \"AUC_weighted_max\", \"run_name\": \"StandardScalerWrapper, XGBoostClassifier\", \"run_properties\": \"<azureml.automl.runtime.shared.model_wrappers.StandardScalerWrapper object at 0x7f9ea0745390\", \"primary_metric\": 0.89103731, \"best_metric\": 0.90174537}, {\"run_id\": \"AutoML_2d76aec7-a6dd-4206-9615-bf5c59423e1a_20\", \"run_number\": 97, \"metric\": null, \"status\": \"Completed\", \"run_type\": \"azureml.scriptrun\", \"training_percent\": \"100\", \"start_time\": \"2020-12-15T06:13:32.569279Z\", \"end_time\": \"2020-12-15T06:14:23.036239Z\", \"created_time\": \"2020-12-15T06:12:46.698251Z\", \"created_time_dt\": \"2020-12-15T06:12:46.698251Z\", \"duration\": \"0:01:36\", \"iteration\": \"20\", \"goal\": \"AUC_weighted_max\", \"run_name\": \"MaxAbsScaler, RandomForest\", \"run_properties\": \"copy=True\", \"primary_metric\": 0.8683639, \"best_metric\": 0.90174537}, {\"run_id\": \"AutoML_2d76aec7-a6dd-4206-9615-bf5c59423e1a_21\", \"run_number\": 98, \"metric\": null, \"status\": \"Completed\", \"run_type\": \"azureml.scriptrun\", \"training_percent\": \"100\", \"start_time\": \"2020-12-15T06:13:53.883038Z\", \"end_time\": \"2020-12-15T06:14:45.429691Z\", \"created_time\": \"2020-12-15T06:13:22.176209Z\", \"created_time_dt\": \"2020-12-15T06:13:22.176209Z\", \"duration\": \"0:01:23\", \"iteration\": \"21\", \"goal\": \"AUC_weighted_max\", \"run_name\": \"MaxAbsScaler, ExtremeRandomTrees\", \"run_properties\": \"copy=True\", \"primary_metric\": 0.84268827, \"best_metric\": 0.90174537}, {\"run_id\": \"AutoML_2d76aec7-a6dd-4206-9615-bf5c59423e1a_22\", \"run_number\": 99, \"metric\": null, \"status\": \"Completed\", \"run_type\": \"azureml.scriptrun\", \"training_percent\": \"100\", \"start_time\": \"2020-12-15T06:14:19.348048Z\", \"end_time\": \"2020-12-15T06:15:14.997639Z\", \"created_time\": \"2020-12-15T06:13:35.015917Z\", \"created_time_dt\": \"2020-12-15T06:13:35.015917Z\", \"duration\": \"0:01:39\", \"iteration\": \"22\", \"goal\": \"AUC_weighted_max\", \"run_name\": \"MaxAbsScaler, ExtremeRandomTrees\", \"run_properties\": \"copy=True\", \"primary_metric\": 0.85795756, \"best_metric\": 0.90174537}, {\"run_id\": \"AutoML_2d76aec7-a6dd-4206-9615-bf5c59423e1a_23\", \"run_number\": 100, \"metric\": null, \"status\": \"Completed\", \"run_type\": \"azureml.scriptrun\", \"training_percent\": \"100\", \"start_time\": \"2020-12-15T06:14:27.954728Z\", \"end_time\": \"2020-12-15T06:15:21.145727Z\", \"created_time\": \"2020-12-15T06:13:53.434109Z\", \"created_time_dt\": \"2020-12-15T06:13:53.434109Z\", \"duration\": \"0:01:27\", \"iteration\": \"23\", \"goal\": \"AUC_weighted_max\", \"run_name\": \"StandardScalerWrapper, XGBoostClassifier\", \"run_properties\": \"<azureml.automl.runtime.shared.model_wrappers.StandardScalerWrapper object at 0x7fd366c8ccc0\", \"primary_metric\": 0.89182515, \"best_metric\": 0.90174537}, {\"run_id\": \"AutoML_2d76aec7-a6dd-4206-9615-bf5c59423e1a_24\", \"run_number\": 101, \"metric\": null, \"status\": \"Completed\", \"run_type\": \"azureml.scriptrun\", \"training_percent\": \"100\", \"start_time\": \"2020-12-15T06:14:48.618148Z\", \"end_time\": \"2020-12-15T06:15:49.662848Z\", \"created_time\": \"2020-12-15T06:14:19.664632Z\", \"created_time_dt\": \"2020-12-15T06:14:19.664632Z\", \"duration\": \"0:01:29\", \"iteration\": \"24\", \"goal\": \"AUC_weighted_max\", \"run_name\": \"MinMaxScaler, ExtremeRandomTrees\", \"run_properties\": \"copy=True, feature_range=(0, 1\", \"primary_metric\": 0.88301902, \"best_metric\": 0.90174537}, {\"run_id\": \"AutoML_2d76aec7-a6dd-4206-9615-bf5c59423e1a_25\", \"run_number\": 102, \"metric\": null, \"status\": \"Completed\", \"run_type\": \"azureml.scriptrun\", \"training_percent\": \"100\", \"start_time\": \"2020-12-15T06:15:20.739903Z\", \"end_time\": \"2020-12-15T06:16:23.455361Z\", \"created_time\": \"2020-12-15T06:14:27.590405Z\", \"created_time_dt\": \"2020-12-15T06:14:27.590405Z\", \"duration\": \"0:01:55\", \"iteration\": \"25\", \"goal\": \"AUC_weighted_max\", \"run_name\": \"MinMaxScaler, RandomForest\", \"run_properties\": \"copy=True, feature_range=(0, 1\", \"primary_metric\": 0.87578878, \"best_metric\": 0.90174537}, {\"run_id\": \"AutoML_2d76aec7-a6dd-4206-9615-bf5c59423e1a_26\", \"run_number\": 103, \"metric\": null, \"status\": \"Completed\", \"run_type\": \"azureml.scriptrun\", \"training_percent\": \"100\", \"start_time\": \"2020-12-15T06:15:25.601794Z\", \"end_time\": \"2020-12-15T06:16:33.132903Z\", \"created_time\": \"2020-12-15T06:14:47.691397Z\", \"created_time_dt\": \"2020-12-15T06:14:47.691397Z\", \"duration\": \"0:01:45\", \"iteration\": \"26\", \"goal\": \"AUC_weighted_max\", \"run_name\": \"MaxAbsScaler, ExtremeRandomTrees\", \"run_properties\": \"copy=True\", \"primary_metric\": 0.88507788, \"best_metric\": 0.90174537}, {\"run_id\": \"AutoML_2d76aec7-a6dd-4206-9615-bf5c59423e1a_27\", \"run_number\": 104, \"metric\": null, \"status\": \"Completed\", \"run_type\": \"azureml.scriptrun\", \"training_percent\": \"100\", \"start_time\": \"2020-12-15T06:15:53.373113Z\", \"end_time\": \"2020-12-15T06:16:48.103164Z\", \"created_time\": \"2020-12-15T06:15:17.151619Z\", \"created_time_dt\": \"2020-12-15T06:15:17.151619Z\", \"duration\": \"0:01:30\", \"iteration\": \"27\", \"goal\": \"AUC_weighted_max\", \"run_name\": \"StandardScalerWrapper, XGBoostClassifier\", \"run_properties\": \"<azureml.automl.runtime.shared.model_wrappers.StandardScalerWrapper object at 0x7fcfa4574898\", \"primary_metric\": 0.88639336, \"best_metric\": 0.90174537}, {\"run_id\": \"AutoML_2d76aec7-a6dd-4206-9615-bf5c59423e1a_28\", \"run_number\": 105, \"metric\": null, \"status\": \"Completed\", \"run_type\": \"azureml.scriptrun\", \"training_percent\": \"100\", \"start_time\": \"2020-12-15T06:16:25.6788Z\", \"end_time\": \"2020-12-15T06:17:26.452208Z\", \"created_time\": \"2020-12-15T06:15:23.352105Z\", \"created_time_dt\": \"2020-12-15T06:15:23.352105Z\", \"duration\": \"0:02:03\", \"iteration\": \"28\", \"goal\": \"AUC_weighted_max\", \"run_name\": \"MaxAbsScaler, RandomForest\", \"run_properties\": \"copy=True\", \"primary_metric\": 0.88111812, \"best_metric\": 0.90174537}, {\"run_id\": \"AutoML_2d76aec7-a6dd-4206-9615-bf5c59423e1a_29\", \"run_number\": 106, \"metric\": null, \"status\": \"Completed\", \"run_type\": \"azureml.scriptrun\", \"training_percent\": \"100\", \"start_time\": \"2020-12-15T06:16:35.867147Z\", \"end_time\": \"2020-12-15T06:17:27.667575Z\", \"created_time\": \"2020-12-15T06:15:52.770951Z\", \"created_time_dt\": \"2020-12-15T06:15:52.770951Z\", \"duration\": \"0:01:34\", \"iteration\": \"29\", \"goal\": \"AUC_weighted_max\", \"run_name\": \"StandardScalerWrapper, XGBoostClassifier\", \"run_properties\": \"<azureml.automl.runtime.shared.model_wrappers.StandardScalerWrapper object at 0x7fa05441ec88\", \"primary_metric\": 0.88795662, \"best_metric\": 0.90174537}, {\"run_id\": \"AutoML_2d76aec7-a6dd-4206-9615-bf5c59423e1a_30\", \"run_number\": 107, \"metric\": null, \"status\": \"Completed\", \"run_type\": \"azureml.scriptrun\", \"training_percent\": \"100\", \"start_time\": \"2020-12-15T06:16:52.520339Z\", \"end_time\": \"2020-12-15T06:17:54.960689Z\", \"created_time\": \"2020-12-15T06:16:27.019321Z\", \"created_time_dt\": \"2020-12-15T06:16:27.019321Z\", \"duration\": \"0:01:27\", \"iteration\": \"30\", \"goal\": \"AUC_weighted_max\", \"run_name\": \"StandardScalerWrapper, RandomForest\", \"run_properties\": \"<azureml.automl.runtime.shared.model_wrappers.StandardScalerWrapper object at 0x7f50b729fb38\", \"primary_metric\": 0.88375003, \"best_metric\": 0.90174537}, {\"run_id\": \"AutoML_2d76aec7-a6dd-4206-9615-bf5c59423e1a_31\", \"run_number\": 108, \"metric\": null, \"status\": \"Completed\", \"run_type\": \"azureml.scriptrun\", \"training_percent\": \"100\", \"start_time\": \"2020-12-15T06:17:29.261464Z\", \"end_time\": \"2020-12-15T06:18:28.164849Z\", \"created_time\": \"2020-12-15T06:16:36.102402Z\", \"created_time_dt\": \"2020-12-15T06:16:36.102402Z\", \"duration\": \"0:01:52\", \"iteration\": \"31\", \"goal\": \"AUC_weighted_max\", \"run_name\": \"MinMaxScaler, RandomForest\", \"run_properties\": \"copy=True, feature_range=(0, 1\", \"primary_metric\": 0.90302685, \"best_metric\": 0.90302685}, {\"run_id\": \"AutoML_2d76aec7-a6dd-4206-9615-bf5c59423e1a_32\", \"run_number\": 109, \"metric\": null, \"status\": \"Completed\", \"run_type\": \"azureml.scriptrun\", \"training_percent\": \"100\", \"start_time\": \"2020-12-15T06:17:30.519083Z\", \"end_time\": \"2020-12-15T06:18:24.619816Z\", \"created_time\": \"2020-12-15T06:16:50.374117Z\", \"created_time_dt\": \"2020-12-15T06:16:50.374117Z\", \"duration\": \"0:01:34\", \"iteration\": \"32\", \"goal\": \"AUC_weighted_max\", \"run_name\": \"StandardScalerWrapper, LightGBM\", \"run_properties\": \"<azureml.automl.runtime.shared.model_wrappers.StandardScalerWrapper object at 0x7f2f609e6d68\", \"primary_metric\": 0.89376624, \"best_metric\": 0.90302685}, {\"run_id\": \"AutoML_2d76aec7-a6dd-4206-9615-bf5c59423e1a_33\", \"run_number\": 110, \"metric\": null, \"status\": \"Completed\", \"run_type\": \"azureml.scriptrun\", \"training_percent\": \"100\", \"start_time\": \"2020-12-15T06:17:56.837155Z\", \"end_time\": \"2020-12-15T06:18:56.579084Z\", \"created_time\": \"2020-12-15T06:17:29.412327Z\", \"created_time_dt\": \"2020-12-15T06:17:29.412327Z\", \"duration\": \"0:01:27\", \"iteration\": \"33\", \"goal\": \"AUC_weighted_max\", \"run_name\": \"MinMaxScaler, RandomForest\", \"run_properties\": \"copy=True, feature_range=(0, 1\", \"primary_metric\": 0.90113358, \"best_metric\": 0.90302685}, {\"run_id\": \"AutoML_2d76aec7-a6dd-4206-9615-bf5c59423e1a_34\", \"run_number\": 111, \"metric\": null, \"status\": \"Completed\", \"run_type\": \"azureml.scriptrun\", \"training_percent\": \"100\", \"start_time\": \"2020-12-15T06:18:30.52419Z\", \"end_time\": \"2020-12-15T06:19:33.057303Z\", \"created_time\": \"2020-12-15T06:17:34.047672Z\", \"created_time_dt\": \"2020-12-15T06:17:34.047672Z\", \"duration\": \"0:01:59\", \"iteration\": \"34\", \"goal\": \"AUC_weighted_max\", \"run_name\": \"RobustScaler, RandomForest\", \"run_properties\": \"copy=True, quantile_range=[25, 75], with_centering=True,\\n             with_scaling=False\", \"primary_metric\": 0.89876608, \"best_metric\": 0.90302685}, {\"run_id\": \"AutoML_2d76aec7-a6dd-4206-9615-bf5c59423e1a_35\", \"run_number\": 112, \"metric\": null, \"status\": \"Completed\", \"run_type\": \"azureml.scriptrun\", \"training_percent\": \"100\", \"start_time\": \"2020-12-15T06:18:40.283915Z\", \"end_time\": \"2020-12-15T06:19:35.089174Z\", \"created_time\": \"2020-12-15T06:17:58.154118Z\", \"created_time_dt\": \"2020-12-15T06:17:58.154118Z\", \"duration\": \"0:01:36\", \"iteration\": \"35\", \"goal\": \"AUC_weighted_max\", \"run_name\": \"TruncatedSVDWrapper, RandomForest\", \"run_properties\": \"n_components=0.3068421052631579, random_state=None\", \"primary_metric\": 0.74915934, \"best_metric\": 0.90302685}, {\"run_id\": \"AutoML_2d76aec7-a6dd-4206-9615-bf5c59423e1a_36\", \"run_number\": 113, \"metric\": null, \"status\": \"Completed\", \"run_type\": \"azureml.scriptrun\", \"training_percent\": \"100\", \"start_time\": \"2020-12-15T06:19:01.393957Z\", \"end_time\": \"2020-12-15T06:19:53.815932Z\", \"created_time\": \"2020-12-15T06:18:26.993297Z\", \"created_time_dt\": \"2020-12-15T06:18:26.993297Z\", \"duration\": \"0:01:26\", \"iteration\": \"36\", \"goal\": \"AUC_weighted_max\", \"run_name\": \"RobustScaler, LightGBM\", \"run_properties\": \"copy=True, quantile_range=[25, 75], with_centering=False,\\n             with_scaling=True\", \"primary_metric\": 0.90584186, \"best_metric\": 0.90584186}, {\"run_id\": \"AutoML_2d76aec7-a6dd-4206-9615-bf5c59423e1a_37\", \"run_number\": 114, \"metric\": null, \"status\": \"Completed\", \"run_type\": \"azureml.scriptrun\", \"training_percent\": \"100\", \"start_time\": \"2020-12-15T06:19:34.337536Z\", \"end_time\": \"2020-12-15T06:20:31.559031Z\", \"created_time\": \"2020-12-15T06:18:31.221176Z\", \"created_time_dt\": \"2020-12-15T06:18:31.221176Z\", \"duration\": \"0:02:00\", \"iteration\": \"37\", \"goal\": \"AUC_weighted_max\", \"run_name\": \"StandardScalerWrapper, LightGBM\", \"run_properties\": \"<azureml.automl.runtime.shared.model_wrappers.StandardScalerWrapper object at 0x7fc3bc461f60\", \"primary_metric\": 0.89210852, \"best_metric\": 0.90584186}, {\"run_id\": \"AutoML_2d76aec7-a6dd-4206-9615-bf5c59423e1a_38\", \"run_number\": 115, \"metric\": null, \"status\": \"Completed\", \"run_type\": \"azureml.scriptrun\", \"training_percent\": \"100\", \"start_time\": \"2020-12-15T06:19:39.38696Z\", \"end_time\": \"2020-12-15T06:20:38.012322Z\", \"created_time\": \"2020-12-15T06:18:59.083828Z\", \"created_time_dt\": \"2020-12-15T06:18:59.083828Z\", \"duration\": \"0:01:38\", \"iteration\": \"38\", \"goal\": \"AUC_weighted_max\", \"run_name\": \"MinMaxScaler, LightGBM\", \"run_properties\": \"copy=True, feature_range=(0, 1\", \"primary_metric\": 0.90522125, \"best_metric\": 0.90584186}, {\"run_id\": \"AutoML_2d76aec7-a6dd-4206-9615-bf5c59423e1a_39\", \"run_number\": 116, \"metric\": null, \"status\": \"Completed\", \"run_type\": \"azureml.scriptrun\", \"training_percent\": \"100\", \"start_time\": \"2020-12-15T06:19:57.083241Z\", \"end_time\": \"2020-12-15T06:20:51.9702Z\", \"created_time\": \"2020-12-15T06:19:36.157301Z\", \"created_time_dt\": \"2020-12-15T06:19:36.157301Z\", \"duration\": \"0:01:15\", \"iteration\": \"39\", \"goal\": \"AUC_weighted_max\", \"run_name\": \"StandardScalerWrapper, LightGBM\", \"run_properties\": \"<azureml.automl.runtime.shared.model_wrappers.StandardScalerWrapper object at 0x7f8d3d2c2b00\", \"primary_metric\": 0.9041291, \"best_metric\": 0.90584186}, {\"run_id\": \"AutoML_2d76aec7-a6dd-4206-9615-bf5c59423e1a_40\", \"run_number\": 117, \"metric\": null, \"status\": \"Completed\", \"run_type\": \"azureml.scriptrun\", \"training_percent\": \"100\", \"start_time\": \"2020-12-15T06:20:35.54597Z\", \"end_time\": \"2020-12-15T06:21:42.102612Z\", \"created_time\": \"2020-12-15T06:19:41.947158Z\", \"created_time_dt\": \"2020-12-15T06:19:41.947158Z\", \"duration\": \"0:02:00\", \"iteration\": \"40\", \"goal\": \"AUC_weighted_max\", \"run_name\": \"StandardScalerWrapper, RandomForest\", \"run_properties\": \"<azureml.automl.runtime.shared.model_wrappers.StandardScalerWrapper object at 0x7fa4faadba58\", \"primary_metric\": 0.80962032, \"best_metric\": 0.90584186}, {\"run_id\": \"AutoML_2d76aec7-a6dd-4206-9615-bf5c59423e1a_41\", \"run_number\": 118, \"metric\": null, \"status\": \"Completed\", \"run_type\": \"azureml.scriptrun\", \"training_percent\": \"100\", \"start_time\": \"2020-12-15T06:20:39.275723Z\", \"end_time\": \"2020-12-15T06:21:34.530047Z\", \"created_time\": \"2020-12-15T06:19:56.084383Z\", \"created_time_dt\": \"2020-12-15T06:19:56.084383Z\", \"duration\": \"0:01:38\", \"iteration\": \"41\", \"goal\": \"AUC_weighted_max\", \"run_name\": \"StandardScalerWrapper, XGBoostClassifier\", \"run_properties\": \"<azureml.automl.runtime.shared.model_wrappers.StandardScalerWrapper object at 0x7f33b0509ac8\", \"primary_metric\": 0.89051195, \"best_metric\": 0.90584186}, {\"run_id\": \"AutoML_2d76aec7-a6dd-4206-9615-bf5c59423e1a_42\", \"run_number\": 119, \"metric\": null, \"status\": \"Completed\", \"run_type\": \"azureml.scriptrun\", \"training_percent\": \"100\", \"start_time\": \"2020-12-15T06:20:56.10247Z\", \"end_time\": \"2020-12-15T06:22:06.405269Z\", \"created_time\": \"2020-12-15T06:20:34.246316Z\", \"created_time_dt\": \"2020-12-15T06:20:34.246316Z\", \"duration\": \"0:01:32\", \"iteration\": \"42\", \"goal\": \"AUC_weighted_max\", \"run_name\": \"StandardScalerWrapper, RandomForest\", \"run_properties\": \"<azureml.automl.runtime.shared.model_wrappers.StandardScalerWrapper object at 0x7f9ed8970e48\", \"primary_metric\": 0.89379757, \"best_metric\": 0.90584186}, {\"run_id\": \"AutoML_2d76aec7-a6dd-4206-9615-bf5c59423e1a_43\", \"run_number\": 120, \"metric\": null, \"status\": \"Completed\", \"run_type\": \"azureml.scriptrun\", \"training_percent\": \"100\", \"start_time\": \"2020-12-15T06:21:37.342659Z\", \"end_time\": \"2020-12-15T06:22:30.497222Z\", \"created_time\": \"2020-12-15T06:20:40.996007Z\", \"created_time_dt\": \"2020-12-15T06:20:40.996007Z\", \"duration\": \"0:01:49\", \"iteration\": \"43\", \"goal\": \"AUC_weighted_max\", \"run_name\": \"StandardScalerWrapper, LightGBM\", \"run_properties\": \"<azureml.automl.runtime.shared.model_wrappers.StandardScalerWrapper object at 0x7f6bb844f588\", \"primary_metric\": 0.89799621, \"best_metric\": 0.90584186}, {\"run_id\": \"AutoML_2d76aec7-a6dd-4206-9615-bf5c59423e1a_44\", \"run_number\": 121, \"metric\": null, \"status\": \"Completed\", \"run_type\": \"azureml.scriptrun\", \"training_percent\": \"100\", \"start_time\": \"2020-12-15T06:21:48.526377Z\", \"end_time\": \"2020-12-15T06:22:47.399482Z\", \"created_time\": \"2020-12-15T06:20:54.373616Z\", \"created_time_dt\": \"2020-12-15T06:20:54.373616Z\", \"duration\": \"0:01:53\", \"iteration\": \"44\", \"goal\": \"AUC_weighted_max\", \"run_name\": \"StandardScalerWrapper, LightGBM\", \"run_properties\": \"<azureml.automl.runtime.shared.model_wrappers.StandardScalerWrapper object at 0x7ff4bea8cc18\", \"primary_metric\": 0.89769676, \"best_metric\": 0.90584186}, {\"run_id\": \"AutoML_2d76aec7-a6dd-4206-9615-bf5c59423e1a_45\", \"run_number\": 122, \"metric\": null, \"status\": \"Completed\", \"run_type\": \"azureml.scriptrun\", \"training_percent\": \"100\", \"start_time\": \"2020-12-15T06:22:07.00929Z\", \"end_time\": \"2020-12-15T06:22:58.789095Z\", \"created_time\": \"2020-12-15T06:21:47.810946Z\", \"created_time_dt\": \"2020-12-15T06:21:47.810946Z\", \"duration\": \"0:01:10\", \"iteration\": \"45\", \"goal\": \"AUC_weighted_max\", \"run_name\": \"MinMaxScaler, LightGBM\", \"run_properties\": \"copy=True, feature_range=(0, 1\", \"primary_metric\": 0.90538757, \"best_metric\": 0.90584186}, {\"run_id\": \"AutoML_2d76aec7-a6dd-4206-9615-bf5c59423e1a_46\", \"run_number\": 123, \"metric\": null, \"status\": \"Completed\", \"run_type\": \"azureml.scriptrun\", \"training_percent\": \"100\", \"start_time\": \"2020-12-15T06:22:34.950052Z\", \"end_time\": \"2020-12-15T06:23:34.023972Z\", \"created_time\": \"2020-12-15T06:21:52.558251Z\", \"created_time_dt\": \"2020-12-15T06:21:52.558251Z\", \"duration\": \"0:01:41\", \"iteration\": \"46\", \"goal\": \"AUC_weighted_max\", \"run_name\": \"RobustScaler, LightGBM\", \"run_properties\": \"copy=True, quantile_range=[10, 90], with_centering=False,\\n             with_scaling=False\", \"primary_metric\": 0.89370174, \"best_metric\": 0.90584186}, {\"run_id\": \"AutoML_2d76aec7-a6dd-4206-9615-bf5c59423e1a_47\", \"run_number\": 124, \"metric\": null, \"status\": \"Completed\", \"run_type\": \"azureml.scriptrun\", \"training_percent\": \"100\", \"start_time\": \"2020-12-15T06:22:48.359817Z\", \"end_time\": \"2020-12-15T06:23:52.620287Z\", \"created_time\": \"2020-12-15T06:22:11.050961Z\", \"created_time_dt\": \"2020-12-15T06:22:11.050961Z\", \"duration\": \"0:01:41\", \"iteration\": \"47\", \"goal\": \"AUC_weighted_max\", \"run_name\": \"StandardScalerWrapper, LightGBM\", \"run_properties\": \"<azureml.automl.runtime.shared.model_wrappers.StandardScalerWrapper object at 0x7fe5252e96a0\", \"primary_metric\": 0.90444867, \"best_metric\": 0.90584186}, {\"run_id\": \"AutoML_2d76aec7-a6dd-4206-9615-bf5c59423e1a_48\", \"run_number\": 125, \"metric\": null, \"status\": \"Completed\", \"run_type\": \"azureml.scriptrun\", \"training_percent\": \"100\", \"start_time\": \"2020-12-15T06:23:01.688827Z\", \"end_time\": \"2020-12-15T06:24:36.13198Z\", \"created_time\": \"2020-12-15T06:22:32.990815Z\", \"created_time_dt\": \"2020-12-15T06:22:32.990815Z\", \"duration\": \"0:02:03\", \"iteration\": \"48\", \"goal\": \"AUC_weighted_max\", \"run_name\": \"StandardScalerWrapper, ExtremeRandomTrees\", \"run_properties\": \"<azureml.automl.runtime.shared.model_wrappers.StandardScalerWrapper object at 0x7f157e261a20\", \"primary_metric\": 0.88898096, \"best_metric\": 0.90584186}, {\"run_id\": \"AutoML_2d76aec7-a6dd-4206-9615-bf5c59423e1a_49\", \"run_number\": 126, \"metric\": null, \"status\": \"Completed\", \"run_type\": \"azureml.scriptrun\", \"training_percent\": \"100\", \"start_time\": \"2020-12-15T06:23:40.631585Z\", \"end_time\": \"2020-12-15T06:25:27.114355Z\", \"created_time\": \"2020-12-15T06:22:49.703309Z\", \"created_time_dt\": \"2020-12-15T06:22:49.703309Z\", \"duration\": \"0:02:37\", \"iteration\": \"49\", \"goal\": \"AUC_weighted_max\", \"run_name\": \"MinMaxScaler, GradientBoosting\", \"run_properties\": \"copy=True, feature_range=(0, 1\", \"primary_metric\": 0.90139094, \"best_metric\": 0.90584186}, {\"run_id\": \"AutoML_2d76aec7-a6dd-4206-9615-bf5c59423e1a_50\", \"run_number\": 127, \"metric\": null, \"status\": \"Completed\", \"run_type\": \"azureml.scriptrun\", \"training_percent\": \"100\", \"start_time\": \"2020-12-15T06:23:58.65995Z\", \"end_time\": \"2020-12-15T06:25:18.261526Z\", \"created_time\": \"2020-12-15T06:23:02.446344Z\", \"created_time_dt\": \"2020-12-15T06:23:02.446344Z\", \"duration\": \"0:02:15\", \"iteration\": \"50\", \"goal\": \"AUC_weighted_max\", \"run_name\": \"StandardScalerWrapper, LightGBM\", \"run_properties\": \"<azureml.automl.runtime.shared.model_wrappers.StandardScalerWrapper object at 0x7faf76cd53c8\", \"primary_metric\": 0.87606191, \"best_metric\": 0.90584186}, {\"run_id\": \"AutoML_2d76aec7-a6dd-4206-9615-bf5c59423e1a_51\", \"run_number\": 128, \"metric\": null, \"status\": \"Canceled\", \"run_type\": \"azureml.scriptrun\", \"training_percent\": \"100\", \"start_time\": \"2020-12-15T06:24:38.117889Z\", \"end_time\": \"2020-12-15T06:25:40.168118Z\", \"created_time\": \"2020-12-15T06:23:36.597525Z\", \"created_time_dt\": \"2020-12-15T06:23:36.597525Z\", \"duration\": \"0:02:03\", \"iteration\": \"51\", \"goal\": \"AUC_weighted_max\", \"run_name\": \"MaxAbsScaler, LogisticRegression\", \"run_properties\": \"copy=True\", \"primary_metric\": 0.85234112, \"best_metric\": 0.90584186}, {\"run_id\": \"AutoML_2d76aec7-a6dd-4206-9615-bf5c59423e1a_52\", \"run_number\": 129, \"metric\": null, \"status\": \"Canceled\", \"run_type\": \"azureml.scriptrun\", \"training_percent\": \"100\", \"start_time\": \"2020-12-15T06:25:21.131161Z\", \"end_time\": \"2020-12-15T06:25:37.437594Z\", \"created_time\": \"2020-12-15T06:23:55.081465Z\", \"created_time_dt\": \"2020-12-15T06:23:55.081465Z\", \"duration\": \"0:01:42\", \"iteration\": \"52\", \"goal\": null, \"run_name\": \"Canceled\", \"run_properties\": null}, {\"run_id\": \"AutoML_2d76aec7-a6dd-4206-9615-bf5c59423e1a_53\", \"run_number\": 130, \"metric\": null, \"status\": \"Canceled\", \"run_type\": \"azureml.scriptrun\", \"training_percent\": \"100\", \"start_time\": \"2020-12-15T06:24:38.78186Z\", \"end_time\": \"2020-12-15T06:25:37.391857Z\", \"created_time\": \"2020-12-15T06:24:38.78186Z\", \"created_time_dt\": \"2020-12-15T06:24:38.78186Z\", \"duration\": \"0:00:58\", \"iteration\": \"53\", \"goal\": null, \"run_name\": \"Canceled\", \"run_properties\": null}, {\"run_id\": \"AutoML_2d76aec7-a6dd-4206-9615-bf5c59423e1a_54\", \"run_number\": 131, \"metric\": null, \"status\": \"Canceled\", \"run_type\": \"azureml.scriptrun\", \"training_percent\": \"100\", \"start_time\": \"2020-12-15T06:25:21.565965Z\", \"end_time\": \"2020-12-15T06:25:40.78244Z\", \"created_time\": \"2020-12-15T06:25:21.565965Z\", \"created_time_dt\": \"2020-12-15T06:25:21.565965Z\", \"duration\": \"0:00:19\", \"iteration\": \"54\", \"goal\": null, \"run_name\": \"Canceled\", \"run_properties\": null}, {\"run_id\": \"AutoML_2d76aec7-a6dd-4206-9615-bf5c59423e1a_55\", \"run_number\": 132, \"metric\": null, \"status\": \"Completed\", \"run_type\": \"azureml.scriptrun\", \"training_percent\": \"100\", \"start_time\": \"2020-12-15T06:25:57.713701Z\", \"end_time\": \"2020-12-15T06:29:59.528426Z\", \"created_time\": \"2020-12-15T06:25:43.061099Z\", \"created_time_dt\": \"2020-12-15T06:25:43.061099Z\", \"duration\": \"0:04:16\", \"iteration\": \"55\", \"goal\": \"AUC_weighted_max\", \"run_name\": \"VotingEnsemble\", \"run_properties\": \"classification_labels=None,\\n                              estimators=[('36',\\n                                           Pipeline(memory=None,\\n                                                    steps=[('robustscaler',\\n                                                            RobustScaler(copy=True,\\n                                                                         quantile_range=[25,\\n                                                                                         75],\\n                                                                         with_centering=False,\\n                                                                         with_scaling=True\", \"primary_metric\": 0.9147729, \"best_metric\": 0.9147729}], \"children_metrics\": {\"categories\": [0], \"series\": {\"weighted_accuracy\": [{\"categories\": [\"0\", \"1\", \"2\", \"3\", \"4\", \"5\", \"6\", \"7\", \"8\", \"9\", \"10\", \"11\", \"12\", \"13\", \"14\", \"15\", \"16\", \"17\", \"18\", \"19\", \"20\", \"21\", \"22\", \"23\", \"24\", \"25\", \"26\", \"27\", \"28\", \"29\", \"30\", \"31\", \"32\", \"33\", \"34\", \"35\", \"36\", \"37\", \"38\", \"39\", \"40\", \"41\", \"42\", \"43\", \"44\", \"45\", \"46\", \"47\", \"48\", \"49\", \"50\", \"51\", \"55\"], \"mode\": \"markers\", \"name\": \"weighted_accuracy\", \"stepped\": false, \"type\": \"scatter\", \"data\": [0.8769762059573883, 0.8518333326626155, 0.8511964198239411, 0.857306858019587, 0.8622842921332632, 0.8592318664197519, 0.8515670740184225, 0.8844013668677034, 0.8426268024165082, 0.79811009672, 0.8463732878775019, 0.876980233321739, 0.8120378190843403, 0.8540462376938212, 0.803105598650444, 0.6902207630720387, 0.8385686234445894, 0.8187200598932328, 0.8219895341070247, 0.8761083073971199, 0.8574438012781815, 0.7989972692704999, 0.8428943918876873, 0.8717398569003538, 0.8628999904939189, 0.8180183598280119, 0.861218955677775, 0.8651649275736272, 0.85082191173469, 0.8754404686516176, 0.8422419657222301, 0.8509296318267742, 0.8584121135473174, 0.8477728611705831, 0.8400808254607265, 0.775930546801898, 0.8774096665254157, 0.8597215233234825, 0.868050236899963, 0.8799435216420404, 0.7460480373673659, 0.8784254345186865, 0.8771750198525685, 0.8778856159110804, 0.8650201673614741, 0.8756761329667843, 0.8706095830513256, 0.8720697803422579, 0.8526557900792764, 0.870126026327305, 0.8440540561525482, 0.8615279694163636, 0.8797527326739439]}, {\"categories\": [\"0\", \"1\", \"2\", \"3\", \"4\", \"5\", \"6\", \"7\", \"8\", \"9\", \"10\", \"11\", \"12\", \"13\", \"14\", \"15\", \"16\", \"17\", \"18\", \"19\", \"20\", \"21\", \"22\", \"23\", \"24\", \"25\", \"26\", \"27\", \"28\", \"29\", \"30\", \"31\", \"32\", \"33\", \"34\", \"35\", \"36\", \"37\", \"38\", \"39\", \"40\", \"41\", \"42\", \"43\", \"44\", \"45\", \"46\", \"47\", \"48\", \"49\", \"50\", \"51\", \"55\"], \"mode\": \"lines\", \"name\": \"weighted_accuracy_max\", \"stepped\": true, \"type\": \"scatter\", \"data\": [0.8769762059573883, 0.8769762059573883, 0.8769762059573883, 0.8769762059573883, 0.8769762059573883, 0.8769762059573883, 0.8769762059573883, 0.8844013668677034, 0.8844013668677034, 0.8844013668677034, 0.8844013668677034, 0.8844013668677034, 0.8844013668677034, 0.8844013668677034, 0.8844013668677034, 0.8844013668677034, 0.8844013668677034, 0.8844013668677034, 0.8844013668677034, 0.8844013668677034, 0.8844013668677034, 0.8844013668677034, 0.8844013668677034, 0.8844013668677034, 0.8844013668677034, 0.8844013668677034, 0.8844013668677034, 0.8844013668677034, 0.8844013668677034, 0.8844013668677034, 0.8844013668677034, 0.8844013668677034, 0.8844013668677034, 0.8844013668677034, 0.8844013668677034, 0.8844013668677034, 0.8844013668677034, 0.8844013668677034, 0.8844013668677034, 0.8844013668677034, 0.8844013668677034, 0.8844013668677034, 0.8844013668677034, 0.8844013668677034, 0.8844013668677034, 0.8844013668677034, 0.8844013668677034, 0.8844013668677034, 0.8844013668677034, 0.8844013668677034, 0.8844013668677034, 0.8844013668677034, 0.8844013668677034]}], \"AUC_macro\": [{\"categories\": [\"0\", \"1\", \"2\", \"3\", \"4\", \"5\", \"6\", \"7\", \"8\", \"9\", \"10\", \"11\", \"12\", \"13\", \"14\", \"15\", \"16\", \"17\", \"18\", \"19\", \"20\", \"21\", \"22\", \"23\", \"24\", \"25\", \"26\", \"27\", \"28\", \"29\", \"30\", \"31\", \"32\", \"33\", \"34\", \"35\", \"36\", \"37\", \"38\", \"39\", \"40\", \"41\", \"42\", \"43\", \"44\", \"45\", \"46\", \"47\", \"48\", \"49\", \"50\", \"51\", \"55\"], \"mode\": \"markers\", \"name\": \"AUC_macro\", \"stepped\": false, \"type\": \"scatter\", \"data\": [0.8821828799692835, 0.8717221751769996, 0.875592012860434, 0.8610946790376615, 0.9017453691045796, 0.8773429052429054, 0.8745755303663199, 0.8909604855995207, 0.8604448718597842, 0.7206919107533143, 0.8528280908500208, 0.8582159033948509, 0.8863892530146916, 0.8553535587706641, 0.8599149293688768, 0.5682040669856459, 0.8802097322430656, 0.8071113041441988, 0.8577605465684414, 0.8910373120300752, 0.8683639021796916, 0.84268827455845, 0.8579575614119473, 0.8918251506290981, 0.883019015552349, 0.8757887804528155, 0.8850778769313857, 0.8863933562863388, 0.8811181178957493, 0.8879566236719745, 0.8837500349147278, 0.9030268488983403, 0.8937662436815946, 0.9011335801625275, 0.8987660827152055, 0.7491593424850005, 0.9058418550585218, 0.8921085185607115, 0.9052212492510737, 0.9041290960988329, 0.8096203204771186, 0.890511946111069, 0.8937975726352919, 0.8979962114883169, 0.8976967555673696, 0.9053875697239733, 0.8937017360319993, 0.9044486738732352, 0.8889809637730689, 0.9013909434782242, 0.8760619060276955, 0.8523411227985791, 0.9147729044834308]}, {\"categories\": [\"0\", \"1\", \"2\", \"3\", \"4\", \"5\", \"6\", \"7\", \"8\", \"9\", \"10\", \"11\", \"12\", \"13\", \"14\", \"15\", \"16\", \"17\", \"18\", \"19\", \"20\", \"21\", \"22\", \"23\", \"24\", \"25\", \"26\", \"27\", \"28\", \"29\", \"30\", \"31\", \"32\", \"33\", \"34\", \"35\", \"36\", \"37\", \"38\", \"39\", \"40\", \"41\", \"42\", \"43\", \"44\", \"45\", \"46\", \"47\", \"48\", \"49\", \"50\", \"51\", \"55\"], \"mode\": \"lines\", \"name\": \"AUC_macro_max\", \"stepped\": true, \"type\": \"scatter\", \"data\": [0.8821828799692835, 0.8821828799692835, 0.8821828799692835, 0.8821828799692835, 0.9017453691045796, 0.9017453691045796, 0.9017453691045796, 0.9017453691045796, 0.9017453691045796, 0.9017453691045796, 0.9017453691045796, 0.9017453691045796, 0.9017453691045796, 0.9017453691045796, 0.9017453691045796, 0.9017453691045796, 0.9017453691045796, 0.9017453691045796, 0.9017453691045796, 0.9017453691045796, 0.9017453691045796, 0.9017453691045796, 0.9017453691045796, 0.9017453691045796, 0.9017453691045796, 0.9017453691045796, 0.9017453691045796, 0.9017453691045796, 0.9017453691045796, 0.9017453691045796, 0.9017453691045796, 0.9030268488983403, 0.9030268488983403, 0.9030268488983403, 0.9030268488983403, 0.9030268488983403, 0.9058418550585218, 0.9058418550585218, 0.9058418550585218, 0.9058418550585218, 0.9058418550585218, 0.9058418550585218, 0.9058418550585218, 0.9058418550585218, 0.9058418550585218, 0.9058418550585218, 0.9058418550585218, 0.9058418550585218, 0.9058418550585218, 0.9058418550585218, 0.9058418550585218, 0.9058418550585218, 0.9147729044834308]}], \"recall_score_weighted\": [{\"categories\": [\"0\", \"1\", \"2\", \"3\", \"4\", \"5\", \"6\", \"7\", \"8\", \"9\", \"10\", \"11\", \"12\", \"13\", \"14\", \"15\", \"16\", \"17\", \"18\", \"19\", \"20\", \"21\", \"22\", \"23\", \"24\", \"25\", \"26\", \"27\", \"28\", \"29\", \"30\", \"31\", \"32\", \"33\", \"34\", \"35\", \"36\", \"37\", \"38\", \"39\", \"40\", \"41\", \"42\", \"43\", \"44\", \"45\", \"46\", \"47\", \"48\", \"49\", \"50\", \"51\", \"55\"], \"mode\": \"markers\", \"name\": \"recall_score_weighted\", \"stepped\": false, \"type\": \"scatter\", \"data\": [0.8528735632183908, 0.8294252873563218, 0.8294252873563218, 0.7959770114942528, 0.8491954022988507, 0.8295402298850576, 0.825977011494253, 0.8529885057471265, 0.7859770114942529, 0.7458620689655173, 0.779080459770115, 0.8324137931034483, 0.8126436781609195, 0.825977011494253, 0.7956321839080461, 0.6285057471264367, 0.782528735632184, 0.8022988505747127, 0.8160919540229885, 0.8493103448275863, 0.835977011494253, 0.7893103448275862, 0.8227586206896552, 0.835977011494253, 0.8427586206896553, 0.8094252873563219, 0.8391954022988506, 0.8426436781609196, 0.7991954022988506, 0.8526436781609196, 0.8194252873563219, 0.8459770114942529, 0.8360919540229886, 0.8425287356321839, 0.8326436781609197, 0.6755172413793102, 0.8495402298850575, 0.8293103448275863, 0.8427586206896553, 0.8560919540229885, 0.7455172413793102, 0.8427586206896553, 0.8528735632183908, 0.8528735632183908, 0.8426436781609196, 0.8495402298850575, 0.8460919540229886, 0.849425287356322, 0.8360919540229886, 0.849425287356322, 0.785632183908046, 0.8326436781609197, 0.8560919540229885]}, {\"categories\": [\"0\", \"1\", \"2\", \"3\", \"4\", \"5\", \"6\", \"7\", \"8\", \"9\", \"10\", \"11\", \"12\", \"13\", \"14\", \"15\", \"16\", \"17\", \"18\", \"19\", \"20\", \"21\", \"22\", \"23\", \"24\", \"25\", \"26\", \"27\", \"28\", \"29\", \"30\", \"31\", \"32\", \"33\", \"34\", \"35\", \"36\", \"37\", \"38\", \"39\", \"40\", \"41\", \"42\", \"43\", \"44\", \"45\", \"46\", \"47\", \"48\", \"49\", \"50\", \"51\", \"55\"], \"mode\": \"lines\", \"name\": \"recall_score_weighted_max\", \"stepped\": true, \"type\": \"scatter\", \"data\": [0.8528735632183908, 0.8528735632183908, 0.8528735632183908, 0.8528735632183908, 0.8528735632183908, 0.8528735632183908, 0.8528735632183908, 0.8529885057471265, 0.8529885057471265, 0.8529885057471265, 0.8529885057471265, 0.8529885057471265, 0.8529885057471265, 0.8529885057471265, 0.8529885057471265, 0.8529885057471265, 0.8529885057471265, 0.8529885057471265, 0.8529885057471265, 0.8529885057471265, 0.8529885057471265, 0.8529885057471265, 0.8529885057471265, 0.8529885057471265, 0.8529885057471265, 0.8529885057471265, 0.8529885057471265, 0.8529885057471265, 0.8529885057471265, 0.8529885057471265, 0.8529885057471265, 0.8529885057471265, 0.8529885057471265, 0.8529885057471265, 0.8529885057471265, 0.8529885057471265, 0.8529885057471265, 0.8529885057471265, 0.8529885057471265, 0.8560919540229885, 0.8560919540229885, 0.8560919540229885, 0.8560919540229885, 0.8560919540229885, 0.8560919540229885, 0.8560919540229885, 0.8560919540229885, 0.8560919540229885, 0.8560919540229885, 0.8560919540229885, 0.8560919540229885, 0.8560919540229885, 0.8560919540229885]}], \"matthews_correlation\": [{\"categories\": [\"0\", \"1\", \"2\", \"3\", \"4\", \"5\", \"6\", \"7\", \"8\", \"9\", \"10\", \"11\", \"12\", \"13\", \"14\", \"15\", \"16\", \"17\", \"18\", \"19\", \"20\", \"21\", \"22\", \"23\", \"24\", \"25\", \"26\", \"27\", \"28\", \"29\", \"30\", \"31\", \"32\", \"33\", \"34\", \"35\", \"36\", \"37\", \"38\", \"39\", \"40\", \"41\", \"42\", \"43\", \"44\", \"45\", \"46\", \"47\", \"48\", \"49\", \"50\", \"51\", \"55\"], \"mode\": \"markers\", \"name\": \"matthews_correlation\", \"stepped\": false, \"type\": \"scatter\", \"data\": [0.6513585985756285, 0.5937735919757674, 0.587843890985775, 0.48981189450429713, 0.6311796732980417, 0.5641077987853731, 0.5517218202454268, 0.6283249024041415, 0.4741424408662616, 0.3852790267030642, 0.4470270474543002, 0.5729285051126303, 0.5752477206034567, 0.5625963979310098, 0.5491271354629597, 0.08676087080200032, 0.40390726730437976, 0.526567468305496, 0.5642584367598084, 0.6141447474571213, 0.5874451486844735, 0.5199000823488881, 0.5479040550757839, 0.5783389558931941, 0.5901748362486753, 0.543275330198541, 0.5783621849155953, 0.6255909280822098, 0.49789678538945886, 0.628377184618979, 0.5758481727920461, 0.6250318271294423, 0.5958479730975207, 0.6195300145902354, 0.5939404736110317, 0.022234270478315322, 0.6201972194449795, 0.5639135283781987, 0.590807709204273, 0.6381420255982939, 0.4340524412977418, 0.5933627722655656, 0.6252402529673449, 0.6235495531886587, 0.6120306769812173, 0.6080109223100263, 0.6005568851974747, 0.6210421442225293, 0.5775525351035957, 0.6121519746837264, 0.4789572128378249, 0.5768575093943864, 0.6349599746289993]}, {\"categories\": [\"0\", \"1\", \"2\", \"3\", \"4\", \"5\", \"6\", \"7\", \"8\", \"9\", \"10\", \"11\", \"12\", \"13\", \"14\", \"15\", \"16\", \"17\", \"18\", \"19\", \"20\", \"21\", \"22\", \"23\", \"24\", \"25\", \"26\", \"27\", \"28\", \"29\", \"30\", \"31\", \"32\", \"33\", \"34\", \"35\", \"36\", \"37\", \"38\", \"39\", \"40\", \"41\", \"42\", \"43\", \"44\", \"45\", \"46\", \"47\", \"48\", \"49\", \"50\", \"51\", \"55\"], \"mode\": \"lines\", \"name\": \"matthews_correlation_max\", \"stepped\": true, \"type\": \"scatter\", \"data\": [0.6513585985756285, 0.6513585985756285, 0.6513585985756285, 0.6513585985756285, 0.6513585985756285, 0.6513585985756285, 0.6513585985756285, 0.6513585985756285, 0.6513585985756285, 0.6513585985756285, 0.6513585985756285, 0.6513585985756285, 0.6513585985756285, 0.6513585985756285, 0.6513585985756285, 0.6513585985756285, 0.6513585985756285, 0.6513585985756285, 0.6513585985756285, 0.6513585985756285, 0.6513585985756285, 0.6513585985756285, 0.6513585985756285, 0.6513585985756285, 0.6513585985756285, 0.6513585985756285, 0.6513585985756285, 0.6513585985756285, 0.6513585985756285, 0.6513585985756285, 0.6513585985756285, 0.6513585985756285, 0.6513585985756285, 0.6513585985756285, 0.6513585985756285, 0.6513585985756285, 0.6513585985756285, 0.6513585985756285, 0.6513585985756285, 0.6513585985756285, 0.6513585985756285, 0.6513585985756285, 0.6513585985756285, 0.6513585985756285, 0.6513585985756285, 0.6513585985756285, 0.6513585985756285, 0.6513585985756285, 0.6513585985756285, 0.6513585985756285, 0.6513585985756285, 0.6513585985756285, 0.6513585985756285]}], \"log_loss\": [{\"categories\": [\"0\", \"1\", \"2\", \"3\", \"4\", \"5\", \"6\", \"7\", \"8\", \"9\", \"10\", \"11\", \"12\", \"13\", \"14\", \"15\", \"16\", \"17\", \"18\", \"19\", \"20\", \"21\", \"22\", \"23\", \"24\", \"25\", \"26\", \"27\", \"28\", \"29\", \"30\", \"31\", \"32\", \"33\", \"34\", \"35\", \"36\", \"37\", \"38\", \"39\", \"40\", \"41\", \"42\", \"43\", \"44\", \"45\", \"46\", \"47\", \"48\", \"49\", \"50\", \"51\", \"55\"], \"mode\": \"markers\", \"name\": \"log_loss\", \"stepped\": false, \"type\": \"scatter\", \"data\": [0.4383775438850842, 0.4160171917503055, 0.3945792728971428, 0.4668083888880218, 0.3693263376026251, 0.4018428171746008, 0.5020903963119208, 0.39606886992986856, 0.4748050746376718, 1.618093285754193, 0.477067028750559, 0.43447642638137796, 0.43704861432793507, 0.41428023069895775, 0.4614410403830024, 0.7379803697939155, 0.4623874832163211, 0.6384726447888078, 0.5317423992287045, 0.47705079035751663, 0.4945519842449433, 0.5198867835569048, 0.4867108000117776, 0.4030213182867213, 0.39666805405152833, 0.4475484739046423, 0.4093783009458063, 0.4114436621752081, 0.43844033238488134, 0.3944002028501969, 0.4951606361462601, 0.463445952422727, 0.3914461770292593, 0.38492807415236435, 0.41037589161945653, 0.5707380685502865, 0.3612617038323386, 0.37273364509252543, 0.3563912956180187, 0.3587403677138831, 0.5582726636521708, 0.39773275577818457, 0.3835647104852531, 0.3618177547523966, 0.3687288926604249, 0.3580242500602573, 0.3671101634648683, 0.35795303313827936, 0.4014368463517199, 0.35827023998645685, 0.47879974503976375, 0.42324377684258574, 0.3570299772310265]}, {\"categories\": [\"0\", \"1\", \"2\", \"3\", \"4\", \"5\", \"6\", \"7\", \"8\", \"9\", \"10\", \"11\", \"12\", \"13\", \"14\", \"15\", \"16\", \"17\", \"18\", \"19\", \"20\", \"21\", \"22\", \"23\", \"24\", \"25\", \"26\", \"27\", \"28\", \"29\", \"30\", \"31\", \"32\", \"33\", \"34\", \"35\", \"36\", \"37\", \"38\", \"39\", \"40\", \"41\", \"42\", \"43\", \"44\", \"45\", \"46\", \"47\", \"48\", \"49\", \"50\", \"51\", \"55\"], \"mode\": \"lines\", \"name\": \"log_loss_min\", \"stepped\": true, \"type\": \"scatter\", \"data\": [0.4383775438850842, 0.4160171917503055, 0.3945792728971428, 0.3945792728971428, 0.3693263376026251, 0.3693263376026251, 0.3693263376026251, 0.3693263376026251, 0.3693263376026251, 0.3693263376026251, 0.3693263376026251, 0.3693263376026251, 0.3693263376026251, 0.3693263376026251, 0.3693263376026251, 0.3693263376026251, 0.3693263376026251, 0.3693263376026251, 0.3693263376026251, 0.3693263376026251, 0.3693263376026251, 0.3693263376026251, 0.3693263376026251, 0.3693263376026251, 0.3693263376026251, 0.3693263376026251, 0.3693263376026251, 0.3693263376026251, 0.3693263376026251, 0.3693263376026251, 0.3693263376026251, 0.3693263376026251, 0.3693263376026251, 0.3693263376026251, 0.3693263376026251, 0.3693263376026251, 0.3612617038323386, 0.3612617038323386, 0.3563912956180187, 0.3563912956180187, 0.3563912956180187, 0.3563912956180187, 0.3563912956180187, 0.3563912956180187, 0.3563912956180187, 0.3563912956180187, 0.3563912956180187, 0.3563912956180187, 0.3563912956180187, 0.3563912956180187, 0.3563912956180187, 0.3563912956180187, 0.3563912956180187]}], \"f1_score_micro\": [{\"categories\": [\"0\", \"1\", \"2\", \"3\", \"4\", \"5\", \"6\", \"7\", \"8\", \"9\", \"10\", \"11\", \"12\", \"13\", \"14\", \"15\", \"16\", \"17\", \"18\", \"19\", \"20\", \"21\", \"22\", \"23\", \"24\", \"25\", \"26\", \"27\", \"28\", \"29\", \"30\", \"31\", \"32\", \"33\", \"34\", \"35\", \"36\", \"37\", \"38\", \"39\", \"40\", \"41\", \"42\", \"43\", \"44\", \"45\", \"46\", \"47\", \"48\", \"49\", \"50\", \"51\", \"55\"], \"mode\": \"markers\", \"name\": \"f1_score_micro\", \"stepped\": false, \"type\": \"scatter\", \"data\": [0.8528735632183908, 0.8294252873563218, 0.8294252873563218, 0.7959770114942528, 0.8491954022988507, 0.8295402298850576, 0.825977011494253, 0.8529885057471265, 0.7859770114942529, 0.7458620689655173, 0.779080459770115, 0.8324137931034483, 0.8126436781609196, 0.825977011494253, 0.7956321839080461, 0.6285057471264367, 0.782528735632184, 0.8022988505747127, 0.8160919540229887, 0.8493103448275864, 0.835977011494253, 0.7893103448275862, 0.8227586206896552, 0.835977011494253, 0.8427586206896553, 0.8094252873563219, 0.8391954022988506, 0.8426436781609196, 0.7991954022988506, 0.8526436781609196, 0.8194252873563219, 0.8459770114942529, 0.8360919540229886, 0.8425287356321839, 0.8326436781609197, 0.6755172413793102, 0.8495402298850575, 0.8293103448275863, 0.8427586206896553, 0.8560919540229885, 0.7455172413793102, 0.8427586206896553, 0.8528735632183908, 0.8528735632183908, 0.8426436781609196, 0.8495402298850575, 0.8460919540229886, 0.849425287356322, 0.8360919540229886, 0.849425287356322, 0.785632183908046, 0.8326436781609197, 0.8560919540229885]}, {\"categories\": [\"0\", \"1\", \"2\", \"3\", \"4\", \"5\", \"6\", \"7\", \"8\", \"9\", \"10\", \"11\", \"12\", \"13\", \"14\", \"15\", \"16\", \"17\", \"18\", \"19\", \"20\", \"21\", \"22\", \"23\", \"24\", \"25\", \"26\", \"27\", \"28\", \"29\", \"30\", \"31\", \"32\", \"33\", \"34\", \"35\", \"36\", \"37\", \"38\", \"39\", \"40\", \"41\", \"42\", \"43\", \"44\", \"45\", \"46\", \"47\", \"48\", \"49\", \"50\", \"51\", \"55\"], \"mode\": \"lines\", \"name\": \"f1_score_micro_max\", \"stepped\": true, \"type\": \"scatter\", \"data\": [0.8528735632183908, 0.8528735632183908, 0.8528735632183908, 0.8528735632183908, 0.8528735632183908, 0.8528735632183908, 0.8528735632183908, 0.8529885057471265, 0.8529885057471265, 0.8529885057471265, 0.8529885057471265, 0.8529885057471265, 0.8529885057471265, 0.8529885057471265, 0.8529885057471265, 0.8529885057471265, 0.8529885057471265, 0.8529885057471265, 0.8529885057471265, 0.8529885057471265, 0.8529885057471265, 0.8529885057471265, 0.8529885057471265, 0.8529885057471265, 0.8529885057471265, 0.8529885057471265, 0.8529885057471265, 0.8529885057471265, 0.8529885057471265, 0.8529885057471265, 0.8529885057471265, 0.8529885057471265, 0.8529885057471265, 0.8529885057471265, 0.8529885057471265, 0.8529885057471265, 0.8529885057471265, 0.8529885057471265, 0.8529885057471265, 0.8560919540229885, 0.8560919540229885, 0.8560919540229885, 0.8560919540229885, 0.8560919540229885, 0.8560919540229885, 0.8560919540229885, 0.8560919540229885, 0.8560919540229885, 0.8560919540229885, 0.8560919540229885, 0.8560919540229885, 0.8560919540229885, 0.8560919540229885]}], \"precision_score_weighted\": [{\"categories\": [\"0\", \"1\", \"2\", \"3\", \"4\", \"5\", \"6\", \"7\", \"8\", \"9\", \"10\", \"11\", \"12\", \"13\", \"14\", \"15\", \"16\", \"17\", \"18\", \"19\", \"20\", \"21\", \"22\", \"23\", \"24\", \"25\", \"26\", \"27\", \"28\", \"29\", \"30\", \"31\", \"32\", \"33\", \"34\", \"35\", \"36\", \"37\", \"38\", \"39\", \"40\", \"41\", \"42\", \"43\", \"44\", \"45\", \"46\", \"47\", \"48\", \"49\", \"50\", \"51\", \"55\"], \"mode\": \"markers\", \"name\": \"precision_score_weighted\", \"stepped\": false, \"type\": \"scatter\", \"data\": [0.8658810842926681, 0.8401639640136642, 0.8561168673904807, 0.8311806098116442, 0.8652956977248106, 0.8397516304978824, 0.8367316123684191, 0.8701608665364287, 0.8258928742838039, 0.7869237299717178, 0.8178576663438732, 0.8489111137904242, 0.8441748339182416, 0.8346515473122536, 0.8255982685425695, 0.6188420290132434, 0.7831528041386863, 0.8187400689911847, 0.8336877883779505, 0.8616079697676794, 0.8467075495251539, 0.8248473101929269, 0.8279830785246606, 0.8535275414240932, 0.8492885988700417, 0.8307033798264849, 0.8431289181679382, 0.8520304560448567, 0.8184689248809939, 0.8603007707432073, 0.8506365279993859, 0.8645944113180153, 0.8490612640820168, 0.8617861162493249, 0.8526637087216782, 0.5346651717023894, 0.8570437876299944, 0.8329283543084538, 0.845189817789518, 0.8645007465982966, 0.7920297427480489, 0.8606623874210081, 0.8665832613426712, 0.8613292740733758, 0.8484278447185613, 0.8546967964430483, 0.8497682365527192, 0.8556489074043521, 0.8478637970319103, 0.8559674480751575, 0.8104508149577114, 0.8418401680596979, 0.8620481124877676]}, {\"categories\": [\"0\", \"1\", \"2\", \"3\", \"4\", \"5\", \"6\", \"7\", \"8\", \"9\", \"10\", \"11\", \"12\", \"13\", \"14\", \"15\", \"16\", \"17\", \"18\", \"19\", \"20\", \"21\", \"22\", \"23\", \"24\", \"25\", \"26\", \"27\", \"28\", \"29\", \"30\", \"31\", \"32\", \"33\", \"34\", \"35\", \"36\", \"37\", \"38\", \"39\", \"40\", \"41\", \"42\", \"43\", \"44\", \"45\", \"46\", \"47\", \"48\", \"49\", \"50\", \"51\", \"55\"], \"mode\": \"lines\", \"name\": \"precision_score_weighted_max\", \"stepped\": true, \"type\": \"scatter\", \"data\": [0.8658810842926681, 0.8658810842926681, 0.8658810842926681, 0.8658810842926681, 0.8658810842926681, 0.8658810842926681, 0.8658810842926681, 0.8701608665364287, 0.8701608665364287, 0.8701608665364287, 0.8701608665364287, 0.8701608665364287, 0.8701608665364287, 0.8701608665364287, 0.8701608665364287, 0.8701608665364287, 0.8701608665364287, 0.8701608665364287, 0.8701608665364287, 0.8701608665364287, 0.8701608665364287, 0.8701608665364287, 0.8701608665364287, 0.8701608665364287, 0.8701608665364287, 0.8701608665364287, 0.8701608665364287, 0.8701608665364287, 0.8701608665364287, 0.8701608665364287, 0.8701608665364287, 0.8701608665364287, 0.8701608665364287, 0.8701608665364287, 0.8701608665364287, 0.8701608665364287, 0.8701608665364287, 0.8701608665364287, 0.8701608665364287, 0.8701608665364287, 0.8701608665364287, 0.8701608665364287, 0.8701608665364287, 0.8701608665364287, 0.8701608665364287, 0.8701608665364287, 0.8701608665364287, 0.8701608665364287, 0.8701608665364287, 0.8701608665364287, 0.8701608665364287, 0.8701608665364287, 0.8701608665364287]}], \"average_precision_score_macro\": [{\"categories\": [\"0\", \"1\", \"2\", \"3\", \"4\", \"5\", \"6\", \"7\", \"8\", \"9\", \"10\", \"11\", \"12\", \"13\", \"14\", \"15\", \"16\", \"17\", \"18\", \"19\", \"20\", \"21\", \"22\", \"23\", \"24\", \"25\", \"26\", \"27\", \"28\", \"29\", \"30\", \"31\", \"32\", \"33\", \"34\", \"35\", \"36\", \"37\", \"38\", \"39\", \"40\", \"41\", \"42\", \"43\", \"44\", \"45\", \"46\", \"47\", \"48\", \"49\", \"50\", \"51\", \"55\"], \"mode\": \"markers\", \"name\": \"average_precision_score_macro\", \"stepped\": false, \"type\": \"scatter\", \"data\": [0.8791765284374424, 0.8711161960758371, 0.8690659381568941, 0.8589312820372251, 0.8960981077098525, 0.8612500346008787, 0.8606077214209765, 0.8792767589799976, 0.8507857413690052, 0.745969560448301, 0.8566231105778792, 0.8666650527034079, 0.8749787155348934, 0.8440188566656339, 0.8532457924337612, 0.5983435667955933, 0.8579305095143684, 0.7962077050601258, 0.8454127692433184, 0.8825301890086455, 0.8528980423420842, 0.8412568776346813, 0.8474235156252042, 0.875926615143151, 0.865155731840401, 0.8592227476724463, 0.8711641215361638, 0.8764609545229163, 0.8675463091455364, 0.8783399173532549, 0.8538350354161095, 0.8901967024392802, 0.8805445006178296, 0.8877034869769641, 0.8876808186404471, 0.7378412237371473, 0.8932247343269605, 0.8797823043930206, 0.8916333955898909, 0.8955612821391415, 0.8088425398241285, 0.8782094181365429, 0.8820019929583841, 0.8891419140723403, 0.88565645428261, 0.8921673177950493, 0.8845337797112138, 0.8929218674773942, 0.8732338819522448, 0.8887233955133602, 0.8589664984855798, 0.8444938972360182, 0.9066080065142806]}, {\"categories\": [\"0\", \"1\", \"2\", \"3\", \"4\", \"5\", \"6\", \"7\", \"8\", \"9\", \"10\", \"11\", \"12\", \"13\", \"14\", \"15\", \"16\", \"17\", \"18\", \"19\", \"20\", \"21\", \"22\", \"23\", \"24\", \"25\", \"26\", \"27\", \"28\", \"29\", \"30\", \"31\", \"32\", \"33\", \"34\", \"35\", \"36\", \"37\", \"38\", \"39\", \"40\", \"41\", \"42\", \"43\", \"44\", \"45\", \"46\", \"47\", \"48\", \"49\", \"50\", \"51\", \"55\"], \"mode\": \"lines\", \"name\": \"average_precision_score_macro_max\", \"stepped\": true, \"type\": \"scatter\", \"data\": [0.8791765284374424, 0.8791765284374424, 0.8791765284374424, 0.8791765284374424, 0.8960981077098525, 0.8960981077098525, 0.8960981077098525, 0.8960981077098525, 0.8960981077098525, 0.8960981077098525, 0.8960981077098525, 0.8960981077098525, 0.8960981077098525, 0.8960981077098525, 0.8960981077098525, 0.8960981077098525, 0.8960981077098525, 0.8960981077098525, 0.8960981077098525, 0.8960981077098525, 0.8960981077098525, 0.8960981077098525, 0.8960981077098525, 0.8960981077098525, 0.8960981077098525, 0.8960981077098525, 0.8960981077098525, 0.8960981077098525, 0.8960981077098525, 0.8960981077098525, 0.8960981077098525, 0.8960981077098525, 0.8960981077098525, 0.8960981077098525, 0.8960981077098525, 0.8960981077098525, 0.8960981077098525, 0.8960981077098525, 0.8960981077098525, 0.8960981077098525, 0.8960981077098525, 0.8960981077098525, 0.8960981077098525, 0.8960981077098525, 0.8960981077098525, 0.8960981077098525, 0.8960981077098525, 0.8960981077098525, 0.8960981077098525, 0.8960981077098525, 0.8960981077098525, 0.8960981077098525, 0.9066080065142806]}], \"AUC_weighted\": [{\"categories\": [\"0\", \"1\", \"2\", \"3\", \"4\", \"5\", \"6\", \"7\", \"8\", \"9\", \"10\", \"11\", \"12\", \"13\", \"14\", \"15\", \"16\", \"17\", \"18\", \"19\", \"20\", \"21\", \"22\", \"23\", \"24\", \"25\", \"26\", \"27\", \"28\", \"29\", \"30\", \"31\", \"32\", \"33\", \"34\", \"35\", \"36\", \"37\", \"38\", \"39\", \"40\", \"41\", \"42\", \"43\", \"44\", \"45\", \"46\", \"47\", \"48\", \"49\", \"50\", \"51\", \"55\"], \"mode\": \"markers\", \"name\": \"AUC_weighted\", \"stepped\": false, \"type\": \"scatter\", \"data\": [0.8821828799692835, 0.8717221751769996, 0.875592012860434, 0.8610946790376615, 0.9017453691045796, 0.8774762385762387, 0.8745755303663196, 0.8909604855995206, 0.8604448718597842, 0.7206919107533143, 0.8528280908500208, 0.8582159033948509, 0.8863892530146915, 0.8553535587706641, 0.8599149293688768, 0.5682040669856459, 0.8802097322430654, 0.807111304144199, 0.8577605465684413, 0.8910373120300752, 0.8683639021796916, 0.84268827455845, 0.8579575614119472, 0.8918251506290978, 0.883019015552349, 0.8757887804528155, 0.8850778769313857, 0.8863933562863388, 0.8811181178957493, 0.8879566236719745, 0.8837500349147278, 0.9030268488983401, 0.8937662436815946, 0.9011335801625275, 0.8987660827152055, 0.7491593424850004, 0.9058418550585217, 0.8921085185607115, 0.9052212492510737, 0.9041290960988329, 0.8096203204771186, 0.890511946111069, 0.8937975726352919, 0.8979962114883169, 0.8976967555673696, 0.9053875697239733, 0.8937017360319993, 0.9044486738732352, 0.8889809637730689, 0.9013909434782242, 0.8760619060276955, 0.8523411227985788, 0.9147729044834308]}, {\"categories\": [\"0\", \"1\", \"2\", \"3\", \"4\", \"5\", \"6\", \"7\", \"8\", \"9\", \"10\", \"11\", \"12\", \"13\", \"14\", \"15\", \"16\", \"17\", \"18\", \"19\", \"20\", \"21\", \"22\", \"23\", \"24\", \"25\", \"26\", \"27\", \"28\", \"29\", \"30\", \"31\", \"32\", \"33\", \"34\", \"35\", \"36\", \"37\", \"38\", \"39\", \"40\", \"41\", \"42\", \"43\", \"44\", \"45\", \"46\", \"47\", \"48\", \"49\", \"50\", \"51\", \"55\"], \"mode\": \"lines\", \"name\": \"AUC_weighted_max\", \"stepped\": true, \"type\": \"scatter\", \"data\": [0.8821828799692835, 0.8821828799692835, 0.8821828799692835, 0.8821828799692835, 0.9017453691045796, 0.9017453691045796, 0.9017453691045796, 0.9017453691045796, 0.9017453691045796, 0.9017453691045796, 0.9017453691045796, 0.9017453691045796, 0.9017453691045796, 0.9017453691045796, 0.9017453691045796, 0.9017453691045796, 0.9017453691045796, 0.9017453691045796, 0.9017453691045796, 0.9017453691045796, 0.9017453691045796, 0.9017453691045796, 0.9017453691045796, 0.9017453691045796, 0.9017453691045796, 0.9017453691045796, 0.9017453691045796, 0.9017453691045796, 0.9017453691045796, 0.9017453691045796, 0.9017453691045796, 0.9030268488983401, 0.9030268488983401, 0.9030268488983401, 0.9030268488983401, 0.9030268488983401, 0.9058418550585217, 0.9058418550585217, 0.9058418550585217, 0.9058418550585217, 0.9058418550585217, 0.9058418550585217, 0.9058418550585217, 0.9058418550585217, 0.9058418550585217, 0.9058418550585217, 0.9058418550585217, 0.9058418550585217, 0.9058418550585217, 0.9058418550585217, 0.9058418550585217, 0.9058418550585217, 0.9147729044834308]}], \"norm_macro_recall\": [{\"categories\": [\"0\", \"1\", \"2\", \"3\", \"4\", \"5\", \"6\", \"7\", \"8\", \"9\", \"10\", \"11\", \"12\", \"13\", \"14\", \"15\", \"16\", \"17\", \"18\", \"19\", \"20\", \"21\", \"22\", \"23\", \"24\", \"25\", \"26\", \"27\", \"28\", \"29\", \"30\", \"31\", \"32\", \"33\", \"34\", \"35\", \"36\", \"37\", \"38\", \"39\", \"40\", \"41\", \"42\", \"43\", \"44\", \"45\", \"46\", \"47\", \"48\", \"49\", \"50\", \"51\", \"55\"], \"mode\": \"markers\", \"name\": \"norm_macro_recall\", \"stepped\": false, \"type\": \"scatter\", \"data\": [0.6138916419837473, 0.5746351674641148, 0.5672412090833143, 0.37798215235057336, 0.6279628490417963, 0.540860547834232, 0.5396213387002862, 0.5693615098351941, 0.37706488443330544, 0.3115438596491228, 0.3302765246449457, 0.4943928761297182, 0.592483038404091, 0.5466393572314625, 0.5615322713349029, 0.09105187210450365, 0.34585015569226096, 0.5410877572719678, 0.577546220348852, 0.5834581403002456, 0.571343630540999, 0.516996278575226, 0.5390867952710058, 0.5283856104908736, 0.5792758094731779, 0.5551350155692261, 0.5666342054631528, 0.5985967380572644, 0.4123005430242272, 0.5966876471481736, 0.5413152831573884, 0.6417465570491887, 0.5766569137490188, 0.6343744335586441, 0.6046195729222046, 0.021847231715652747, 0.5762249753170806, 0.5230723969013443, 0.5703961102250577, 0.6012610503531557, 0.45932941571099467, 0.5419821017189438, 0.5977914736335789, 0.5860595617832459, 0.5982716323637376, 0.5833760600997442, 0.5808546049467103, 0.5900455115060378, 0.5842383420672894, 0.598680001772107, 0.3716068200805043, 0.5581525151261995, 0.6008281499202551]}, {\"categories\": [\"0\", \"1\", \"2\", \"3\", \"4\", \"5\", \"6\", \"7\", \"8\", \"9\", \"10\", \"11\", \"12\", \"13\", \"14\", \"15\", \"16\", \"17\", \"18\", \"19\", \"20\", \"21\", \"22\", \"23\", \"24\", \"25\", \"26\", \"27\", \"28\", \"29\", \"30\", \"31\", \"32\", \"33\", \"34\", \"35\", \"36\", \"37\", \"38\", \"39\", \"40\", \"41\", \"42\", \"43\", \"44\", \"45\", \"46\", \"47\", \"48\", \"49\", \"50\", \"51\", \"55\"], \"mode\": \"lines\", \"name\": \"norm_macro_recall_max\", \"stepped\": true, \"type\": \"scatter\", \"data\": [0.6138916419837473, 0.6138916419837473, 0.6138916419837473, 0.6138916419837473, 0.6279628490417963, 0.6279628490417963, 0.6279628490417963, 0.6279628490417963, 0.6279628490417963, 0.6279628490417963, 0.6279628490417963, 0.6279628490417963, 0.6279628490417963, 0.6279628490417963, 0.6279628490417963, 0.6279628490417963, 0.6279628490417963, 0.6279628490417963, 0.6279628490417963, 0.6279628490417963, 0.6279628490417963, 0.6279628490417963, 0.6279628490417963, 0.6279628490417963, 0.6279628490417963, 0.6279628490417963, 0.6279628490417963, 0.6279628490417963, 0.6279628490417963, 0.6279628490417963, 0.6279628490417963, 0.6417465570491887, 0.6417465570491887, 0.6417465570491887, 0.6417465570491887, 0.6417465570491887, 0.6417465570491887, 0.6417465570491887, 0.6417465570491887, 0.6417465570491887, 0.6417465570491887, 0.6417465570491887, 0.6417465570491887, 0.6417465570491887, 0.6417465570491887, 0.6417465570491887, 0.6417465570491887, 0.6417465570491887, 0.6417465570491887, 0.6417465570491887, 0.6417465570491887, 0.6417465570491887, 0.6417465570491887]}], \"balanced_accuracy\": [{\"categories\": [\"0\", \"1\", \"2\", \"3\", \"4\", \"5\", \"6\", \"7\", \"8\", \"9\", \"10\", \"11\", \"12\", \"13\", \"14\", \"15\", \"16\", \"17\", \"18\", \"19\", \"20\", \"21\", \"22\", \"23\", \"24\", \"25\", \"26\", \"27\", \"28\", \"29\", \"30\", \"31\", \"32\", \"33\", \"34\", \"35\", \"36\", \"37\", \"38\", \"39\", \"40\", \"41\", \"42\", \"43\", \"44\", \"45\", \"46\", \"47\", \"48\", \"49\", \"50\", \"51\", \"55\"], \"mode\": \"markers\", \"name\": \"balanced_accuracy\", \"stepped\": false, \"type\": \"scatter\", \"data\": [0.8069458209918737, 0.7833175837320574, 0.7836206045416572, 0.6889910761752868, 0.8139814245208982, 0.766430273917116, 0.7678106693501431, 0.7846807549175969, 0.6885324422166528, 0.6557719298245613, 0.6651382623224728, 0.747196438064859, 0.7962415192020454, 0.7733196786157313, 0.7767661356674515, 0.5252898249411408, 0.6729250778461304, 0.7665438786359837, 0.7887731101744259, 0.7917290701501227, 0.7856718152704996, 0.758498139287613, 0.7695433976355028, 0.7641928052454368, 0.7896379047365889, 0.7775675077846131, 0.7833171027315764, 0.7992983690286322, 0.7061502715121136, 0.7983438235740867, 0.7706576415786942, 0.8208732785245942, 0.7883284568745095, 0.8171872167793219, 0.8023097864611024, 0.507484462418673, 0.7881124876585404, 0.7615361984506721, 0.7851980551125288, 0.8006305251765777, 0.7236647078554973, 0.770991050859472, 0.7988957368167895, 0.793029780891623, 0.7991358161818688, 0.7916880300498721, 0.7904273024733551, 0.7950227557530188, 0.7901191710336446, 0.7993400008860535, 0.6858034100402521, 0.7790762575630997, 0.8004140749601276]}, {\"categories\": [\"0\", \"1\", \"2\", \"3\", \"4\", \"5\", \"6\", \"7\", \"8\", \"9\", \"10\", \"11\", \"12\", \"13\", \"14\", \"15\", \"16\", \"17\", \"18\", \"19\", \"20\", \"21\", \"22\", \"23\", \"24\", \"25\", \"26\", \"27\", \"28\", \"29\", \"30\", \"31\", \"32\", \"33\", \"34\", \"35\", \"36\", \"37\", \"38\", \"39\", \"40\", \"41\", \"42\", \"43\", \"44\", \"45\", \"46\", \"47\", \"48\", \"49\", \"50\", \"51\", \"55\"], \"mode\": \"lines\", \"name\": \"balanced_accuracy_max\", \"stepped\": true, \"type\": \"scatter\", \"data\": [0.8069458209918737, 0.8069458209918737, 0.8069458209918737, 0.8069458209918737, 0.8139814245208982, 0.8139814245208982, 0.8139814245208982, 0.8139814245208982, 0.8139814245208982, 0.8139814245208982, 0.8139814245208982, 0.8139814245208982, 0.8139814245208982, 0.8139814245208982, 0.8139814245208982, 0.8139814245208982, 0.8139814245208982, 0.8139814245208982, 0.8139814245208982, 0.8139814245208982, 0.8139814245208982, 0.8139814245208982, 0.8139814245208982, 0.8139814245208982, 0.8139814245208982, 0.8139814245208982, 0.8139814245208982, 0.8139814245208982, 0.8139814245208982, 0.8139814245208982, 0.8139814245208982, 0.8208732785245942, 0.8208732785245942, 0.8208732785245942, 0.8208732785245942, 0.8208732785245942, 0.8208732785245942, 0.8208732785245942, 0.8208732785245942, 0.8208732785245942, 0.8208732785245942, 0.8208732785245942, 0.8208732785245942, 0.8208732785245942, 0.8208732785245942, 0.8208732785245942, 0.8208732785245942, 0.8208732785245942, 0.8208732785245942, 0.8208732785245942, 0.8208732785245942, 0.8208732785245942, 0.8208732785245942]}], \"precision_score_macro\": [{\"categories\": [\"0\", \"1\", \"2\", \"3\", \"4\", \"5\", \"6\", \"7\", \"8\", \"9\", \"10\", \"11\", \"12\", \"13\", \"14\", \"15\", \"16\", \"17\", \"18\", \"19\", \"20\", \"21\", \"22\", \"23\", \"24\", \"25\", \"26\", \"27\", \"28\", \"29\", \"30\", \"31\", \"32\", \"33\", \"34\", \"35\", \"36\", \"37\", \"38\", \"39\", \"40\", \"41\", \"42\", \"43\", \"44\", \"45\", \"46\", \"47\", \"48\", \"49\", \"50\", \"51\", \"55\"], \"mode\": \"markers\", \"name\": \"precision_score_macro\", \"stepped\": false, \"type\": \"scatter\", \"data\": [0.8478050569440729, 0.8122953918062613, 0.8057211190792426, 0.8321438188248533, 0.8189535181021249, 0.799692862756364, 0.7850432088675796, 0.854510915594834, 0.8038350707263751, 0.744199567364529, 0.8198695106048929, 0.83891064299685, 0.7799572350307644, 0.7918315912860266, 0.7729625499405247, 0.5712756934053786, 0.7343224669855105, 0.7612862899484416, 0.7771055080110807, 0.8247982357078467, 0.8032220703273335, 0.7618946887081899, 0.7792921947333712, 0.818567821067821, 0.8015294391281234, 0.766370655703086, 0.7960335687704108, 0.8285837452656674, 0.8085275538637606, 0.8381973484094132, 0.8088417767079094, 0.80514775443568, 0.8098480803457919, 0.8033321283263234, 0.7919683358150851, 0.4177015915119363, 0.8408627858832032, 0.810579116399877, 0.8068115496250508, 0.8458306031536521, 0.7110614997747351, 0.8269372294372295, 0.828448653748997, 0.838705498725916, 0.8135647900493439, 0.8177321845456857, 0.8112391774891774, 0.8339314423729125, 0.7878360325156664, 0.8139836911118374, 0.8151216542078611, 0.8003673477552196, 0.8425131238493307]}, {\"categories\": [\"0\", \"1\", \"2\", \"3\", \"4\", \"5\", \"6\", \"7\", \"8\", \"9\", \"10\", \"11\", \"12\", \"13\", \"14\", \"15\", \"16\", \"17\", \"18\", \"19\", \"20\", \"21\", \"22\", \"23\", \"24\", \"25\", \"26\", \"27\", \"28\", \"29\", \"30\", \"31\", \"32\", \"33\", \"34\", \"35\", \"36\", \"37\", \"38\", \"39\", \"40\", \"41\", \"42\", \"43\", \"44\", \"45\", \"46\", \"47\", \"48\", \"49\", \"50\", \"51\", \"55\"], \"mode\": \"lines\", \"name\": \"precision_score_macro_max\", \"stepped\": true, \"type\": \"scatter\", \"data\": [0.8478050569440729, 0.8478050569440729, 0.8478050569440729, 0.8478050569440729, 0.8478050569440729, 0.8478050569440729, 0.8478050569440729, 0.854510915594834, 0.854510915594834, 0.854510915594834, 0.854510915594834, 0.854510915594834, 0.854510915594834, 0.854510915594834, 0.854510915594834, 0.854510915594834, 0.854510915594834, 0.854510915594834, 0.854510915594834, 0.854510915594834, 0.854510915594834, 0.854510915594834, 0.854510915594834, 0.854510915594834, 0.854510915594834, 0.854510915594834, 0.854510915594834, 0.854510915594834, 0.854510915594834, 0.854510915594834, 0.854510915594834, 0.854510915594834, 0.854510915594834, 0.854510915594834, 0.854510915594834, 0.854510915594834, 0.854510915594834, 0.854510915594834, 0.854510915594834, 0.854510915594834, 0.854510915594834, 0.854510915594834, 0.854510915594834, 0.854510915594834, 0.854510915594834, 0.854510915594834, 0.854510915594834, 0.854510915594834, 0.854510915594834, 0.854510915594834, 0.854510915594834, 0.854510915594834, 0.854510915594834]}], \"f1_score_weighted\": [{\"categories\": [\"0\", \"1\", \"2\", \"3\", \"4\", \"5\", \"6\", \"7\", \"8\", \"9\", \"10\", \"11\", \"12\", \"13\", \"14\", \"15\", \"16\", \"17\", \"18\", \"19\", \"20\", \"21\", \"22\", \"23\", \"24\", \"25\", \"26\", \"27\", \"28\", \"29\", \"30\", \"31\", \"32\", \"33\", \"34\", \"35\", \"36\", \"37\", \"38\", \"39\", \"40\", \"41\", \"42\", \"43\", \"44\", \"45\", \"46\", \"47\", \"48\", \"49\", \"50\", \"51\", \"55\"], \"mode\": \"markers\", \"name\": \"f1_score_weighted\", \"stepped\": false, \"type\": \"scatter\", \"data\": [0.850686174915935, 0.8303399291049066, 0.832713689722748, 0.7694515446523843, 0.8521689475649333, 0.8278761748610746, 0.8267612595547493, 0.8459560202723428, 0.7636270205605886, 0.727050720691546, 0.7456817995465396, 0.8191452515701826, 0.8195732733237723, 0.8243683626278884, 0.802940096308945, 0.6036852560964625, 0.7567224063069571, 0.8071443628611945, 0.8201814907596576, 0.8468130205328143, 0.8359793939467034, 0.7961737997243745, 0.8220713881467393, 0.8291042480666982, 0.8425054128533823, 0.8148719225572407, 0.8377664323262245, 0.8424456111296561, 0.7846808054185869, 0.8515050464247128, 0.8192171029189467, 0.850790963465697, 0.8347072368812091, 0.8472598532872606, 0.8387608751401855, 0.5773929455953718, 0.8458800231801493, 0.824999410664703, 0.8400893319717933, 0.8531567536645849, 0.7545593537182975, 0.8359217923019674, 0.8519710775428306, 0.8503524500432349, 0.8419567992330755, 0.8473681429265294, 0.8436100310961232, 0.8477147083335236, 0.8395356675531229, 0.8488628233763755, 0.7593244385881789, 0.8308959671947086, 0.8538307273880088]}, {\"categories\": [\"0\", \"1\", \"2\", \"3\", \"4\", \"5\", \"6\", \"7\", \"8\", \"9\", \"10\", \"11\", \"12\", \"13\", \"14\", \"15\", \"16\", \"17\", \"18\", \"19\", \"20\", \"21\", \"22\", \"23\", \"24\", \"25\", \"26\", \"27\", \"28\", \"29\", \"30\", \"31\", \"32\", \"33\", \"34\", \"35\", \"36\", \"37\", \"38\", \"39\", \"40\", \"41\", \"42\", \"43\", \"44\", \"45\", \"46\", \"47\", \"48\", \"49\", \"50\", \"51\", \"55\"], \"mode\": \"lines\", \"name\": \"f1_score_weighted_max\", \"stepped\": true, \"type\": \"scatter\", \"data\": [0.850686174915935, 0.850686174915935, 0.850686174915935, 0.850686174915935, 0.8521689475649333, 0.8521689475649333, 0.8521689475649333, 0.8521689475649333, 0.8521689475649333, 0.8521689475649333, 0.8521689475649333, 0.8521689475649333, 0.8521689475649333, 0.8521689475649333, 0.8521689475649333, 0.8521689475649333, 0.8521689475649333, 0.8521689475649333, 0.8521689475649333, 0.8521689475649333, 0.8521689475649333, 0.8521689475649333, 0.8521689475649333, 0.8521689475649333, 0.8521689475649333, 0.8521689475649333, 0.8521689475649333, 0.8521689475649333, 0.8521689475649333, 0.8521689475649333, 0.8521689475649333, 0.8521689475649333, 0.8521689475649333, 0.8521689475649333, 0.8521689475649333, 0.8521689475649333, 0.8521689475649333, 0.8521689475649333, 0.8521689475649333, 0.8531567536645849, 0.8531567536645849, 0.8531567536645849, 0.8531567536645849, 0.8531567536645849, 0.8531567536645849, 0.8531567536645849, 0.8531567536645849, 0.8531567536645849, 0.8531567536645849, 0.8531567536645849, 0.8531567536645849, 0.8531567536645849, 0.8538307273880088]}], \"AUC_micro\": [{\"categories\": [\"0\", \"1\", \"2\", \"3\", \"4\", \"5\", \"6\", \"7\", \"8\", \"9\", \"10\", \"11\", \"12\", \"13\", \"14\", \"15\", \"16\", \"17\", \"18\", \"19\", \"20\", \"21\", \"22\", \"23\", \"24\", \"25\", \"26\", \"27\", \"28\", \"29\", \"30\", \"31\", \"32\", \"33\", \"34\", \"35\", \"36\", \"37\", \"38\", \"39\", \"40\", \"41\", \"42\", \"43\", \"44\", \"45\", \"46\", \"47\", \"48\", \"49\", \"50\", \"51\", \"55\"], \"mode\": \"markers\", \"name\": \"AUC_micro\", \"stepped\": false, \"type\": \"scatter\", \"data\": [0.9086785572730877, 0.8963258026159334, 0.8998773946360152, 0.8788599550799313, 0.9179904875148633, 0.8981629673668913, 0.8986727440877263, 0.9089357907253269, 0.8674974237019422, 0.7949458316818602, 0.8677352358303606, 0.8923355793367683, 0.8893491874752281, 0.8880002642356983, 0.8689340731932884, 0.6658039371119038, 0.8780568106751222, 0.8434839476813318, 0.8831679217862334, 0.9059515127493725, 0.8978775267538645, 0.8569614215880567, 0.8903569824283262, 0.9068384198705244, 0.9036551724137931, 0.8869418681463866, 0.9108773946360154, 0.9060957854406132, 0.8932322631787555, 0.9106161976483023, 0.9003861804729819, 0.9164095653322765, 0.9035928127890077, 0.903674725855463, 0.9094427269124058, 0.7899242964724534, 0.9165830360681728, 0.9096941471792837, 0.9176863522261858, 0.9156395825075968, 0.8300708151671291, 0.9040996168582376, 0.913376403752147, 0.914740916897873, 0.9134563350508655, 0.9185674461619765, 0.911290659268067, 0.9181307966706301, 0.9081307966706301, 0.9154017703791781, 0.8717586206896553, 0.8864447086801427, 0.923526489628749]}, {\"categories\": [\"0\", \"1\", \"2\", \"3\", \"4\", \"5\", \"6\", \"7\", \"8\", \"9\", \"10\", \"11\", \"12\", \"13\", \"14\", \"15\", \"16\", \"17\", \"18\", \"19\", \"20\", \"21\", \"22\", \"23\", \"24\", \"25\", \"26\", \"27\", \"28\", \"29\", \"30\", \"31\", \"32\", \"33\", \"34\", \"35\", \"36\", \"37\", \"38\", \"39\", \"40\", \"41\", \"42\", \"43\", \"44\", \"45\", \"46\", \"47\", \"48\", \"49\", \"50\", \"51\", \"55\"], \"mode\": \"lines\", \"name\": \"AUC_micro_max\", \"stepped\": true, \"type\": \"scatter\", \"data\": [0.9086785572730877, 0.9086785572730877, 0.9086785572730877, 0.9086785572730877, 0.9179904875148633, 0.9179904875148633, 0.9179904875148633, 0.9179904875148633, 0.9179904875148633, 0.9179904875148633, 0.9179904875148633, 0.9179904875148633, 0.9179904875148633, 0.9179904875148633, 0.9179904875148633, 0.9179904875148633, 0.9179904875148633, 0.9179904875148633, 0.9179904875148633, 0.9179904875148633, 0.9179904875148633, 0.9179904875148633, 0.9179904875148633, 0.9179904875148633, 0.9179904875148633, 0.9179904875148633, 0.9179904875148633, 0.9179904875148633, 0.9179904875148633, 0.9179904875148633, 0.9179904875148633, 0.9179904875148633, 0.9179904875148633, 0.9179904875148633, 0.9179904875148633, 0.9179904875148633, 0.9179904875148633, 0.9179904875148633, 0.9179904875148633, 0.9179904875148633, 0.9179904875148633, 0.9179904875148633, 0.9179904875148633, 0.9179904875148633, 0.9179904875148633, 0.9185674461619765, 0.9185674461619765, 0.9185674461619765, 0.9185674461619765, 0.9185674461619765, 0.9185674461619765, 0.9185674461619765, 0.923526489628749]}], \"average_precision_score_weighted\": [{\"categories\": [\"0\", \"1\", \"2\", \"3\", \"4\", \"5\", \"6\", \"7\", \"8\", \"9\", \"10\", \"11\", \"12\", \"13\", \"14\", \"15\", \"16\", \"17\", \"18\", \"19\", \"20\", \"21\", \"22\", \"23\", \"24\", \"25\", \"26\", \"27\", \"28\", \"29\", \"30\", \"31\", \"32\", \"33\", \"34\", \"35\", \"36\", \"37\", \"38\", \"39\", \"40\", \"41\", \"42\", \"43\", \"44\", \"45\", \"46\", \"47\", \"48\", \"49\", \"50\", \"51\", \"55\"], \"mode\": \"markers\", \"name\": \"average_precision_score_weighted\", \"stepped\": false, \"type\": \"scatter\", \"data\": [0.9156642734629606, 0.9101945312982677, 0.915158152539901, 0.9061678752725764, 0.9282190392889585, 0.9133729551454929, 0.9038573122098809, 0.9245912435950672, 0.8981901760296532, 0.7932695760707114, 0.8992467800378868, 0.9104800733573046, 0.9154134073475226, 0.8975799746876097, 0.89650683346478, 0.6517522324004078, 0.9066823967873907, 0.8521374450305833, 0.8935515473736038, 0.9216228855737671, 0.904436019497644, 0.8885964411672216, 0.8936484491376039, 0.9178467327718213, 0.9135352025036605, 0.903757878762862, 0.9171633280643358, 0.9148213608730371, 0.9128804795037828, 0.9199684321765119, 0.9042477604082901, 0.9300607500081289, 0.9198348667330389, 0.9270440365944866, 0.9265686717654564, 0.8074009440458187, 0.9301572175623892, 0.9181030359864399, 0.9285150040718978, 0.9271263367357628, 0.8707296129722539, 0.9184453717910326, 0.9227296436270318, 0.926138223871849, 0.9210781297651678, 0.9301708751010123, 0.9223409349034959, 0.9299004430582689, 0.918688042164785, 0.9271413172275068, 0.904932588114128, 0.8972746224939776, 0.9368448268116968]}, {\"categories\": [\"0\", \"1\", \"2\", \"3\", \"4\", \"5\", \"6\", \"7\", \"8\", \"9\", \"10\", \"11\", \"12\", \"13\", \"14\", \"15\", \"16\", \"17\", \"18\", \"19\", \"20\", \"21\", \"22\", \"23\", \"24\", \"25\", \"26\", \"27\", \"28\", \"29\", \"30\", \"31\", \"32\", \"33\", \"34\", \"35\", \"36\", \"37\", \"38\", \"39\", \"40\", \"41\", \"42\", \"43\", \"44\", \"45\", \"46\", \"47\", \"48\", \"49\", \"50\", \"51\", \"55\"], \"mode\": \"lines\", \"name\": \"average_precision_score_weighted_max\", \"stepped\": true, \"type\": \"scatter\", \"data\": [0.9156642734629606, 0.9156642734629606, 0.9156642734629606, 0.9156642734629606, 0.9282190392889585, 0.9282190392889585, 0.9282190392889585, 0.9282190392889585, 0.9282190392889585, 0.9282190392889585, 0.9282190392889585, 0.9282190392889585, 0.9282190392889585, 0.9282190392889585, 0.9282190392889585, 0.9282190392889585, 0.9282190392889585, 0.9282190392889585, 0.9282190392889585, 0.9282190392889585, 0.9282190392889585, 0.9282190392889585, 0.9282190392889585, 0.9282190392889585, 0.9282190392889585, 0.9282190392889585, 0.9282190392889585, 0.9282190392889585, 0.9282190392889585, 0.9282190392889585, 0.9282190392889585, 0.9300607500081289, 0.9300607500081289, 0.9300607500081289, 0.9300607500081289, 0.9300607500081289, 0.9301572175623892, 0.9301572175623892, 0.9301572175623892, 0.9301572175623892, 0.9301572175623892, 0.9301572175623892, 0.9301572175623892, 0.9301572175623892, 0.9301572175623892, 0.9301708751010123, 0.9301708751010123, 0.9301708751010123, 0.9301708751010123, 0.9301708751010123, 0.9301708751010123, 0.9301708751010123, 0.9368448268116968]}], \"f1_score_macro\": [{\"categories\": [\"0\", \"1\", \"2\", \"3\", \"4\", \"5\", \"6\", \"7\", \"8\", \"9\", \"10\", \"11\", \"12\", \"13\", \"14\", \"15\", \"16\", \"17\", \"18\", \"19\", \"20\", \"21\", \"22\", \"23\", \"24\", \"25\", \"26\", \"27\", \"28\", \"29\", \"30\", \"31\", \"32\", \"33\", \"34\", \"35\", \"36\", \"37\", \"38\", \"39\", \"40\", \"41\", \"42\", \"43\", \"44\", \"45\", \"46\", \"47\", \"48\", \"49\", \"50\", \"51\", \"55\"], \"mode\": \"markers\", \"name\": \"f1_score_macro\", \"stepped\": false, \"type\": \"scatter\", \"data\": [0.816001336152938, 0.7913782065467154, 0.7827708453693962, 0.6979676553312946, 0.8087305457835272, 0.7744055718409552, 0.7706791429141342, 0.795784494250495, 0.6947887304289988, 0.6537657400578619, 0.6682898810365315, 0.7616216449235781, 0.7768275194185142, 0.7745347255530495, 0.7652356074486287, 0.5186026879389158, 0.6723537906559228, 0.7587799135488538, 0.7757460210042604, 0.7977564109326541, 0.7874891392608875, 0.747514596217894, 0.770149411577378, 0.7730836879667798, 0.790971340326136, 0.7653491661461512, 0.7852448080695286, 0.8066559271430982, 0.7206817041820295, 0.8059839227734941, 0.7708853074253242, 0.8067268969317023, 0.7887762828580905, 0.8035443528464123, 0.7919964294964295, 0.4357605752574485, 0.7994604875783365, 0.7728225100587801, 0.790991073517487, 0.8088561065469598, 0.7009773254967764, 0.7804078626342681, 0.804030206337018, 0.8019451740288028, 0.8021461886536256, 0.7986662718460034, 0.7954792777696734, 0.8026544936691457, 0.7858725230550325, 0.8015439357050406, 0.6967108807599703, 0.7812557880016662, 0.8092079211282771]}, {\"categories\": [\"0\", \"1\", \"2\", \"3\", \"4\", \"5\", \"6\", \"7\", \"8\", \"9\", \"10\", \"11\", \"12\", \"13\", \"14\", \"15\", \"16\", \"17\", \"18\", \"19\", \"20\", \"21\", \"22\", \"23\", \"24\", \"25\", \"26\", \"27\", \"28\", \"29\", \"30\", \"31\", \"32\", \"33\", \"34\", \"35\", \"36\", \"37\", \"38\", \"39\", \"40\", \"41\", \"42\", \"43\", \"44\", \"45\", \"46\", \"47\", \"48\", \"49\", \"50\", \"51\", \"55\"], \"mode\": \"lines\", \"name\": \"f1_score_macro_max\", \"stepped\": true, \"type\": \"scatter\", \"data\": [0.816001336152938, 0.816001336152938, 0.816001336152938, 0.816001336152938, 0.816001336152938, 0.816001336152938, 0.816001336152938, 0.816001336152938, 0.816001336152938, 0.816001336152938, 0.816001336152938, 0.816001336152938, 0.816001336152938, 0.816001336152938, 0.816001336152938, 0.816001336152938, 0.816001336152938, 0.816001336152938, 0.816001336152938, 0.816001336152938, 0.816001336152938, 0.816001336152938, 0.816001336152938, 0.816001336152938, 0.816001336152938, 0.816001336152938, 0.816001336152938, 0.816001336152938, 0.816001336152938, 0.816001336152938, 0.816001336152938, 0.816001336152938, 0.816001336152938, 0.816001336152938, 0.816001336152938, 0.816001336152938, 0.816001336152938, 0.816001336152938, 0.816001336152938, 0.816001336152938, 0.816001336152938, 0.816001336152938, 0.816001336152938, 0.816001336152938, 0.816001336152938, 0.816001336152938, 0.816001336152938, 0.816001336152938, 0.816001336152938, 0.816001336152938, 0.816001336152938, 0.816001336152938, 0.816001336152938]}], \"average_precision_score_micro\": [{\"categories\": [\"0\", \"1\", \"2\", \"3\", \"4\", \"5\", \"6\", \"7\", \"8\", \"9\", \"10\", \"11\", \"12\", \"13\", \"14\", \"15\", \"16\", \"17\", \"18\", \"19\", \"20\", \"21\", \"22\", \"23\", \"24\", \"25\", \"26\", \"27\", \"28\", \"29\", \"30\", \"31\", \"32\", \"33\", \"34\", \"35\", \"36\", \"37\", \"38\", \"39\", \"40\", \"41\", \"42\", \"43\", \"44\", \"45\", \"46\", \"47\", \"48\", \"49\", \"50\", \"51\", \"55\"], \"mode\": \"markers\", \"name\": \"average_precision_score_micro\", \"stepped\": false, \"type\": \"scatter\", \"data\": [0.9103669076530551, 0.9004445736495577, 0.9033528297067546, 0.883929867373135, 0.9207030608693838, 0.9057908257667249, 0.8969783986138762, 0.9138323385066636, 0.8733465510864029, 0.7813566999467227, 0.8716642035333535, 0.8952513104283216, 0.8950187944648039, 0.8940759885205919, 0.8780436333560614, 0.6617596005896169, 0.8869168213079481, 0.8401214487834899, 0.8863188820823231, 0.9061806910640101, 0.8985948261705886, 0.8614678120375577, 0.8904864347458602, 0.9098050740847554, 0.8996496232489364, 0.8914836602020276, 0.9099891704208385, 0.9089734653571823, 0.8969184327901969, 0.9164118316058982, 0.8982137085677845, 0.9214394004845319, 0.9057198298759083, 0.9064535492820734, 0.9155650063417425, 0.7992166359282282, 0.9202458655760928, 0.9153650869208357, 0.9211120771665076, 0.920935988427456, 0.8393014356809292, 0.9071772438699581, 0.9165908640512532, 0.9187606792671833, 0.9181264810800069, 0.9215180851264021, 0.9154362180080311, 0.9218599439716197, 0.9063871221907517, 0.9204291400907504, 0.8828122925580255, 0.8929221596231471, 0.9280593503479453]}, {\"categories\": [\"0\", \"1\", \"2\", \"3\", \"4\", \"5\", \"6\", \"7\", \"8\", \"9\", \"10\", \"11\", \"12\", \"13\", \"14\", \"15\", \"16\", \"17\", \"18\", \"19\", \"20\", \"21\", \"22\", \"23\", \"24\", \"25\", \"26\", \"27\", \"28\", \"29\", \"30\", \"31\", \"32\", \"33\", \"34\", \"35\", \"36\", \"37\", \"38\", \"39\", \"40\", \"41\", \"42\", \"43\", \"44\", \"45\", \"46\", \"47\", \"48\", \"49\", \"50\", \"51\", \"55\"], \"mode\": \"lines\", \"name\": \"average_precision_score_micro_max\", \"stepped\": true, \"type\": \"scatter\", \"data\": [0.9103669076530551, 0.9103669076530551, 0.9103669076530551, 0.9103669076530551, 0.9207030608693838, 0.9207030608693838, 0.9207030608693838, 0.9207030608693838, 0.9207030608693838, 0.9207030608693838, 0.9207030608693838, 0.9207030608693838, 0.9207030608693838, 0.9207030608693838, 0.9207030608693838, 0.9207030608693838, 0.9207030608693838, 0.9207030608693838, 0.9207030608693838, 0.9207030608693838, 0.9207030608693838, 0.9207030608693838, 0.9207030608693838, 0.9207030608693838, 0.9207030608693838, 0.9207030608693838, 0.9207030608693838, 0.9207030608693838, 0.9207030608693838, 0.9207030608693838, 0.9207030608693838, 0.9214394004845319, 0.9214394004845319, 0.9214394004845319, 0.9214394004845319, 0.9214394004845319, 0.9214394004845319, 0.9214394004845319, 0.9214394004845319, 0.9214394004845319, 0.9214394004845319, 0.9214394004845319, 0.9214394004845319, 0.9214394004845319, 0.9214394004845319, 0.9215180851264021, 0.9215180851264021, 0.9218599439716197, 0.9218599439716197, 0.9218599439716197, 0.9218599439716197, 0.9218599439716197, 0.9280593503479453]}], \"recall_score_micro\": [{\"categories\": [\"0\", \"1\", \"2\", \"3\", \"4\", \"5\", \"6\", \"7\", \"8\", \"9\", \"10\", \"11\", \"12\", \"13\", \"14\", \"15\", \"16\", \"17\", \"18\", \"19\", \"20\", \"21\", \"22\", \"23\", \"24\", \"25\", \"26\", \"27\", \"28\", \"29\", \"30\", \"31\", \"32\", \"33\", \"34\", \"35\", \"36\", \"37\", \"38\", \"39\", \"40\", \"41\", \"42\", \"43\", \"44\", \"45\", \"46\", \"47\", \"48\", \"49\", \"50\", \"51\", \"55\"], \"mode\": \"markers\", \"name\": \"recall_score_micro\", \"stepped\": false, \"type\": \"scatter\", \"data\": [0.8528735632183908, 0.8294252873563218, 0.8294252873563218, 0.7959770114942528, 0.8491954022988507, 0.8295402298850576, 0.825977011494253, 0.8529885057471265, 0.7859770114942529, 0.7458620689655173, 0.779080459770115, 0.8324137931034483, 0.8126436781609195, 0.825977011494253, 0.7956321839080461, 0.6285057471264367, 0.782528735632184, 0.8022988505747127, 0.8160919540229885, 0.8493103448275863, 0.835977011494253, 0.7893103448275862, 0.8227586206896552, 0.835977011494253, 0.8427586206896553, 0.8094252873563219, 0.8391954022988506, 0.8426436781609196, 0.7991954022988506, 0.8526436781609196, 0.8194252873563219, 0.8459770114942529, 0.8360919540229886, 0.8425287356321839, 0.8326436781609197, 0.6755172413793102, 0.8495402298850575, 0.8293103448275863, 0.8427586206896553, 0.8560919540229885, 0.7455172413793102, 0.8427586206896553, 0.8528735632183908, 0.8528735632183908, 0.8426436781609196, 0.8495402298850575, 0.8460919540229886, 0.849425287356322, 0.8360919540229886, 0.849425287356322, 0.785632183908046, 0.8326436781609197, 0.8560919540229885]}, {\"categories\": [\"0\", \"1\", \"2\", \"3\", \"4\", \"5\", \"6\", \"7\", \"8\", \"9\", \"10\", \"11\", \"12\", \"13\", \"14\", \"15\", \"16\", \"17\", \"18\", \"19\", \"20\", \"21\", \"22\", \"23\", \"24\", \"25\", \"26\", \"27\", \"28\", \"29\", \"30\", \"31\", \"32\", \"33\", \"34\", \"35\", \"36\", \"37\", \"38\", \"39\", \"40\", \"41\", \"42\", \"43\", \"44\", \"45\", \"46\", \"47\", \"48\", \"49\", \"50\", \"51\", \"55\"], \"mode\": \"lines\", \"name\": \"recall_score_micro_max\", \"stepped\": true, \"type\": \"scatter\", \"data\": [0.8528735632183908, 0.8528735632183908, 0.8528735632183908, 0.8528735632183908, 0.8528735632183908, 0.8528735632183908, 0.8528735632183908, 0.8529885057471265, 0.8529885057471265, 0.8529885057471265, 0.8529885057471265, 0.8529885057471265, 0.8529885057471265, 0.8529885057471265, 0.8529885057471265, 0.8529885057471265, 0.8529885057471265, 0.8529885057471265, 0.8529885057471265, 0.8529885057471265, 0.8529885057471265, 0.8529885057471265, 0.8529885057471265, 0.8529885057471265, 0.8529885057471265, 0.8529885057471265, 0.8529885057471265, 0.8529885057471265, 0.8529885057471265, 0.8529885057471265, 0.8529885057471265, 0.8529885057471265, 0.8529885057471265, 0.8529885057471265, 0.8529885057471265, 0.8529885057471265, 0.8529885057471265, 0.8529885057471265, 0.8529885057471265, 0.8560919540229885, 0.8560919540229885, 0.8560919540229885, 0.8560919540229885, 0.8560919540229885, 0.8560919540229885, 0.8560919540229885, 0.8560919540229885, 0.8560919540229885, 0.8560919540229885, 0.8560919540229885, 0.8560919540229885, 0.8560919540229885, 0.8560919540229885]}], \"precision_score_micro\": [{\"categories\": [\"0\", \"1\", \"2\", \"3\", \"4\", \"5\", \"6\", \"7\", \"8\", \"9\", \"10\", \"11\", \"12\", \"13\", \"14\", \"15\", \"16\", \"17\", \"18\", \"19\", \"20\", \"21\", \"22\", \"23\", \"24\", \"25\", \"26\", \"27\", \"28\", \"29\", \"30\", \"31\", \"32\", \"33\", \"34\", \"35\", \"36\", \"37\", \"38\", \"39\", \"40\", \"41\", \"42\", \"43\", \"44\", \"45\", \"46\", \"47\", \"48\", \"49\", \"50\", \"51\", \"55\"], \"mode\": \"markers\", \"name\": \"precision_score_micro\", \"stepped\": false, \"type\": \"scatter\", \"data\": [0.8528735632183908, 0.8294252873563218, 0.8294252873563218, 0.7959770114942528, 0.8491954022988507, 0.8295402298850576, 0.825977011494253, 0.8529885057471265, 0.7859770114942529, 0.7458620689655173, 0.779080459770115, 0.8324137931034483, 0.8126436781609195, 0.825977011494253, 0.7956321839080461, 0.6285057471264367, 0.782528735632184, 0.8022988505747127, 0.8160919540229885, 0.8493103448275863, 0.835977011494253, 0.7893103448275862, 0.8227586206896552, 0.835977011494253, 0.8427586206896553, 0.8094252873563219, 0.8391954022988506, 0.8426436781609196, 0.7991954022988506, 0.8526436781609196, 0.8194252873563219, 0.8459770114942529, 0.8360919540229886, 0.8425287356321839, 0.8326436781609197, 0.6755172413793102, 0.8495402298850575, 0.8293103448275863, 0.8427586206896553, 0.8560919540229885, 0.7455172413793102, 0.8427586206896553, 0.8528735632183908, 0.8528735632183908, 0.8426436781609196, 0.8495402298850575, 0.8460919540229886, 0.849425287356322, 0.8360919540229886, 0.849425287356322, 0.785632183908046, 0.8326436781609197, 0.8560919540229885]}, {\"categories\": [\"0\", \"1\", \"2\", \"3\", \"4\", \"5\", \"6\", \"7\", \"8\", \"9\", \"10\", \"11\", \"12\", \"13\", \"14\", \"15\", \"16\", \"17\", \"18\", \"19\", \"20\", \"21\", \"22\", \"23\", \"24\", \"25\", \"26\", \"27\", \"28\", \"29\", \"30\", \"31\", \"32\", \"33\", \"34\", \"35\", \"36\", \"37\", \"38\", \"39\", \"40\", \"41\", \"42\", \"43\", \"44\", \"45\", \"46\", \"47\", \"48\", \"49\", \"50\", \"51\", \"55\"], \"mode\": \"lines\", \"name\": \"precision_score_micro_max\", \"stepped\": true, \"type\": \"scatter\", \"data\": [0.8528735632183908, 0.8528735632183908, 0.8528735632183908, 0.8528735632183908, 0.8528735632183908, 0.8528735632183908, 0.8528735632183908, 0.8529885057471265, 0.8529885057471265, 0.8529885057471265, 0.8529885057471265, 0.8529885057471265, 0.8529885057471265, 0.8529885057471265, 0.8529885057471265, 0.8529885057471265, 0.8529885057471265, 0.8529885057471265, 0.8529885057471265, 0.8529885057471265, 0.8529885057471265, 0.8529885057471265, 0.8529885057471265, 0.8529885057471265, 0.8529885057471265, 0.8529885057471265, 0.8529885057471265, 0.8529885057471265, 0.8529885057471265, 0.8529885057471265, 0.8529885057471265, 0.8529885057471265, 0.8529885057471265, 0.8529885057471265, 0.8529885057471265, 0.8529885057471265, 0.8529885057471265, 0.8529885057471265, 0.8529885057471265, 0.8560919540229885, 0.8560919540229885, 0.8560919540229885, 0.8560919540229885, 0.8560919540229885, 0.8560919540229885, 0.8560919540229885, 0.8560919540229885, 0.8560919540229885, 0.8560919540229885, 0.8560919540229885, 0.8560919540229885, 0.8560919540229885, 0.8560919540229885]}], \"recall_score_macro\": [{\"categories\": [\"0\", \"1\", \"2\", \"3\", \"4\", \"5\", \"6\", \"7\", \"8\", \"9\", \"10\", \"11\", \"12\", \"13\", \"14\", \"15\", \"16\", \"17\", \"18\", \"19\", \"20\", \"21\", \"22\", \"23\", \"24\", \"25\", \"26\", \"27\", \"28\", \"29\", \"30\", \"31\", \"32\", \"33\", \"34\", \"35\", \"36\", \"37\", \"38\", \"39\", \"40\", \"41\", \"42\", \"43\", \"44\", \"45\", \"46\", \"47\", \"48\", \"49\", \"50\", \"51\", \"55\"], \"mode\": \"markers\", \"name\": \"recall_score_macro\", \"stepped\": false, \"type\": \"scatter\", \"data\": [0.8069458209918737, 0.7833175837320574, 0.7836206045416572, 0.6889910761752868, 0.8139814245208982, 0.766430273917116, 0.7678106693501431, 0.7846807549175969, 0.6885324422166528, 0.6557719298245613, 0.6651382623224728, 0.747196438064859, 0.7962415192020454, 0.7733196786157313, 0.7767661356674515, 0.5252898249411408, 0.6729250778461304, 0.7665438786359837, 0.7887731101744259, 0.7917290701501227, 0.7856718152704996, 0.758498139287613, 0.7695433976355028, 0.7641928052454368, 0.7896379047365889, 0.7775675077846131, 0.7833171027315764, 0.7992983690286322, 0.7061502715121136, 0.7983438235740867, 0.7706576415786942, 0.8208732785245942, 0.7883284568745095, 0.8171872167793219, 0.8023097864611024, 0.507484462418673, 0.7881124876585404, 0.7615361984506721, 0.7851980551125288, 0.8006305251765777, 0.7236647078554973, 0.770991050859472, 0.7988957368167895, 0.793029780891623, 0.7991358161818688, 0.7916880300498721, 0.7904273024733551, 0.7950227557530188, 0.7901191710336446, 0.7993400008860535, 0.6858034100402521, 0.7790762575630997, 0.8004140749601276]}, {\"categories\": [\"0\", \"1\", \"2\", \"3\", \"4\", \"5\", \"6\", \"7\", \"8\", \"9\", \"10\", \"11\", \"12\", \"13\", \"14\", \"15\", \"16\", \"17\", \"18\", \"19\", \"20\", \"21\", \"22\", \"23\", \"24\", \"25\", \"26\", \"27\", \"28\", \"29\", \"30\", \"31\", \"32\", \"33\", \"34\", \"35\", \"36\", \"37\", \"38\", \"39\", \"40\", \"41\", \"42\", \"43\", \"44\", \"45\", \"46\", \"47\", \"48\", \"49\", \"50\", \"51\", \"55\"], \"mode\": \"lines\", \"name\": \"recall_score_macro_max\", \"stepped\": true, \"type\": \"scatter\", \"data\": [0.8069458209918737, 0.8069458209918737, 0.8069458209918737, 0.8069458209918737, 0.8139814245208982, 0.8139814245208982, 0.8139814245208982, 0.8139814245208982, 0.8139814245208982, 0.8139814245208982, 0.8139814245208982, 0.8139814245208982, 0.8139814245208982, 0.8139814245208982, 0.8139814245208982, 0.8139814245208982, 0.8139814245208982, 0.8139814245208982, 0.8139814245208982, 0.8139814245208982, 0.8139814245208982, 0.8139814245208982, 0.8139814245208982, 0.8139814245208982, 0.8139814245208982, 0.8139814245208982, 0.8139814245208982, 0.8139814245208982, 0.8139814245208982, 0.8139814245208982, 0.8139814245208982, 0.8208732785245942, 0.8208732785245942, 0.8208732785245942, 0.8208732785245942, 0.8208732785245942, 0.8208732785245942, 0.8208732785245942, 0.8208732785245942, 0.8208732785245942, 0.8208732785245942, 0.8208732785245942, 0.8208732785245942, 0.8208732785245942, 0.8208732785245942, 0.8208732785245942, 0.8208732785245942, 0.8208732785245942, 0.8208732785245942, 0.8208732785245942, 0.8208732785245942, 0.8208732785245942, 0.8208732785245942]}], \"accuracy\": [{\"categories\": [\"0\", \"1\", \"2\", \"3\", \"4\", \"5\", \"6\", \"7\", \"8\", \"9\", \"10\", \"11\", \"12\", \"13\", \"14\", \"15\", \"16\", \"17\", \"18\", \"19\", \"20\", \"21\", \"22\", \"23\", \"24\", \"25\", \"26\", \"27\", \"28\", \"29\", \"30\", \"31\", \"32\", \"33\", \"34\", \"35\", \"36\", \"37\", \"38\", \"39\", \"40\", \"41\", \"42\", \"43\", \"44\", \"45\", \"46\", \"47\", \"48\", \"49\", \"50\", \"51\", \"55\"], \"mode\": \"markers\", \"name\": \"accuracy\", \"stepped\": false, \"type\": \"scatter\", \"data\": [0.8528735632183908, 0.8294252873563218, 0.8294252873563218, 0.7959770114942528, 0.8491954022988507, 0.8295402298850576, 0.825977011494253, 0.8529885057471265, 0.7859770114942529, 0.7458620689655173, 0.779080459770115, 0.8324137931034483, 0.8126436781609195, 0.825977011494253, 0.7956321839080461, 0.6285057471264367, 0.782528735632184, 0.8022988505747127, 0.8160919540229885, 0.8493103448275863, 0.835977011494253, 0.7893103448275862, 0.8227586206896552, 0.835977011494253, 0.8427586206896553, 0.8094252873563219, 0.8391954022988506, 0.8426436781609196, 0.7991954022988506, 0.8526436781609196, 0.8194252873563219, 0.8459770114942529, 0.8360919540229886, 0.8425287356321839, 0.8326436781609197, 0.6755172413793102, 0.8495402298850575, 0.8293103448275863, 0.8427586206896553, 0.8560919540229885, 0.7455172413793102, 0.8427586206896553, 0.8528735632183908, 0.8528735632183908, 0.8426436781609196, 0.8495402298850575, 0.8460919540229886, 0.849425287356322, 0.8360919540229886, 0.849425287356322, 0.785632183908046, 0.8326436781609197, 0.8560919540229885]}, {\"categories\": [\"0\", \"1\", \"2\", \"3\", \"4\", \"5\", \"6\", \"7\", \"8\", \"9\", \"10\", \"11\", \"12\", \"13\", \"14\", \"15\", \"16\", \"17\", \"18\", \"19\", \"20\", \"21\", \"22\", \"23\", \"24\", \"25\", \"26\", \"27\", \"28\", \"29\", \"30\", \"31\", \"32\", \"33\", \"34\", \"35\", \"36\", \"37\", \"38\", \"39\", \"40\", \"41\", \"42\", \"43\", \"44\", \"45\", \"46\", \"47\", \"48\", \"49\", \"50\", \"51\", \"55\"], \"mode\": \"lines\", \"name\": \"accuracy_max\", \"stepped\": true, \"type\": \"scatter\", \"data\": [0.8528735632183908, 0.8528735632183908, 0.8528735632183908, 0.8528735632183908, 0.8528735632183908, 0.8528735632183908, 0.8528735632183908, 0.8529885057471265, 0.8529885057471265, 0.8529885057471265, 0.8529885057471265, 0.8529885057471265, 0.8529885057471265, 0.8529885057471265, 0.8529885057471265, 0.8529885057471265, 0.8529885057471265, 0.8529885057471265, 0.8529885057471265, 0.8529885057471265, 0.8529885057471265, 0.8529885057471265, 0.8529885057471265, 0.8529885057471265, 0.8529885057471265, 0.8529885057471265, 0.8529885057471265, 0.8529885057471265, 0.8529885057471265, 0.8529885057471265, 0.8529885057471265, 0.8529885057471265, 0.8529885057471265, 0.8529885057471265, 0.8529885057471265, 0.8529885057471265, 0.8529885057471265, 0.8529885057471265, 0.8529885057471265, 0.8560919540229885, 0.8560919540229885, 0.8560919540229885, 0.8560919540229885, 0.8560919540229885, 0.8560919540229885, 0.8560919540229885, 0.8560919540229885, 0.8560919540229885, 0.8560919540229885, 0.8560919540229885, 0.8560919540229885, 0.8560919540229885, 0.8560919540229885]}]}, \"metricName\": null, \"primaryMetricName\": \"AUC_weighted\", \"showLegend\": false}, \"run_metrics\": [{\"name\": \"experiment_status\", \"run_id\": \"AutoML_2d76aec7-a6dd-4206-9615-bf5c59423e1a\", \"categories\": [0, 1, 2, 3, 4, 5, 6, 7, 8, 9, 10, 11, 12, 13], \"series\": [{\"data\": [\"DatasetEvaluation\", \"FeaturesGeneration\", \"DatasetFeaturization\", \"DatasetFeaturizationCompleted\", \"DatasetCrossValidationSplit\", \"ModelSelection\", \"BestRunExplainModel\", \"ModelExplanationDataSetSetup\", \"PickSurrogateModel\", \"EngineeredFeatureExplanations\", \"EngineeredFeatureExplanations\", \"RawFeaturesExplanations\", \"RawFeaturesExplanations\", \"BestRunExplainModel\"]}]}, {\"name\": \"experiment_status_description\", \"run_id\": \"AutoML_2d76aec7-a6dd-4206-9615-bf5c59423e1a\", \"categories\": [0, 1, 2, 3, 4, 5, 6, 7, 8, 9, 10, 11, 12, 13], \"series\": [{\"data\": [\"Gathering dataset statistics.\", \"Generating features for the dataset.\", \"Beginning to fit featurizers and featurize the dataset.\", \"Completed fit featurizers and featurizing the dataset.\", \"Generating individually featurized CV splits.\", \"Beginning model selection.\", \"Best run model explanations started\", \"Model explanations data setup completed\", \"Choosing LightGBM as the surrogate model for explanations\", \"Computation of engineered features started\", \"Computation of engineered features completed\", \"Computation of raw features started\", \"Computation of raw features completed\", \"Best run model explanations completed\"]}]}, {\"name\": \"precision_score_micro\", \"run_id\": \"AutoML_2d76aec7-a6dd-4206-9615-bf5c59423e1a\", \"categories\": [0], \"series\": [{\"data\": [0.8560919540229885]}]}, {\"name\": \"balanced_accuracy\", \"run_id\": \"AutoML_2d76aec7-a6dd-4206-9615-bf5c59423e1a\", \"categories\": [0], \"series\": [{\"data\": [0.8004140749601276]}]}, {\"name\": \"AUC_weighted\", \"run_id\": \"AutoML_2d76aec7-a6dd-4206-9615-bf5c59423e1a\", \"categories\": [0], \"series\": [{\"data\": [0.9147729044834308]}]}, {\"name\": \"AUC_micro\", \"run_id\": \"AutoML_2d76aec7-a6dd-4206-9615-bf5c59423e1a\", \"categories\": [0], \"series\": [{\"data\": [0.923526489628749]}]}, {\"name\": \"log_loss\", \"run_id\": \"AutoML_2d76aec7-a6dd-4206-9615-bf5c59423e1a\", \"categories\": [0], \"series\": [{\"data\": [0.3570299772310265]}]}, {\"name\": \"recall_score_micro\", \"run_id\": \"AutoML_2d76aec7-a6dd-4206-9615-bf5c59423e1a\", \"categories\": [0], \"series\": [{\"data\": [0.8560919540229885]}]}, {\"name\": \"recall_score_macro\", \"run_id\": \"AutoML_2d76aec7-a6dd-4206-9615-bf5c59423e1a\", \"categories\": [0], \"series\": [{\"data\": [0.8004140749601276]}]}, {\"name\": \"average_precision_score_weighted\", \"run_id\": \"AutoML_2d76aec7-a6dd-4206-9615-bf5c59423e1a\", \"categories\": [0], \"series\": [{\"data\": [0.9368448268116968]}]}, {\"name\": \"accuracy\", \"run_id\": \"AutoML_2d76aec7-a6dd-4206-9615-bf5c59423e1a\", \"categories\": [0], \"series\": [{\"data\": [0.8560919540229885]}]}, {\"name\": \"AUC_macro\", \"run_id\": \"AutoML_2d76aec7-a6dd-4206-9615-bf5c59423e1a\", \"categories\": [0], \"series\": [{\"data\": [0.9147729044834308]}]}, {\"name\": \"f1_score_weighted\", \"run_id\": \"AutoML_2d76aec7-a6dd-4206-9615-bf5c59423e1a\", \"categories\": [0], \"series\": [{\"data\": [0.8538307273880088]}]}, {\"name\": \"weighted_accuracy\", \"run_id\": \"AutoML_2d76aec7-a6dd-4206-9615-bf5c59423e1a\", \"categories\": [0], \"series\": [{\"data\": [0.8797527326739439]}]}, {\"name\": \"average_precision_score_micro\", \"run_id\": \"AutoML_2d76aec7-a6dd-4206-9615-bf5c59423e1a\", \"categories\": [0], \"series\": [{\"data\": [0.9280593503479453]}]}, {\"name\": \"f1_score_micro\", \"run_id\": \"AutoML_2d76aec7-a6dd-4206-9615-bf5c59423e1a\", \"categories\": [0], \"series\": [{\"data\": [0.8560919540229885]}]}, {\"name\": \"average_precision_score_macro\", \"run_id\": \"AutoML_2d76aec7-a6dd-4206-9615-bf5c59423e1a\", \"categories\": [0], \"series\": [{\"data\": [0.9066080065142806]}]}, {\"name\": \"precision_score_weighted\", \"run_id\": \"AutoML_2d76aec7-a6dd-4206-9615-bf5c59423e1a\", \"categories\": [0], \"series\": [{\"data\": [0.8620481124877676]}]}, {\"name\": \"precision_score_macro\", \"run_id\": \"AutoML_2d76aec7-a6dd-4206-9615-bf5c59423e1a\", \"categories\": [0], \"series\": [{\"data\": [0.8425131238493307]}]}, {\"name\": \"recall_score_weighted\", \"run_id\": \"AutoML_2d76aec7-a6dd-4206-9615-bf5c59423e1a\", \"categories\": [0], \"series\": [{\"data\": [0.8560919540229885]}]}, {\"name\": \"matthews_correlation\", \"run_id\": \"AutoML_2d76aec7-a6dd-4206-9615-bf5c59423e1a\", \"categories\": [0], \"series\": [{\"data\": [0.6349599746289993]}]}, {\"name\": \"norm_macro_recall\", \"run_id\": \"AutoML_2d76aec7-a6dd-4206-9615-bf5c59423e1a\", \"categories\": [0], \"series\": [{\"data\": [0.6008281499202551]}]}, {\"name\": \"f1_score_macro\", \"run_id\": \"AutoML_2d76aec7-a6dd-4206-9615-bf5c59423e1a\", \"categories\": [0], \"series\": [{\"data\": [0.8092079211282771]}]}], \"run_logs\": \"\\nRun is completed.\", \"graph\": {}, \"widget_settings\": {\"childWidgetDisplay\": \"popup\", \"send_telemetry\": false, \"log_level\": \"INFO\", \"sdk_version\": \"1.19.0\"}, \"loading\": false}"
     },
     "metadata": {},
     "output_type": "display_data"
    }
   ],
   "source": [
    "from azureml.widgets import RunDetails\n",
    "\n",
    "RunDetails(remote_run).show()"
   ]
  },
  {
   "cell_type": "code",
   "execution_count": 12,
   "metadata": {},
   "outputs": [
    {
     "data": {
      "text/plain": [
       "{'runId': 'AutoML_2d76aec7-a6dd-4206-9615-bf5c59423e1a',\n",
       " 'target': 'cpu-cluster',\n",
       " 'status': 'Completed',\n",
       " 'startTimeUtc': '2020-12-15T05:55:08.79919Z',\n",
       " 'endTimeUtc': '2020-12-15T06:30:25.662475Z',\n",
       " 'properties': {'num_iterations': '1000',\n",
       "  'training_type': 'TrainFull',\n",
       "  'acquisition_function': 'EI',\n",
       "  'primary_metric': 'AUC_weighted',\n",
       "  'train_split': '0',\n",
       "  'acquisition_parameter': '0',\n",
       "  'num_cross_validation': None,\n",
       "  'target': 'cpu-cluster',\n",
       "  'AMLSettingsJsonString': '{\"path\":null,\"name\":\"automl-classification-experiment\",\"subscription_id\":\"30d182b7-c8c4-421c-8fa0-d3037ecfe6d2\",\"resource_group\":\"aml-quickstarts-130577\",\"workspace_name\":\"quick-starts-ws-130577\",\"region\":\"southcentralus\",\"compute_target\":\"cpu-cluster\",\"spark_service\":null,\"azure_service\":\"remote\",\"many_models\":false,\"pipeline_fetch_max_batch_size\":1,\"iterations\":1000,\"primary_metric\":\"AUC_weighted\",\"task_type\":\"classification\",\"data_script\":null,\"validation_size\":0.0,\"n_cross_validations\":null,\"y_min\":null,\"y_max\":null,\"num_classes\":null,\"featurization\":\"auto\",\"_ignore_package_version_incompatibilities\":false,\"is_timeseries\":false,\"max_cores_per_iteration\":1,\"max_concurrent_iterations\":5,\"iteration_timeout_minutes\":null,\"mem_in_mb\":null,\"enforce_time_on_windows\":false,\"experiment_timeout_minutes\":30,\"experiment_exit_score\":null,\"whitelist_models\":null,\"blacklist_algos\":[\"TensorFlowLinearClassifier\",\"TensorFlowDNN\"],\"supported_models\":[\"LinearSVM\",\"SGD\",\"XGBoostClassifier\",\"AveragedPerceptronClassifier\",\"BernoulliNaiveBayes\",\"MultinomialNaiveBayes\",\"GradientBoosting\",\"LogisticRegression\",\"KNN\",\"TensorFlowLinearClassifier\",\"TensorFlowDNN\",\"DecisionTree\",\"RandomForest\",\"LightGBM\",\"ExtremeRandomTrees\",\"SVM\"],\"auto_blacklist\":true,\"blacklist_samples_reached\":false,\"exclude_nan_labels\":true,\"verbosity\":20,\"_debug_log\":\"azureml_automl.log\",\"show_warnings\":false,\"model_explainability\":true,\"service_url\":null,\"sdk_url\":null,\"sdk_packages\":null,\"enable_onnx_compatible_models\":true,\"enable_split_onnx_featurizer_estimator_models\":false,\"vm_type\":\"STANDARD_D12_V2\",\"telemetry_verbosity\":20,\"send_telemetry\":true,\"enable_dnn\":false,\"scenario\":\"SDK-1.13.0\",\"environment_label\":null,\"force_text_dnn\":false,\"enable_feature_sweeping\":false,\"enable_early_stopping\":true,\"early_stopping_n_iters\":10,\"metrics\":null,\"enable_ensembling\":true,\"enable_stack_ensembling\":false,\"ensemble_iterations\":15,\"enable_tf\":false,\"enable_subsampling\":null,\"subsample_seed\":null,\"enable_nimbusml\":false,\"enable_streaming\":false,\"force_streaming\":false,\"track_child_runs\":true,\"allowed_private_models\":[],\"label_column_name\":\"DEATH_EVENT\",\"weight_column_name\":null,\"cv_split_column_names\":null,\"enable_local_managed\":false,\"_local_managed_run_id\":null,\"cost_mode\":1,\"lag_length\":0,\"metric_operation\":\"maximize\",\"preprocess\":true}',\n",
       "  'DataPrepJsonString': '{\\\\\"training_data\\\\\": \\\\\"{\\\\\\\\\\\\\"blocks\\\\\\\\\\\\\": [{\\\\\\\\\\\\\"id\\\\\\\\\\\\\": \\\\\\\\\\\\\"16fa2975-2387-4cbe-ba18-e208cdd9a61a\\\\\\\\\\\\\", \\\\\\\\\\\\\"type\\\\\\\\\\\\\": \\\\\\\\\\\\\"Microsoft.DPrep.GetDatastoreFilesBlock\\\\\\\\\\\\\", \\\\\\\\\\\\\"arguments\\\\\\\\\\\\\": {\\\\\\\\\\\\\"datastores\\\\\\\\\\\\\": [{\\\\\\\\\\\\\"datastoreName\\\\\\\\\\\\\": \\\\\\\\\\\\\"workspaceblobstore\\\\\\\\\\\\\", \\\\\\\\\\\\\"path\\\\\\\\\\\\\": \\\\\\\\\\\\\"UI/12-15-2020_051023_UTC/heart_failure_clinical_records_dataset.csv\\\\\\\\\\\\\", \\\\\\\\\\\\\"resourceGroup\\\\\\\\\\\\\": \\\\\\\\\\\\\"aml-quickstarts-130577\\\\\\\\\\\\\", \\\\\\\\\\\\\"subscription\\\\\\\\\\\\\": \\\\\\\\\\\\\"30d182b7-c8c4-421c-8fa0-d3037ecfe6d2\\\\\\\\\\\\\", \\\\\\\\\\\\\"workspaceName\\\\\\\\\\\\\": \\\\\\\\\\\\\"quick-starts-ws-130577\\\\\\\\\\\\\"}]}, \\\\\\\\\\\\\"localData\\\\\\\\\\\\\": {}, \\\\\\\\\\\\\"isEnabled\\\\\\\\\\\\\": true, \\\\\\\\\\\\\"name\\\\\\\\\\\\\": null, \\\\\\\\\\\\\"annotation\\\\\\\\\\\\\": null}, {\\\\\\\\\\\\\"id\\\\\\\\\\\\\": \\\\\\\\\\\\\"c431d026-784d-443d-9b12-3b439b1ef35b\\\\\\\\\\\\\", \\\\\\\\\\\\\"type\\\\\\\\\\\\\": \\\\\\\\\\\\\"Microsoft.DPrep.ParseDelimitedBlock\\\\\\\\\\\\\", \\\\\\\\\\\\\"arguments\\\\\\\\\\\\\": {\\\\\\\\\\\\\"columnHeadersMode\\\\\\\\\\\\\": 1, \\\\\\\\\\\\\"fileEncoding\\\\\\\\\\\\\": 0, \\\\\\\\\\\\\"handleQuotedLineBreaks\\\\\\\\\\\\\": false, \\\\\\\\\\\\\"preview\\\\\\\\\\\\\": false, \\\\\\\\\\\\\"separator\\\\\\\\\\\\\": \\\\\\\\\\\\\",\\\\\\\\\\\\\", \\\\\\\\\\\\\"skipRows\\\\\\\\\\\\\": 0, \\\\\\\\\\\\\"skipRowsMode\\\\\\\\\\\\\": 0}, \\\\\\\\\\\\\"localData\\\\\\\\\\\\\": {}, \\\\\\\\\\\\\"isEnabled\\\\\\\\\\\\\": true, \\\\\\\\\\\\\"name\\\\\\\\\\\\\": null, \\\\\\\\\\\\\"annotation\\\\\\\\\\\\\": null}, {\\\\\\\\\\\\\"id\\\\\\\\\\\\\": \\\\\\\\\\\\\"8acabaaa-1374-4cab-931d-58647683c6e2\\\\\\\\\\\\\", \\\\\\\\\\\\\"type\\\\\\\\\\\\\": \\\\\\\\\\\\\"Microsoft.DPrep.DropColumnsBlock\\\\\\\\\\\\\", \\\\\\\\\\\\\"arguments\\\\\\\\\\\\\": {\\\\\\\\\\\\\"columns\\\\\\\\\\\\\": {\\\\\\\\\\\\\"type\\\\\\\\\\\\\": 0, \\\\\\\\\\\\\"details\\\\\\\\\\\\\": {\\\\\\\\\\\\\"selectedColumns\\\\\\\\\\\\\": [\\\\\\\\\\\\\"Path\\\\\\\\\\\\\"]}}}, \\\\\\\\\\\\\"localData\\\\\\\\\\\\\": {}, \\\\\\\\\\\\\"isEnabled\\\\\\\\\\\\\": true, \\\\\\\\\\\\\"name\\\\\\\\\\\\\": null, \\\\\\\\\\\\\"annotation\\\\\\\\\\\\\": null}, {\\\\\\\\\\\\\"id\\\\\\\\\\\\\": \\\\\\\\\\\\\"04b34647-c157-4957-921b-fdd0c33c815c\\\\\\\\\\\\\", \\\\\\\\\\\\\"type\\\\\\\\\\\\\": \\\\\\\\\\\\\"Microsoft.DPrep.SetColumnTypesBlock\\\\\\\\\\\\\", \\\\\\\\\\\\\"arguments\\\\\\\\\\\\\": {\\\\\\\\\\\\\"columnConversion\\\\\\\\\\\\\": [{\\\\\\\\\\\\\"column\\\\\\\\\\\\\": {\\\\\\\\\\\\\"type\\\\\\\\\\\\\": 2, \\\\\\\\\\\\\"details\\\\\\\\\\\\\": {\\\\\\\\\\\\\"selectedColumn\\\\\\\\\\\\\": \\\\\\\\\\\\\"Path\\\\\\\\\\\\\"}}, \\\\\\\\\\\\\"typeProperty\\\\\\\\\\\\\": 0}, {\\\\\\\\\\\\\"column\\\\\\\\\\\\\": {\\\\\\\\\\\\\"type\\\\\\\\\\\\\": 2, \\\\\\\\\\\\\"details\\\\\\\\\\\\\": {\\\\\\\\\\\\\"selectedColumn\\\\\\\\\\\\\": \\\\\\\\\\\\\"age\\\\\\\\\\\\\"}}, \\\\\\\\\\\\\"typeProperty\\\\\\\\\\\\\": 3}, {\\\\\\\\\\\\\"column\\\\\\\\\\\\\": {\\\\\\\\\\\\\"type\\\\\\\\\\\\\": 2, \\\\\\\\\\\\\"details\\\\\\\\\\\\\": {\\\\\\\\\\\\\"selectedColumn\\\\\\\\\\\\\": \\\\\\\\\\\\\"anaemia\\\\\\\\\\\\\"}}, \\\\\\\\\\\\\"typeProperty\\\\\\\\\\\\\": 2}, {\\\\\\\\\\\\\"column\\\\\\\\\\\\\": {\\\\\\\\\\\\\"type\\\\\\\\\\\\\": 2, \\\\\\\\\\\\\"details\\\\\\\\\\\\\": {\\\\\\\\\\\\\"selectedColumn\\\\\\\\\\\\\": \\\\\\\\\\\\\"creatinine_phosphokinase\\\\\\\\\\\\\"}}, \\\\\\\\\\\\\"typeProperty\\\\\\\\\\\\\": 2}, {\\\\\\\\\\\\\"column\\\\\\\\\\\\\": {\\\\\\\\\\\\\"type\\\\\\\\\\\\\": 2, \\\\\\\\\\\\\"details\\\\\\\\\\\\\": {\\\\\\\\\\\\\"selectedColumn\\\\\\\\\\\\\": \\\\\\\\\\\\\"diabetes\\\\\\\\\\\\\"}}, \\\\\\\\\\\\\"typeProperty\\\\\\\\\\\\\": 2}, {\\\\\\\\\\\\\"column\\\\\\\\\\\\\": {\\\\\\\\\\\\\"type\\\\\\\\\\\\\": 2, \\\\\\\\\\\\\"details\\\\\\\\\\\\\": {\\\\\\\\\\\\\"selectedColumn\\\\\\\\\\\\\": \\\\\\\\\\\\\"ejection_fraction\\\\\\\\\\\\\"}}, \\\\\\\\\\\\\"typeProperty\\\\\\\\\\\\\": 2}, {\\\\\\\\\\\\\"column\\\\\\\\\\\\\": {\\\\\\\\\\\\\"type\\\\\\\\\\\\\": 2, \\\\\\\\\\\\\"details\\\\\\\\\\\\\": {\\\\\\\\\\\\\"selectedColumn\\\\\\\\\\\\\": \\\\\\\\\\\\\"high_blood_pressure\\\\\\\\\\\\\"}}, \\\\\\\\\\\\\"typeProperty\\\\\\\\\\\\\": 2}, {\\\\\\\\\\\\\"column\\\\\\\\\\\\\": {\\\\\\\\\\\\\"type\\\\\\\\\\\\\": 2, \\\\\\\\\\\\\"details\\\\\\\\\\\\\": {\\\\\\\\\\\\\"selectedColumn\\\\\\\\\\\\\": \\\\\\\\\\\\\"platelets\\\\\\\\\\\\\"}}, \\\\\\\\\\\\\"typeProperty\\\\\\\\\\\\\": 3}, {\\\\\\\\\\\\\"column\\\\\\\\\\\\\": {\\\\\\\\\\\\\"type\\\\\\\\\\\\\": 2, \\\\\\\\\\\\\"details\\\\\\\\\\\\\": {\\\\\\\\\\\\\"selectedColumn\\\\\\\\\\\\\": \\\\\\\\\\\\\"serum_creatinine\\\\\\\\\\\\\"}}, \\\\\\\\\\\\\"typeProperty\\\\\\\\\\\\\": 3}, {\\\\\\\\\\\\\"column\\\\\\\\\\\\\": {\\\\\\\\\\\\\"type\\\\\\\\\\\\\": 2, \\\\\\\\\\\\\"details\\\\\\\\\\\\\": {\\\\\\\\\\\\\"selectedColumn\\\\\\\\\\\\\": \\\\\\\\\\\\\"serum_sodium\\\\\\\\\\\\\"}}, \\\\\\\\\\\\\"typeProperty\\\\\\\\\\\\\": 2}, {\\\\\\\\\\\\\"column\\\\\\\\\\\\\": {\\\\\\\\\\\\\"type\\\\\\\\\\\\\": 2, \\\\\\\\\\\\\"details\\\\\\\\\\\\\": {\\\\\\\\\\\\\"selectedColumn\\\\\\\\\\\\\": \\\\\\\\\\\\\"sex\\\\\\\\\\\\\"}}, \\\\\\\\\\\\\"typeProperty\\\\\\\\\\\\\": 2}, {\\\\\\\\\\\\\"column\\\\\\\\\\\\\": {\\\\\\\\\\\\\"type\\\\\\\\\\\\\": 2, \\\\\\\\\\\\\"details\\\\\\\\\\\\\": {\\\\\\\\\\\\\"selectedColumn\\\\\\\\\\\\\": \\\\\\\\\\\\\"smoking\\\\\\\\\\\\\"}}, \\\\\\\\\\\\\"typeProperty\\\\\\\\\\\\\": 2}, {\\\\\\\\\\\\\"column\\\\\\\\\\\\\": {\\\\\\\\\\\\\"type\\\\\\\\\\\\\": 2, \\\\\\\\\\\\\"details\\\\\\\\\\\\\": {\\\\\\\\\\\\\"selectedColumn\\\\\\\\\\\\\": \\\\\\\\\\\\\"time\\\\\\\\\\\\\"}}, \\\\\\\\\\\\\"typeProperty\\\\\\\\\\\\\": 2}, {\\\\\\\\\\\\\"column\\\\\\\\\\\\\": {\\\\\\\\\\\\\"type\\\\\\\\\\\\\": 2, \\\\\\\\\\\\\"details\\\\\\\\\\\\\": {\\\\\\\\\\\\\"selectedColumn\\\\\\\\\\\\\": \\\\\\\\\\\\\"DEATH_EVENT\\\\\\\\\\\\\"}}, \\\\\\\\\\\\\"typeProperty\\\\\\\\\\\\\": 2}]}, \\\\\\\\\\\\\"localData\\\\\\\\\\\\\": {}, \\\\\\\\\\\\\"isEnabled\\\\\\\\\\\\\": true, \\\\\\\\\\\\\"name\\\\\\\\\\\\\": null, \\\\\\\\\\\\\"annotation\\\\\\\\\\\\\": null}], \\\\\\\\\\\\\"inspectors\\\\\\\\\\\\\": [], \\\\\\\\\\\\\"meta\\\\\\\\\\\\\": {\\\\\\\\\\\\\"savedDatasetId\\\\\\\\\\\\\": \\\\\\\\\\\\\"f0a7b4b5-7282-4864-8c58-a968de4a35f1\\\\\\\\\\\\\", \\\\\\\\\\\\\"datasetType\\\\\\\\\\\\\": \\\\\\\\\\\\\"tabular\\\\\\\\\\\\\", \\\\\\\\\\\\\"subscriptionId\\\\\\\\\\\\\": \\\\\\\\\\\\\"30d182b7-c8c4-421c-8fa0-d3037ecfe6d2\\\\\\\\\\\\\", \\\\\\\\\\\\\"workspaceId\\\\\\\\\\\\\": \\\\\\\\\\\\\"f893c2e7-cbdb-4078-8f7d-5e405bf591b1\\\\\\\\\\\\\", \\\\\\\\\\\\\"workspaceLocation\\\\\\\\\\\\\": \\\\\\\\\\\\\"southcentralus\\\\\\\\\\\\\"}}\\\\\", \\\\\"activities\\\\\": 0}',\n",
       "  'EnableSubsampling': None,\n",
       "  'runTemplate': 'AutoML',\n",
       "  'azureml.runsource': 'automl',\n",
       "  'display_task_type': 'classification',\n",
       "  'dependencies_versions': '{\"azureml-widgets\": \"1.19.0\", \"azureml-train\": \"1.19.0\", \"azureml-train-restclients-hyperdrive\": \"1.19.0\", \"azureml-train-core\": \"1.19.0\", \"azureml-train-automl\": \"1.19.0\", \"azureml-train-automl-runtime\": \"1.19.0\", \"azureml-train-automl-client\": \"1.19.0\", \"azureml-tensorboard\": \"1.19.0\", \"azureml-telemetry\": \"1.19.0\", \"azureml-sdk\": \"1.19.0\", \"azureml-samples\": \"0+unknown\", \"azureml-pipeline\": \"1.19.0\", \"azureml-pipeline-steps\": \"1.19.0\", \"azureml-pipeline-core\": \"1.19.0\", \"azureml-opendatasets\": \"1.19.0\", \"azureml-model-management-sdk\": \"1.0.1b6.post1\", \"azureml-mlflow\": \"1.19.0\", \"azureml-interpret\": \"1.19.0\", \"azureml-explain-model\": \"1.19.0\", \"azureml-defaults\": \"1.19.0\", \"azureml-dataset-runtime\": \"1.19.0\", \"azureml-dataprep\": \"2.6.1\", \"azureml-dataprep-rslex\": \"1.4.0\", \"azureml-dataprep-native\": \"26.0.0\", \"azureml-datadrift\": \"1.19.0\", \"azureml-core\": \"1.19.0\", \"azureml-contrib-services\": \"1.19.0\", \"azureml-contrib-server\": \"1.19.0\", \"azureml-contrib-reinforcementlearning\": \"1.19.0\", \"azureml-contrib-pipeline-steps\": \"1.19.0\", \"azureml-contrib-notebook\": \"1.19.0\", \"azureml-contrib-interpret\": \"1.19.0\", \"azureml-contrib-gbdt\": \"1.19.0\", \"azureml-contrib-fairness\": \"1.19.0\", \"azureml-contrib-dataset\": \"1.19.0\", \"azureml-cli-common\": \"1.19.0\", \"azureml-automl-runtime\": \"1.19.0\", \"azureml-automl-core\": \"1.19.0\", \"azureml-accel-models\": \"1.19.0\"}',\n",
       "  '_aml_system_scenario_identification': 'Remote.Parent',\n",
       "  'ClientType': 'SDK',\n",
       "  'environment_cpu_name': 'AzureML-AutoML',\n",
       "  'environment_cpu_version': '49',\n",
       "  'environment_gpu_name': 'AzureML-AutoML-GPU',\n",
       "  'environment_gpu_version': '37',\n",
       "  'root_attribution': 'automl',\n",
       "  'attribution': 'AutoML',\n",
       "  'Orchestrator': 'AutoML',\n",
       "  'CancelUri': 'https://southcentralus.experiments.azureml.net/jasmine/v1.0/subscriptions/30d182b7-c8c4-421c-8fa0-d3037ecfe6d2/resourceGroups/aml-quickstarts-130577/providers/Microsoft.MachineLearningServices/workspaces/quick-starts-ws-130577/experimentids/967874f9-febb-4d55-965b-29d4c24cb3f5/cancel/AutoML_2d76aec7-a6dd-4206-9615-bf5c59423e1a',\n",
       "  'ClientSdkVersion': '1.18.0.post1',\n",
       "  'snapshotId': '00000000-0000-0000-0000-000000000000',\n",
       "  'SetupRunId': 'AutoML_2d76aec7-a6dd-4206-9615-bf5c59423e1a_setup',\n",
       "  'SetupRunContainerId': 'dcid.AutoML_2d76aec7-a6dd-4206-9615-bf5c59423e1a_setup',\n",
       "  'FeaturizationRunJsonPath': 'featurizer_container.json',\n",
       "  'FeaturizationRunId': 'AutoML_2d76aec7-a6dd-4206-9615-bf5c59423e1a_featurize',\n",
       "  'ProblemInfoJsonString': '{\"dataset_num_categorical\": 0, \"is_sparse\": false, \"subsampling\": false, \"dataset_classes\": 2, \"dataset_features\": 12, \"dataset_samples\": 299, \"single_frequency_class_detected\": false}',\n",
       "  'ModelExplainRunId': 'AutoML_2d76aec7-a6dd-4206-9615-bf5c59423e1a_ModelExplain'},\n",
       " 'inputDatasets': [{'dataset': {'id': 'f0a7b4b5-7282-4864-8c58-a968de4a35f1'}, 'consumptionDetails': {'type': 'RunInput', 'inputName': 'training_data', 'mechanism': 'Direct'}}],\n",
       " 'outputDatasets': [],\n",
       " 'logFiles': {}}"
      ]
     },
     "execution_count": 12,
     "metadata": {},
     "output_type": "execute_result"
    }
   ],
   "source": [
    "# Wait for the remote run to complete\n",
    "remote_run.wait_for_completion()"
   ]
  },
  {
   "cell_type": "code",
   "execution_count": 13,
   "metadata": {},
   "outputs": [],
   "source": [
    "best_run_customized, fitted_model_customized = remote_run.get_output()"
   ]
  },
  {
   "cell_type": "markdown",
   "metadata": {},
   "source": [
    "## Transparency"
   ]
  },
  {
   "cell_type": "markdown",
   "metadata": {},
   "source": [
    "View updated featurization summary"
   ]
  },
  {
   "cell_type": "code",
   "execution_count": 14,
   "metadata": {},
   "outputs": [
    {
     "data": {
      "text/html": [
       "<div>\n",
       "<style scoped>\n",
       "    .dataframe tbody tr th:only-of-type {\n",
       "        vertical-align: middle;\n",
       "    }\n",
       "\n",
       "    .dataframe tbody tr th {\n",
       "        vertical-align: top;\n",
       "    }\n",
       "\n",
       "    .dataframe thead th {\n",
       "        text-align: right;\n",
       "    }\n",
       "</style>\n",
       "<table border=\"1\" class=\"dataframe\">\n",
       "  <thead>\n",
       "    <tr style=\"text-align: right;\">\n",
       "      <th></th>\n",
       "      <th>RawFeatureName</th>\n",
       "      <th>TypeDetected</th>\n",
       "      <th>Dropped</th>\n",
       "      <th>EngineeredFeatureCount</th>\n",
       "      <th>Transformations</th>\n",
       "    </tr>\n",
       "  </thead>\n",
       "  <tbody>\n",
       "    <tr>\n",
       "      <th>0</th>\n",
       "      <td>age</td>\n",
       "      <td>Numeric</td>\n",
       "      <td>No</td>\n",
       "      <td>1</td>\n",
       "      <td>[MeanImputer]</td>\n",
       "    </tr>\n",
       "    <tr>\n",
       "      <th>1</th>\n",
       "      <td>anaemia</td>\n",
       "      <td>Numeric</td>\n",
       "      <td>No</td>\n",
       "      <td>1</td>\n",
       "      <td>[MeanImputer]</td>\n",
       "    </tr>\n",
       "    <tr>\n",
       "      <th>2</th>\n",
       "      <td>creatinine_phosphokinase</td>\n",
       "      <td>Numeric</td>\n",
       "      <td>No</td>\n",
       "      <td>1</td>\n",
       "      <td>[MeanImputer]</td>\n",
       "    </tr>\n",
       "    <tr>\n",
       "      <th>3</th>\n",
       "      <td>diabetes</td>\n",
       "      <td>Numeric</td>\n",
       "      <td>No</td>\n",
       "      <td>1</td>\n",
       "      <td>[MeanImputer]</td>\n",
       "    </tr>\n",
       "    <tr>\n",
       "      <th>4</th>\n",
       "      <td>ejection_fraction</td>\n",
       "      <td>Numeric</td>\n",
       "      <td>No</td>\n",
       "      <td>1</td>\n",
       "      <td>[MeanImputer]</td>\n",
       "    </tr>\n",
       "    <tr>\n",
       "      <th>5</th>\n",
       "      <td>high_blood_pressure</td>\n",
       "      <td>Numeric</td>\n",
       "      <td>No</td>\n",
       "      <td>1</td>\n",
       "      <td>[MeanImputer]</td>\n",
       "    </tr>\n",
       "    <tr>\n",
       "      <th>6</th>\n",
       "      <td>platelets</td>\n",
       "      <td>Numeric</td>\n",
       "      <td>No</td>\n",
       "      <td>1</td>\n",
       "      <td>[MeanImputer]</td>\n",
       "    </tr>\n",
       "    <tr>\n",
       "      <th>7</th>\n",
       "      <td>serum_creatinine</td>\n",
       "      <td>Numeric</td>\n",
       "      <td>No</td>\n",
       "      <td>1</td>\n",
       "      <td>[MeanImputer]</td>\n",
       "    </tr>\n",
       "    <tr>\n",
       "      <th>8</th>\n",
       "      <td>serum_sodium</td>\n",
       "      <td>Numeric</td>\n",
       "      <td>No</td>\n",
       "      <td>1</td>\n",
       "      <td>[MeanImputer]</td>\n",
       "    </tr>\n",
       "    <tr>\n",
       "      <th>9</th>\n",
       "      <td>sex</td>\n",
       "      <td>Numeric</td>\n",
       "      <td>No</td>\n",
       "      <td>1</td>\n",
       "      <td>[MeanImputer]</td>\n",
       "    </tr>\n",
       "    <tr>\n",
       "      <th>10</th>\n",
       "      <td>smoking</td>\n",
       "      <td>Numeric</td>\n",
       "      <td>No</td>\n",
       "      <td>1</td>\n",
       "      <td>[MeanImputer]</td>\n",
       "    </tr>\n",
       "    <tr>\n",
       "      <th>11</th>\n",
       "      <td>time</td>\n",
       "      <td>Numeric</td>\n",
       "      <td>No</td>\n",
       "      <td>1</td>\n",
       "      <td>[MeanImputer]</td>\n",
       "    </tr>\n",
       "  </tbody>\n",
       "</table>\n",
       "</div>"
      ],
      "text/plain": [
       "              RawFeatureName TypeDetected Dropped  EngineeredFeatureCount  \\\n",
       "0   age                       Numeric      No      1                        \n",
       "1   anaemia                   Numeric      No      1                        \n",
       "2   creatinine_phosphokinase  Numeric      No      1                        \n",
       "3   diabetes                  Numeric      No      1                        \n",
       "4   ejection_fraction         Numeric      No      1                        \n",
       "5   high_blood_pressure       Numeric      No      1                        \n",
       "6   platelets                 Numeric      No      1                        \n",
       "7   serum_creatinine          Numeric      No      1                        \n",
       "8   serum_sodium              Numeric      No      1                        \n",
       "9   sex                       Numeric      No      1                        \n",
       "10  smoking                   Numeric      No      1                        \n",
       "11  time                      Numeric      No      1                        \n",
       "\n",
       "   Transformations  \n",
       "0   [MeanImputer]   \n",
       "1   [MeanImputer]   \n",
       "2   [MeanImputer]   \n",
       "3   [MeanImputer]   \n",
       "4   [MeanImputer]   \n",
       "5   [MeanImputer]   \n",
       "6   [MeanImputer]   \n",
       "7   [MeanImputer]   \n",
       "8   [MeanImputer]   \n",
       "9   [MeanImputer]   \n",
       "10  [MeanImputer]   \n",
       "11  [MeanImputer]   "
      ]
     },
     "execution_count": 14,
     "metadata": {},
     "output_type": "execute_result"
    }
   ],
   "source": [
    "custom_featurizer = fitted_model_customized.named_steps['datatransformer']\n",
    "df = custom_featurizer.get_featurization_summary()\n",
    "pd.DataFrame(data=df)"
   ]
  },
  {
   "cell_type": "code",
   "execution_count": 15,
   "metadata": {},
   "outputs": [
    {
     "data": {
      "text/html": [
       "<div>\n",
       "<style scoped>\n",
       "    .dataframe tbody tr th:only-of-type {\n",
       "        vertical-align: middle;\n",
       "    }\n",
       "\n",
       "    .dataframe tbody tr th {\n",
       "        vertical-align: top;\n",
       "    }\n",
       "\n",
       "    .dataframe thead th {\n",
       "        text-align: right;\n",
       "    }\n",
       "</style>\n",
       "<table border=\"1\" class=\"dataframe\">\n",
       "  <thead>\n",
       "    <tr style=\"text-align: right;\">\n",
       "      <th></th>\n",
       "      <th>RawFeatureName</th>\n",
       "      <th>TypeDetected</th>\n",
       "      <th>Dropped</th>\n",
       "      <th>EngineeredFeatureCount</th>\n",
       "      <th>Transformations</th>\n",
       "      <th>TransformationParams</th>\n",
       "    </tr>\n",
       "  </thead>\n",
       "  <tbody>\n",
       "    <tr>\n",
       "      <th>0</th>\n",
       "      <td>age</td>\n",
       "      <td>Numeric</td>\n",
       "      <td>No</td>\n",
       "      <td>1</td>\n",
       "      <td>[MeanImputer]</td>\n",
       "      <td>{'Transformer1': {'Input': ['age'], 'TransformationFunction': 'Imputer', 'Operator': 'Mean', 'FeatureType': 'Numeric', 'ShouldOutput': True, 'TransformationParams': {'add_indicator': False, 'copy': True, 'fill_value': None, 'missing_values': nan, 'strategy': 'mean', 'verbose': 0}}}</td>\n",
       "    </tr>\n",
       "    <tr>\n",
       "      <th>1</th>\n",
       "      <td>anaemia</td>\n",
       "      <td>Numeric</td>\n",
       "      <td>No</td>\n",
       "      <td>1</td>\n",
       "      <td>[MeanImputer]</td>\n",
       "      <td>{'Transformer1': {'Input': ['anaemia'], 'TransformationFunction': 'Imputer', 'Operator': 'Mean', 'FeatureType': 'Numeric', 'ShouldOutput': True, 'TransformationParams': {'add_indicator': False, 'copy': True, 'fill_value': None, 'missing_values': nan, 'strategy': 'mean', 'verbose': 0}}}</td>\n",
       "    </tr>\n",
       "    <tr>\n",
       "      <th>2</th>\n",
       "      <td>creatinine_phosphokinase</td>\n",
       "      <td>Numeric</td>\n",
       "      <td>No</td>\n",
       "      <td>1</td>\n",
       "      <td>[MeanImputer]</td>\n",
       "      <td>{'Transformer1': {'Input': ['creatinine_phosphokinase'], 'TransformationFunction': 'Imputer', 'Operator': 'Mean', 'FeatureType': 'Numeric', 'ShouldOutput': True, 'TransformationParams': {'add_indicator': False, 'copy': True, 'fill_value': None, 'missing_values': nan, 'strategy': 'mean', 'verbose': 0}}}</td>\n",
       "    </tr>\n",
       "    <tr>\n",
       "      <th>3</th>\n",
       "      <td>diabetes</td>\n",
       "      <td>Numeric</td>\n",
       "      <td>No</td>\n",
       "      <td>1</td>\n",
       "      <td>[MeanImputer]</td>\n",
       "      <td>{'Transformer1': {'Input': ['diabetes'], 'TransformationFunction': 'Imputer', 'Operator': 'Mean', 'FeatureType': 'Numeric', 'ShouldOutput': True, 'TransformationParams': {'add_indicator': False, 'copy': True, 'fill_value': None, 'missing_values': nan, 'strategy': 'mean', 'verbose': 0}}}</td>\n",
       "    </tr>\n",
       "    <tr>\n",
       "      <th>4</th>\n",
       "      <td>ejection_fraction</td>\n",
       "      <td>Numeric</td>\n",
       "      <td>No</td>\n",
       "      <td>1</td>\n",
       "      <td>[MeanImputer]</td>\n",
       "      <td>{'Transformer1': {'Input': ['ejection_fraction'], 'TransformationFunction': 'Imputer', 'Operator': 'Mean', 'FeatureType': 'Numeric', 'ShouldOutput': True, 'TransformationParams': {'add_indicator': False, 'copy': True, 'fill_value': None, 'missing_values': nan, 'strategy': 'mean', 'verbose': 0}}}</td>\n",
       "    </tr>\n",
       "    <tr>\n",
       "      <th>5</th>\n",
       "      <td>high_blood_pressure</td>\n",
       "      <td>Numeric</td>\n",
       "      <td>No</td>\n",
       "      <td>1</td>\n",
       "      <td>[MeanImputer]</td>\n",
       "      <td>{'Transformer1': {'Input': ['high_blood_pressure'], 'TransformationFunction': 'Imputer', 'Operator': 'Mean', 'FeatureType': 'Numeric', 'ShouldOutput': True, 'TransformationParams': {'add_indicator': False, 'copy': True, 'fill_value': None, 'missing_values': nan, 'strategy': 'mean', 'verbose': 0}}}</td>\n",
       "    </tr>\n",
       "    <tr>\n",
       "      <th>6</th>\n",
       "      <td>platelets</td>\n",
       "      <td>Numeric</td>\n",
       "      <td>No</td>\n",
       "      <td>1</td>\n",
       "      <td>[MeanImputer]</td>\n",
       "      <td>{'Transformer1': {'Input': ['platelets'], 'TransformationFunction': 'Imputer', 'Operator': 'Mean', 'FeatureType': 'Numeric', 'ShouldOutput': True, 'TransformationParams': {'add_indicator': False, 'copy': True, 'fill_value': None, 'missing_values': nan, 'strategy': 'mean', 'verbose': 0}}}</td>\n",
       "    </tr>\n",
       "    <tr>\n",
       "      <th>7</th>\n",
       "      <td>serum_creatinine</td>\n",
       "      <td>Numeric</td>\n",
       "      <td>No</td>\n",
       "      <td>1</td>\n",
       "      <td>[MeanImputer]</td>\n",
       "      <td>{'Transformer1': {'Input': ['serum_creatinine'], 'TransformationFunction': 'Imputer', 'Operator': 'Mean', 'FeatureType': 'Numeric', 'ShouldOutput': True, 'TransformationParams': {'add_indicator': False, 'copy': True, 'fill_value': None, 'missing_values': nan, 'strategy': 'mean', 'verbose': 0}}}</td>\n",
       "    </tr>\n",
       "    <tr>\n",
       "      <th>8</th>\n",
       "      <td>serum_sodium</td>\n",
       "      <td>Numeric</td>\n",
       "      <td>No</td>\n",
       "      <td>1</td>\n",
       "      <td>[MeanImputer]</td>\n",
       "      <td>{'Transformer1': {'Input': ['serum_sodium'], 'TransformationFunction': 'Imputer', 'Operator': 'Mean', 'FeatureType': 'Numeric', 'ShouldOutput': True, 'TransformationParams': {'add_indicator': False, 'copy': True, 'fill_value': None, 'missing_values': nan, 'strategy': 'mean', 'verbose': 0}}}</td>\n",
       "    </tr>\n",
       "    <tr>\n",
       "      <th>9</th>\n",
       "      <td>sex</td>\n",
       "      <td>Numeric</td>\n",
       "      <td>No</td>\n",
       "      <td>1</td>\n",
       "      <td>[MeanImputer]</td>\n",
       "      <td>{'Transformer1': {'Input': ['sex'], 'TransformationFunction': 'Imputer', 'Operator': 'Mean', 'FeatureType': 'Numeric', 'ShouldOutput': True, 'TransformationParams': {'add_indicator': False, 'copy': True, 'fill_value': None, 'missing_values': nan, 'strategy': 'mean', 'verbose': 0}}}</td>\n",
       "    </tr>\n",
       "    <tr>\n",
       "      <th>10</th>\n",
       "      <td>smoking</td>\n",
       "      <td>Numeric</td>\n",
       "      <td>No</td>\n",
       "      <td>1</td>\n",
       "      <td>[MeanImputer]</td>\n",
       "      <td>{'Transformer1': {'Input': ['smoking'], 'TransformationFunction': 'Imputer', 'Operator': 'Mean', 'FeatureType': 'Numeric', 'ShouldOutput': True, 'TransformationParams': {'add_indicator': False, 'copy': True, 'fill_value': None, 'missing_values': nan, 'strategy': 'mean', 'verbose': 0}}}</td>\n",
       "    </tr>\n",
       "    <tr>\n",
       "      <th>11</th>\n",
       "      <td>time</td>\n",
       "      <td>Numeric</td>\n",
       "      <td>No</td>\n",
       "      <td>1</td>\n",
       "      <td>[MeanImputer]</td>\n",
       "      <td>{'Transformer1': {'Input': ['time'], 'TransformationFunction': 'Imputer', 'Operator': 'Mean', 'FeatureType': 'Numeric', 'ShouldOutput': True, 'TransformationParams': {'add_indicator': False, 'copy': True, 'fill_value': None, 'missing_values': nan, 'strategy': 'mean', 'verbose': 0}}}</td>\n",
       "    </tr>\n",
       "  </tbody>\n",
       "</table>\n",
       "</div>"
      ],
      "text/plain": [
       "              RawFeatureName TypeDetected Dropped  EngineeredFeatureCount  \\\n",
       "0   age                       Numeric      No      1                        \n",
       "1   anaemia                   Numeric      No      1                        \n",
       "2   creatinine_phosphokinase  Numeric      No      1                        \n",
       "3   diabetes                  Numeric      No      1                        \n",
       "4   ejection_fraction         Numeric      No      1                        \n",
       "5   high_blood_pressure       Numeric      No      1                        \n",
       "6   platelets                 Numeric      No      1                        \n",
       "7   serum_creatinine          Numeric      No      1                        \n",
       "8   serum_sodium              Numeric      No      1                        \n",
       "9   sex                       Numeric      No      1                        \n",
       "10  smoking                   Numeric      No      1                        \n",
       "11  time                      Numeric      No      1                        \n",
       "\n",
       "   Transformations  \\\n",
       "0   [MeanImputer]    \n",
       "1   [MeanImputer]    \n",
       "2   [MeanImputer]    \n",
       "3   [MeanImputer]    \n",
       "4   [MeanImputer]    \n",
       "5   [MeanImputer]    \n",
       "6   [MeanImputer]    \n",
       "7   [MeanImputer]    \n",
       "8   [MeanImputer]    \n",
       "9   [MeanImputer]    \n",
       "10  [MeanImputer]    \n",
       "11  [MeanImputer]    \n",
       "\n",
       "                                                                                                                                                                                                                                                                                               TransformationParams  \n",
       "0   {'Transformer1': {'Input': ['age'], 'TransformationFunction': 'Imputer', 'Operator': 'Mean', 'FeatureType': 'Numeric', 'ShouldOutput': True, 'TransformationParams': {'add_indicator': False, 'copy': True, 'fill_value': None, 'missing_values': nan, 'strategy': 'mean', 'verbose': 0}}}                       \n",
       "1   {'Transformer1': {'Input': ['anaemia'], 'TransformationFunction': 'Imputer', 'Operator': 'Mean', 'FeatureType': 'Numeric', 'ShouldOutput': True, 'TransformationParams': {'add_indicator': False, 'copy': True, 'fill_value': None, 'missing_values': nan, 'strategy': 'mean', 'verbose': 0}}}                   \n",
       "2   {'Transformer1': {'Input': ['creatinine_phosphokinase'], 'TransformationFunction': 'Imputer', 'Operator': 'Mean', 'FeatureType': 'Numeric', 'ShouldOutput': True, 'TransformationParams': {'add_indicator': False, 'copy': True, 'fill_value': None, 'missing_values': nan, 'strategy': 'mean', 'verbose': 0}}}  \n",
       "3   {'Transformer1': {'Input': ['diabetes'], 'TransformationFunction': 'Imputer', 'Operator': 'Mean', 'FeatureType': 'Numeric', 'ShouldOutput': True, 'TransformationParams': {'add_indicator': False, 'copy': True, 'fill_value': None, 'missing_values': nan, 'strategy': 'mean', 'verbose': 0}}}                  \n",
       "4   {'Transformer1': {'Input': ['ejection_fraction'], 'TransformationFunction': 'Imputer', 'Operator': 'Mean', 'FeatureType': 'Numeric', 'ShouldOutput': True, 'TransformationParams': {'add_indicator': False, 'copy': True, 'fill_value': None, 'missing_values': nan, 'strategy': 'mean', 'verbose': 0}}}         \n",
       "5   {'Transformer1': {'Input': ['high_blood_pressure'], 'TransformationFunction': 'Imputer', 'Operator': 'Mean', 'FeatureType': 'Numeric', 'ShouldOutput': True, 'TransformationParams': {'add_indicator': False, 'copy': True, 'fill_value': None, 'missing_values': nan, 'strategy': 'mean', 'verbose': 0}}}       \n",
       "6   {'Transformer1': {'Input': ['platelets'], 'TransformationFunction': 'Imputer', 'Operator': 'Mean', 'FeatureType': 'Numeric', 'ShouldOutput': True, 'TransformationParams': {'add_indicator': False, 'copy': True, 'fill_value': None, 'missing_values': nan, 'strategy': 'mean', 'verbose': 0}}}                 \n",
       "7   {'Transformer1': {'Input': ['serum_creatinine'], 'TransformationFunction': 'Imputer', 'Operator': 'Mean', 'FeatureType': 'Numeric', 'ShouldOutput': True, 'TransformationParams': {'add_indicator': False, 'copy': True, 'fill_value': None, 'missing_values': nan, 'strategy': 'mean', 'verbose': 0}}}          \n",
       "8   {'Transformer1': {'Input': ['serum_sodium'], 'TransformationFunction': 'Imputer', 'Operator': 'Mean', 'FeatureType': 'Numeric', 'ShouldOutput': True, 'TransformationParams': {'add_indicator': False, 'copy': True, 'fill_value': None, 'missing_values': nan, 'strategy': 'mean', 'verbose': 0}}}              \n",
       "9   {'Transformer1': {'Input': ['sex'], 'TransformationFunction': 'Imputer', 'Operator': 'Mean', 'FeatureType': 'Numeric', 'ShouldOutput': True, 'TransformationParams': {'add_indicator': False, 'copy': True, 'fill_value': None, 'missing_values': nan, 'strategy': 'mean', 'verbose': 0}}}                       \n",
       "10  {'Transformer1': {'Input': ['smoking'], 'TransformationFunction': 'Imputer', 'Operator': 'Mean', 'FeatureType': 'Numeric', 'ShouldOutput': True, 'TransformationParams': {'add_indicator': False, 'copy': True, 'fill_value': None, 'missing_values': nan, 'strategy': 'mean', 'verbose': 0}}}                   \n",
       "11  {'Transformer1': {'Input': ['time'], 'TransformationFunction': 'Imputer', 'Operator': 'Mean', 'FeatureType': 'Numeric', 'ShouldOutput': True, 'TransformationParams': {'add_indicator': False, 'copy': True, 'fill_value': None, 'missing_values': nan, 'strategy': 'mean', 'verbose': 0}}}                      "
      ]
     },
     "execution_count": 15,
     "metadata": {},
     "output_type": "execute_result"
    }
   ],
   "source": [
    "df = custom_featurizer.get_featurization_summary(is_user_friendly=False)\n",
    "pd.DataFrame(data=df)"
   ]
  },
  {
   "cell_type": "code",
   "execution_count": 16,
   "metadata": {
    "scrolled": true
   },
   "outputs": [
    {
     "data": {
      "text/html": [
       "<div>\n",
       "<style scoped>\n",
       "    .dataframe tbody tr th:only-of-type {\n",
       "        vertical-align: middle;\n",
       "    }\n",
       "\n",
       "    .dataframe tbody tr th {\n",
       "        vertical-align: top;\n",
       "    }\n",
       "\n",
       "    .dataframe thead th {\n",
       "        text-align: right;\n",
       "    }\n",
       "</style>\n",
       "<table border=\"1\" class=\"dataframe\">\n",
       "  <thead>\n",
       "    <tr style=\"text-align: right;\">\n",
       "      <th></th>\n",
       "    </tr>\n",
       "  </thead>\n",
       "  <tbody>\n",
       "  </tbody>\n",
       "</table>\n",
       "</div>"
      ],
      "text/plain": [
       "Empty DataFrame\n",
       "Columns: []\n",
       "Index: []"
      ]
     },
     "execution_count": 16,
     "metadata": {},
     "output_type": "execute_result"
    }
   ],
   "source": [
    "df = custom_featurizer.get_stats_feature_type_summary()\n",
    "pd.DataFrame(data=df)"
   ]
  },
  {
   "cell_type": "markdown",
   "metadata": {},
   "source": [
    "## Results"
   ]
  },
  {
   "cell_type": "markdown",
   "metadata": {},
   "source": [
    "#### Retrieve the Best Model's explanation"
   ]
  },
  {
   "cell_type": "markdown",
   "metadata": {},
   "source": [
    "Retrieve the explanation from the best_run which includes explanations for engineered features and raw features. Make sure that the run for generating explanations for the best model is completed"
   ]
  },
  {
   "cell_type": "code",
   "execution_count": 17,
   "metadata": {},
   "outputs": [
    {
     "name": "stdout",
     "output_type": "stream",
     "text": [
      "AutoML_2d76aec7-a6dd-4206-9615-bf5c59423e1a_ModelExplain\n"
     ]
    },
    {
     "ename": "KeyboardInterrupt",
     "evalue": "",
     "output_type": "error",
     "traceback": [
      "\u001b[0;31m---------------------------------------------------------------------------\u001b[0m",
      "\u001b[0;31mKeyboardInterrupt\u001b[0m                         Traceback (most recent call last)",
      "\u001b[0;32m<ipython-input-17-02bd04bc46ec>\u001b[0m in \u001b[0;36m<module>\u001b[0;34m\u001b[0m\n\u001b[1;32m      4\u001b[0m \u001b[0mprint\u001b[0m\u001b[0;34m(\u001b[0m\u001b[0mmodel_explainability_run_id\u001b[0m\u001b[0;34m)\u001b[0m\u001b[0;34m\u001b[0m\u001b[0;34m\u001b[0m\u001b[0m\n\u001b[1;32m      5\u001b[0m \u001b[0mmodel_explainability_run\u001b[0m \u001b[0;34m=\u001b[0m \u001b[0mRun\u001b[0m\u001b[0;34m(\u001b[0m\u001b[0mexperiment\u001b[0m\u001b[0;34m=\u001b[0m\u001b[0mexperiment\u001b[0m\u001b[0;34m,\u001b[0m \u001b[0mrun_id\u001b[0m\u001b[0;34m=\u001b[0m\u001b[0mmodel_explainability_run_id\u001b[0m\u001b[0;34m)\u001b[0m\u001b[0;34m\u001b[0m\u001b[0;34m\u001b[0m\u001b[0m\n\u001b[0;32m----> 6\u001b[0;31m \u001b[0mmodel_explainability_run\u001b[0m\u001b[0;34m.\u001b[0m\u001b[0mwait_for_completion\u001b[0m\u001b[0;34m(\u001b[0m\u001b[0;34m)\u001b[0m\u001b[0;34m\u001b[0m\u001b[0;34m\u001b[0m\u001b[0m\n\u001b[0m\u001b[1;32m      7\u001b[0m \u001b[0;34m\u001b[0m\u001b[0m\n\u001b[1;32m      8\u001b[0m \u001b[0;31m# Get the best run object\u001b[0m\u001b[0;34m\u001b[0m\u001b[0;34m\u001b[0m\u001b[0;34m\u001b[0m\u001b[0m\n",
      "\u001b[0;32m/anaconda/envs/azureml_py36/lib/python3.6/site-packages/azureml/core/run.py\u001b[0m in \u001b[0;36mwait_for_completion\u001b[0;34m(self, show_output, wait_post_processing, raise_on_error)\u001b[0m\n\u001b[1;32m    738\u001b[0m             \u001b[0mpoll_start_time\u001b[0m \u001b[0;34m=\u001b[0m \u001b[0mtime\u001b[0m\u001b[0;34m.\u001b[0m\u001b[0mtime\u001b[0m\u001b[0;34m(\u001b[0m\u001b[0;34m)\u001b[0m\u001b[0;34m\u001b[0m\u001b[0;34m\u001b[0m\u001b[0m\n\u001b[1;32m    739\u001b[0m             \u001b[0;32mwhile\u001b[0m \u001b[0mcurrent_status\u001b[0m \u001b[0;32mis\u001b[0m \u001b[0;32mNone\u001b[0m \u001b[0;32mor\u001b[0m \u001b[0mcurrent_status\u001b[0m \u001b[0;32min\u001b[0m \u001b[0mrunning_states\u001b[0m\u001b[0;34m:\u001b[0m\u001b[0;34m\u001b[0m\u001b[0;34m\u001b[0m\u001b[0m\n\u001b[0;32m--> 740\u001b[0;31m                 \u001b[0mtime\u001b[0m\u001b[0;34m.\u001b[0m\u001b[0msleep\u001b[0m\u001b[0;34m(\u001b[0m\u001b[0mRun\u001b[0m\u001b[0;34m.\u001b[0m\u001b[0m_wait_before_polling\u001b[0m\u001b[0;34m(\u001b[0m\u001b[0mtime\u001b[0m\u001b[0;34m.\u001b[0m\u001b[0mtime\u001b[0m\u001b[0;34m(\u001b[0m\u001b[0;34m)\u001b[0m \u001b[0;34m-\u001b[0m \u001b[0mpoll_start_time\u001b[0m\u001b[0;34m)\u001b[0m\u001b[0;34m)\u001b[0m\u001b[0;34m\u001b[0m\u001b[0;34m\u001b[0m\u001b[0m\n\u001b[0m\u001b[1;32m    741\u001b[0m                 \u001b[0mcurrent_status\u001b[0m \u001b[0;34m=\u001b[0m \u001b[0mself\u001b[0m\u001b[0;34m.\u001b[0m\u001b[0mget_status\u001b[0m\u001b[0;34m(\u001b[0m\u001b[0;34m)\u001b[0m\u001b[0;34m\u001b[0m\u001b[0;34m\u001b[0m\u001b[0m\n\u001b[1;32m    742\u001b[0m \u001b[0;34m\u001b[0m\u001b[0m\n",
      "\u001b[0;31mKeyboardInterrupt\u001b[0m: "
     ]
    }
   ],
   "source": [
    "# Wait for the best model explanation run to complete\n",
    "from azureml.core.run import Run\n",
    "model_explainability_run_id = remote_run.id + \"_\" + \"ModelExplain\"\n",
    "print(model_explainability_run_id)\n",
    "model_explainability_run = Run(experiment=experiment, run_id=model_explainability_run_id)\n",
    "model_explainability_run.wait_for_completion()\n",
    "\n",
    "# Get the best run object\n",
    "best_run, fitted_model = remote_run.get_output()"
   ]
  },
  {
   "cell_type": "markdown",
   "metadata": {},
   "source": [
    "### Download engineered feature importance from artifact store"
   ]
  },
  {
   "cell_type": "code",
   "execution_count": null,
   "metadata": {},
   "outputs": [],
   "source": [
    "client = ExplanationClient.from_run(best_run)\n",
    "engineered_explanations = client.download_model_explanation(raw=False)\n",
    "exp_data = engineered_explanations.get_feature_importance_dict()\n",
    "exp_data"
   ]
  },
  {
   "cell_type": "markdown",
   "metadata": {},
   "source": [
    "### Download raw feature importance from artifact store"
   ]
  },
  {
   "cell_type": "code",
   "execution_count": null,
   "metadata": {},
   "outputs": [],
   "source": [
    "client = ExplanationClient.from_run(best_run)\n",
    "engineered_explanations = client.download_model_explanation(raw=True)\n",
    "exp_data = engineered_explanations.get_feature_importance_dict()\n",
    "exp_data"
   ]
  },
  {
   "cell_type": "markdown",
   "metadata": {},
   "source": [
    "## Retrieve the Best ONNX Mode"
   ]
  },
  {
   "cell_type": "markdown",
   "metadata": {},
   "source": [
    "Below we select the best pipeline from our iterations. The get_output method returns the best run and the fitted model. The Model includes the pipeline and any pre-processing. Overloads on get_output allow you to retrieve the best run and fitted model for any logged metric or for a particular iteration.\n",
    "\n",
    "Set the parameter return_onnx_model=True to retrieve the best ONNX model, instead of the Python model."
   ]
  },
  {
   "cell_type": "code",
   "execution_count": null,
   "metadata": {},
   "outputs": [],
   "source": [
    "best_run, onnx_mdl = remote_run.get_output(return_onnx_model=True)"
   ]
  },
  {
   "cell_type": "markdown",
   "metadata": {},
   "source": [
    "## Save the best ONNX model"
   ]
  },
  {
   "cell_type": "code",
   "execution_count": null,
   "metadata": {},
   "outputs": [],
   "source": [
    "from azureml.automl.runtime.onnx_convert import OnnxConverter\n",
    "onnx_fl_path = \"./best_automl_model.onnx\"\n",
    "OnnxConverter.save_onnx_model(onnx_mdl, onnx_fl_path)"
   ]
  },
  {
   "cell_type": "markdown",
   "metadata": {},
   "source": [
    "## Predict with the ONNX model, using onnxruntime package"
   ]
  },
  {
   "cell_type": "code",
   "execution_count": null,
   "metadata": {},
   "outputs": [],
   "source": [
    "df_test = dataset.to_pandas_dataframe()\n",
    "df_test = df_test[pd.notnull(df_test['DEATH_EVENT'])]\n",
    "\n",
    "y_test = df_test['DEATH_EVENT']\n",
    "X_test = df_test.drop(['DEATH_EVENT'], axis=1)"
   ]
  },
  {
   "cell_type": "code",
   "execution_count": null,
   "metadata": {},
   "outputs": [],
   "source": [
    "df_test"
   ]
  },
  {
   "cell_type": "code",
   "execution_count": null,
   "metadata": {},
   "outputs": [],
   "source": [
    "import sys\n",
    "import json\n",
    "from azureml.automl.core.onnx_convert import OnnxConvertConstants\n",
    "from azureml.train.automl import constants\n",
    "\n",
    "if sys.version_info < OnnxConvertConstants.OnnxIncompatiblePythonVersion:\n",
    "    python_version_compatible = True\n",
    "else:\n",
    "    python_version_compatible = False\n",
    "\n",
    "import onnxruntime\n",
    "from azureml.automl.runtime.onnx_convert import OnnxInferenceHelper\n",
    "\n",
    "def get_onnx_res(run):\n",
    "    res_path = 'onnx_resource.json'\n",
    "    run.download_file(name=constants.MODEL_RESOURCE_PATH_ONNX, output_file_path=res_path)\n",
    "    with open(res_path) as f:\n",
    "        onnx_res = json.load(f)\n",
    "    return onnx_res\n",
    "\n",
    "if python_version_compatible:\n",
    "    test_df = X_test\n",
    "    mdl_bytes = onnx_mdl.SerializeToString()\n",
    "    onnx_res = get_onnx_res(best_run)\n",
    "\n",
    "    onnxrt_helper = OnnxInferenceHelper(mdl_bytes, onnx_res)\n",
    "    pred_onnx, pred_prob_onnx = onnxrt_helper.predict(test_df)\n",
    "\n",
    "    print(pred_onnx)\n",
    "    print(pred_prob_onnx)\n",
    "else:\n",
    "    print('Please use Python version 3.6 or 3.7 to run the inference helper.')"
   ]
  },
  {
   "cell_type": "markdown",
   "metadata": {},
   "source": [
    "## Deploy"
   ]
  },
  {
   "cell_type": "markdown",
   "metadata": {},
   "source": [
    "Retrieve the Best Model\n",
    "Below we select the best pipeline from our iterations. The get_output method returns the best run and the fitted model. Overloads on get_output allow you to retrieve the best run and fitted model for any logged metric or for a particular iteration.\n",
    "\n",
    "Widget for Monitoring Runs\n",
    "The widget will first report a \"loading\" status while running the first iteration. After completing the first iteration, an auto-updating graph and table will be shown. The widget will refresh once per minute, so you should see the graph update as child runs complete.\n",
    "\n",
    "Note: The widget displays a link at the bottom. Use this link to open a web interface to explore the individual run details"
   ]
  },
  {
   "cell_type": "code",
   "execution_count": 18,
   "metadata": {},
   "outputs": [],
   "source": [
    "best_run, fitted_model = remote_run.get_output()"
   ]
  },
  {
   "cell_type": "code",
   "execution_count": 19,
   "metadata": {
    "scrolled": true
   },
   "outputs": [
    {
     "data": {
      "text/html": [
       "<table style=\"width:100%\"><tr><th>Experiment</th><th>Id</th><th>Type</th><th>Status</th><th>Details Page</th><th>Docs Page</th></tr><tr><td>automl-classification-experiment</td><td>AutoML_2d76aec7-a6dd-4206-9615-bf5c59423e1a_55</td><td>azureml.scriptrun</td><td>Completed</td><td><a href=\"https://ml.azure.com/experiments/automl-classification-experiment/runs/AutoML_2d76aec7-a6dd-4206-9615-bf5c59423e1a_55?wsid=/subscriptions/30d182b7-c8c4-421c-8fa0-d3037ecfe6d2/resourcegroups/aml-quickstarts-130577/workspaces/quick-starts-ws-130577\" target=\"_blank\" rel=\"noopener\">Link to Azure Machine Learning studio</a></td><td><a href=\"https://docs.microsoft.com/en-us/python/api/azureml-core/azureml.core.run.Run?view=azure-ml-py\" target=\"_blank\" rel=\"noopener\">Link to Documentation</a></td></tr></table>"
      ],
      "text/plain": [
       "Run(Experiment: automl-classification-experiment,\n",
       "Id: AutoML_2d76aec7-a6dd-4206-9615-bf5c59423e1a_55,\n",
       "Type: azureml.scriptrun,\n",
       "Status: Completed)"
      ]
     },
     "execution_count": 19,
     "metadata": {},
     "output_type": "execute_result"
    }
   ],
   "source": [
    "best_run"
   ]
  },
  {
   "cell_type": "code",
   "execution_count": 20,
   "metadata": {},
   "outputs": [
    {
     "data": {
      "text/html": [
       "['accuracy_table', 'automl_driver.py', 'azureml-logs/55_azureml-execution-tvmps_331d9cabbb977074b50c970c9485543d172f587bd03d1e9d2526683c68fd10b7_d.txt', 'azureml-logs/65_job_prep-tvmps_331d9cabbb977074b50c970c9485543d172f587bd03d1e9d2526683c68fd10b7_d.txt', 'azureml-logs/70_driver_log.txt', 'azureml-logs/75_job_post-tvmps_331d9cabbb977074b50c970c9485543d172f587bd03d1e9d2526683c68fd10b7_d.txt', 'azureml-logs/process_info.json', 'azureml-logs/process_status.json', 'confusion_matrix', 'logs/azureml/105_azureml.log', 'logs/azureml/azureml_automl.log', 'logs/azureml/dataprep/python_span_cd99db00-93a8-4373-9d41-98f206d0d0b8.jsonl', 'logs/azureml/dataprep/python_span_f7e274aa-9477-4529-87e5-c4452a374655.jsonl', 'logs/azureml/job_prep_azureml.log', 'logs/azureml/job_release_azureml.log', 'outputs/conda_env_v_1_0_0.yml', 'outputs/env_dependencies.json', 'outputs/model.onnx', 'outputs/model.pkl', 'outputs/model_onnx.json', 'outputs/pipeline_graph.json', 'outputs/scoring_file_v_1_0_0.py']"
      ],
      "text/plain": [
       "['accuracy_table',\n",
       " 'automl_driver.py',\n",
       " 'azureml-logs/55_azureml-execution-tvmps_331d9cabbb977074b50c970c9485543d172f587bd03d1e9d2526683c68fd10b7_d.txt',\n",
       " 'azureml-logs/65_job_prep-tvmps_331d9cabbb977074b50c970c9485543d172f587bd03d1e9d2526683c68fd10b7_d.txt',\n",
       " 'azureml-logs/70_driver_log.txt',\n",
       " 'azureml-logs/75_job_post-tvmps_331d9cabbb977074b50c970c9485543d172f587bd03d1e9d2526683c68fd10b7_d.txt',\n",
       " 'azureml-logs/process_info.json',\n",
       " 'azureml-logs/process_status.json',\n",
       " 'confusion_matrix',\n",
       " 'logs/azureml/105_azureml.log',\n",
       " 'logs/azureml/azureml_automl.log',\n",
       " 'logs/azureml/dataprep/python_span_cd99db00-93a8-4373-9d41-98f206d0d0b8.jsonl',\n",
       " 'logs/azureml/dataprep/python_span_f7e274aa-9477-4529-87e5-c4452a374655.jsonl',\n",
       " 'logs/azureml/job_prep_azureml.log',\n",
       " 'logs/azureml/job_release_azureml.log',\n",
       " 'outputs/conda_env_v_1_0_0.yml',\n",
       " 'outputs/env_dependencies.json',\n",
       " 'outputs/model.onnx',\n",
       " 'outputs/model.pkl',\n",
       " 'outputs/model_onnx.json',\n",
       " 'outputs/pipeline_graph.json',\n",
       " 'outputs/scoring_file_v_1_0_0.py']"
      ]
     },
     "execution_count": 20,
     "metadata": {},
     "output_type": "execute_result"
    }
   ],
   "source": [
    "best_run.get_file_names()"
   ]
  },
  {
   "cell_type": "code",
   "execution_count": 21,
   "metadata": {},
   "outputs": [],
   "source": [
    "model_name = best_run.properties['model_name']\n",
    "\n",
    "script_file_name = 'inference/score.py'\n",
    "\n",
    "best_run.download_file('outputs/scoring_file_v_1_0_0.py', 'inference/score.py')"
   ]
  },
  {
   "cell_type": "code",
   "execution_count": 24,
   "metadata": {},
   "outputs": [
    {
     "data": {
      "text/plain": [
       "'AutoML2d76aec7a55'"
      ]
     },
     "execution_count": 24,
     "metadata": {},
     "output_type": "execute_result"
    }
   ],
   "source": [
    "model_name"
   ]
  },
  {
   "cell_type": "markdown",
   "metadata": {},
   "source": [
    "## Register the Fitted Model for Deployment"
   ]
  },
  {
   "cell_type": "code",
   "execution_count": 22,
   "metadata": {},
   "outputs": [
    {
     "name": "stdout",
     "output_type": "stream",
     "text": [
      "AutoML2d76aec7a55\n"
     ]
    }
   ],
   "source": [
    "description = 'AutoML Model trained on bank marketing data to predict if a client will subscribe to a term deposit'\n",
    "tags = None\n",
    "model = remote_run.register_model(model_name = model_name, description = description, tags = tags)\n",
    "\n",
    "print(remote_run.model_id) # This will be written to the script file later in the notebook"
   ]
  },
  {
   "cell_type": "markdown",
   "metadata": {},
   "source": [
    "## Deploy the model as a Web Service on Azure Container Instance"
   ]
  },
  {
   "cell_type": "code",
   "execution_count": 23,
   "metadata": {},
   "outputs": [
    {
     "name": "stdout",
     "output_type": "stream",
     "text": [
      "automl-heart-failure\n",
      "Tips: You can try get_logs(): https://aka.ms/debugimage#dockerlog or local deployment: https://aka.ms/debugimage#debug-locally to debug if deployment takes longer than 10 minutes.\n",
      "Running................\n",
      "Succeeded\n",
      "ACI service creation operation finished, operation \"Succeeded\"\n",
      "Healthy\n"
     ]
    }
   ],
   "source": [
    "from azureml.core.model import InferenceConfig\n",
    "from azureml.core.webservice import AciWebservice\n",
    "from azureml.core.webservice import Webservice\n",
    "from azureml.core.model import Model\n",
    "from azureml.core.environment import Environment\n",
    "\n",
    "inference_config = InferenceConfig(entry_script=script_file_name)\n",
    "\n",
    "aciconfig = AciWebservice.deploy_configuration(cpu_cores = 1, \n",
    "                                               memory_gb = 1, \n",
    "                                               tags = {'area': \"bmData\", 'type': \"automl_classification\"}, \n",
    "                                               description = 'sample service for Automl Classification')\n",
    "\n",
    "aci_service_name = 'automl-heart-failure'\n",
    "print(aci_service_name)\n",
    "aci_service = Model.deploy(ws, aci_service_name, [model], inference_config, aciconfig)\n",
    "aci_service.wait_for_deployment(True)\n",
    "print(aci_service.state)"
   ]
  },
  {
   "cell_type": "markdown",
   "metadata": {},
   "source": [
    "## Get Logs from a Deployed Web Service"
   ]
  },
  {
   "cell_type": "code",
   "execution_count": null,
   "metadata": {},
   "outputs": [],
   "source": [
    "aci_service.get_logs()"
   ]
  },
  {
   "cell_type": "markdown",
   "metadata": {},
   "source": [
    "## Test"
   ]
  },
  {
   "cell_type": "markdown",
   "metadata": {},
   "source": [
    "Now that the model is trained, run the test data through the trained model to get the predicted values. This calls the ACI web service to do the prediction.\n",
    "\n",
    "Note that the JSON passed to the ACI web service is an array of rows of data. Each row should either be an array of values in the same order that was used for training or a dictionary where the keys are the same as the column names used for training. The example below uses dictionary rows."
   ]
  },
  {
   "cell_type": "code",
   "execution_count": null,
   "metadata": {},
   "outputs": [],
   "source": [
    "from numpy import array\n",
    "\n",
    "X_test = dataset.drop_columns(columns=['DEATH_EVENT'])\n",
    "y_test = dataset.keep_columns(columns=['DEATH_EVENT'], validate=True)\n",
    "dataset.take(5).to_pandas_dataframe()"
   ]
  },
  {
   "cell_type": "code",
   "execution_count": null,
   "metadata": {},
   "outputs": [],
   "source": [
    "\n",
    "X_test = X_test.to_pandas_dataframe()\n",
    "y_test = y_test.to_pandas_dataframe()"
   ]
  },
  {
   "cell_type": "code",
   "execution_count": null,
   "metadata": {},
   "outputs": [],
   "source": [
    "X_test[0]"
   ]
  },
  {
   "cell_type": "code",
   "execution_count": null,
   "metadata": {},
   "outputs": [],
   "source": [
    "y_test[0]"
   ]
  },
  {
   "cell_type": "code",
   "execution_count": null,
   "metadata": {},
   "outputs": [],
   "source": []
  },
  {
   "cell_type": "code",
   "execution_count": null,
   "metadata": {},
   "outputs": [],
   "source": [
    "import json\n",
    "import requests\n",
    "\n",
    "X_test_json = X_test.to_json(orient='records')\n",
    "data = \"{\\\"data\\\": \" + X_test_json +\"}\"\n",
    "headers = {'Content-Type': 'application/json'}\n",
    "\n",
    "resp = requests.post(aci_service.scoring_uri, data, headers=headers)\n",
    "\n",
    "y_pred = json.loads(json.loads(resp.text))['result']"
   ]
  },
  {
   "cell_type": "code",
   "execution_count": null,
   "metadata": {},
   "outputs": [],
   "source": [
    "\n",
    "actual = array(y_test)\n",
    "actual = actual[:,0]\n",
    "print(len(y_pred), \" \", len(actual))"
   ]
  },
  {
   "cell_type": "markdown",
   "metadata": {},
   "source": [
    "## Calculate metrics for the prediction"
   ]
  },
  {
   "cell_type": "markdown",
   "metadata": {},
   "source": [
    "Now visualize the data as a confusion matrix that compared the predicted values against the actual values."
   ]
  },
  {
   "cell_type": "code",
   "execution_count": null,
   "metadata": {},
   "outputs": [],
   "source": [
    "%matplotlib notebook\n",
    "from sklearn.metrics import confusion_matrix\n",
    "import numpy as np\n",
    "import itertools\n",
    "\n",
    "cf =confusion_matrix(actual,y_pred)\n",
    "plt.imshow(cf,cmap=plt.cm.Blues,interpolation='nearest')\n",
    "plt.colorbar()\n",
    "plt.title('Confusion Matrix')\n",
    "plt.xlabel('Predicted')\n",
    "plt.ylabel('Actual')\n",
    "class_labels = ['no','yes']\n",
    "tick_marks = np.arange(len(class_labels))\n",
    "plt.xticks(tick_marks,class_labels)\n",
    "plt.yticks([-0.5,0,1,1.5],['','no','yes',''])\n",
    "# plotting text value inside cells\n",
    "thresh = cf.max() / 2.\n",
    "for i,j in itertools.product(range(cf.shape[0]),range(cf.shape[1])):\n",
    "    plt.text(j,i,format(cf[i,j],'d'),horizontalalignment='center',color='white' if cf[i,j] >thresh else 'black')\n",
    "plt.show()"
   ]
  },
  {
   "cell_type": "markdown",
   "metadata": {},
   "source": [
    "## Delete a Web Service (i.e. endpoint)"
   ]
  },
  {
   "cell_type": "code",
   "execution_count": null,
   "metadata": {},
   "outputs": [],
   "source": [
    "aci_service.delete()"
   ]
  },
  {
   "cell_type": "code",
   "execution_count": null,
   "metadata": {},
   "outputs": [],
   "source": []
  }
 ],
 "metadata": {
  "kernel_info": {
   "name": "python3-azureml"
  },
  "kernelspec": {
   "display_name": "Python 3",
   "language": "python",
   "name": "python3"
  },
  "language_info": {
   "codemirror_mode": {
    "name": "ipython",
    "version": 3
   },
   "file_extension": ".py",
   "mimetype": "text/x-python",
   "name": "python",
   "nbconvert_exporter": "python",
   "pygments_lexer": "ipython3",
   "version": "3.6.9"
  },
  "nteract": {
   "version": "nteract-front-end@1.0.0"
  }
 },
 "nbformat": 4,
 "nbformat_minor": 2
}
