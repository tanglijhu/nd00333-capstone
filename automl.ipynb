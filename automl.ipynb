{
 "cells": [
  {
   "cell_type": "markdown",
   "metadata": {},
   "source": [
    "## Automated ML\n",
    "\n",
    "Import dependencies. "
   ]
  },
  {
   "cell_type": "code",
   "execution_count": 1,
   "metadata": {
    "gather": {
     "logged": 1598423888013
    },
    "jupyter": {
     "outputs_hidden": false,
     "source_hidden": false
    },
    "nteract": {
     "transient": {
      "deleting": false
     }
    }
   },
   "outputs": [],
   "source": [
    "import logging\n",
    "\n",
    "from matplotlib import pyplot as plt\n",
    "import pandas as pd\n",
    "import os\n",
    "\n",
    "import azureml.core\n",
    "from azureml.core.experiment import Experiment\n",
    "from azureml.core.workspace import Workspace\n",
    "from azureml.automl.core.featurization import FeaturizationConfig\n",
    "from azureml.core.dataset import Dataset\n",
    "from azureml.train.automl import AutoMLConfig\n",
    "from azureml.interpret import ExplanationClient"
   ]
  },
  {
   "cell_type": "markdown",
   "metadata": {},
   "source": [
    "## Dataset\n",
    "\n",
    "### Overview\n",
    "\n",
    "Dataset from Davide Chicco, Giuseppe Jurman: \"Machine learning can predict survival of patients with heart failure from serum creatinine and ejection fraction alone\". BMC Medical Informatics and Decision Making 20, 16 (2020)\n",
    "\n",
    "Cardiovascular diseases (CVDs) are the number 1 cause of death globally, taking an estimated 17.9 million lives each year, which accounts for 31% of all deaths worlwide.\n",
    "Heart failure is a common event caused by CVDs and this dataset contains 12 features that can be used to predict mortality by heart failure.\n",
    "\n",
    "Twelve (12) clinical features:\n",
    "\n",
    "- age: age of the patient (years)\n",
    "- anaemia: decrease of red blood cells or hemoglobin (boolean)\n",
    "- high blood pressure: if the patient has hypertension (boolean)\n",
    "- creatinine phosphokinase (CPK): level of the CPK enzyme in the blood (mcg/L)\n",
    "- diabetes: if the patient has diabetes (boolean)\n",
    "- ejection fraction: percentage of blood leaving the heart at each contraction (percentage)\n",
    "- platelets: platelets in the blood (kiloplatelets/mL)\n",
    "- sex: woman or man (binary)\n",
    "- serum creatinine: level of serum creatinine in the blood (mg/dL)\n",
    "- serum sodium: level of serum sodium in the blood (mEq/L)\n",
    "- smoking: if the patient smokes or not (boolean)\n",
    "- time: follow-up period (days)\n",
    "\n",
    "Most cardiovascular diseases can be prevented by addressing behavioural risk factors such as tobacco use, unhealthy diet and obesity, physical inactivity and harmful use of alcohol using population-wide strategies.\n",
    "\n",
    "People with cardiovascular disease or who are at high cardiovascular risk (due to the presence of one or more risk factors such as hypertension, diabetes, hyperlipidaemia or already established disease) need early detection and management wherein a machine learning model can be of great help.\n",
    "\n",
    "For this task, Azure auto machine learning will be performed to make accurate prediction on the death event based on patient's 12 clinical features. "
   ]
  },
  {
   "cell_type": "markdown",
   "metadata": {},
   "source": [
    "## Review Dataset Result"
   ]
  },
  {
   "cell_type": "code",
   "execution_count": 2,
   "metadata": {
    "gather": {
     "logged": 1598423890461
    },
    "jupyter": {
     "outputs_hidden": false,
     "source_hidden": false
    },
    "nteract": {
     "transient": {
      "deleting": false
     }
    },
    "scrolled": false
   },
   "outputs": [
    {
     "data": {
      "text/html": [
       "<div>\n",
       "<style scoped>\n",
       "    .dataframe tbody tr th:only-of-type {\n",
       "        vertical-align: middle;\n",
       "    }\n",
       "\n",
       "    .dataframe tbody tr th {\n",
       "        vertical-align: top;\n",
       "    }\n",
       "\n",
       "    .dataframe thead th {\n",
       "        text-align: right;\n",
       "    }\n",
       "</style>\n",
       "<table border=\"1\" class=\"dataframe\">\n",
       "  <thead>\n",
       "    <tr style=\"text-align: right;\">\n",
       "      <th></th>\n",
       "      <th></th>\n",
       "    </tr>\n",
       "  </thead>\n",
       "  <tbody>\n",
       "    <tr>\n",
       "      <th>Subscription ID</th>\n",
       "      <td>a7e82b92-bbed-4497-a8df-009b71b94f9c</td>\n",
       "    </tr>\n",
       "    <tr>\n",
       "      <th>Workspace</th>\n",
       "      <td>quick-starts-ws-130665</td>\n",
       "    </tr>\n",
       "    <tr>\n",
       "      <th>Resource Group</th>\n",
       "      <td>aml-quickstarts-130665</td>\n",
       "    </tr>\n",
       "    <tr>\n",
       "      <th>Location</th>\n",
       "      <td>southcentralus</td>\n",
       "    </tr>\n",
       "    <tr>\n",
       "      <th>Experiment Name</th>\n",
       "      <td>automl-classification-experiment</td>\n",
       "    </tr>\n",
       "  </tbody>\n",
       "</table>\n",
       "</div>"
      ],
      "text/plain": [
       "                                                     \n",
       "Subscription ID  a7e82b92-bbed-4497-a8df-009b71b94f9c\n",
       "Workspace        quick-starts-ws-130665              \n",
       "Resource Group   aml-quickstarts-130665              \n",
       "Location         southcentralus                      \n",
       "Experiment Name  automl-classification-experiment    "
      ]
     },
     "execution_count": 2,
     "metadata": {},
     "output_type": "execute_result"
    }
   ],
   "source": [
    "ws = Workspace.from_config()\n",
    "\n",
    "# choose a name for experiment\n",
    "experiment_name = 'automl-classification-experiment'\n",
    "\n",
    "experiment=Experiment(ws, experiment_name)\n",
    "\n",
    "output = {}\n",
    "output['Subscription ID'] = ws.subscription_id\n",
    "output['Workspace'] = ws.name\n",
    "output['Resource Group'] = ws.resource_group\n",
    "output['Location'] = ws.location\n",
    "output['Experiment Name'] = experiment.name\n",
    "pd.set_option('display.max_colwidth', -1)\n",
    "outputDf = pd.DataFrame(data = output, index = [''])\n",
    "outputDf.T"
   ]
  },
  {
   "cell_type": "code",
   "execution_count": 3,
   "metadata": {
    "scrolled": true
   },
   "outputs": [
    {
     "data": {
      "text/html": [
       "<div>\n",
       "<style scoped>\n",
       "    .dataframe tbody tr th:only-of-type {\n",
       "        vertical-align: middle;\n",
       "    }\n",
       "\n",
       "    .dataframe tbody tr th {\n",
       "        vertical-align: top;\n",
       "    }\n",
       "\n",
       "    .dataframe thead th {\n",
       "        text-align: right;\n",
       "    }\n",
       "</style>\n",
       "<table border=\"1\" class=\"dataframe\">\n",
       "  <thead>\n",
       "    <tr style=\"text-align: right;\">\n",
       "      <th></th>\n",
       "      <th>age</th>\n",
       "      <th>anaemia</th>\n",
       "      <th>creatinine_phosphokinase</th>\n",
       "      <th>diabetes</th>\n",
       "      <th>ejection_fraction</th>\n",
       "      <th>high_blood_pressure</th>\n",
       "      <th>platelets</th>\n",
       "      <th>serum_creatinine</th>\n",
       "      <th>serum_sodium</th>\n",
       "      <th>sex</th>\n",
       "      <th>smoking</th>\n",
       "      <th>time</th>\n",
       "      <th>DEATH_EVENT</th>\n",
       "    </tr>\n",
       "  </thead>\n",
       "  <tbody>\n",
       "    <tr>\n",
       "      <th>count</th>\n",
       "      <td>299.000000</td>\n",
       "      <td>299.000000</td>\n",
       "      <td>299.000000</td>\n",
       "      <td>299.000000</td>\n",
       "      <td>299.000000</td>\n",
       "      <td>299.000000</td>\n",
       "      <td>299.000000</td>\n",
       "      <td>299.00000</td>\n",
       "      <td>299.000000</td>\n",
       "      <td>299.000000</td>\n",
       "      <td>299.00000</td>\n",
       "      <td>299.000000</td>\n",
       "      <td>299.00000</td>\n",
       "    </tr>\n",
       "    <tr>\n",
       "      <th>mean</th>\n",
       "      <td>60.833893</td>\n",
       "      <td>0.431438</td>\n",
       "      <td>581.839465</td>\n",
       "      <td>0.418060</td>\n",
       "      <td>38.083612</td>\n",
       "      <td>0.351171</td>\n",
       "      <td>263358.029264</td>\n",
       "      <td>1.39388</td>\n",
       "      <td>136.625418</td>\n",
       "      <td>0.648829</td>\n",
       "      <td>0.32107</td>\n",
       "      <td>130.260870</td>\n",
       "      <td>0.32107</td>\n",
       "    </tr>\n",
       "    <tr>\n",
       "      <th>std</th>\n",
       "      <td>11.894809</td>\n",
       "      <td>0.496107</td>\n",
       "      <td>970.287881</td>\n",
       "      <td>0.494067</td>\n",
       "      <td>11.834841</td>\n",
       "      <td>0.478136</td>\n",
       "      <td>97804.236869</td>\n",
       "      <td>1.03451</td>\n",
       "      <td>4.412477</td>\n",
       "      <td>0.478136</td>\n",
       "      <td>0.46767</td>\n",
       "      <td>77.614208</td>\n",
       "      <td>0.46767</td>\n",
       "    </tr>\n",
       "    <tr>\n",
       "      <th>min</th>\n",
       "      <td>40.000000</td>\n",
       "      <td>0.000000</td>\n",
       "      <td>23.000000</td>\n",
       "      <td>0.000000</td>\n",
       "      <td>14.000000</td>\n",
       "      <td>0.000000</td>\n",
       "      <td>25100.000000</td>\n",
       "      <td>0.50000</td>\n",
       "      <td>113.000000</td>\n",
       "      <td>0.000000</td>\n",
       "      <td>0.00000</td>\n",
       "      <td>4.000000</td>\n",
       "      <td>0.00000</td>\n",
       "    </tr>\n",
       "    <tr>\n",
       "      <th>25%</th>\n",
       "      <td>51.000000</td>\n",
       "      <td>0.000000</td>\n",
       "      <td>116.500000</td>\n",
       "      <td>0.000000</td>\n",
       "      <td>30.000000</td>\n",
       "      <td>0.000000</td>\n",
       "      <td>212500.000000</td>\n",
       "      <td>0.90000</td>\n",
       "      <td>134.000000</td>\n",
       "      <td>0.000000</td>\n",
       "      <td>0.00000</td>\n",
       "      <td>73.000000</td>\n",
       "      <td>0.00000</td>\n",
       "    </tr>\n",
       "    <tr>\n",
       "      <th>50%</th>\n",
       "      <td>60.000000</td>\n",
       "      <td>0.000000</td>\n",
       "      <td>250.000000</td>\n",
       "      <td>0.000000</td>\n",
       "      <td>38.000000</td>\n",
       "      <td>0.000000</td>\n",
       "      <td>262000.000000</td>\n",
       "      <td>1.10000</td>\n",
       "      <td>137.000000</td>\n",
       "      <td>1.000000</td>\n",
       "      <td>0.00000</td>\n",
       "      <td>115.000000</td>\n",
       "      <td>0.00000</td>\n",
       "    </tr>\n",
       "    <tr>\n",
       "      <th>75%</th>\n",
       "      <td>70.000000</td>\n",
       "      <td>1.000000</td>\n",
       "      <td>582.000000</td>\n",
       "      <td>1.000000</td>\n",
       "      <td>45.000000</td>\n",
       "      <td>1.000000</td>\n",
       "      <td>303500.000000</td>\n",
       "      <td>1.40000</td>\n",
       "      <td>140.000000</td>\n",
       "      <td>1.000000</td>\n",
       "      <td>1.00000</td>\n",
       "      <td>203.000000</td>\n",
       "      <td>1.00000</td>\n",
       "    </tr>\n",
       "    <tr>\n",
       "      <th>max</th>\n",
       "      <td>95.000000</td>\n",
       "      <td>1.000000</td>\n",
       "      <td>7861.000000</td>\n",
       "      <td>1.000000</td>\n",
       "      <td>80.000000</td>\n",
       "      <td>1.000000</td>\n",
       "      <td>850000.000000</td>\n",
       "      <td>9.40000</td>\n",
       "      <td>148.000000</td>\n",
       "      <td>1.000000</td>\n",
       "      <td>1.00000</td>\n",
       "      <td>285.000000</td>\n",
       "      <td>1.00000</td>\n",
       "    </tr>\n",
       "  </tbody>\n",
       "</table>\n",
       "</div>"
      ],
      "text/plain": [
       "              age     anaemia  creatinine_phosphokinase    diabetes  \\\n",
       "count  299.000000  299.000000  299.000000                299.000000   \n",
       "mean   60.833893   0.431438    581.839465                0.418060     \n",
       "std    11.894809   0.496107    970.287881                0.494067     \n",
       "min    40.000000   0.000000    23.000000                 0.000000     \n",
       "25%    51.000000   0.000000    116.500000                0.000000     \n",
       "50%    60.000000   0.000000    250.000000                0.000000     \n",
       "75%    70.000000   1.000000    582.000000                1.000000     \n",
       "max    95.000000   1.000000    7861.000000               1.000000     \n",
       "\n",
       "       ejection_fraction  high_blood_pressure      platelets  \\\n",
       "count  299.000000         299.000000           299.000000      \n",
       "mean   38.083612          0.351171             263358.029264   \n",
       "std    11.834841          0.478136             97804.236869    \n",
       "min    14.000000          0.000000             25100.000000    \n",
       "25%    30.000000          0.000000             212500.000000   \n",
       "50%    38.000000          0.000000             262000.000000   \n",
       "75%    45.000000          1.000000             303500.000000   \n",
       "max    80.000000          1.000000             850000.000000   \n",
       "\n",
       "       serum_creatinine  serum_sodium         sex    smoking        time  \\\n",
       "count  299.00000         299.000000    299.000000  299.00000  299.000000   \n",
       "mean   1.39388           136.625418    0.648829    0.32107    130.260870   \n",
       "std    1.03451           4.412477      0.478136    0.46767    77.614208    \n",
       "min    0.50000           113.000000    0.000000    0.00000    4.000000     \n",
       "25%    0.90000           134.000000    0.000000    0.00000    73.000000    \n",
       "50%    1.10000           137.000000    1.000000    0.00000    115.000000   \n",
       "75%    1.40000           140.000000    1.000000    1.00000    203.000000   \n",
       "max    9.40000           148.000000    1.000000    1.00000    285.000000   \n",
       "\n",
       "       DEATH_EVENT  \n",
       "count  299.00000    \n",
       "mean   0.32107      \n",
       "std    0.46767      \n",
       "min    0.00000      \n",
       "25%    0.00000      \n",
       "50%    0.00000      \n",
       "75%    1.00000      \n",
       "max    1.00000      "
      ]
     },
     "execution_count": 3,
     "metadata": {},
     "output_type": "execute_result"
    }
   ],
   "source": [
    "# Try to load the dataset from the Workspace. Otherwise, create it from the file\n",
    "# NOTE: update the key to match the dataset name\n",
    "found = False\n",
    "key = \"heart-failure\"\n",
    "description_text = \"Clinical Record DataSet for Predicting Death Event\"\n",
    "\n",
    "if key in ws.datasets.keys(): \n",
    "        found = True\n",
    "        dataset = ws.datasets[key] \n",
    "\n",
    "if not found:\n",
    "        # Create AML Dataset and register it into Workspace\n",
    "        example_data = 'https://mlstrg130254.blob.core.windows.net/azureml-blobstore-01848383-aa83-4b0d-a1e9-2957a2018b7b'\n",
    "        dataset = Dataset.Tabular.from_delimited_files(example_data)        \n",
    "        #Register Dataset in Workspace\n",
    "        dataset = dataset.register(workspace=ws,\n",
    "                                   name=key,\n",
    "                                   description=description_text)\n",
    "\n",
    "\n",
    "df = dataset.to_pandas_dataframe()\n",
    "df.describe()"
   ]
  },
  {
   "cell_type": "code",
   "execution_count": 4,
   "metadata": {},
   "outputs": [
    {
     "data": {
      "text/html": [
       "<div>\n",
       "<style scoped>\n",
       "    .dataframe tbody tr th:only-of-type {\n",
       "        vertical-align: middle;\n",
       "    }\n",
       "\n",
       "    .dataframe tbody tr th {\n",
       "        vertical-align: top;\n",
       "    }\n",
       "\n",
       "    .dataframe thead th {\n",
       "        text-align: right;\n",
       "    }\n",
       "</style>\n",
       "<table border=\"1\" class=\"dataframe\">\n",
       "  <thead>\n",
       "    <tr style=\"text-align: right;\">\n",
       "      <th></th>\n",
       "      <th>age</th>\n",
       "      <th>anaemia</th>\n",
       "      <th>creatinine_phosphokinase</th>\n",
       "      <th>diabetes</th>\n",
       "      <th>ejection_fraction</th>\n",
       "      <th>high_blood_pressure</th>\n",
       "      <th>platelets</th>\n",
       "      <th>serum_creatinine</th>\n",
       "      <th>serum_sodium</th>\n",
       "      <th>sex</th>\n",
       "      <th>smoking</th>\n",
       "      <th>time</th>\n",
       "      <th>DEATH_EVENT</th>\n",
       "    </tr>\n",
       "  </thead>\n",
       "  <tbody>\n",
       "    <tr>\n",
       "      <th>0</th>\n",
       "      <td>75.0</td>\n",
       "      <td>0</td>\n",
       "      <td>582</td>\n",
       "      <td>0</td>\n",
       "      <td>20</td>\n",
       "      <td>1</td>\n",
       "      <td>265000.00</td>\n",
       "      <td>1.9</td>\n",
       "      <td>130</td>\n",
       "      <td>1</td>\n",
       "      <td>0</td>\n",
       "      <td>4</td>\n",
       "      <td>1</td>\n",
       "    </tr>\n",
       "    <tr>\n",
       "      <th>1</th>\n",
       "      <td>55.0</td>\n",
       "      <td>0</td>\n",
       "      <td>7861</td>\n",
       "      <td>0</td>\n",
       "      <td>38</td>\n",
       "      <td>0</td>\n",
       "      <td>263358.03</td>\n",
       "      <td>1.1</td>\n",
       "      <td>136</td>\n",
       "      <td>1</td>\n",
       "      <td>0</td>\n",
       "      <td>6</td>\n",
       "      <td>1</td>\n",
       "    </tr>\n",
       "    <tr>\n",
       "      <th>2</th>\n",
       "      <td>65.0</td>\n",
       "      <td>0</td>\n",
       "      <td>146</td>\n",
       "      <td>0</td>\n",
       "      <td>20</td>\n",
       "      <td>0</td>\n",
       "      <td>162000.00</td>\n",
       "      <td>1.3</td>\n",
       "      <td>129</td>\n",
       "      <td>1</td>\n",
       "      <td>1</td>\n",
       "      <td>7</td>\n",
       "      <td>1</td>\n",
       "    </tr>\n",
       "    <tr>\n",
       "      <th>3</th>\n",
       "      <td>50.0</td>\n",
       "      <td>1</td>\n",
       "      <td>111</td>\n",
       "      <td>0</td>\n",
       "      <td>20</td>\n",
       "      <td>0</td>\n",
       "      <td>210000.00</td>\n",
       "      <td>1.9</td>\n",
       "      <td>137</td>\n",
       "      <td>1</td>\n",
       "      <td>0</td>\n",
       "      <td>7</td>\n",
       "      <td>1</td>\n",
       "    </tr>\n",
       "    <tr>\n",
       "      <th>4</th>\n",
       "      <td>65.0</td>\n",
       "      <td>1</td>\n",
       "      <td>160</td>\n",
       "      <td>1</td>\n",
       "      <td>20</td>\n",
       "      <td>0</td>\n",
       "      <td>327000.00</td>\n",
       "      <td>2.7</td>\n",
       "      <td>116</td>\n",
       "      <td>0</td>\n",
       "      <td>0</td>\n",
       "      <td>8</td>\n",
       "      <td>1</td>\n",
       "    </tr>\n",
       "  </tbody>\n",
       "</table>\n",
       "</div>"
      ],
      "text/plain": [
       "    age  anaemia  creatinine_phosphokinase  diabetes  ejection_fraction  \\\n",
       "0  75.0  0        582                       0         20                  \n",
       "1  55.0  0        7861                      0         38                  \n",
       "2  65.0  0        146                       0         20                  \n",
       "3  50.0  1        111                       0         20                  \n",
       "4  65.0  1        160                       1         20                  \n",
       "\n",
       "   high_blood_pressure  platelets  serum_creatinine  serum_sodium  sex  \\\n",
       "0  1                    265000.00  1.9               130           1     \n",
       "1  0                    263358.03  1.1               136           1     \n",
       "2  0                    162000.00  1.3               129           1     \n",
       "3  0                    210000.00  1.9               137           1     \n",
       "4  0                    327000.00  2.7               116           0     \n",
       "\n",
       "   smoking  time  DEATH_EVENT  \n",
       "0  0        4     1            \n",
       "1  0        6     1            \n",
       "2  1        7     1            \n",
       "3  0        7     1            \n",
       "4  0        8     1            "
      ]
     },
     "execution_count": 4,
     "metadata": {},
     "output_type": "execute_result"
    }
   ],
   "source": [
    "dataset.take(5).to_pandas_dataframe()"
   ]
  },
  {
   "cell_type": "markdown",
   "metadata": {},
   "source": [
    "## Create or Attach an AmlCompute Cluster"
   ]
  },
  {
   "cell_type": "code",
   "execution_count": 5,
   "metadata": {},
   "outputs": [
    {
     "name": "stdout",
     "output_type": "stream",
     "text": [
      "Found existing cluster, use it.\n",
      "Succeeded\n",
      "AmlCompute wait for completion finished\n",
      "\n",
      "Minimum number of nodes requested have been provisioned\n"
     ]
    }
   ],
   "source": [
    "from azureml.core.compute import ComputeTarget, AmlCompute\n",
    "from azureml.core.compute_target import ComputeTargetException\n",
    "\n",
    "# Choose a name for your CPU cluster\n",
    "cpu_cluster_name = \"cpu-cluster\"\n",
    "\n",
    "# Verify that cluster does not exist already\n",
    "try:\n",
    "    compute_target = ComputeTarget(workspace=ws, name=cpu_cluster_name)\n",
    "    print('Found existing cluster, use it.')\n",
    "except ComputeTargetException:\n",
    "    compute_config = AmlCompute.provisioning_configuration(vm_size='STANDARD_D12_V2',\n",
    "                                                           max_nodes=5)\n",
    "    compute_target = ComputeTarget.create(ws, cpu_cluster_name, compute_config)\n",
    "\n",
    "compute_target.wait_for_completion(show_output=True)"
   ]
  },
  {
   "cell_type": "markdown",
   "metadata": {},
   "source": [
    "## AutoML Configuration"
   ]
  },
  {
   "cell_type": "code",
   "execution_count": 6,
   "metadata": {
    "gather": {
     "logged": 1598429217746
    },
    "jupyter": {
     "outputs_hidden": false,
     "source_hidden": false
    },
    "nteract": {
     "transient": {
      "deleting": false
     }
    }
   },
   "outputs": [],
   "source": [
    "project_folder = './automl'\n",
    "\n",
    "automl_settings = {\n",
    "    \"experiment_timeout_minutes\": 30,\n",
    "    \"max_concurrent_iterations\": 5,\n",
    "    \"primary_metric\" : 'AUC_weighted'\n",
    "}\n",
    "automl_config = AutoMLConfig(compute_target=compute_target,\n",
    "                             task = \"classification\",\n",
    "                             training_data=dataset,\n",
    "                             label_column_name=\"DEATH_EVENT\", \n",
    "                             enable_onnx_compatible_models=True,\n",
    "                             path = project_folder,\n",
    "                             enable_early_stopping= True,\n",
    "                             featurization= 'auto',\n",
    "                             debug_log = \"automl_errors.log\",\n",
    "                             **automl_settings\n",
    "                            )"
   ]
  },
  {
   "cell_type": "markdown",
   "metadata": {},
   "source": [
    "AutoML typically performs cross validation, data balance check, cardinality check in prior to machine learning process with a variety of algorithms. "
   ]
  },
  {
   "cell_type": "code",
   "execution_count": 7,
   "metadata": {
    "scrolled": true
   },
   "outputs": [
    {
     "name": "stdout",
     "output_type": "stream",
     "text": [
      "Running on remote.\n",
      "No run_configuration provided, running on cpu-cluster with default configuration\n",
      "Running on remote compute: cpu-cluster\n",
      "Parent Run ID: AutoML_e329e4b4-7ab6-4771-af29-e13d01e88370\n",
      "\n",
      "Current status: FeaturesGeneration. Generating features for the dataset.\n",
      "Current status: DatasetCrossValidationSplit. Generating individually featurized CV splits.\n",
      "Current status: ModelSelection. Beginning model selection.\n",
      "\n",
      "****************************************************************************************************\n",
      "DATA GUARDRAILS: \n",
      "\n",
      "TYPE:         Cross validation\n",
      "STATUS:       DONE\n",
      "DESCRIPTION:  Each iteration of the trained model was validated through cross-validation.\n",
      "              \n",
      "DETAILS:      \n",
      "+---------------------------------+\n",
      "|Number of folds                  |\n",
      "+=================================+\n",
      "|10                               |\n",
      "+---------------------------------+\n",
      "\n",
      "****************************************************************************************************\n",
      "\n",
      "TYPE:         Class balancing detection\n",
      "STATUS:       PASSED\n",
      "DESCRIPTION:  Your inputs were analyzed, and all classes are balanced in your training data.\n",
      "              Learn more about imbalanced data: https://aka.ms/AutomatedMLImbalancedData\n",
      "\n",
      "****************************************************************************************************\n",
      "\n",
      "TYPE:         High cardinality feature detection\n",
      "STATUS:       PASSED\n",
      "DESCRIPTION:  Your inputs were analyzed, and no high cardinality features were detected.\n",
      "              Learn more about high cardinality feature handling: https://aka.ms/AutomatedMLFeaturization\n",
      "\n",
      "****************************************************************************************************\n",
      "\n",
      "****************************************************************************************************\n",
      "ITERATION: The iteration being evaluated.\n",
      "PIPELINE: A summary description of the pipeline being evaluated.\n",
      "DURATION: Time taken for the current iteration.\n",
      "METRIC: The result of computing score on the fitted pipeline.\n",
      "BEST: The best observed score thus far.\n",
      "****************************************************************************************************\n",
      "\n",
      " ITERATION   PIPELINE                                       DURATION      METRIC      BEST\n",
      "         0   MaxAbsScaler LightGBM                          0:01:00       0.8822    0.8822\n",
      "         1   MaxAbsScaler XGBoostClassifier                 0:00:54       0.8717    0.8822\n",
      "         2   MinMaxScaler RandomForest                      0:02:22       0.8847    0.8847\n",
      "         3   RobustScaler ExtremeRandomTrees                0:02:24       0.8770    0.8847\n",
      "         4   MinMaxScaler RandomForest                      0:02:18       0.9020    0.9020\n",
      "         5   MinMaxScaler RandomForest                      0:00:49       0.8875    0.9020\n",
      "         6   StandardScalerWrapper RandomForest             0:00:51       0.8694    0.9020\n",
      "         7   MinMaxScaler ExtremeRandomTrees                0:00:37       0.8773    0.9020\n",
      "         9   SparseNormalizer KNN                           0:00:43       0.7207    0.9020\n",
      "         8   MinMaxScaler ExtremeRandomTrees                0:00:53       0.8626    0.9020\n",
      "        10   MinMaxScaler ExtremeRandomTrees                0:00:53       0.8563    0.9020\n",
      "        12   StandardScalerWrapper RandomForest             0:00:43       0.8988    0.9020\n",
      "        11   RobustScaler ExtremeRandomTrees                0:00:58       0.8846    0.9020\n",
      "        13   StandardScalerWrapper SGD                      0:00:56       0.8562    0.9020\n",
      "        14   RobustScaler RandomForest                      0:00:43       0.8695    0.9020\n",
      "        15   StandardScalerWrapper KNN                      0:00:47       0.5682    0.9020\n",
      "        16   MinMaxScaler RandomForest                      0:01:00       0.8865    0.9020\n",
      "        17   MinMaxScaler ExtremeRandomTrees                0:00:51       0.8443    0.9020\n",
      "        18   MaxAbsScaler RandomForest                      0:00:47       0.8760    0.9020\n",
      "        19   StandardScalerWrapper XGBoostClassifier        0:00:47       0.8910    0.9020\n",
      "        21   MaxAbsScaler ExtremeRandomTrees                0:00:42       0.8623    0.9020\n",
      "        22   MaxAbsScaler ExtremeRandomTrees                0:00:48       0.8650    0.9020\n",
      "        20   MaxAbsScaler RandomForest                      0:01:10       0.8964    0.9020\n",
      "        23   MinMaxScaler RandomForest                      0:00:58       0.8944    0.9020\n",
      "        24   MinMaxScaler ExtremeRandomTrees                0:00:51       0.8912    0.9020\n",
      "        25   MinMaxScaler RandomForest                      0:00:50       0.8847    0.9020\n",
      "        26   MaxAbsScaler RandomForest                      0:00:47       0.8820    0.9020\n",
      "        27   StandardScalerWrapper LightGBM                 0:00:54       0.8679    0.9020\n",
      "        28   MaxAbsScaler ExtremeRandomTrees                0:00:52       0.8870    0.9020\n",
      "        29   RobustScaler LightGBM                          0:00:52       0.8791    0.9020\n",
      "        30   RobustScaler RandomForest                      0:00:49       0.7180    0.9020\n",
      "        31   MaxAbsScaler LightGBM                          0:00:53       0.8921    0.9020\n",
      "        32   StandardScalerWrapper RandomForest             0:00:57       0.8935    0.9020\n",
      "        34   StandardScalerWrapper XGBoostClassifier        0:00:48       0.8905    0.9020\n",
      "        33   StandardScalerWrapper RandomForest             0:01:10          nan    0.9020\n",
      "        35   RobustScaler RandomForest                      0:00:45       0.8843    0.9020\n",
      "        36   StandardScalerWrapper LightGBM                 0:00:28          nan    0.9020\n",
      "        37                                                  0:00:23          nan    0.9020\n",
      "        38    VotingEnsemble                                0:01:53       0.9102    0.9102\n"
     ]
    }
   ],
   "source": [
    "remote_run = experiment.submit(automl_config, show_output = True)"
   ]
  },
  {
   "cell_type": "code",
   "execution_count": 8,
   "metadata": {
    "scrolled": true
   },
   "outputs": [
    {
     "data": {
      "text/html": [
       "<table style=\"width:100%\"><tr><th>Experiment</th><th>Id</th><th>Type</th><th>Status</th><th>Details Page</th><th>Docs Page</th></tr><tr><td>automl-classification-experiment</td><td>AutoML_e329e4b4-7ab6-4771-af29-e13d01e88370</td><td>automl</td><td>Completed</td><td><a href=\"https://ml.azure.com/experiments/automl-classification-experiment/runs/AutoML_e329e4b4-7ab6-4771-af29-e13d01e88370?wsid=/subscriptions/a7e82b92-bbed-4497-a8df-009b71b94f9c/resourcegroups/aml-quickstarts-130665/workspaces/quick-starts-ws-130665\" target=\"_blank\" rel=\"noopener\">Link to Azure Machine Learning studio</a></td><td><a href=\"https://docs.microsoft.com/en-us/python/api/overview/azure/ml/intro?view=azure-ml-py\" target=\"_blank\" rel=\"noopener\">Link to Documentation</a></td></tr></table>"
      ],
      "text/plain": [
       "Run(Experiment: automl-classification-experiment,\n",
       "Id: AutoML_e329e4b4-7ab6-4771-af29-e13d01e88370,\n",
       "Type: automl,\n",
       "Status: Completed)"
      ]
     },
     "execution_count": 8,
     "metadata": {},
     "output_type": "execute_result"
    }
   ],
   "source": [
    "remote_run"
   ]
  },
  {
   "cell_type": "code",
   "execution_count": null,
   "metadata": {},
   "outputs": [],
   "source": [
    "#from azureml.train.automl.run import AutoMLRun\n",
    "#remote_run = AutoMLRun(experiment=experiment, run_id='AutoML_b580a705-20af-4f6c-a516-3aaede13be37')\n",
    "#remote_run"
   ]
  },
  {
   "cell_type": "code",
   "execution_count": 9,
   "metadata": {},
   "outputs": [
    {
     "data": {
      "application/vnd.jupyter.widget-view+json": {
       "model_id": "bbd90ab33e1442ecaeddc5b4f247d40f",
       "version_major": 2,
       "version_minor": 0
      },
      "text/plain": [
       "_AutoMLWidget(widget_settings={'childWidgetDisplay': 'popup', 'send_telemetry': False, 'log_level': 'INFO', 's…"
      ]
     },
     "metadata": {},
     "output_type": "display_data"
    },
    {
     "data": {
      "application/aml.mini.widget.v1": "{\"status\": \"Completed\", \"workbench_run_details_uri\": \"https://ml.azure.com/experiments/automl-classification-experiment/runs/AutoML_e329e4b4-7ab6-4771-af29-e13d01e88370?wsid=/subscriptions/a7e82b92-bbed-4497-a8df-009b71b94f9c/resourcegroups/aml-quickstarts-130665/workspaces/quick-starts-ws-130665\", \"run_id\": \"AutoML_e329e4b4-7ab6-4771-af29-e13d01e88370\", \"run_properties\": {\"run_id\": \"AutoML_e329e4b4-7ab6-4771-af29-e13d01e88370\", \"created_utc\": \"2020-12-16T04:20:19.672239Z\", \"properties\": {\"num_iterations\": \"1000\", \"training_type\": \"TrainFull\", \"acquisition_function\": \"EI\", \"primary_metric\": \"AUC_weighted\", \"train_split\": \"0\", \"acquisition_parameter\": \"0\", \"num_cross_validation\": null, \"target\": \"cpu-cluster\", \"AMLSettingsJsonString\": \"{\\\"path\\\":null,\\\"name\\\":\\\"automl-classification-experiment\\\",\\\"subscription_id\\\":\\\"a7e82b92-bbed-4497-a8df-009b71b94f9c\\\",\\\"resource_group\\\":\\\"aml-quickstarts-130665\\\",\\\"workspace_name\\\":\\\"quick-starts-ws-130665\\\",\\\"region\\\":\\\"southcentralus\\\",\\\"compute_target\\\":\\\"cpu-cluster\\\",\\\"spark_service\\\":null,\\\"azure_service\\\":\\\"remote\\\",\\\"many_models\\\":false,\\\"pipeline_fetch_max_batch_size\\\":1,\\\"iterations\\\":1000,\\\"primary_metric\\\":\\\"AUC_weighted\\\",\\\"task_type\\\":\\\"classification\\\",\\\"data_script\\\":null,\\\"validation_size\\\":0.0,\\\"n_cross_validations\\\":null,\\\"y_min\\\":null,\\\"y_max\\\":null,\\\"num_classes\\\":null,\\\"featurization\\\":\\\"auto\\\",\\\"_ignore_package_version_incompatibilities\\\":false,\\\"is_timeseries\\\":false,\\\"max_cores_per_iteration\\\":1,\\\"max_concurrent_iterations\\\":5,\\\"iteration_timeout_minutes\\\":null,\\\"mem_in_mb\\\":null,\\\"enforce_time_on_windows\\\":false,\\\"experiment_timeout_minutes\\\":30,\\\"experiment_exit_score\\\":null,\\\"whitelist_models\\\":null,\\\"blacklist_algos\\\":[\\\"TensorFlowLinearClassifier\\\",\\\"TensorFlowDNN\\\"],\\\"supported_models\\\":[\\\"AveragedPerceptronClassifier\\\",\\\"RandomForest\\\",\\\"ExtremeRandomTrees\\\",\\\"LogisticRegression\\\",\\\"TensorFlowDNN\\\",\\\"GradientBoosting\\\",\\\"LightGBM\\\",\\\"TensorFlowLinearClassifier\\\",\\\"MultinomialNaiveBayes\\\",\\\"SVM\\\",\\\"DecisionTree\\\",\\\"KNN\\\",\\\"XGBoostClassifier\\\",\\\"SGD\\\",\\\"BernoulliNaiveBayes\\\",\\\"LinearSVM\\\"],\\\"auto_blacklist\\\":true,\\\"blacklist_samples_reached\\\":false,\\\"exclude_nan_labels\\\":true,\\\"verbosity\\\":20,\\\"_debug_log\\\":\\\"azureml_automl.log\\\",\\\"show_warnings\\\":false,\\\"model_explainability\\\":true,\\\"service_url\\\":null,\\\"sdk_url\\\":null,\\\"sdk_packages\\\":null,\\\"enable_onnx_compatible_models\\\":true,\\\"enable_split_onnx_featurizer_estimator_models\\\":false,\\\"vm_type\\\":\\\"STANDARD_D12_V2\\\",\\\"telemetry_verbosity\\\":20,\\\"send_telemetry\\\":true,\\\"enable_dnn\\\":false,\\\"scenario\\\":\\\"SDK-1.13.0\\\",\\\"environment_label\\\":null,\\\"force_text_dnn\\\":false,\\\"enable_feature_sweeping\\\":false,\\\"enable_early_stopping\\\":true,\\\"early_stopping_n_iters\\\":10,\\\"metrics\\\":null,\\\"enable_ensembling\\\":true,\\\"enable_stack_ensembling\\\":false,\\\"ensemble_iterations\\\":15,\\\"enable_tf\\\":false,\\\"enable_subsampling\\\":null,\\\"subsample_seed\\\":null,\\\"enable_nimbusml\\\":false,\\\"enable_streaming\\\":false,\\\"force_streaming\\\":false,\\\"track_child_runs\\\":true,\\\"allowed_private_models\\\":[],\\\"label_column_name\\\":\\\"DEATH_EVENT\\\",\\\"weight_column_name\\\":null,\\\"cv_split_column_names\\\":null,\\\"enable_local_managed\\\":false,\\\"_local_managed_run_id\\\":null,\\\"cost_mode\\\":1,\\\"lag_length\\\":0,\\\"metric_operation\\\":\\\"maximize\\\",\\\"preprocess\\\":true}\", \"DataPrepJsonString\": \"{\\\\\\\"training_data\\\\\\\": \\\\\\\"{\\\\\\\\\\\\\\\"blocks\\\\\\\\\\\\\\\": [{\\\\\\\\\\\\\\\"id\\\\\\\\\\\\\\\": \\\\\\\\\\\\\\\"d18940d5-046c-4cc8-b78e-4ec49821f671\\\\\\\\\\\\\\\", \\\\\\\\\\\\\\\"type\\\\\\\\\\\\\\\": \\\\\\\\\\\\\\\"Microsoft.DPrep.GetDatastoreFilesBlock\\\\\\\\\\\\\\\", \\\\\\\\\\\\\\\"arguments\\\\\\\\\\\\\\\": {\\\\\\\\\\\\\\\"datastores\\\\\\\\\\\\\\\": [{\\\\\\\\\\\\\\\"datastoreName\\\\\\\\\\\\\\\": \\\\\\\\\\\\\\\"workspaceblobstore\\\\\\\\\\\\\\\", \\\\\\\\\\\\\\\"path\\\\\\\\\\\\\\\": \\\\\\\\\\\\\\\"UI/12-16-2020_031315_UTC/heart_failure_clinical_records_dataset.csv\\\\\\\\\\\\\\\", \\\\\\\\\\\\\\\"resourceGroup\\\\\\\\\\\\\\\": \\\\\\\\\\\\\\\"aml-quickstarts-130665\\\\\\\\\\\\\\\", \\\\\\\\\\\\\\\"subscription\\\\\\\\\\\\\\\": \\\\\\\\\\\\\\\"a7e82b92-bbed-4497-a8df-009b71b94f9c\\\\\\\\\\\\\\\", \\\\\\\\\\\\\\\"workspaceName\\\\\\\\\\\\\\\": \\\\\\\\\\\\\\\"quick-starts-ws-130665\\\\\\\\\\\\\\\"}]}, \\\\\\\\\\\\\\\"localData\\\\\\\\\\\\\\\": {}, \\\\\\\\\\\\\\\"isEnabled\\\\\\\\\\\\\\\": true, \\\\\\\\\\\\\\\"name\\\\\\\\\\\\\\\": null, \\\\\\\\\\\\\\\"annotation\\\\\\\\\\\\\\\": null}, {\\\\\\\\\\\\\\\"id\\\\\\\\\\\\\\\": \\\\\\\\\\\\\\\"dac4d64d-aa72-4aed-b3f5-c297dcdc6349\\\\\\\\\\\\\\\", \\\\\\\\\\\\\\\"type\\\\\\\\\\\\\\\": \\\\\\\\\\\\\\\"Microsoft.DPrep.ParseDelimitedBlock\\\\\\\\\\\\\\\", \\\\\\\\\\\\\\\"arguments\\\\\\\\\\\\\\\": {\\\\\\\\\\\\\\\"columnHeadersMode\\\\\\\\\\\\\\\": 1, \\\\\\\\\\\\\\\"fileEncoding\\\\\\\\\\\\\\\": 0, \\\\\\\\\\\\\\\"handleQuotedLineBreaks\\\\\\\\\\\\\\\": false, \\\\\\\\\\\\\\\"preview\\\\\\\\\\\\\\\": false, \\\\\\\\\\\\\\\"separator\\\\\\\\\\\\\\\": \\\\\\\\\\\\\\\",\\\\\\\\\\\\\\\", \\\\\\\\\\\\\\\"skipRows\\\\\\\\\\\\\\\": 0, \\\\\\\\\\\\\\\"skipRowsMode\\\\\\\\\\\\\\\": 0}, \\\\\\\\\\\\\\\"localData\\\\\\\\\\\\\\\": {}, \\\\\\\\\\\\\\\"isEnabled\\\\\\\\\\\\\\\": true, \\\\\\\\\\\\\\\"name\\\\\\\\\\\\\\\": null, \\\\\\\\\\\\\\\"annotation\\\\\\\\\\\\\\\": null}, {\\\\\\\\\\\\\\\"id\\\\\\\\\\\\\\\": \\\\\\\\\\\\\\\"ef34c8a8-7031-474f-9e41-314dc019cd6c\\\\\\\\\\\\\\\", \\\\\\\\\\\\\\\"type\\\\\\\\\\\\\\\": \\\\\\\\\\\\\\\"Microsoft.DPrep.DropColumnsBlock\\\\\\\\\\\\\\\", \\\\\\\\\\\\\\\"arguments\\\\\\\\\\\\\\\": {\\\\\\\\\\\\\\\"columns\\\\\\\\\\\\\\\": {\\\\\\\\\\\\\\\"type\\\\\\\\\\\\\\\": 0, \\\\\\\\\\\\\\\"details\\\\\\\\\\\\\\\": {\\\\\\\\\\\\\\\"selectedColumns\\\\\\\\\\\\\\\": [\\\\\\\\\\\\\\\"Path\\\\\\\\\\\\\\\"]}}}, \\\\\\\\\\\\\\\"localData\\\\\\\\\\\\\\\": {}, \\\\\\\\\\\\\\\"isEnabled\\\\\\\\\\\\\\\": true, \\\\\\\\\\\\\\\"name\\\\\\\\\\\\\\\": null, \\\\\\\\\\\\\\\"annotation\\\\\\\\\\\\\\\": null}, {\\\\\\\\\\\\\\\"id\\\\\\\\\\\\\\\": \\\\\\\\\\\\\\\"b0518075-dee6-40e2-b0bb-62607f762f18\\\\\\\\\\\\\\\", \\\\\\\\\\\\\\\"type\\\\\\\\\\\\\\\": \\\\\\\\\\\\\\\"Microsoft.DPrep.SetColumnTypesBlock\\\\\\\\\\\\\\\", \\\\\\\\\\\\\\\"arguments\\\\\\\\\\\\\\\": {\\\\\\\\\\\\\\\"columnConversion\\\\\\\\\\\\\\\": [{\\\\\\\\\\\\\\\"column\\\\\\\\\\\\\\\": {\\\\\\\\\\\\\\\"type\\\\\\\\\\\\\\\": 2, \\\\\\\\\\\\\\\"details\\\\\\\\\\\\\\\": {\\\\\\\\\\\\\\\"selectedColumn\\\\\\\\\\\\\\\": \\\\\\\\\\\\\\\"Path\\\\\\\\\\\\\\\"}}, \\\\\\\\\\\\\\\"typeProperty\\\\\\\\\\\\\\\": 0}, {\\\\\\\\\\\\\\\"column\\\\\\\\\\\\\\\": {\\\\\\\\\\\\\\\"type\\\\\\\\\\\\\\\": 2, \\\\\\\\\\\\\\\"details\\\\\\\\\\\\\\\": {\\\\\\\\\\\\\\\"selectedColumn\\\\\\\\\\\\\\\": \\\\\\\\\\\\\\\"age\\\\\\\\\\\\\\\"}}, \\\\\\\\\\\\\\\"typeProperty\\\\\\\\\\\\\\\": 3}, {\\\\\\\\\\\\\\\"column\\\\\\\\\\\\\\\": {\\\\\\\\\\\\\\\"type\\\\\\\\\\\\\\\": 2, \\\\\\\\\\\\\\\"details\\\\\\\\\\\\\\\": {\\\\\\\\\\\\\\\"selectedColumn\\\\\\\\\\\\\\\": \\\\\\\\\\\\\\\"anaemia\\\\\\\\\\\\\\\"}}, \\\\\\\\\\\\\\\"typeProperty\\\\\\\\\\\\\\\": 2}, {\\\\\\\\\\\\\\\"column\\\\\\\\\\\\\\\": {\\\\\\\\\\\\\\\"type\\\\\\\\\\\\\\\": 2, \\\\\\\\\\\\\\\"details\\\\\\\\\\\\\\\": {\\\\\\\\\\\\\\\"selectedColumn\\\\\\\\\\\\\\\": \\\\\\\\\\\\\\\"creatinine_phosphokinase\\\\\\\\\\\\\\\"}}, \\\\\\\\\\\\\\\"typeProperty\\\\\\\\\\\\\\\": 2}, {\\\\\\\\\\\\\\\"column\\\\\\\\\\\\\\\": {\\\\\\\\\\\\\\\"type\\\\\\\\\\\\\\\": 2, \\\\\\\\\\\\\\\"details\\\\\\\\\\\\\\\": {\\\\\\\\\\\\\\\"selectedColumn\\\\\\\\\\\\\\\": \\\\\\\\\\\\\\\"diabetes\\\\\\\\\\\\\\\"}}, \\\\\\\\\\\\\\\"typeProperty\\\\\\\\\\\\\\\": 2}, {\\\\\\\\\\\\\\\"column\\\\\\\\\\\\\\\": {\\\\\\\\\\\\\\\"type\\\\\\\\\\\\\\\": 2, \\\\\\\\\\\\\\\"details\\\\\\\\\\\\\\\": {\\\\\\\\\\\\\\\"selectedColumn\\\\\\\\\\\\\\\": \\\\\\\\\\\\\\\"ejection_fraction\\\\\\\\\\\\\\\"}}, \\\\\\\\\\\\\\\"typeProperty\\\\\\\\\\\\\\\": 2}, {\\\\\\\\\\\\\\\"column\\\\\\\\\\\\\\\": {\\\\\\\\\\\\\\\"type\\\\\\\\\\\\\\\": 2, \\\\\\\\\\\\\\\"details\\\\\\\\\\\\\\\": {\\\\\\\\\\\\\\\"selectedColumn\\\\\\\\\\\\\\\": \\\\\\\\\\\\\\\"high_blood_pressure\\\\\\\\\\\\\\\"}}, \\\\\\\\\\\\\\\"typeProperty\\\\\\\\\\\\\\\": 2}, {\\\\\\\\\\\\\\\"column\\\\\\\\\\\\\\\": {\\\\\\\\\\\\\\\"type\\\\\\\\\\\\\\\": 2, \\\\\\\\\\\\\\\"details\\\\\\\\\\\\\\\": {\\\\\\\\\\\\\\\"selectedColumn\\\\\\\\\\\\\\\": \\\\\\\\\\\\\\\"platelets\\\\\\\\\\\\\\\"}}, \\\\\\\\\\\\\\\"typeProperty\\\\\\\\\\\\\\\": 3}, {\\\\\\\\\\\\\\\"column\\\\\\\\\\\\\\\": {\\\\\\\\\\\\\\\"type\\\\\\\\\\\\\\\": 2, \\\\\\\\\\\\\\\"details\\\\\\\\\\\\\\\": {\\\\\\\\\\\\\\\"selectedColumn\\\\\\\\\\\\\\\": \\\\\\\\\\\\\\\"serum_creatinine\\\\\\\\\\\\\\\"}}, \\\\\\\\\\\\\\\"typeProperty\\\\\\\\\\\\\\\": 3}, {\\\\\\\\\\\\\\\"column\\\\\\\\\\\\\\\": {\\\\\\\\\\\\\\\"type\\\\\\\\\\\\\\\": 2, \\\\\\\\\\\\\\\"details\\\\\\\\\\\\\\\": {\\\\\\\\\\\\\\\"selectedColumn\\\\\\\\\\\\\\\": \\\\\\\\\\\\\\\"serum_sodium\\\\\\\\\\\\\\\"}}, \\\\\\\\\\\\\\\"typeProperty\\\\\\\\\\\\\\\": 2}, {\\\\\\\\\\\\\\\"column\\\\\\\\\\\\\\\": {\\\\\\\\\\\\\\\"type\\\\\\\\\\\\\\\": 2, \\\\\\\\\\\\\\\"details\\\\\\\\\\\\\\\": {\\\\\\\\\\\\\\\"selectedColumn\\\\\\\\\\\\\\\": \\\\\\\\\\\\\\\"sex\\\\\\\\\\\\\\\"}}, \\\\\\\\\\\\\\\"typeProperty\\\\\\\\\\\\\\\": 2}, {\\\\\\\\\\\\\\\"column\\\\\\\\\\\\\\\": {\\\\\\\\\\\\\\\"type\\\\\\\\\\\\\\\": 2, \\\\\\\\\\\\\\\"details\\\\\\\\\\\\\\\": {\\\\\\\\\\\\\\\"selectedColumn\\\\\\\\\\\\\\\": \\\\\\\\\\\\\\\"smoking\\\\\\\\\\\\\\\"}}, \\\\\\\\\\\\\\\"typeProperty\\\\\\\\\\\\\\\": 2}, {\\\\\\\\\\\\\\\"column\\\\\\\\\\\\\\\": {\\\\\\\\\\\\\\\"type\\\\\\\\\\\\\\\": 2, \\\\\\\\\\\\\\\"details\\\\\\\\\\\\\\\": {\\\\\\\\\\\\\\\"selectedColumn\\\\\\\\\\\\\\\": \\\\\\\\\\\\\\\"time\\\\\\\\\\\\\\\"}}, \\\\\\\\\\\\\\\"typeProperty\\\\\\\\\\\\\\\": 2}, {\\\\\\\\\\\\\\\"column\\\\\\\\\\\\\\\": {\\\\\\\\\\\\\\\"type\\\\\\\\\\\\\\\": 2, \\\\\\\\\\\\\\\"details\\\\\\\\\\\\\\\": {\\\\\\\\\\\\\\\"selectedColumn\\\\\\\\\\\\\\\": \\\\\\\\\\\\\\\"DEATH_EVENT\\\\\\\\\\\\\\\"}}, \\\\\\\\\\\\\\\"typeProperty\\\\\\\\\\\\\\\": 2}]}, \\\\\\\\\\\\\\\"localData\\\\\\\\\\\\\\\": {}, \\\\\\\\\\\\\\\"isEnabled\\\\\\\\\\\\\\\": true, \\\\\\\\\\\\\\\"name\\\\\\\\\\\\\\\": null, \\\\\\\\\\\\\\\"annotation\\\\\\\\\\\\\\\": null}], \\\\\\\\\\\\\\\"inspectors\\\\\\\\\\\\\\\": [], \\\\\\\\\\\\\\\"meta\\\\\\\\\\\\\\\": {\\\\\\\\\\\\\\\"savedDatasetId\\\\\\\\\\\\\\\": \\\\\\\\\\\\\\\"0e041bb2-0a35-41ff-af2e-cf513146d278\\\\\\\\\\\\\\\", \\\\\\\\\\\\\\\"datasetType\\\\\\\\\\\\\\\": \\\\\\\\\\\\\\\"tabular\\\\\\\\\\\\\\\", \\\\\\\\\\\\\\\"subscriptionId\\\\\\\\\\\\\\\": \\\\\\\\\\\\\\\"a7e82b92-bbed-4497-a8df-009b71b94f9c\\\\\\\\\\\\\\\", \\\\\\\\\\\\\\\"workspaceId\\\\\\\\\\\\\\\": \\\\\\\\\\\\\\\"e603250a-1a68-439c-8579-6a4c225d7a02\\\\\\\\\\\\\\\", \\\\\\\\\\\\\\\"workspaceLocation\\\\\\\\\\\\\\\": \\\\\\\\\\\\\\\"southcentralus\\\\\\\\\\\\\\\"}}\\\\\\\", \\\\\\\"activities\\\\\\\": 0}\", \"EnableSubsampling\": null, \"runTemplate\": \"AutoML\", \"azureml.runsource\": \"automl\", \"display_task_type\": \"classification\", \"dependencies_versions\": \"{\\\"azureml-widgets\\\": \\\"1.19.0\\\", \\\"azureml-train\\\": \\\"1.19.0\\\", \\\"azureml-train-restclients-hyperdrive\\\": \\\"1.19.0\\\", \\\"azureml-train-core\\\": \\\"1.19.0\\\", \\\"azureml-train-automl\\\": \\\"1.19.0\\\", \\\"azureml-train-automl-runtime\\\": \\\"1.19.0\\\", \\\"azureml-train-automl-client\\\": \\\"1.19.0\\\", \\\"azureml-tensorboard\\\": \\\"1.19.0\\\", \\\"azureml-telemetry\\\": \\\"1.19.0\\\", \\\"azureml-sdk\\\": \\\"1.19.0\\\", \\\"azureml-samples\\\": \\\"0+unknown\\\", \\\"azureml-pipeline\\\": \\\"1.19.0\\\", \\\"azureml-pipeline-steps\\\": \\\"1.19.0\\\", \\\"azureml-pipeline-core\\\": \\\"1.19.0\\\", \\\"azureml-opendatasets\\\": \\\"1.19.0\\\", \\\"azureml-model-management-sdk\\\": \\\"1.0.1b6.post1\\\", \\\"azureml-mlflow\\\": \\\"1.19.0\\\", \\\"azureml-interpret\\\": \\\"1.19.0\\\", \\\"azureml-explain-model\\\": \\\"1.19.0\\\", \\\"azureml-defaults\\\": \\\"1.19.0\\\", \\\"azureml-dataset-runtime\\\": \\\"1.19.0\\\", \\\"azureml-dataprep\\\": \\\"2.6.1\\\", \\\"azureml-dataprep-rslex\\\": \\\"1.4.0\\\", \\\"azureml-dataprep-native\\\": \\\"26.0.0\\\", \\\"azureml-datadrift\\\": \\\"1.19.0\\\", \\\"azureml-core\\\": \\\"1.19.0\\\", \\\"azureml-contrib-services\\\": \\\"1.19.0\\\", \\\"azureml-contrib-server\\\": \\\"1.19.0\\\", \\\"azureml-contrib-reinforcementlearning\\\": \\\"1.19.0\\\", \\\"azureml-contrib-pipeline-steps\\\": \\\"1.19.0\\\", \\\"azureml-contrib-notebook\\\": \\\"1.19.0\\\", \\\"azureml-contrib-interpret\\\": \\\"1.19.0\\\", \\\"azureml-contrib-gbdt\\\": \\\"1.19.0\\\", \\\"azureml-contrib-fairness\\\": \\\"1.19.0\\\", \\\"azureml-contrib-dataset\\\": \\\"1.19.0\\\", \\\"azureml-cli-common\\\": \\\"1.19.0\\\", \\\"azureml-automl-runtime\\\": \\\"1.19.0\\\", \\\"azureml-automl-core\\\": \\\"1.19.0\\\", \\\"azureml-accel-models\\\": \\\"1.19.0\\\"}\", \"_aml_system_scenario_identification\": \"Remote.Parent\", \"ClientType\": \"SDK\", \"environment_cpu_name\": \"AzureML-AutoML\", \"environment_cpu_version\": \"49\", \"environment_gpu_name\": \"AzureML-AutoML-GPU\", \"environment_gpu_version\": \"37\", \"root_attribution\": \"automl\", \"attribution\": \"AutoML\", \"Orchestrator\": \"AutoML\", \"CancelUri\": \"https://southcentralus.experiments.azureml.net/jasmine/v1.0/subscriptions/a7e82b92-bbed-4497-a8df-009b71b94f9c/resourceGroups/aml-quickstarts-130665/providers/Microsoft.MachineLearningServices/workspaces/quick-starts-ws-130665/experimentids/fe35d654-cf0c-46c9-ade6-4c5f2663c57b/cancel/AutoML_e329e4b4-7ab6-4771-af29-e13d01e88370\", \"ClientSdkVersion\": \"1.18.0.post1\", \"snapshotId\": \"00000000-0000-0000-0000-000000000000\", \"SetupRunId\": \"AutoML_e329e4b4-7ab6-4771-af29-e13d01e88370_setup\", \"SetupRunContainerId\": \"dcid.AutoML_e329e4b4-7ab6-4771-af29-e13d01e88370_setup\", \"FeaturizationRunJsonPath\": \"featurizer_container.json\", \"FeaturizationRunId\": \"AutoML_e329e4b4-7ab6-4771-af29-e13d01e88370_featurize\", \"ProblemInfoJsonString\": \"{\\\"dataset_num_categorical\\\": 0, \\\"is_sparse\\\": false, \\\"subsampling\\\": false, \\\"dataset_classes\\\": 2, \\\"dataset_features\\\": 12, \\\"dataset_samples\\\": 299, \\\"single_frequency_class_detected\\\": false}\", \"ModelExplainRunId\": \"AutoML_e329e4b4-7ab6-4771-af29-e13d01e88370_ModelExplain\"}, \"tags\": {\"model_explain_run\": \"best_run\", \"_aml_system_azureml.automlComponent\": \"AutoML\", \"pipeline_id\": \"\", \"score\": \"\", \"predicted_cost\": \"\", \"fit_time\": \"\", \"training_percent\": \"\", \"iteration\": \"\", \"run_preprocessor\": \"\", \"run_algorithm\": \"\", \"dynamic_whitelisting_iterations\": \"<25>;<30>;<35>;\", \"automl_best_child_run_id\": \"AutoML_e329e4b4-7ab6-4771-af29-e13d01e88370_38\", \"model_explain_best_run_child_id\": \"AutoML_e329e4b4-7ab6-4771-af29-e13d01e88370_38\"}, \"end_time_utc\": \"2020-12-16T04:37:02.854607Z\", \"status\": \"Completed\", \"log_files\": {}, \"log_groups\": [], \"run_duration\": \"0:16:43\"}, \"child_runs\": [{\"run_id\": \"AutoML_e329e4b4-7ab6-4771-af29-e13d01e88370_0\", \"run_number\": 14, \"metric\": null, \"status\": \"Completed\", \"run_type\": \"azureml.scriptrun\", \"training_percent\": \"100\", \"start_time\": \"2020-12-16T04:24:13.106841Z\", \"end_time\": \"2020-12-16T04:25:12.708086Z\", \"created_time\": \"2020-12-16T04:24:01.365483Z\", \"created_time_dt\": \"2020-12-16T04:24:01.365483Z\", \"duration\": \"0:01:11\", \"iteration\": \"0\", \"goal\": \"AUC_weighted_max\", \"run_name\": \"MaxAbsScaler, LightGBM\", \"run_properties\": \"copy=True\", \"primary_metric\": 0.88218288, \"best_metric\": 0.88218288}, {\"run_id\": \"AutoML_e329e4b4-7ab6-4771-af29-e13d01e88370_4\", \"run_number\": 15, \"metric\": null, \"status\": \"Completed\", \"run_type\": \"azureml.scriptrun\", \"training_percent\": \"100\", \"start_time\": \"2020-12-16T04:24:41.949928Z\", \"end_time\": \"2020-12-16T04:27:00.005349Z\", \"created_time\": \"2020-12-16T04:24:01.503706Z\", \"created_time_dt\": \"2020-12-16T04:24:01.503706Z\", \"duration\": \"0:02:58\", \"iteration\": \"4\", \"goal\": \"AUC_weighted_max\", \"run_name\": \"MinMaxScaler, RandomForest\", \"run_properties\": \"copy=True, feature_range=(0, 1\", \"primary_metric\": 0.90200379, \"best_metric\": 0.90200379}, {\"run_id\": \"AutoML_e329e4b4-7ab6-4771-af29-e13d01e88370_3\", \"run_number\": 16, \"metric\": null, \"status\": \"Completed\", \"run_type\": \"azureml.scriptrun\", \"training_percent\": \"100\", \"start_time\": \"2020-12-16T04:24:40.235514Z\", \"end_time\": \"2020-12-16T04:27:04.066056Z\", \"created_time\": \"2020-12-16T04:24:01.518959Z\", \"created_time_dt\": \"2020-12-16T04:24:01.518959Z\", \"duration\": \"0:03:02\", \"iteration\": \"3\", \"goal\": \"AUC_weighted_max\", \"run_name\": \"RobustScaler, ExtremeRandomTrees\", \"run_properties\": \"copy=True, quantile_range=[10, 90], with_centering=False,\\n             with_scaling=False\", \"primary_metric\": 0.87700136, \"best_metric\": 0.88468741}, {\"run_id\": \"AutoML_e329e4b4-7ab6-4771-af29-e13d01e88370_1\", \"run_number\": 17, \"metric\": null, \"status\": \"Completed\", \"run_type\": \"azureml.scriptrun\", \"training_percent\": \"100\", \"start_time\": \"2020-12-16T04:25:17.175685Z\", \"end_time\": \"2020-12-16T04:26:10.776673Z\", \"created_time\": \"2020-12-16T04:24:01.541068Z\", \"created_time_dt\": \"2020-12-16T04:24:01.541068Z\", \"duration\": \"0:02:09\", \"iteration\": \"1\", \"goal\": \"AUC_weighted_max\", \"run_name\": \"MaxAbsScaler, XGBoostClassifier\", \"run_properties\": \"copy=True\", \"primary_metric\": 0.87172218, \"best_metric\": 0.88218288}, {\"run_id\": \"AutoML_e329e4b4-7ab6-4771-af29-e13d01e88370_2\", \"run_number\": 18, \"metric\": null, \"status\": \"Completed\", \"run_type\": \"azureml.scriptrun\", \"training_percent\": \"100\", \"start_time\": \"2020-12-16T04:24:44.657815Z\", \"end_time\": \"2020-12-16T04:27:06.827248Z\", \"created_time\": \"2020-12-16T04:24:01.560085Z\", \"created_time_dt\": \"2020-12-16T04:24:01.560085Z\", \"duration\": \"0:03:05\", \"iteration\": \"2\", \"goal\": \"AUC_weighted_max\", \"run_name\": \"MinMaxScaler, RandomForest\", \"run_properties\": \"copy=True, feature_range=(0, 1\", \"primary_metric\": 0.88468741, \"best_metric\": 0.88468741}, {\"run_id\": \"AutoML_e329e4b4-7ab6-4771-af29-e13d01e88370_5\", \"run_number\": 19, \"metric\": null, \"status\": \"Completed\", \"run_type\": \"azureml.scriptrun\", \"training_percent\": \"100\", \"start_time\": \"2020-12-16T04:26:15.681489Z\", \"end_time\": \"2020-12-16T04:27:04.770313Z\", \"created_time\": \"2020-12-16T04:25:28.56639Z\", \"created_time_dt\": \"2020-12-16T04:25:28.56639Z\", \"duration\": \"0:01:36\", \"iteration\": \"5\", \"goal\": \"AUC_weighted_max\", \"run_name\": \"MinMaxScaler, RandomForest\", \"run_properties\": \"copy=True, feature_range=(0, 1\", \"primary_metric\": 0.88746283, \"best_metric\": 0.90200379}, {\"run_id\": \"AutoML_e329e4b4-7ab6-4771-af29-e13d01e88370_6\", \"run_number\": 20, \"metric\": null, \"status\": \"Completed\", \"run_type\": \"azureml.scriptrun\", \"training_percent\": \"100\", \"start_time\": \"2020-12-16T04:27:02.909474Z\", \"end_time\": \"2020-12-16T04:27:53.468354Z\", \"created_time\": \"2020-12-16T04:26:12.666456Z\", \"created_time_dt\": \"2020-12-16T04:26:12.666456Z\", \"duration\": \"0:01:40\", \"iteration\": \"6\", \"goal\": \"AUC_weighted_max\", \"run_name\": \"StandardScalerWrapper, RandomForest\", \"run_properties\": \"<azureml.automl.runtime.shared.model_wrappers.StandardScalerWrapper object at 0x7fa43e363d30\", \"primary_metric\": 0.86941706, \"best_metric\": 0.90200379}, {\"run_id\": \"AutoML_e329e4b4-7ab6-4771-af29-e13d01e88370_7\", \"run_number\": 21, \"metric\": null, \"status\": \"Completed\", \"run_type\": \"azureml.scriptrun\", \"training_percent\": \"100\", \"start_time\": \"2020-12-16T04:27:15.613213Z\", \"end_time\": \"2020-12-16T04:27:52.703411Z\", \"created_time\": \"2020-12-16T04:27:03.31893Z\", \"created_time_dt\": \"2020-12-16T04:27:03.31893Z\", \"duration\": \"0:00:49\", \"iteration\": \"7\", \"goal\": \"AUC_weighted_max\", \"run_name\": \"MinMaxScaler, ExtremeRandomTrees\", \"run_properties\": \"copy=True, feature_range=(0, 1\", \"primary_metric\": 0.87730893, \"best_metric\": 0.90200379}, {\"run_id\": \"AutoML_e329e4b4-7ab6-4771-af29-e13d01e88370_8\", \"run_number\": 22, \"metric\": null, \"status\": \"Completed\", \"run_type\": \"azureml.scriptrun\", \"training_percent\": \"100\", \"start_time\": \"2020-12-16T04:27:21.282735Z\", \"end_time\": \"2020-12-16T04:28:14.66469Z\", \"created_time\": \"2020-12-16T04:27:09.342237Z\", \"created_time_dt\": \"2020-12-16T04:27:09.342237Z\", \"duration\": \"0:01:05\", \"iteration\": \"8\", \"goal\": \"AUC_weighted_max\", \"run_name\": \"MinMaxScaler, ExtremeRandomTrees\", \"run_properties\": \"copy=True, feature_range=(0, 1\", \"primary_metric\": 0.86260916, \"best_metric\": 0.90200379}, {\"run_id\": \"AutoML_e329e4b4-7ab6-4771-af29-e13d01e88370_9\", \"run_number\": 23, \"metric\": null, \"status\": \"Completed\", \"run_type\": \"azureml.scriptrun\", \"training_percent\": \"100\", \"start_time\": \"2020-12-16T04:27:22.78156Z\", \"end_time\": \"2020-12-16T04:28:05.709243Z\", \"created_time\": \"2020-12-16T04:27:09.46704Z\", \"created_time_dt\": \"2020-12-16T04:27:09.46704Z\", \"duration\": \"0:00:56\", \"iteration\": \"9\", \"goal\": \"AUC_weighted_max\", \"run_name\": \"SparseNormalizer, KNN\", \"run_properties\": \"<azureml.automl.runtime.shared.model_wrappers.SparseNormalizer object at 0x7f238c28e898\", \"primary_metric\": 0.72069191, \"best_metric\": 0.90200379}, {\"run_id\": \"AutoML_e329e4b4-7ab6-4771-af29-e13d01e88370_10\", \"run_number\": 24, \"metric\": null, \"status\": \"Completed\", \"run_type\": \"azureml.scriptrun\", \"training_percent\": \"100\", \"start_time\": \"2020-12-16T04:27:52.767672Z\", \"end_time\": \"2020-12-16T04:28:45.714234Z\", \"created_time\": \"2020-12-16T04:27:15.778389Z\", \"created_time_dt\": \"2020-12-16T04:27:15.778389Z\", \"duration\": \"0:01:29\", \"iteration\": \"10\", \"goal\": \"AUC_weighted_max\", \"run_name\": \"MinMaxScaler, ExtremeRandomTrees\", \"run_properties\": \"copy=True, feature_range=(0, 1\", \"primary_metric\": 0.85628729, \"best_metric\": 0.90200379}, {\"run_id\": \"AutoML_e329e4b4-7ab6-4771-af29-e13d01e88370_11\", \"run_number\": 25, \"metric\": null, \"status\": \"Completed\", \"run_type\": \"azureml.scriptrun\", \"training_percent\": \"100\", \"start_time\": \"2020-12-16T04:28:08.939413Z\", \"end_time\": \"2020-12-16T04:29:07.06288Z\", \"created_time\": \"2020-12-16T04:27:55.963418Z\", \"created_time_dt\": \"2020-12-16T04:27:55.963418Z\", \"duration\": \"0:01:11\", \"iteration\": \"11\", \"goal\": \"AUC_weighted_max\", \"run_name\": \"RobustScaler, ExtremeRandomTrees\", \"run_properties\": \"copy=True, quantile_range=[10, 90], with_centering=True,\\n             with_scaling=False\", \"primary_metric\": 0.88462326, \"best_metric\": 0.90200379}, {\"run_id\": \"AutoML_e329e4b4-7ab6-4771-af29-e13d01e88370_12\", \"run_number\": 26, \"metric\": null, \"status\": \"Completed\", \"run_type\": \"azureml.scriptrun\", \"training_percent\": \"100\", \"start_time\": \"2020-12-16T04:28:13.082421Z\", \"end_time\": \"2020-12-16T04:28:55.947071Z\", \"created_time\": \"2020-12-16T04:28:01.102274Z\", \"created_time_dt\": \"2020-12-16T04:28:01.102274Z\", \"duration\": \"0:00:54\", \"iteration\": \"12\", \"goal\": \"AUC_weighted_max\", \"run_name\": \"StandardScalerWrapper, RandomForest\", \"run_properties\": \"<azureml.automl.runtime.shared.model_wrappers.StandardScalerWrapper object at 0x7fcf756f0d30\", \"primary_metric\": 0.8987504, \"best_metric\": 0.90200379}, {\"run_id\": \"AutoML_e329e4b4-7ab6-4771-af29-e13d01e88370_13\", \"run_number\": 27, \"metric\": null, \"status\": \"Completed\", \"run_type\": \"azureml.scriptrun\", \"training_percent\": \"100\", \"start_time\": \"2020-12-16T04:28:19.990692Z\", \"end_time\": \"2020-12-16T04:29:16.421571Z\", \"created_time\": \"2020-12-16T04:28:09.505967Z\", \"created_time_dt\": \"2020-12-16T04:28:09.505967Z\", \"duration\": \"0:01:06\", \"iteration\": \"13\", \"goal\": \"AUC_weighted_max\", \"run_name\": \"StandardScalerWrapper, SGD\", \"run_properties\": \"<azureml.automl.runtime.shared.model_wrappers.StandardScalerWrapper object at 0x7fb6144dc278\", \"primary_metric\": 0.85622885, \"best_metric\": 0.90200379}, {\"run_id\": \"AutoML_e329e4b4-7ab6-4771-af29-e13d01e88370_14\", \"run_number\": 28, \"metric\": null, \"status\": \"Completed\", \"run_type\": \"azureml.scriptrun\", \"training_percent\": \"100\", \"start_time\": \"2020-12-16T04:28:50.107751Z\", \"end_time\": \"2020-12-16T04:29:32.665362Z\", \"created_time\": \"2020-12-16T04:28:17.888022Z\", \"created_time_dt\": \"2020-12-16T04:28:17.888022Z\", \"duration\": \"0:01:14\", \"iteration\": \"14\", \"goal\": \"AUC_weighted_max\", \"run_name\": \"RobustScaler, RandomForest\", \"run_properties\": \"copy=True, quantile_range=[10, 90], with_centering=True,\\n             with_scaling=False\", \"primary_metric\": 0.86953296, \"best_metric\": 0.90200379}, {\"run_id\": \"AutoML_e329e4b4-7ab6-4771-af29-e13d01e88370_15\", \"run_number\": 29, \"metric\": null, \"status\": \"Completed\", \"run_type\": \"azureml.scriptrun\", \"training_percent\": \"100\", \"start_time\": \"2020-12-16T04:29:01.663825Z\", \"end_time\": \"2020-12-16T04:29:48.771297Z\", \"created_time\": \"2020-12-16T04:28:48.855964Z\", \"created_time_dt\": \"2020-12-16T04:28:48.855964Z\", \"duration\": \"0:00:59\", \"iteration\": \"15\", \"goal\": \"AUC_weighted_max\", \"run_name\": \"StandardScalerWrapper, KNN\", \"run_properties\": \"<azureml.automl.runtime.shared.model_wrappers.StandardScalerWrapper object at 0x7f923e795908\", \"primary_metric\": 0.56820407, \"best_metric\": 0.90200379}, {\"run_id\": \"AutoML_e329e4b4-7ab6-4771-af29-e13d01e88370_16\", \"run_number\": 30, \"metric\": null, \"status\": \"Completed\", \"run_type\": \"azureml.scriptrun\", \"training_percent\": \"100\", \"start_time\": \"2020-12-16T04:29:11.207373Z\", \"end_time\": \"2020-12-16T04:30:11.48445Z\", \"created_time\": \"2020-12-16T04:28:59.163818Z\", \"created_time_dt\": \"2020-12-16T04:28:59.163818Z\", \"duration\": \"0:01:12\", \"iteration\": \"16\", \"goal\": \"AUC_weighted_max\", \"run_name\": \"MinMaxScaler, RandomForest\", \"run_properties\": \"copy=True, feature_range=(0, 1\", \"primary_metric\": 0.88647108, \"best_metric\": 0.90200379}, {\"run_id\": \"AutoML_e329e4b4-7ab6-4771-af29-e13d01e88370_17\", \"run_number\": 31, \"metric\": null, \"status\": \"Completed\", \"run_type\": \"azureml.scriptrun\", \"training_percent\": \"100\", \"start_time\": \"2020-12-16T04:29:20.514213Z\", \"end_time\": \"2020-12-16T04:30:11.030108Z\", \"created_time\": \"2020-12-16T04:29:10.409351Z\", \"created_time_dt\": \"2020-12-16T04:29:10.409351Z\", \"duration\": \"0:01:00\", \"iteration\": \"17\", \"goal\": \"AUC_weighted_max\", \"run_name\": \"MinMaxScaler, ExtremeRandomTrees\", \"run_properties\": \"copy=True, feature_range=(0, 1\", \"primary_metric\": 0.84430281, \"best_metric\": 0.90200379}, {\"run_id\": \"AutoML_e329e4b4-7ab6-4771-af29-e13d01e88370_18\", \"run_number\": 32, \"metric\": null, \"status\": \"Completed\", \"run_type\": \"azureml.scriptrun\", \"training_percent\": \"100\", \"start_time\": \"2020-12-16T04:29:37.666505Z\", \"end_time\": \"2020-12-16T04:30:24.439731Z\", \"created_time\": \"2020-12-16T04:29:19.643722Z\", \"created_time_dt\": \"2020-12-16T04:29:19.643722Z\", \"duration\": \"0:01:04\", \"iteration\": \"18\", \"goal\": \"AUC_weighted_max\", \"run_name\": \"MaxAbsScaler, RandomForest\", \"run_properties\": \"copy=True\", \"primary_metric\": 0.87602963, \"best_metric\": 0.90200379}, {\"run_id\": \"AutoML_e329e4b4-7ab6-4771-af29-e13d01e88370_19\", \"run_number\": 33, \"metric\": null, \"status\": \"Completed\", \"run_type\": \"azureml.scriptrun\", \"training_percent\": \"100\", \"start_time\": \"2020-12-16T04:29:53.157477Z\", \"end_time\": \"2020-12-16T04:30:39.957083Z\", \"created_time\": \"2020-12-16T04:29:36.032103Z\", \"created_time_dt\": \"2020-12-16T04:29:36.032103Z\", \"duration\": \"0:01:03\", \"iteration\": \"19\", \"goal\": \"AUC_weighted_max\", \"run_name\": \"StandardScalerWrapper, XGBoostClassifier\", \"run_properties\": \"<azureml.automl.runtime.shared.model_wrappers.StandardScalerWrapper object at 0x7f38782f66d8\", \"primary_metric\": 0.89103731, \"best_metric\": 0.90200379}, {\"run_id\": \"AutoML_e329e4b4-7ab6-4771-af29-e13d01e88370_20\", \"run_number\": 34, \"metric\": null, \"status\": \"Completed\", \"run_type\": \"azureml.scriptrun\", \"training_percent\": \"100\", \"start_time\": \"2020-12-16T04:30:14.085585Z\", \"end_time\": \"2020-12-16T04:31:23.608492Z\", \"created_time\": \"2020-12-16T04:29:52.161857Z\", \"created_time_dt\": \"2020-12-16T04:29:52.161857Z\", \"duration\": \"0:01:31\", \"iteration\": \"20\", \"goal\": \"AUC_weighted_max\", \"run_name\": \"MaxAbsScaler, RandomForest\", \"run_properties\": \"copy=True\", \"primary_metric\": 0.89635801, \"best_metric\": 0.90200379}, {\"run_id\": \"AutoML_e329e4b4-7ab6-4771-af29-e13d01e88370_22\", \"run_number\": 35, \"metric\": null, \"status\": \"Completed\", \"run_type\": \"azureml.scriptrun\", \"training_percent\": \"100\", \"start_time\": \"2020-12-16T04:30:28.151464Z\", \"end_time\": \"2020-12-16T04:31:15.733185Z\", \"created_time\": \"2020-12-16T04:30:15.42983Z\", \"created_time_dt\": \"2020-12-16T04:30:15.42983Z\", \"duration\": \"0:01:00\", \"iteration\": \"22\", \"goal\": \"AUC_weighted_max\", \"run_name\": \"MaxAbsScaler, ExtremeRandomTrees\", \"run_properties\": \"copy=True\", \"primary_metric\": 0.86501622, \"best_metric\": 0.90200379}, {\"run_id\": \"AutoML_e329e4b4-7ab6-4771-af29-e13d01e88370_21\", \"run_number\": 36, \"metric\": null, \"status\": \"Completed\", \"run_type\": \"azureml.scriptrun\", \"training_percent\": \"100\", \"start_time\": \"2020-12-16T04:30:26.959143Z\", \"end_time\": \"2020-12-16T04:31:08.808226Z\", \"created_time\": \"2020-12-16T04:30:15.4421Z\", \"created_time_dt\": \"2020-12-16T04:30:15.4421Z\", \"duration\": \"0:00:53\", \"iteration\": \"21\", \"goal\": \"AUC_weighted_max\", \"run_name\": \"MaxAbsScaler, ExtremeRandomTrees\", \"run_properties\": \"copy=True\", \"primary_metric\": 0.86233004, \"best_metric\": 0.90200379}, {\"run_id\": \"AutoML_e329e4b4-7ab6-4771-af29-e13d01e88370_23\", \"run_number\": 37, \"metric\": null, \"status\": \"Completed\", \"run_type\": \"azureml.scriptrun\", \"training_percent\": \"100\", \"start_time\": \"2020-12-16T04:30:43.796077Z\", \"end_time\": \"2020-12-16T04:31:41.828767Z\", \"created_time\": \"2020-12-16T04:30:29.443692Z\", \"created_time_dt\": \"2020-12-16T04:30:29.443692Z\", \"duration\": \"0:01:12\", \"iteration\": \"23\", \"goal\": \"AUC_weighted_max\", \"run_name\": \"MinMaxScaler, RandomForest\", \"run_properties\": \"copy=True, feature_range=(0, 1\", \"primary_metric\": 0.89436125, \"best_metric\": 0.90200379}, {\"run_id\": \"AutoML_e329e4b4-7ab6-4771-af29-e13d01e88370_24\", \"run_number\": 38, \"metric\": null, \"status\": \"Completed\", \"run_type\": \"azureml.scriptrun\", \"training_percent\": \"100\", \"start_time\": \"2020-12-16T04:31:13.235457Z\", \"end_time\": \"2020-12-16T04:32:04.536372Z\", \"created_time\": \"2020-12-16T04:30:44.322817Z\", \"created_time_dt\": \"2020-12-16T04:30:44.322817Z\", \"duration\": \"0:01:20\", \"iteration\": \"24\", \"goal\": \"AUC_weighted_max\", \"run_name\": \"MinMaxScaler, ExtremeRandomTrees\", \"run_properties\": \"copy=True, feature_range=(0, 1\", \"primary_metric\": 0.8911636, \"best_metric\": 0.90200379}, {\"run_id\": \"AutoML_e329e4b4-7ab6-4771-af29-e13d01e88370_25\", \"run_number\": 39, \"metric\": null, \"status\": \"Completed\", \"run_type\": \"azureml.scriptrun\", \"training_percent\": \"100\", \"start_time\": \"2020-12-16T04:31:27.556325Z\", \"end_time\": \"2020-12-16T04:32:17.473995Z\", \"created_time\": \"2020-12-16T04:31:15.388202Z\", \"created_time_dt\": \"2020-12-16T04:31:15.388202Z\", \"duration\": \"0:01:02\", \"iteration\": \"25\", \"goal\": \"AUC_weighted_max\", \"run_name\": \"MinMaxScaler, RandomForest\", \"run_properties\": \"copy=True, feature_range=(0, 1\", \"primary_metric\": 0.88466982, \"best_metric\": 0.90200379}, {\"run_id\": \"AutoML_e329e4b4-7ab6-4771-af29-e13d01e88370_26\", \"run_number\": 40, \"metric\": null, \"status\": \"Completed\", \"run_type\": \"azureml.scriptrun\", \"training_percent\": \"100\", \"start_time\": \"2020-12-16T04:31:37.182038Z\", \"end_time\": \"2020-12-16T04:32:23.809565Z\", \"created_time\": \"2020-12-16T04:31:22.18507Z\", \"created_time_dt\": \"2020-12-16T04:31:22.18507Z\", \"duration\": \"0:01:01\", \"iteration\": \"26\", \"goal\": \"AUC_weighted_max\", \"run_name\": \"MaxAbsScaler, RandomForest\", \"run_properties\": \"copy=True\", \"primary_metric\": 0.88196184, \"best_metric\": 0.90200379}, {\"run_id\": \"AutoML_e329e4b4-7ab6-4771-af29-e13d01e88370_27\", \"run_number\": 41, \"metric\": null, \"status\": \"Completed\", \"run_type\": \"azureml.scriptrun\", \"training_percent\": \"100\", \"start_time\": \"2020-12-16T04:31:46.946387Z\", \"end_time\": \"2020-12-16T04:32:41.366545Z\", \"created_time\": \"2020-12-16T04:31:28.991886Z\", \"created_time_dt\": \"2020-12-16T04:31:28.991886Z\", \"duration\": \"0:01:12\", \"iteration\": \"27\", \"goal\": \"AUC_weighted_max\", \"run_name\": \"StandardScalerWrapper, LightGBM\", \"run_properties\": \"<azureml.automl.runtime.shared.model_wrappers.StandardScalerWrapper object at 0x7f005c289eb8\", \"primary_metric\": 0.86785233, \"best_metric\": 0.90200379}, {\"run_id\": \"AutoML_e329e4b4-7ab6-4771-af29-e13d01e88370_28\", \"run_number\": 42, \"metric\": null, \"status\": \"Completed\", \"run_type\": \"azureml.scriptrun\", \"training_percent\": \"100\", \"start_time\": \"2020-12-16T04:32:06.824739Z\", \"end_time\": \"2020-12-16T04:32:58.692645Z\", \"created_time\": \"2020-12-16T04:31:44.484372Z\", \"created_time_dt\": \"2020-12-16T04:31:44.484372Z\", \"duration\": \"0:01:14\", \"iteration\": \"28\", \"goal\": \"AUC_weighted_max\", \"run_name\": \"MaxAbsScaler, ExtremeRandomTrees\", \"run_properties\": \"copy=True\", \"primary_metric\": 0.88697847, \"best_metric\": 0.90200379}, {\"run_id\": \"AutoML_e329e4b4-7ab6-4771-af29-e13d01e88370_29\", \"run_number\": 43, \"metric\": null, \"status\": \"Completed\", \"run_type\": \"azureml.scriptrun\", \"training_percent\": \"100\", \"start_time\": \"2020-12-16T04:32:24.080038Z\", \"end_time\": \"2020-12-16T04:33:16.354811Z\", \"created_time\": \"2020-12-16T04:32:07.428958Z\", \"created_time_dt\": \"2020-12-16T04:32:07.428958Z\", \"duration\": \"0:01:08\", \"iteration\": \"29\", \"goal\": \"AUC_weighted_max\", \"run_name\": \"RobustScaler, LightGBM\", \"run_properties\": \"copy=True, quantile_range=[10, 90], with_centering=True,\\n             with_scaling=True\", \"primary_metric\": 0.87906031, \"best_metric\": 0.90200379}, {\"run_id\": \"AutoML_e329e4b4-7ab6-4771-af29-e13d01e88370_30\", \"run_number\": 44, \"metric\": null, \"status\": \"Completed\", \"run_type\": \"azureml.scriptrun\", \"training_percent\": \"100\", \"start_time\": \"2020-12-16T04:32:34.156704Z\", \"end_time\": \"2020-12-16T04:33:23.435469Z\", \"created_time\": \"2020-12-16T04:32:20.797305Z\", \"created_time_dt\": \"2020-12-16T04:32:20.797305Z\", \"duration\": \"0:01:02\", \"iteration\": \"30\", \"goal\": \"AUC_weighted_max\", \"run_name\": \"RobustScaler, RandomForest\", \"run_properties\": \"copy=True, quantile_range=[25, 75], with_centering=False,\\n             with_scaling=True\", \"primary_metric\": 0.71804949, \"best_metric\": 0.90200379}, {\"run_id\": \"AutoML_e329e4b4-7ab6-4771-af29-e13d01e88370_31\", \"run_number\": 45, \"metric\": null, \"status\": \"Completed\", \"run_type\": \"azureml.scriptrun\", \"training_percent\": \"100\", \"start_time\": \"2020-12-16T04:32:46.154396Z\", \"end_time\": \"2020-12-16T04:33:39.051182Z\", \"created_time\": \"2020-12-16T04:32:26.270759Z\", \"created_time_dt\": \"2020-12-16T04:32:26.270759Z\", \"duration\": \"0:01:12\", \"iteration\": \"31\", \"goal\": \"AUC_weighted_max\", \"run_name\": \"MaxAbsScaler, LightGBM\", \"run_properties\": \"copy=True\", \"primary_metric\": 0.89212799, \"best_metric\": 0.90200379}, {\"run_id\": \"AutoML_e329e4b4-7ab6-4771-af29-e13d01e88370_32\", \"run_number\": 46, \"metric\": null, \"status\": \"Completed\", \"run_type\": \"azureml.scriptrun\", \"training_percent\": \"100\", \"start_time\": \"2020-12-16T04:33:02.254956Z\", \"end_time\": \"2020-12-16T04:33:59.535696Z\", \"created_time\": \"2020-12-16T04:32:43.710348Z\", \"created_time_dt\": \"2020-12-16T04:32:43.710348Z\", \"duration\": \"0:01:15\", \"iteration\": \"32\", \"goal\": \"AUC_weighted_max\", \"run_name\": \"StandardScalerWrapper, RandomForest\", \"run_properties\": \"<azureml.automl.runtime.shared.model_wrappers.StandardScalerWrapper object at 0x7f3ed4b6c6d8\", \"primary_metric\": 0.89354572, \"best_metric\": 0.90200379}, {\"run_id\": \"AutoML_e329e4b4-7ab6-4771-af29-e13d01e88370_33\", \"run_number\": 47, \"metric\": null, \"status\": \"Canceled\", \"run_type\": \"azureml.scriptrun\", \"training_percent\": \"100\", \"start_time\": \"2020-12-16T04:33:19.59966Z\", \"end_time\": \"2020-12-16T04:34:29.186094Z\", \"created_time\": \"2020-12-16T04:33:01.069417Z\", \"created_time_dt\": \"2020-12-16T04:33:01.069417Z\", \"duration\": \"0:01:28\", \"iteration\": \"33\", \"goal\": null, \"run_name\": \"StandardScalerWrapper, RandomForest\", \"run_properties\": null}, {\"run_id\": \"AutoML_e329e4b4-7ab6-4771-af29-e13d01e88370_34\", \"run_number\": 48, \"metric\": null, \"status\": \"Completed\", \"run_type\": \"azureml.scriptrun\", \"training_percent\": \"100\", \"start_time\": \"2020-12-16T04:33:32.272813Z\", \"end_time\": \"2020-12-16T04:34:20.631183Z\", \"created_time\": \"2020-12-16T04:33:18.944123Z\", \"created_time_dt\": \"2020-12-16T04:33:18.944123Z\", \"duration\": \"0:01:01\", \"iteration\": \"34\", \"goal\": \"AUC_weighted_max\", \"run_name\": \"StandardScalerWrapper, XGBoostClassifier\", \"run_properties\": \"<azureml.automl.runtime.shared.model_wrappers.StandardScalerWrapper object at 0x7fa85b7c9550\", \"primary_metric\": 0.89051195, \"best_metric\": 0.90200379}, {\"run_id\": \"AutoML_e329e4b4-7ab6-4771-af29-e13d01e88370_35\", \"run_number\": 49, \"metric\": null, \"status\": \"Canceled\", \"run_type\": \"azureml.scriptrun\", \"training_percent\": \"100\", \"start_time\": \"2020-12-16T04:33:45.007867Z\", \"end_time\": \"2020-12-16T04:34:29.656003Z\", \"created_time\": \"2020-12-16T04:33:27.139114Z\", \"created_time_dt\": \"2020-12-16T04:33:27.139114Z\", \"duration\": \"0:01:02\", \"iteration\": \"35\", \"goal\": null, \"run_name\": \"RobustScaler, RandomForest\", \"run_properties\": null, \"primary_metric\": 0.88428138, \"best_metric\": 0.90200379}, {\"run_id\": \"AutoML_e329e4b4-7ab6-4771-af29-e13d01e88370_36\", \"run_number\": 50, \"metric\": null, \"status\": \"Canceled\", \"run_type\": \"azureml.scriptrun\", \"training_percent\": \"100\", \"start_time\": \"2020-12-16T04:34:01.12437Z\", \"end_time\": \"2020-12-16T04:34:28.806855Z\", \"created_time\": \"2020-12-16T04:33:41.360328Z\", \"created_time_dt\": \"2020-12-16T04:33:41.360328Z\", \"duration\": \"0:00:47\", \"iteration\": \"36\", \"goal\": null, \"run_name\": \"StandardScalerWrapper, LightGBM\", \"run_properties\": null}, {\"run_id\": \"AutoML_e329e4b4-7ab6-4771-af29-e13d01e88370_37\", \"run_number\": 51, \"metric\": null, \"status\": \"Canceled\", \"run_type\": \"azureml.scriptrun\", \"training_percent\": \"100\", \"start_time\": \"2020-12-16T04:34:21.958897Z\", \"end_time\": \"2020-12-16T04:34:44.898257Z\", \"created_time\": \"2020-12-16T04:34:02.178547Z\", \"created_time_dt\": \"2020-12-16T04:34:02.178547Z\", \"duration\": \"0:00:42\", \"iteration\": \"37\", \"goal\": null, \"run_name\": \"Canceled\", \"run_properties\": null}, {\"run_id\": \"AutoML_e329e4b4-7ab6-4771-af29-e13d01e88370_38\", \"run_number\": 52, \"metric\": null, \"status\": \"Completed\", \"run_type\": \"azureml.scriptrun\", \"training_percent\": \"100\", \"start_time\": \"2020-12-16T04:34:59.865896Z\", \"end_time\": \"2020-12-16T04:36:52.567819Z\", \"created_time\": \"2020-12-16T04:34:46.668895Z\", \"created_time_dt\": \"2020-12-16T04:34:46.668895Z\", \"duration\": \"0:02:05\", \"iteration\": \"38\", \"goal\": \"AUC_weighted_max\", \"run_name\": \"VotingEnsemble\", \"run_properties\": \"classification_labels=None,\\n                              estimators=[('4',\\n                                           Pipeline(memory=None,\\n                                                    steps=[('minmaxscaler',\\n                                                            MinMaxScaler(copy=True,\\n                                                                         feature_range=(0,\\n                                                                                        1\", \"primary_metric\": 0.91021511, \"best_metric\": 0.91021511}], \"children_metrics\": {\"categories\": [0], \"series\": {\"recall_score_micro\": [{\"categories\": [\"0\", \"1\", \"2\", \"3\", \"4\", \"5\", \"6\", \"7\", \"8\", \"9\", \"10\", \"11\", \"12\", \"13\", \"14\", \"15\", \"16\", \"17\", \"18\", \"19\", \"20\", \"21\", \"22\", \"23\", \"24\", \"25\", \"26\", \"27\", \"28\", \"29\", \"30\", \"31\", \"32\", \"34\", \"35\", \"38\"], \"mode\": \"markers\", \"name\": \"recall_score_micro\", \"stepped\": false, \"type\": \"scatter\", \"data\": [0.8528735632183908, 0.8294252873563218, 0.8125287356321838, 0.7757471264367817, 0.8558620689655172, 0.8226436781609194, 0.8263218390804598, 0.8495402298850575, 0.7826436781609195, 0.7458620689655173, 0.7959770114942529, 0.8294252873563218, 0.8159770114942528, 0.8293103448275861, 0.8326436781609197, 0.6285057471264367, 0.8026436781609195, 0.7991954022988506, 0.8160919540229885, 0.8493103448275863, 0.8327586206896551, 0.8089655172413794, 0.8125287356321838, 0.8493103448275863, 0.8293103448275863, 0.825632183908046, 0.8427586206896553, 0.7625287356321839, 0.825977011494253, 0.782528735632184, 0.6720689655172414, 0.8491954022988505, 0.8428735632183908, 0.8427586206896553, 0.8459770114942529, 0.8560919540229885]}, {\"categories\": [\"0\", \"1\", \"2\", \"3\", \"4\", \"5\", \"6\", \"7\", \"8\", \"9\", \"10\", \"11\", \"12\", \"13\", \"14\", \"15\", \"16\", \"17\", \"18\", \"19\", \"20\", \"21\", \"22\", \"23\", \"24\", \"25\", \"26\", \"27\", \"28\", \"29\", \"30\", \"31\", \"32\", \"34\", \"35\", \"38\"], \"mode\": \"lines\", \"name\": \"recall_score_micro_max\", \"stepped\": true, \"type\": \"scatter\", \"data\": [0.8528735632183908, 0.8528735632183908, 0.8528735632183908, 0.8528735632183908, 0.8558620689655172, 0.8558620689655172, 0.8558620689655172, 0.8558620689655172, 0.8558620689655172, 0.8558620689655172, 0.8558620689655172, 0.8558620689655172, 0.8558620689655172, 0.8558620689655172, 0.8558620689655172, 0.8558620689655172, 0.8558620689655172, 0.8558620689655172, 0.8558620689655172, 0.8558620689655172, 0.8558620689655172, 0.8558620689655172, 0.8558620689655172, 0.8558620689655172, 0.8558620689655172, 0.8558620689655172, 0.8558620689655172, 0.8558620689655172, 0.8558620689655172, 0.8558620689655172, 0.8558620689655172, 0.8558620689655172, 0.8558620689655172, 0.8558620689655172, 0.8558620689655172, 0.8560919540229885]}], \"recall_score_macro\": [{\"categories\": [\"0\", \"1\", \"2\", \"3\", \"4\", \"5\", \"6\", \"7\", \"8\", \"9\", \"10\", \"11\", \"12\", \"13\", \"14\", \"15\", \"16\", \"17\", \"18\", \"19\", \"20\", \"21\", \"22\", \"23\", \"24\", \"25\", \"26\", \"27\", \"28\", \"29\", \"30\", \"31\", \"32\", \"34\", \"35\", \"38\"], \"mode\": \"markers\", \"name\": \"recall_score_macro\", \"stepped\": false, \"type\": \"scatter\", \"data\": [0.8069458209918737, 0.7833175837320574, 0.7609916710969342, 0.6659018505860611, 0.8200140471127313, 0.7612896508949141, 0.7743467602086023, 0.7834540138224348, 0.6700764632540948, 0.6557719298245613, 0.6911375408217514, 0.7450613022455128, 0.81068596364649, 0.7759512575630997, 0.8040717260322523, 0.5252898249411408, 0.6964691653375864, 0.7599936488949647, 0.8080221576668946, 0.7917290701501227, 0.7847762430065061, 0.7693460925039871, 0.7667642274879116, 0.8240339580010634, 0.7756934602921445, 0.7913570447583606, 0.7614182140958456, 0.6398782562466774, 0.7781919919748866, 0.6780100250626566, 0.6152640312903471, 0.794904404318878, 0.7884003316371737, 0.770991050859472, 0.7794003316371737, 0.8032560409863041]}, {\"categories\": [\"0\", \"1\", \"2\", \"3\", \"4\", \"5\", \"6\", \"7\", \"8\", \"9\", \"10\", \"11\", \"12\", \"13\", \"14\", \"15\", \"16\", \"17\", \"18\", \"19\", \"20\", \"21\", \"22\", \"23\", \"24\", \"25\", \"26\", \"27\", \"28\", \"29\", \"30\", \"31\", \"32\", \"34\", \"35\", \"38\"], \"mode\": \"lines\", \"name\": \"recall_score_macro_max\", \"stepped\": true, \"type\": \"scatter\", \"data\": [0.8069458209918737, 0.8069458209918737, 0.8069458209918737, 0.8069458209918737, 0.8200140471127313, 0.8200140471127313, 0.8200140471127313, 0.8200140471127313, 0.8200140471127313, 0.8200140471127313, 0.8200140471127313, 0.8200140471127313, 0.8200140471127313, 0.8200140471127313, 0.8200140471127313, 0.8200140471127313, 0.8200140471127313, 0.8200140471127313, 0.8200140471127313, 0.8200140471127313, 0.8200140471127313, 0.8200140471127313, 0.8200140471127313, 0.8240339580010634, 0.8240339580010634, 0.8240339580010634, 0.8240339580010634, 0.8240339580010634, 0.8240339580010634, 0.8240339580010634, 0.8240339580010634, 0.8240339580010634, 0.8240339580010634, 0.8240339580010634, 0.8240339580010634, 0.8240339580010634]}], \"average_precision_score_micro\": [{\"categories\": [\"0\", \"1\", \"2\", \"3\", \"4\", \"5\", \"6\", \"7\", \"8\", \"9\", \"10\", \"11\", \"12\", \"13\", \"14\", \"15\", \"16\", \"17\", \"18\", \"19\", \"20\", \"21\", \"22\", \"23\", \"24\", \"25\", \"26\", \"27\", \"28\", \"29\", \"30\", \"31\", \"32\", \"34\", \"35\", \"38\"], \"mode\": \"markers\", \"name\": \"average_precision_score_micro\", \"stepped\": false, \"type\": \"scatter\", \"data\": [0.9103669076530551, 0.9004445736495577, 0.9035538101538144, 0.8867060397269917, 0.9240448555192209, 0.910180350634266, 0.8952054558669097, 0.8992872282393565, 0.8811274187130834, 0.7813566999467227, 0.8821719705879397, 0.9052889502167683, 0.9020456697478517, 0.8950109623768009, 0.8996081157970108, 0.6617596005896169, 0.8972157607389175, 0.87705590857815, 0.9045976614270529, 0.9061806910640101, 0.9210395295976459, 0.8754470421257861, 0.9009886519186816, 0.9147133883812844, 0.9102477111231257, 0.9072100592827373, 0.9034946757015463, 0.8814570834024323, 0.9095606404505961, 0.8800913797727834, 0.7666182115617906, 0.9190597886560917, 0.9155641395425203, 0.9071772438699581, 0.8811745923066499, 0.9300031524278809]}, {\"categories\": [\"0\", \"1\", \"2\", \"3\", \"4\", \"5\", \"6\", \"7\", \"8\", \"9\", \"10\", \"11\", \"12\", \"13\", \"14\", \"15\", \"16\", \"17\", \"18\", \"19\", \"20\", \"21\", \"22\", \"23\", \"24\", \"25\", \"26\", \"27\", \"28\", \"29\", \"30\", \"31\", \"32\", \"34\", \"35\", \"38\"], \"mode\": \"lines\", \"name\": \"average_precision_score_micro_max\", \"stepped\": true, \"type\": \"scatter\", \"data\": [0.9103669076530551, 0.9103669076530551, 0.9103669076530551, 0.9103669076530551, 0.9240448555192209, 0.9240448555192209, 0.9240448555192209, 0.9240448555192209, 0.9240448555192209, 0.9240448555192209, 0.9240448555192209, 0.9240448555192209, 0.9240448555192209, 0.9240448555192209, 0.9240448555192209, 0.9240448555192209, 0.9240448555192209, 0.9240448555192209, 0.9240448555192209, 0.9240448555192209, 0.9240448555192209, 0.9240448555192209, 0.9240448555192209, 0.9240448555192209, 0.9240448555192209, 0.9240448555192209, 0.9240448555192209, 0.9240448555192209, 0.9240448555192209, 0.9240448555192209, 0.9240448555192209, 0.9240448555192209, 0.9240448555192209, 0.9240448555192209, 0.9240448555192209, 0.9300031524278809]}], \"f1_score_micro\": [{\"categories\": [\"0\", \"1\", \"2\", \"3\", \"4\", \"5\", \"6\", \"7\", \"8\", \"9\", \"10\", \"11\", \"12\", \"13\", \"14\", \"15\", \"16\", \"17\", \"18\", \"19\", \"20\", \"21\", \"22\", \"23\", \"24\", \"25\", \"26\", \"27\", \"28\", \"29\", \"30\", \"31\", \"32\", \"34\", \"35\", \"38\"], \"mode\": \"markers\", \"name\": \"f1_score_micro\", \"stepped\": false, \"type\": \"scatter\", \"data\": [0.8528735632183908, 0.8294252873563218, 0.8125287356321838, 0.7757471264367817, 0.8558620689655172, 0.8226436781609194, 0.8263218390804598, 0.8495402298850575, 0.7826436781609196, 0.7458620689655173, 0.7959770114942529, 0.8294252873563218, 0.8159770114942528, 0.8293103448275861, 0.8326436781609197, 0.6285057471264367, 0.8026436781609195, 0.7991954022988507, 0.8160919540229885, 0.8493103448275864, 0.8327586206896551, 0.8089655172413794, 0.812528735632184, 0.8493103448275863, 0.8293103448275863, 0.825632183908046, 0.8427586206896553, 0.7625287356321839, 0.825977011494253, 0.782528735632184, 0.6720689655172414, 0.8491954022988505, 0.8428735632183908, 0.8427586206896553, 0.8459770114942529, 0.8560919540229885]}, {\"categories\": [\"0\", \"1\", \"2\", \"3\", \"4\", \"5\", \"6\", \"7\", \"8\", \"9\", \"10\", \"11\", \"12\", \"13\", \"14\", \"15\", \"16\", \"17\", \"18\", \"19\", \"20\", \"21\", \"22\", \"23\", \"24\", \"25\", \"26\", \"27\", \"28\", \"29\", \"30\", \"31\", \"32\", \"34\", \"35\", \"38\"], \"mode\": \"lines\", \"name\": \"f1_score_micro_max\", \"stepped\": true, \"type\": \"scatter\", \"data\": [0.8528735632183908, 0.8528735632183908, 0.8528735632183908, 0.8528735632183908, 0.8558620689655172, 0.8558620689655172, 0.8558620689655172, 0.8558620689655172, 0.8558620689655172, 0.8558620689655172, 0.8558620689655172, 0.8558620689655172, 0.8558620689655172, 0.8558620689655172, 0.8558620689655172, 0.8558620689655172, 0.8558620689655172, 0.8558620689655172, 0.8558620689655172, 0.8558620689655172, 0.8558620689655172, 0.8558620689655172, 0.8558620689655172, 0.8558620689655172, 0.8558620689655172, 0.8558620689655172, 0.8558620689655172, 0.8558620689655172, 0.8558620689655172, 0.8558620689655172, 0.8558620689655172, 0.8558620689655172, 0.8558620689655172, 0.8558620689655172, 0.8558620689655172, 0.8560919540229885]}], \"weighted_accuracy\": [{\"categories\": [\"0\", \"1\", \"2\", \"3\", \"4\", \"5\", \"6\", \"7\", \"8\", \"9\", \"10\", \"11\", \"12\", \"13\", \"14\", \"15\", \"16\", \"17\", \"18\", \"19\", \"20\", \"21\", \"22\", \"23\", \"24\", \"25\", \"26\", \"27\", \"28\", \"29\", \"30\", \"31\", \"32\", \"34\", \"35\", \"38\"], \"mode\": \"markers\", \"name\": \"weighted_accuracy\", \"stepped\": false, \"type\": \"scatter\", \"data\": [0.8769762059573883, 0.8518333326626155, 0.8374733862483575, 0.8410654692328672, 0.8689388596468115, 0.8539027026337234, 0.8508335949748721, 0.8821928035807518, 0.8414178014950009, 0.79811009672, 0.8559030036110109, 0.8741140360688948, 0.8143008459391086, 0.8579881464075141, 0.8391488770078999, 0.6902207630720387, 0.8606945128331109, 0.8158657360791066, 0.8167606693309981, 0.8761083073971199, 0.8532201559302341, 0.8226273586452753, 0.8350563673853936, 0.8552359924608484, 0.8504743828405456, 0.8356528651643995, 0.8839416148849711, 0.8313888974017892, 0.8425894951998734, 0.84246598706419, 0.7028518421417002, 0.8722860667784534, 0.8686031378101762, 0.8784254345186865, 0.8774656914908899, 0.8787393784447349]}, {\"categories\": [\"0\", \"1\", \"2\", \"3\", \"4\", \"5\", \"6\", \"7\", \"8\", \"9\", \"10\", \"11\", \"12\", \"13\", \"14\", \"15\", \"16\", \"17\", \"18\", \"19\", \"20\", \"21\", \"22\", \"23\", \"24\", \"25\", \"26\", \"27\", \"28\", \"29\", \"30\", \"31\", \"32\", \"34\", \"35\", \"38\"], \"mode\": \"lines\", \"name\": \"weighted_accuracy_max\", \"stepped\": true, \"type\": \"scatter\", \"data\": [0.8769762059573883, 0.8769762059573883, 0.8769762059573883, 0.8769762059573883, 0.8769762059573883, 0.8769762059573883, 0.8769762059573883, 0.8821928035807518, 0.8821928035807518, 0.8821928035807518, 0.8821928035807518, 0.8821928035807518, 0.8821928035807518, 0.8821928035807518, 0.8821928035807518, 0.8821928035807518, 0.8821928035807518, 0.8821928035807518, 0.8821928035807518, 0.8821928035807518, 0.8821928035807518, 0.8821928035807518, 0.8821928035807518, 0.8821928035807518, 0.8821928035807518, 0.8821928035807518, 0.8839416148849711, 0.8839416148849711, 0.8839416148849711, 0.8839416148849711, 0.8839416148849711, 0.8839416148849711, 0.8839416148849711, 0.8839416148849711, 0.8839416148849711, 0.8839416148849711]}], \"precision_score_macro\": [{\"categories\": [\"0\", \"1\", \"2\", \"3\", \"4\", \"5\", \"6\", \"7\", \"8\", \"9\", \"10\", \"11\", \"12\", \"13\", \"14\", \"15\", \"16\", \"17\", \"18\", \"19\", \"20\", \"21\", \"22\", \"23\", \"24\", \"25\", \"26\", \"27\", \"28\", \"29\", \"30\", \"31\", \"32\", \"34\", \"35\", \"38\"], \"mode\": \"markers\", \"name\": \"precision_score_macro\", \"stepped\": false, \"type\": \"scatter\", \"data\": [0.8478050569440729, 0.8122953918062613, 0.7822563669274196, 0.7933846198085329, 0.8152850560745296, 0.801879757584563, 0.8026226633778121, 0.8566431665119822, 0.7531578348632322, 0.744199567364529, 0.8304503255365324, 0.8247644022644023, 0.7889669521654816, 0.7965086247788495, 0.7968376925362219, 0.5712756934053786, 0.8093920915000374, 0.7577394419306184, 0.7826471869633634, 0.8247982357078467, 0.8047657145915659, 0.7675020333646999, 0.7720767901688955, 0.8067775516537126, 0.7867059199381854, 0.7834732247599895, 0.8415791604697151, 0.7583778813778814, 0.7770340922121108, 0.8108141340169077, 0.5884282514833397, 0.8148012777331999, 0.8264606674789741, 0.8269372294372295, 0.8223395445134576, 0.8249244653134813]}, {\"categories\": [\"0\", \"1\", \"2\", \"3\", \"4\", \"5\", \"6\", \"7\", \"8\", \"9\", \"10\", \"11\", \"12\", \"13\", \"14\", \"15\", \"16\", \"17\", \"18\", \"19\", \"20\", \"21\", \"22\", \"23\", \"24\", \"25\", \"26\", \"27\", \"28\", \"29\", \"30\", \"31\", \"32\", \"34\", \"35\", \"38\"], \"mode\": \"lines\", \"name\": \"precision_score_macro_max\", \"stepped\": true, \"type\": \"scatter\", \"data\": [0.8478050569440729, 0.8478050569440729, 0.8478050569440729, 0.8478050569440729, 0.8478050569440729, 0.8478050569440729, 0.8478050569440729, 0.8566431665119822, 0.8566431665119822, 0.8566431665119822, 0.8566431665119822, 0.8566431665119822, 0.8566431665119822, 0.8566431665119822, 0.8566431665119822, 0.8566431665119822, 0.8566431665119822, 0.8566431665119822, 0.8566431665119822, 0.8566431665119822, 0.8566431665119822, 0.8566431665119822, 0.8566431665119822, 0.8566431665119822, 0.8566431665119822, 0.8566431665119822, 0.8566431665119822, 0.8566431665119822, 0.8566431665119822, 0.8566431665119822, 0.8566431665119822, 0.8566431665119822, 0.8566431665119822, 0.8566431665119822, 0.8566431665119822, 0.8566431665119822]}], \"matthews_correlation\": [{\"categories\": [\"0\", \"1\", \"2\", \"3\", \"4\", \"5\", \"6\", \"7\", \"8\", \"9\", \"10\", \"11\", \"12\", \"13\", \"14\", \"15\", \"16\", \"17\", \"18\", \"19\", \"20\", \"21\", \"22\", \"23\", \"24\", \"25\", \"26\", \"27\", \"28\", \"29\", \"30\", \"31\", \"32\", \"34\", \"35\", \"38\"], \"mode\": \"markers\", \"name\": \"matthews_correlation\", \"stepped\": false, \"type\": \"scatter\", \"data\": [0.6513585985756285, 0.5937735919757674, 0.541795009340603, 0.43405837378887363, 0.6344723982016918, 0.5590205181955735, 0.5751787640295225, 0.6289440120909473, 0.4109369732635114, 0.3852790267030642, 0.49435594892448564, 0.5614486733451154, 0.5983208145420976, 0.5698825026451143, 0.5992911299005401, 0.08676087080200032, 0.4858821522145086, 0.5161350814173244, 0.5886890838072293, 0.6141447474571213, 0.5879476095051117, 0.5358114528799551, 0.5375433466950615, 0.6297216572280835, 0.5615825652813442, 0.5743603161980447, 0.5927149756217346, 0.3787090084596073, 0.5548609267885383, 0.45707505722750474, 0.24306458214853102, 0.6084485814199103, 0.6119840255150086, 0.5933627722655656, 0.59856993563422, 0.6266027190292655]}, {\"categories\": [\"0\", \"1\", \"2\", \"3\", \"4\", \"5\", \"6\", \"7\", \"8\", \"9\", \"10\", \"11\", \"12\", \"13\", \"14\", \"15\", \"16\", \"17\", \"18\", \"19\", \"20\", \"21\", \"22\", \"23\", \"24\", \"25\", \"26\", \"27\", \"28\", \"29\", \"30\", \"31\", \"32\", \"34\", \"35\", \"38\"], \"mode\": \"lines\", \"name\": \"matthews_correlation_max\", \"stepped\": true, \"type\": \"scatter\", \"data\": [0.6513585985756285, 0.6513585985756285, 0.6513585985756285, 0.6513585985756285, 0.6513585985756285, 0.6513585985756285, 0.6513585985756285, 0.6513585985756285, 0.6513585985756285, 0.6513585985756285, 0.6513585985756285, 0.6513585985756285, 0.6513585985756285, 0.6513585985756285, 0.6513585985756285, 0.6513585985756285, 0.6513585985756285, 0.6513585985756285, 0.6513585985756285, 0.6513585985756285, 0.6513585985756285, 0.6513585985756285, 0.6513585985756285, 0.6513585985756285, 0.6513585985756285, 0.6513585985756285, 0.6513585985756285, 0.6513585985756285, 0.6513585985756285, 0.6513585985756285, 0.6513585985756285, 0.6513585985756285, 0.6513585985756285, 0.6513585985756285, 0.6513585985756285, 0.6513585985756285]}], \"AUC_macro\": [{\"categories\": [\"0\", \"1\", \"2\", \"3\", \"4\", \"5\", \"6\", \"7\", \"8\", \"9\", \"10\", \"11\", \"12\", \"13\", \"14\", \"15\", \"16\", \"17\", \"18\", \"19\", \"20\", \"21\", \"22\", \"23\", \"24\", \"25\", \"26\", \"27\", \"28\", \"29\", \"30\", \"31\", \"32\", \"34\", \"35\", \"38\"], \"mode\": \"markers\", \"name\": \"AUC_macro\", \"stepped\": false, \"type\": \"scatter\", \"data\": [0.8821828799692835, 0.8717221751769996, 0.8846874068588981, 0.877001359248289, 0.9020037899884391, 0.8874628330084471, 0.8694402051002929, 0.8773089333181439, 0.8626091645359188, 0.7206919107533143, 0.8562872895622895, 0.8846232618583496, 0.8987504029433854, 0.8562288530670111, 0.8695329630895421, 0.5682040669856459, 0.8864710785802892, 0.8443028102664067, 0.8760296334270018, 0.8910373120300752, 0.8963580087634911, 0.8623300416445152, 0.8650162249056985, 0.8943612454958947, 0.8911635967021934, 0.8846698210171896, 0.8819618448478097, 0.8678523256795188, 0.8869784714311031, 0.8790603139793929, 0.7180494860889597, 0.8921279870551801, 0.89354572078344, 0.890511946111069, 0.884281381273048, 0.9102151082673012]}, {\"categories\": [\"0\", \"1\", \"2\", \"3\", \"4\", \"5\", \"6\", \"7\", \"8\", \"9\", \"10\", \"11\", \"12\", \"13\", \"14\", \"15\", \"16\", \"17\", \"18\", \"19\", \"20\", \"21\", \"22\", \"23\", \"24\", \"25\", \"26\", \"27\", \"28\", \"29\", \"30\", \"31\", \"32\", \"34\", \"35\", \"38\"], \"mode\": \"lines\", \"name\": \"AUC_macro_max\", \"stepped\": true, \"type\": \"scatter\", \"data\": [0.8821828799692835, 0.8821828799692835, 0.8846874068588981, 0.8846874068588981, 0.9020037899884391, 0.9020037899884391, 0.9020037899884391, 0.9020037899884391, 0.9020037899884391, 0.9020037899884391, 0.9020037899884391, 0.9020037899884391, 0.9020037899884391, 0.9020037899884391, 0.9020037899884391, 0.9020037899884391, 0.9020037899884391, 0.9020037899884391, 0.9020037899884391, 0.9020037899884391, 0.9020037899884391, 0.9020037899884391, 0.9020037899884391, 0.9020037899884391, 0.9020037899884391, 0.9020037899884391, 0.9020037899884391, 0.9020037899884391, 0.9020037899884391, 0.9020037899884391, 0.9020037899884391, 0.9020037899884391, 0.9020037899884391, 0.9020037899884391, 0.9020037899884391, 0.9102151082673012]}], \"f1_score_weighted\": [{\"categories\": [\"0\", \"1\", \"2\", \"3\", \"4\", \"5\", \"6\", \"7\", \"8\", \"9\", \"10\", \"11\", \"12\", \"13\", \"14\", \"15\", \"16\", \"17\", \"18\", \"19\", \"20\", \"21\", \"22\", \"23\", \"24\", \"25\", \"26\", \"27\", \"28\", \"29\", \"30\", \"31\", \"32\", \"34\", \"35\", \"38\"], \"mode\": \"markers\", \"name\": \"f1_score_weighted\", \"stepped\": false, \"type\": \"scatter\", \"data\": [0.850686174915935, 0.8303399291049066, 0.8140576548015591, 0.7448349464190944, 0.8588318308599229, 0.817100068767737, 0.8263770372643957, 0.8417190972762552, 0.7576509207547895, 0.727050720691546, 0.7699884120493043, 0.8161130215307695, 0.8234151070927409, 0.8276650659245917, 0.836582547995374, 0.6036852560964625, 0.7779954893460527, 0.802579099008392, 0.8236573088666586, 0.8468130205328143, 0.8352558170698714, 0.8119775843185073, 0.8132677964222272, 0.854800756432897, 0.8300173973936694, 0.8301034567684509, 0.8341194395135197, 0.7255507172356273, 0.8273622858279068, 0.7527776413282947, 0.6469596450293973, 0.8479938146158797, 0.8424563683397116, 0.8359217923019674, 0.8411947084193537, 0.8552706855347398]}, {\"categories\": [\"0\", \"1\", \"2\", \"3\", \"4\", \"5\", \"6\", \"7\", \"8\", \"9\", \"10\", \"11\", \"12\", \"13\", \"14\", \"15\", \"16\", \"17\", \"18\", \"19\", \"20\", \"21\", \"22\", \"23\", \"24\", \"25\", \"26\", \"27\", \"28\", \"29\", \"30\", \"31\", \"32\", \"34\", \"35\", \"38\"], \"mode\": \"lines\", \"name\": \"f1_score_weighted_max\", \"stepped\": true, \"type\": \"scatter\", \"data\": [0.850686174915935, 0.850686174915935, 0.850686174915935, 0.850686174915935, 0.8588318308599229, 0.8588318308599229, 0.8588318308599229, 0.8588318308599229, 0.8588318308599229, 0.8588318308599229, 0.8588318308599229, 0.8588318308599229, 0.8588318308599229, 0.8588318308599229, 0.8588318308599229, 0.8588318308599229, 0.8588318308599229, 0.8588318308599229, 0.8588318308599229, 0.8588318308599229, 0.8588318308599229, 0.8588318308599229, 0.8588318308599229, 0.8588318308599229, 0.8588318308599229, 0.8588318308599229, 0.8588318308599229, 0.8588318308599229, 0.8588318308599229, 0.8588318308599229, 0.8588318308599229, 0.8588318308599229, 0.8588318308599229, 0.8588318308599229, 0.8588318308599229, 0.8588318308599229]}], \"norm_macro_recall\": [{\"categories\": [\"0\", \"1\", \"2\", \"3\", \"4\", \"5\", \"6\", \"7\", \"8\", \"9\", \"10\", \"11\", \"12\", \"13\", \"14\", \"15\", \"16\", \"17\", \"18\", \"19\", \"20\", \"21\", \"22\", \"23\", \"24\", \"25\", \"26\", \"27\", \"28\", \"29\", \"30\", \"31\", \"32\", \"34\", \"35\", \"38\"], \"mode\": \"markers\", \"name\": \"norm_macro_recall\", \"stepped\": false, \"type\": \"scatter\", \"data\": [0.6138916419837473, 0.5746351674641148, 0.5219833421938684, 0.33180370117212227, 0.6400280942254627, 0.5225793017898281, 0.5486935204172046, 0.5669080276448698, 0.34385663021189333, 0.3115438596491228, 0.38227508164350266, 0.4901226044910255, 0.62137192729298, 0.5519025151261994, 0.6081434520645047, 0.09105187210450365, 0.40093833067517276, 0.5199872977899294, 0.616044315333789, 0.5834581403002456, 0.5695524860130122, 0.5386921850079744, 0.5335284549758235, 0.6480679160021264, 0.555386920584289, 0.5827140895167211, 0.5228364281916914, 0.2797565124933546, 0.5563839839497734, 0.35602005012531324, 0.24652806258069418, 0.5898088086377561, 0.5768006632743473, 0.5419821017189438, 0.5588006632743474, 0.6065120819726082]}, {\"categories\": [\"0\", \"1\", \"2\", \"3\", \"4\", \"5\", \"6\", \"7\", \"8\", \"9\", \"10\", \"11\", \"12\", \"13\", \"14\", \"15\", \"16\", \"17\", \"18\", \"19\", \"20\", \"21\", \"22\", \"23\", \"24\", \"25\", \"26\", \"27\", \"28\", \"29\", \"30\", \"31\", \"32\", \"34\", \"35\", \"38\"], \"mode\": \"lines\", \"name\": \"norm_macro_recall_max\", \"stepped\": true, \"type\": \"scatter\", \"data\": [0.6138916419837473, 0.6138916419837473, 0.6138916419837473, 0.6138916419837473, 0.6400280942254627, 0.6400280942254627, 0.6400280942254627, 0.6400280942254627, 0.6400280942254627, 0.6400280942254627, 0.6400280942254627, 0.6400280942254627, 0.6400280942254627, 0.6400280942254627, 0.6400280942254627, 0.6400280942254627, 0.6400280942254627, 0.6400280942254627, 0.6400280942254627, 0.6400280942254627, 0.6400280942254627, 0.6400280942254627, 0.6400280942254627, 0.6480679160021264, 0.6480679160021264, 0.6480679160021264, 0.6480679160021264, 0.6480679160021264, 0.6480679160021264, 0.6480679160021264, 0.6480679160021264, 0.6480679160021264, 0.6480679160021264, 0.6480679160021264, 0.6480679160021264, 0.6480679160021264]}], \"average_precision_score_macro\": [{\"categories\": [\"0\", \"1\", \"2\", \"3\", \"4\", \"5\", \"6\", \"7\", \"8\", \"9\", \"10\", \"11\", \"12\", \"13\", \"14\", \"15\", \"16\", \"17\", \"18\", \"19\", \"20\", \"21\", \"22\", \"23\", \"24\", \"25\", \"26\", \"27\", \"28\", \"29\", \"30\", \"31\", \"32\", \"34\", \"35\", \"38\"], \"mode\": \"markers\", \"name\": \"average_precision_score_macro\", \"stepped\": false, \"type\": \"scatter\", \"data\": [0.8791765284374424, 0.8711161960758371, 0.8699637957387308, 0.8665193903739048, 0.8955466183597645, 0.8830400704968115, 0.8493780857599724, 0.8699057533559132, 0.8479935213780154, 0.745969560448301, 0.8625563872732703, 0.8780721633453498, 0.8828186183255419, 0.8445122196943334, 0.852666897137162, 0.5983435667955933, 0.8735715432930519, 0.834284311293555, 0.872517418025064, 0.8825301890086455, 0.8788607417620341, 0.8437321568765969, 0.8602013217798763, 0.8848209183043523, 0.8735925009367003, 0.8792356759525578, 0.8763696169354246, 0.8564192128881836, 0.8715287109997915, 0.8732329961352949, 0.6900231921222552, 0.8851467818128832, 0.881536311590709, 0.8782094181365429, 0.877187744597757, 0.8972755333850373]}, {\"categories\": [\"0\", \"1\", \"2\", \"3\", \"4\", \"5\", \"6\", \"7\", \"8\", \"9\", \"10\", \"11\", \"12\", \"13\", \"14\", \"15\", \"16\", \"17\", \"18\", \"19\", \"20\", \"21\", \"22\", \"23\", \"24\", \"25\", \"26\", \"27\", \"28\", \"29\", \"30\", \"31\", \"32\", \"34\", \"35\", \"38\"], \"mode\": \"lines\", \"name\": \"average_precision_score_macro_max\", \"stepped\": true, \"type\": \"scatter\", \"data\": [0.8791765284374424, 0.8791765284374424, 0.8791765284374424, 0.8791765284374424, 0.8955466183597645, 0.8955466183597645, 0.8955466183597645, 0.8955466183597645, 0.8955466183597645, 0.8955466183597645, 0.8955466183597645, 0.8955466183597645, 0.8955466183597645, 0.8955466183597645, 0.8955466183597645, 0.8955466183597645, 0.8955466183597645, 0.8955466183597645, 0.8955466183597645, 0.8955466183597645, 0.8955466183597645, 0.8955466183597645, 0.8955466183597645, 0.8955466183597645, 0.8955466183597645, 0.8955466183597645, 0.8955466183597645, 0.8955466183597645, 0.8955466183597645, 0.8955466183597645, 0.8955466183597645, 0.8955466183597645, 0.8955466183597645, 0.8955466183597645, 0.8955466183597645, 0.8972755333850373]}], \"balanced_accuracy\": [{\"categories\": [\"0\", \"1\", \"2\", \"3\", \"4\", \"5\", \"6\", \"7\", \"8\", \"9\", \"10\", \"11\", \"12\", \"13\", \"14\", \"15\", \"16\", \"17\", \"18\", \"19\", \"20\", \"21\", \"22\", \"23\", \"24\", \"25\", \"26\", \"27\", \"28\", \"29\", \"30\", \"31\", \"32\", \"34\", \"35\", \"38\"], \"mode\": \"markers\", \"name\": \"balanced_accuracy\", \"stepped\": false, \"type\": \"scatter\", \"data\": [0.8069458209918737, 0.7833175837320574, 0.7609916710969342, 0.6659018505860611, 0.8200140471127313, 0.7612896508949141, 0.7743467602086023, 0.7834540138224348, 0.6700764632540948, 0.6557719298245613, 0.6911375408217514, 0.7450613022455128, 0.81068596364649, 0.7759512575630997, 0.8040717260322523, 0.5252898249411408, 0.6964691653375864, 0.7599936488949647, 0.8080221576668946, 0.7917290701501227, 0.7847762430065061, 0.7693460925039871, 0.7667642274879116, 0.8240339580010634, 0.7756934602921445, 0.7913570447583606, 0.7614182140958456, 0.6398782562466774, 0.7781919919748866, 0.6780100250626566, 0.6152640312903471, 0.794904404318878, 0.7884003316371737, 0.770991050859472, 0.7794003316371737, 0.8032560409863041]}, {\"categories\": [\"0\", \"1\", \"2\", \"3\", \"4\", \"5\", \"6\", \"7\", \"8\", \"9\", \"10\", \"11\", \"12\", \"13\", \"14\", \"15\", \"16\", \"17\", \"18\", \"19\", \"20\", \"21\", \"22\", \"23\", \"24\", \"25\", \"26\", \"27\", \"28\", \"29\", \"30\", \"31\", \"32\", \"34\", \"35\", \"38\"], \"mode\": \"lines\", \"name\": \"balanced_accuracy_max\", \"stepped\": true, \"type\": \"scatter\", \"data\": [0.8069458209918737, 0.8069458209918737, 0.8069458209918737, 0.8069458209918737, 0.8200140471127313, 0.8200140471127313, 0.8200140471127313, 0.8200140471127313, 0.8200140471127313, 0.8200140471127313, 0.8200140471127313, 0.8200140471127313, 0.8200140471127313, 0.8200140471127313, 0.8200140471127313, 0.8200140471127313, 0.8200140471127313, 0.8200140471127313, 0.8200140471127313, 0.8200140471127313, 0.8200140471127313, 0.8200140471127313, 0.8200140471127313, 0.8240339580010634, 0.8240339580010634, 0.8240339580010634, 0.8240339580010634, 0.8240339580010634, 0.8240339580010634, 0.8240339580010634, 0.8240339580010634, 0.8240339580010634, 0.8240339580010634, 0.8240339580010634, 0.8240339580010634, 0.8240339580010634]}], \"precision_score_micro\": [{\"categories\": [\"0\", \"1\", \"2\", \"3\", \"4\", \"5\", \"6\", \"7\", \"8\", \"9\", \"10\", \"11\", \"12\", \"13\", \"14\", \"15\", \"16\", \"17\", \"18\", \"19\", \"20\", \"21\", \"22\", \"23\", \"24\", \"25\", \"26\", \"27\", \"28\", \"29\", \"30\", \"31\", \"32\", \"34\", \"35\", \"38\"], \"mode\": \"markers\", \"name\": \"precision_score_micro\", \"stepped\": false, \"type\": \"scatter\", \"data\": [0.8528735632183908, 0.8294252873563218, 0.8125287356321838, 0.7757471264367817, 0.8558620689655172, 0.8226436781609194, 0.8263218390804598, 0.8495402298850575, 0.7826436781609195, 0.7458620689655173, 0.7959770114942529, 0.8294252873563218, 0.8159770114942528, 0.8293103448275861, 0.8326436781609197, 0.6285057471264367, 0.8026436781609195, 0.7991954022988506, 0.8160919540229885, 0.8493103448275863, 0.8327586206896551, 0.8089655172413794, 0.8125287356321838, 0.8493103448275863, 0.8293103448275863, 0.825632183908046, 0.8427586206896553, 0.7625287356321839, 0.825977011494253, 0.782528735632184, 0.6720689655172414, 0.8491954022988505, 0.8428735632183908, 0.8427586206896553, 0.8459770114942529, 0.8560919540229885]}, {\"categories\": [\"0\", \"1\", \"2\", \"3\", \"4\", \"5\", \"6\", \"7\", \"8\", \"9\", \"10\", \"11\", \"12\", \"13\", \"14\", \"15\", \"16\", \"17\", \"18\", \"19\", \"20\", \"21\", \"22\", \"23\", \"24\", \"25\", \"26\", \"27\", \"28\", \"29\", \"30\", \"31\", \"32\", \"34\", \"35\", \"38\"], \"mode\": \"lines\", \"name\": \"precision_score_micro_max\", \"stepped\": true, \"type\": \"scatter\", \"data\": [0.8528735632183908, 0.8528735632183908, 0.8528735632183908, 0.8528735632183908, 0.8558620689655172, 0.8558620689655172, 0.8558620689655172, 0.8558620689655172, 0.8558620689655172, 0.8558620689655172, 0.8558620689655172, 0.8558620689655172, 0.8558620689655172, 0.8558620689655172, 0.8558620689655172, 0.8558620689655172, 0.8558620689655172, 0.8558620689655172, 0.8558620689655172, 0.8558620689655172, 0.8558620689655172, 0.8558620689655172, 0.8558620689655172, 0.8558620689655172, 0.8558620689655172, 0.8558620689655172, 0.8558620689655172, 0.8558620689655172, 0.8558620689655172, 0.8558620689655172, 0.8558620689655172, 0.8558620689655172, 0.8558620689655172, 0.8558620689655172, 0.8558620689655172, 0.8560919540229885]}], \"recall_score_weighted\": [{\"categories\": [\"0\", \"1\", \"2\", \"3\", \"4\", \"5\", \"6\", \"7\", \"8\", \"9\", \"10\", \"11\", \"12\", \"13\", \"14\", \"15\", \"16\", \"17\", \"18\", \"19\", \"20\", \"21\", \"22\", \"23\", \"24\", \"25\", \"26\", \"27\", \"28\", \"29\", \"30\", \"31\", \"32\", \"34\", \"35\", \"38\"], \"mode\": \"markers\", \"name\": \"recall_score_weighted\", \"stepped\": false, \"type\": \"scatter\", \"data\": [0.8528735632183908, 0.8294252873563218, 0.8125287356321838, 0.7757471264367817, 0.8558620689655172, 0.8226436781609194, 0.8263218390804598, 0.8495402298850575, 0.7826436781609195, 0.7458620689655173, 0.7959770114942529, 0.8294252873563218, 0.8159770114942528, 0.8293103448275861, 0.8326436781609197, 0.6285057471264367, 0.8026436781609195, 0.7991954022988506, 0.8160919540229885, 0.8493103448275863, 0.8327586206896551, 0.8089655172413794, 0.8125287356321838, 0.8493103448275863, 0.8293103448275863, 0.825632183908046, 0.8427586206896553, 0.7625287356321839, 0.825977011494253, 0.782528735632184, 0.6720689655172414, 0.8491954022988505, 0.8428735632183908, 0.8427586206896553, 0.8459770114942529, 0.8560919540229885]}, {\"categories\": [\"0\", \"1\", \"2\", \"3\", \"4\", \"5\", \"6\", \"7\", \"8\", \"9\", \"10\", \"11\", \"12\", \"13\", \"14\", \"15\", \"16\", \"17\", \"18\", \"19\", \"20\", \"21\", \"22\", \"23\", \"24\", \"25\", \"26\", \"27\", \"28\", \"29\", \"30\", \"31\", \"32\", \"34\", \"35\", \"38\"], \"mode\": \"lines\", \"name\": \"recall_score_weighted_max\", \"stepped\": true, \"type\": \"scatter\", \"data\": [0.8528735632183908, 0.8528735632183908, 0.8528735632183908, 0.8528735632183908, 0.8558620689655172, 0.8558620689655172, 0.8558620689655172, 0.8558620689655172, 0.8558620689655172, 0.8558620689655172, 0.8558620689655172, 0.8558620689655172, 0.8558620689655172, 0.8558620689655172, 0.8558620689655172, 0.8558620689655172, 0.8558620689655172, 0.8558620689655172, 0.8558620689655172, 0.8558620689655172, 0.8558620689655172, 0.8558620689655172, 0.8558620689655172, 0.8558620689655172, 0.8558620689655172, 0.8558620689655172, 0.8558620689655172, 0.8558620689655172, 0.8558620689655172, 0.8558620689655172, 0.8558620689655172, 0.8558620689655172, 0.8558620689655172, 0.8558620689655172, 0.8558620689655172, 0.8560919540229885]}], \"AUC_weighted\": [{\"categories\": [\"0\", \"1\", \"2\", \"3\", \"4\", \"5\", \"6\", \"7\", \"8\", \"9\", \"10\", \"11\", \"12\", \"13\", \"14\", \"15\", \"16\", \"17\", \"18\", \"19\", \"20\", \"21\", \"22\", \"23\", \"24\", \"25\", \"26\", \"27\", \"28\", \"29\", \"30\", \"31\", \"32\", \"34\", \"35\", \"38\"], \"mode\": \"markers\", \"name\": \"AUC_weighted\", \"stepped\": false, \"type\": \"scatter\", \"data\": [0.8821828799692835, 0.8717221751769996, 0.8846874068588981, 0.877001359248289, 0.9020037899884391, 0.887462833008447, 0.8694170569521447, 0.8773089333181436, 0.8626091645359188, 0.7206919107533143, 0.8562872895622895, 0.8846232618583496, 0.8987504029433853, 0.8562288530670111, 0.8695329630895421, 0.5682040669856459, 0.8864710785802892, 0.8443028102664067, 0.8760296334270018, 0.8910373120300752, 0.8963580087634911, 0.8623300416445152, 0.8650162249056985, 0.8943612454958947, 0.8911635967021934, 0.8846698210171894, 0.8819618448478097, 0.8678523256795186, 0.8869784714311029, 0.8790603139793929, 0.7180494860889597, 0.8921279870551801, 0.89354572078344, 0.890511946111069, 0.884281381273048, 0.9102151082673012]}, {\"categories\": [\"0\", \"1\", \"2\", \"3\", \"4\", \"5\", \"6\", \"7\", \"8\", \"9\", \"10\", \"11\", \"12\", \"13\", \"14\", \"15\", \"16\", \"17\", \"18\", \"19\", \"20\", \"21\", \"22\", \"23\", \"24\", \"25\", \"26\", \"27\", \"28\", \"29\", \"30\", \"31\", \"32\", \"34\", \"35\", \"38\"], \"mode\": \"lines\", \"name\": \"AUC_weighted_max\", \"stepped\": true, \"type\": \"scatter\", \"data\": [0.8821828799692835, 0.8821828799692835, 0.8846874068588981, 0.8846874068588981, 0.9020037899884391, 0.9020037899884391, 0.9020037899884391, 0.9020037899884391, 0.9020037899884391, 0.9020037899884391, 0.9020037899884391, 0.9020037899884391, 0.9020037899884391, 0.9020037899884391, 0.9020037899884391, 0.9020037899884391, 0.9020037899884391, 0.9020037899884391, 0.9020037899884391, 0.9020037899884391, 0.9020037899884391, 0.9020037899884391, 0.9020037899884391, 0.9020037899884391, 0.9020037899884391, 0.9020037899884391, 0.9020037899884391, 0.9020037899884391, 0.9020037899884391, 0.9020037899884391, 0.9020037899884391, 0.9020037899884391, 0.9020037899884391, 0.9020037899884391, 0.9020037899884391, 0.9102151082673012]}], \"average_precision_score_weighted\": [{\"categories\": [\"0\", \"1\", \"2\", \"3\", \"4\", \"5\", \"6\", \"7\", \"8\", \"9\", \"10\", \"11\", \"12\", \"13\", \"14\", \"15\", \"16\", \"17\", \"18\", \"19\", \"20\", \"21\", \"22\", \"23\", \"24\", \"25\", \"26\", \"27\", \"28\", \"29\", \"30\", \"31\", \"32\", \"34\", \"35\", \"38\"], \"mode\": \"markers\", \"name\": \"average_precision_score_weighted\", \"stepped\": false, \"type\": \"scatter\", \"data\": [0.9156642734629606, 0.9101945312982677, 0.9175862311574337, 0.9115796621640249, 0.9292649025701177, 0.924340356680319, 0.9019960586405537, 0.9097101333886999, 0.8975610090444865, 0.7932695760707114, 0.907630912607613, 0.9189884420211527, 0.9220345570364843, 0.8982130248876106, 0.9010951360880529, 0.6517522324004078, 0.9130708204517756, 0.884658742728045, 0.9115140065193575, 0.9216228855737671, 0.9245310767612918, 0.8947381520024388, 0.9047121143220942, 0.9251419354162473, 0.9170420163602249, 0.923559186328324, 0.9177776630834309, 0.9038578631149867, 0.916892376352371, 0.9135054289704521, 0.766675382134933, 0.9242431424865986, 0.9212691012807308, 0.9184453717910326, 0.919067446131438, 0.9363497233401009]}, {\"categories\": [\"0\", \"1\", \"2\", \"3\", \"4\", \"5\", \"6\", \"7\", \"8\", \"9\", \"10\", \"11\", \"12\", \"13\", \"14\", \"15\", \"16\", \"17\", \"18\", \"19\", \"20\", \"21\", \"22\", \"23\", \"24\", \"25\", \"26\", \"27\", \"28\", \"29\", \"30\", \"31\", \"32\", \"34\", \"35\", \"38\"], \"mode\": \"lines\", \"name\": \"average_precision_score_weighted_max\", \"stepped\": true, \"type\": \"scatter\", \"data\": [0.9156642734629606, 0.9156642734629606, 0.9175862311574337, 0.9175862311574337, 0.9292649025701177, 0.9292649025701177, 0.9292649025701177, 0.9292649025701177, 0.9292649025701177, 0.9292649025701177, 0.9292649025701177, 0.9292649025701177, 0.9292649025701177, 0.9292649025701177, 0.9292649025701177, 0.9292649025701177, 0.9292649025701177, 0.9292649025701177, 0.9292649025701177, 0.9292649025701177, 0.9292649025701177, 0.9292649025701177, 0.9292649025701177, 0.9292649025701177, 0.9292649025701177, 0.9292649025701177, 0.9292649025701177, 0.9292649025701177, 0.9292649025701177, 0.9292649025701177, 0.9292649025701177, 0.9292649025701177, 0.9292649025701177, 0.9292649025701177, 0.9292649025701177, 0.9363497233401009]}], \"accuracy\": [{\"categories\": [\"0\", \"1\", \"2\", \"3\", \"4\", \"5\", \"6\", \"7\", \"8\", \"9\", \"10\", \"11\", \"12\", \"13\", \"14\", \"15\", \"16\", \"17\", \"18\", \"19\", \"20\", \"21\", \"22\", \"23\", \"24\", \"25\", \"26\", \"27\", \"28\", \"29\", \"30\", \"31\", \"32\", \"34\", \"35\", \"38\"], \"mode\": \"markers\", \"name\": \"accuracy\", \"stepped\": false, \"type\": \"scatter\", \"data\": [0.8528735632183908, 0.8294252873563218, 0.8125287356321838, 0.7757471264367817, 0.8558620689655172, 0.8226436781609194, 0.8263218390804598, 0.8495402298850575, 0.7826436781609195, 0.7458620689655173, 0.7959770114942529, 0.8294252873563218, 0.8159770114942528, 0.8293103448275861, 0.8326436781609197, 0.6285057471264367, 0.8026436781609195, 0.7991954022988506, 0.8160919540229885, 0.8493103448275863, 0.8327586206896551, 0.8089655172413794, 0.8125287356321838, 0.8493103448275863, 0.8293103448275863, 0.825632183908046, 0.8427586206896553, 0.7625287356321839, 0.825977011494253, 0.782528735632184, 0.6720689655172414, 0.8491954022988505, 0.8428735632183908, 0.8427586206896553, 0.8459770114942529, 0.8560919540229885]}, {\"categories\": [\"0\", \"1\", \"2\", \"3\", \"4\", \"5\", \"6\", \"7\", \"8\", \"9\", \"10\", \"11\", \"12\", \"13\", \"14\", \"15\", \"16\", \"17\", \"18\", \"19\", \"20\", \"21\", \"22\", \"23\", \"24\", \"25\", \"26\", \"27\", \"28\", \"29\", \"30\", \"31\", \"32\", \"34\", \"35\", \"38\"], \"mode\": \"lines\", \"name\": \"accuracy_max\", \"stepped\": true, \"type\": \"scatter\", \"data\": [0.8528735632183908, 0.8528735632183908, 0.8528735632183908, 0.8528735632183908, 0.8558620689655172, 0.8558620689655172, 0.8558620689655172, 0.8558620689655172, 0.8558620689655172, 0.8558620689655172, 0.8558620689655172, 0.8558620689655172, 0.8558620689655172, 0.8558620689655172, 0.8558620689655172, 0.8558620689655172, 0.8558620689655172, 0.8558620689655172, 0.8558620689655172, 0.8558620689655172, 0.8558620689655172, 0.8558620689655172, 0.8558620689655172, 0.8558620689655172, 0.8558620689655172, 0.8558620689655172, 0.8558620689655172, 0.8558620689655172, 0.8558620689655172, 0.8558620689655172, 0.8558620689655172, 0.8558620689655172, 0.8558620689655172, 0.8558620689655172, 0.8558620689655172, 0.8560919540229885]}], \"f1_score_macro\": [{\"categories\": [\"0\", \"1\", \"2\", \"3\", \"4\", \"5\", \"6\", \"7\", \"8\", \"9\", \"10\", \"11\", \"12\", \"13\", \"14\", \"15\", \"16\", \"17\", \"18\", \"19\", \"20\", \"21\", \"22\", \"23\", \"24\", \"25\", \"26\", \"27\", \"28\", \"29\", \"30\", \"31\", \"32\", \"34\", \"35\", \"38\"], \"mode\": \"markers\", \"name\": \"f1_score_macro\", \"stepped\": false, \"type\": \"scatter\", \"data\": [0.816001336152938, 0.7913782065467154, 0.7614483801268698, 0.6672574110599909, 0.8138856576641403, 0.7634797399581054, 0.7780061876062939, 0.7948262315704551, 0.672521319608932, 0.6537657400578619, 0.7008180561289751, 0.7560758523973515, 0.7889703138797712, 0.7780487553828688, 0.7935388067245113, 0.5186026879389158, 0.7043091146964036, 0.7512530151728886, 0.7854359363610388, 0.7977564109326541, 0.7872091133085999, 0.7609961707935342, 0.7647392271456462, 0.8097557606450142, 0.7778594925840988, 0.7814866243291166, 0.779957124959884, 0.6356601121460239, 0.7739358835423956, 0.6806866219355959, 0.5743034217378782, 0.7996065641249684, 0.7939246687552766, 0.7804078626342681, 0.7871546571131661, 0.8076988979843112]}, {\"categories\": [\"0\", \"1\", \"2\", \"3\", \"4\", \"5\", \"6\", \"7\", \"8\", \"9\", \"10\", \"11\", \"12\", \"13\", \"14\", \"15\", \"16\", \"17\", \"18\", \"19\", \"20\", \"21\", \"22\", \"23\", \"24\", \"25\", \"26\", \"27\", \"28\", \"29\", \"30\", \"31\", \"32\", \"34\", \"35\", \"38\"], \"mode\": \"lines\", \"name\": \"f1_score_macro_max\", \"stepped\": true, \"type\": \"scatter\", \"data\": [0.816001336152938, 0.816001336152938, 0.816001336152938, 0.816001336152938, 0.816001336152938, 0.816001336152938, 0.816001336152938, 0.816001336152938, 0.816001336152938, 0.816001336152938, 0.816001336152938, 0.816001336152938, 0.816001336152938, 0.816001336152938, 0.816001336152938, 0.816001336152938, 0.816001336152938, 0.816001336152938, 0.816001336152938, 0.816001336152938, 0.816001336152938, 0.816001336152938, 0.816001336152938, 0.816001336152938, 0.816001336152938, 0.816001336152938, 0.816001336152938, 0.816001336152938, 0.816001336152938, 0.816001336152938, 0.816001336152938, 0.816001336152938, 0.816001336152938, 0.816001336152938, 0.816001336152938, 0.816001336152938]}], \"AUC_micro\": [{\"categories\": [\"0\", \"1\", \"2\", \"3\", \"4\", \"5\", \"6\", \"7\", \"8\", \"9\", \"10\", \"11\", \"12\", \"13\", \"14\", \"15\", \"16\", \"17\", \"18\", \"19\", \"20\", \"21\", \"22\", \"23\", \"24\", \"25\", \"26\", \"27\", \"28\", \"29\", \"30\", \"31\", \"32\", \"34\", \"35\", \"38\"], \"mode\": \"markers\", \"name\": \"AUC_micro\", \"stepped\": false, \"type\": \"scatter\", \"data\": [0.9086785572730877, 0.8963258026159334, 0.8953413925221296, 0.881366759149161, 0.9205596512088784, 0.9065674461619766, 0.8944553441669971, 0.8957137006209539, 0.8759671026555689, 0.7949458316818602, 0.8728871713568503, 0.9014953098163561, 0.8980957854406132, 0.888984674329502, 0.8950957854406131, 0.6658039371119038, 0.89027520147972, 0.8764252873563219, 0.9008170167789669, 0.9059515127493725, 0.9166863522261858, 0.8731134892323954, 0.8971035803937113, 0.910189324877791, 0.909647377460695, 0.9020743823490553, 0.9012458713172151, 0.8720412207689259, 0.909489496630995, 0.8740451843043996, 0.7750628880961818, 0.9140216673272559, 0.9121541815299248, 0.9040996168582376, 0.8858267934998019, 0.9259241643546042]}, {\"categories\": [\"0\", \"1\", \"2\", \"3\", \"4\", \"5\", \"6\", \"7\", \"8\", \"9\", \"10\", \"11\", \"12\", \"13\", \"14\", \"15\", \"16\", \"17\", \"18\", \"19\", \"20\", \"21\", \"22\", \"23\", \"24\", \"25\", \"26\", \"27\", \"28\", \"29\", \"30\", \"31\", \"32\", \"34\", \"35\", \"38\"], \"mode\": \"lines\", \"name\": \"AUC_micro_max\", \"stepped\": true, \"type\": \"scatter\", \"data\": [0.9086785572730877, 0.9086785572730877, 0.9086785572730877, 0.9086785572730877, 0.9205596512088784, 0.9205596512088784, 0.9205596512088784, 0.9205596512088784, 0.9205596512088784, 0.9205596512088784, 0.9205596512088784, 0.9205596512088784, 0.9205596512088784, 0.9205596512088784, 0.9205596512088784, 0.9205596512088784, 0.9205596512088784, 0.9205596512088784, 0.9205596512088784, 0.9205596512088784, 0.9205596512088784, 0.9205596512088784, 0.9205596512088784, 0.9205596512088784, 0.9205596512088784, 0.9205596512088784, 0.9205596512088784, 0.9205596512088784, 0.9205596512088784, 0.9205596512088784, 0.9205596512088784, 0.9205596512088784, 0.9205596512088784, 0.9205596512088784, 0.9205596512088784, 0.9259241643546042]}], \"log_loss\": [{\"categories\": [\"0\", \"1\", \"2\", \"3\", \"4\", \"5\", \"6\", \"7\", \"8\", \"9\", \"10\", \"11\", \"12\", \"13\", \"14\", \"15\", \"16\", \"17\", \"18\", \"19\", \"20\", \"21\", \"22\", \"23\", \"24\", \"25\", \"26\", \"27\", \"28\", \"29\", \"30\", \"31\", \"32\", \"34\", \"35\", \"38\"], \"mode\": \"markers\", \"name\": \"log_loss\", \"stepped\": false, \"type\": \"scatter\", \"data\": [0.4383775438850842, 0.4160171917503055, 0.3937651187834105, 0.46563583545922727, 0.35956032041352043, 0.3989653236210374, 0.4975330404493386, 0.41241628905373806, 0.46933489426917374, 1.618093285754193, 0.4724629815039, 0.42711408435765896, 0.4286987486567825, 0.41352872291182596, 0.43770445986154105, 0.7379803697939155, 0.4520975621641249, 0.629458476889312, 0.5227556186653148, 0.47705079035751663, 0.36229550270100586, 0.5127655236813483, 0.47858547918793615, 0.4679987033649632, 0.38705674575188276, 0.44398778540823824, 0.4324810844339896, 0.46711495799349334, 0.41265033580641014, 0.48069978625119925, 0.5545412318291943, 0.3619127616212826, 0.38502475439454054, 0.39773275577818457, 0.4760440298445473, 0.4016795435573394]}, {\"categories\": [\"0\", \"1\", \"2\", \"3\", \"4\", \"5\", \"6\", \"7\", \"8\", \"9\", \"10\", \"11\", \"12\", \"13\", \"14\", \"15\", \"16\", \"17\", \"18\", \"19\", \"20\", \"21\", \"22\", \"23\", \"24\", \"25\", \"26\", \"27\", \"28\", \"29\", \"30\", \"31\", \"32\", \"34\", \"35\", \"38\"], \"mode\": \"lines\", \"name\": \"log_loss_min\", \"stepped\": true, \"type\": \"scatter\", \"data\": [0.4383775438850842, 0.4160171917503055, 0.3937651187834105, 0.3937651187834105, 0.35956032041352043, 0.35956032041352043, 0.35956032041352043, 0.35956032041352043, 0.35956032041352043, 0.35956032041352043, 0.35956032041352043, 0.35956032041352043, 0.35956032041352043, 0.35956032041352043, 0.35956032041352043, 0.35956032041352043, 0.35956032041352043, 0.35956032041352043, 0.35956032041352043, 0.35956032041352043, 0.35956032041352043, 0.35956032041352043, 0.35956032041352043, 0.35956032041352043, 0.35956032041352043, 0.35956032041352043, 0.35956032041352043, 0.35956032041352043, 0.35956032041352043, 0.35956032041352043, 0.35956032041352043, 0.35956032041352043, 0.35956032041352043, 0.35956032041352043, 0.35956032041352043, 0.35956032041352043]}], \"precision_score_weighted\": [{\"categories\": [\"0\", \"1\", \"2\", \"3\", \"4\", \"5\", \"6\", \"7\", \"8\", \"9\", \"10\", \"11\", \"12\", \"13\", \"14\", \"15\", \"16\", \"17\", \"18\", \"19\", \"20\", \"21\", \"22\", \"23\", \"24\", \"25\", \"26\", \"27\", \"28\", \"29\", \"30\", \"31\", \"32\", \"34\", \"35\", \"38\"], \"mode\": \"markers\", \"name\": \"precision_score_weighted\", \"stepped\": false, \"type\": \"scatter\", \"data\": [0.8658810842926681, 0.8401639640136642, 0.8320966293738528, 0.8120459620311944, 0.8667657628047827, 0.843632732046675, 0.8428020498370848, 0.8672179287340457, 0.7965342365493541, 0.7869237299717178, 0.8304802708785466, 0.8510649103769794, 0.8469256045772273, 0.8381515473122535, 0.849508076299405, 0.6188420290132434, 0.8224453152544606, 0.8166138589830274, 0.8442325419697123, 0.8616079697676794, 0.848353490823732, 0.8277920496308362, 0.8208043952249942, 0.8678012154071725, 0.835394108254599, 0.843985064405957, 0.8513029413254302, 0.7912251215366158, 0.8352420150043187, 0.8149146260203233, 0.6710038504324365, 0.8549558688890535, 0.8637640913821969, 0.8606623874210081, 0.8598746460103281, 0.8641938507088825]}, {\"categories\": [\"0\", \"1\", \"2\", \"3\", \"4\", \"5\", \"6\", \"7\", \"8\", \"9\", \"10\", \"11\", \"12\", \"13\", \"14\", \"15\", \"16\", \"17\", \"18\", \"19\", \"20\", \"21\", \"22\", \"23\", \"24\", \"25\", \"26\", \"27\", \"28\", \"29\", \"30\", \"31\", \"32\", \"34\", \"35\", \"38\"], \"mode\": \"lines\", \"name\": \"precision_score_weighted_max\", \"stepped\": true, \"type\": \"scatter\", \"data\": [0.8658810842926681, 0.8658810842926681, 0.8658810842926681, 0.8658810842926681, 0.8667657628047827, 0.8667657628047827, 0.8667657628047827, 0.8672179287340457, 0.8672179287340457, 0.8672179287340457, 0.8672179287340457, 0.8672179287340457, 0.8672179287340457, 0.8672179287340457, 0.8672179287340457, 0.8672179287340457, 0.8672179287340457, 0.8672179287340457, 0.8672179287340457, 0.8672179287340457, 0.8672179287340457, 0.8672179287340457, 0.8672179287340457, 0.8678012154071725, 0.8678012154071725, 0.8678012154071725, 0.8678012154071725, 0.8678012154071725, 0.8678012154071725, 0.8678012154071725, 0.8678012154071725, 0.8678012154071725, 0.8678012154071725, 0.8678012154071725, 0.8678012154071725, 0.8678012154071725]}]}, \"metricName\": null, \"primaryMetricName\": \"AUC_weighted\", \"showLegend\": false}, \"run_metrics\": [{\"name\": \"experiment_status\", \"run_id\": \"AutoML_e329e4b4-7ab6-4771-af29-e13d01e88370\", \"categories\": [0, 1, 2, 3, 4, 5, 6, 7, 8, 9, 10, 11, 12, 13], \"series\": [{\"data\": [\"DatasetEvaluation\", \"FeaturesGeneration\", \"DatasetFeaturization\", \"DatasetFeaturizationCompleted\", \"DatasetCrossValidationSplit\", \"ModelSelection\", \"BestRunExplainModel\", \"ModelExplanationDataSetSetup\", \"PickSurrogateModel\", \"EngineeredFeatureExplanations\", \"EngineeredFeatureExplanations\", \"RawFeaturesExplanations\", \"RawFeaturesExplanations\", \"BestRunExplainModel\"]}]}, {\"name\": \"experiment_status_description\", \"run_id\": \"AutoML_e329e4b4-7ab6-4771-af29-e13d01e88370\", \"categories\": [0, 1, 2, 3, 4, 5, 6, 7, 8, 9, 10, 11, 12, 13], \"series\": [{\"data\": [\"Gathering dataset statistics.\", \"Generating features for the dataset.\", \"Beginning to fit featurizers and featurize the dataset.\", \"Completed fit featurizers and featurizing the dataset.\", \"Generating individually featurized CV splits.\", \"Beginning model selection.\", \"Best run model explanations started\", \"Model explanations data setup completed\", \"Choosing LightGBM as the surrogate model for explanations\", \"Computation of engineered features started\", \"Computation of engineered features completed\", \"Computation of raw features started\", \"Computation of raw features completed\", \"Best run model explanations completed\"]}]}, {\"name\": \"precision_score_micro\", \"run_id\": \"AutoML_e329e4b4-7ab6-4771-af29-e13d01e88370\", \"categories\": [0], \"series\": [{\"data\": [0.8560919540229885]}]}, {\"name\": \"accuracy\", \"run_id\": \"AutoML_e329e4b4-7ab6-4771-af29-e13d01e88370\", \"categories\": [0], \"series\": [{\"data\": [0.8560919540229885]}]}, {\"name\": \"average_precision_score_micro\", \"run_id\": \"AutoML_e329e4b4-7ab6-4771-af29-e13d01e88370\", \"categories\": [0], \"series\": [{\"data\": [0.9300031524278809]}]}, {\"name\": \"average_precision_score_weighted\", \"run_id\": \"AutoML_e329e4b4-7ab6-4771-af29-e13d01e88370\", \"categories\": [0], \"series\": [{\"data\": [0.9363497233401009]}]}, {\"name\": \"f1_score_weighted\", \"run_id\": \"AutoML_e329e4b4-7ab6-4771-af29-e13d01e88370\", \"categories\": [0], \"series\": [{\"data\": [0.8552706855347398]}]}, {\"name\": \"average_precision_score_macro\", \"run_id\": \"AutoML_e329e4b4-7ab6-4771-af29-e13d01e88370\", \"categories\": [0], \"series\": [{\"data\": [0.8972755333850373]}]}, {\"name\": \"norm_macro_recall\", \"run_id\": \"AutoML_e329e4b4-7ab6-4771-af29-e13d01e88370\", \"categories\": [0], \"series\": [{\"data\": [0.6065120819726082]}]}, {\"name\": \"recall_score_micro\", \"run_id\": \"AutoML_e329e4b4-7ab6-4771-af29-e13d01e88370\", \"categories\": [0], \"series\": [{\"data\": [0.8560919540229885]}]}, {\"name\": \"recall_score_weighted\", \"run_id\": \"AutoML_e329e4b4-7ab6-4771-af29-e13d01e88370\", \"categories\": [0], \"series\": [{\"data\": [0.8560919540229885]}]}, {\"name\": \"f1_score_macro\", \"run_id\": \"AutoML_e329e4b4-7ab6-4771-af29-e13d01e88370\", \"categories\": [0], \"series\": [{\"data\": [0.8076988979843112]}]}, {\"name\": \"precision_score_weighted\", \"run_id\": \"AutoML_e329e4b4-7ab6-4771-af29-e13d01e88370\", \"categories\": [0], \"series\": [{\"data\": [0.8641938507088825]}]}, {\"name\": \"weighted_accuracy\", \"run_id\": \"AutoML_e329e4b4-7ab6-4771-af29-e13d01e88370\", \"categories\": [0], \"series\": [{\"data\": [0.8787393784447349]}]}, {\"name\": \"AUC_micro\", \"run_id\": \"AutoML_e329e4b4-7ab6-4771-af29-e13d01e88370\", \"categories\": [0], \"series\": [{\"data\": [0.9259241643546042]}]}, {\"name\": \"AUC_macro\", \"run_id\": \"AutoML_e329e4b4-7ab6-4771-af29-e13d01e88370\", \"categories\": [0], \"series\": [{\"data\": [0.9102151082673012]}]}, {\"name\": \"recall_score_macro\", \"run_id\": \"AutoML_e329e4b4-7ab6-4771-af29-e13d01e88370\", \"categories\": [0], \"series\": [{\"data\": [0.8032560409863041]}]}, {\"name\": \"f1_score_micro\", \"run_id\": \"AutoML_e329e4b4-7ab6-4771-af29-e13d01e88370\", \"categories\": [0], \"series\": [{\"data\": [0.8560919540229885]}]}, {\"name\": \"balanced_accuracy\", \"run_id\": \"AutoML_e329e4b4-7ab6-4771-af29-e13d01e88370\", \"categories\": [0], \"series\": [{\"data\": [0.8032560409863041]}]}, {\"name\": \"log_loss\", \"run_id\": \"AutoML_e329e4b4-7ab6-4771-af29-e13d01e88370\", \"categories\": [0], \"series\": [{\"data\": [0.4016795435573394]}]}, {\"name\": \"matthews_correlation\", \"run_id\": \"AutoML_e329e4b4-7ab6-4771-af29-e13d01e88370\", \"categories\": [0], \"series\": [{\"data\": [0.6266027190292655]}]}, {\"name\": \"precision_score_macro\", \"run_id\": \"AutoML_e329e4b4-7ab6-4771-af29-e13d01e88370\", \"categories\": [0], \"series\": [{\"data\": [0.8249244653134813]}]}, {\"name\": \"AUC_weighted\", \"run_id\": \"AutoML_e329e4b4-7ab6-4771-af29-e13d01e88370\", \"categories\": [0], \"series\": [{\"data\": [0.9102151082673012]}]}], \"run_logs\": \"\\nRun is completed.\", \"graph\": {}, \"widget_settings\": {\"childWidgetDisplay\": \"popup\", \"send_telemetry\": false, \"log_level\": \"INFO\", \"sdk_version\": \"1.19.0\"}, \"loading\": false}"
     },
     "metadata": {},
     "output_type": "display_data"
    }
   ],
   "source": [
    "from azureml.widgets import RunDetails\n",
    "RunDetails(remote_run).show()"
   ]
  },
  {
   "cell_type": "code",
   "execution_count": 10,
   "metadata": {},
   "outputs": [
    {
     "data": {
      "text/plain": [
       "{'runId': 'AutoML_e329e4b4-7ab6-4771-af29-e13d01e88370',\n",
       " 'target': 'cpu-cluster',\n",
       " 'status': 'Completed',\n",
       " 'startTimeUtc': '2020-12-16T04:20:36.521858Z',\n",
       " 'endTimeUtc': '2020-12-16T04:37:02.854607Z',\n",
       " 'properties': {'num_iterations': '1000',\n",
       "  'training_type': 'TrainFull',\n",
       "  'acquisition_function': 'EI',\n",
       "  'primary_metric': 'AUC_weighted',\n",
       "  'train_split': '0',\n",
       "  'acquisition_parameter': '0',\n",
       "  'num_cross_validation': None,\n",
       "  'target': 'cpu-cluster',\n",
       "  'AMLSettingsJsonString': '{\"path\":null,\"name\":\"automl-classification-experiment\",\"subscription_id\":\"a7e82b92-bbed-4497-a8df-009b71b94f9c\",\"resource_group\":\"aml-quickstarts-130665\",\"workspace_name\":\"quick-starts-ws-130665\",\"region\":\"southcentralus\",\"compute_target\":\"cpu-cluster\",\"spark_service\":null,\"azure_service\":\"remote\",\"many_models\":false,\"pipeline_fetch_max_batch_size\":1,\"iterations\":1000,\"primary_metric\":\"AUC_weighted\",\"task_type\":\"classification\",\"data_script\":null,\"validation_size\":0.0,\"n_cross_validations\":null,\"y_min\":null,\"y_max\":null,\"num_classes\":null,\"featurization\":\"auto\",\"_ignore_package_version_incompatibilities\":false,\"is_timeseries\":false,\"max_cores_per_iteration\":1,\"max_concurrent_iterations\":5,\"iteration_timeout_minutes\":null,\"mem_in_mb\":null,\"enforce_time_on_windows\":false,\"experiment_timeout_minutes\":30,\"experiment_exit_score\":null,\"whitelist_models\":null,\"blacklist_algos\":[\"TensorFlowLinearClassifier\",\"TensorFlowDNN\"],\"supported_models\":[\"AveragedPerceptronClassifier\",\"RandomForest\",\"ExtremeRandomTrees\",\"LogisticRegression\",\"TensorFlowDNN\",\"GradientBoosting\",\"LightGBM\",\"TensorFlowLinearClassifier\",\"MultinomialNaiveBayes\",\"SVM\",\"DecisionTree\",\"KNN\",\"XGBoostClassifier\",\"SGD\",\"BernoulliNaiveBayes\",\"LinearSVM\"],\"auto_blacklist\":true,\"blacklist_samples_reached\":false,\"exclude_nan_labels\":true,\"verbosity\":20,\"_debug_log\":\"azureml_automl.log\",\"show_warnings\":false,\"model_explainability\":true,\"service_url\":null,\"sdk_url\":null,\"sdk_packages\":null,\"enable_onnx_compatible_models\":true,\"enable_split_onnx_featurizer_estimator_models\":false,\"vm_type\":\"STANDARD_D12_V2\",\"telemetry_verbosity\":20,\"send_telemetry\":true,\"enable_dnn\":false,\"scenario\":\"SDK-1.13.0\",\"environment_label\":null,\"force_text_dnn\":false,\"enable_feature_sweeping\":false,\"enable_early_stopping\":true,\"early_stopping_n_iters\":10,\"metrics\":null,\"enable_ensembling\":true,\"enable_stack_ensembling\":false,\"ensemble_iterations\":15,\"enable_tf\":false,\"enable_subsampling\":null,\"subsample_seed\":null,\"enable_nimbusml\":false,\"enable_streaming\":false,\"force_streaming\":false,\"track_child_runs\":true,\"allowed_private_models\":[],\"label_column_name\":\"DEATH_EVENT\",\"weight_column_name\":null,\"cv_split_column_names\":null,\"enable_local_managed\":false,\"_local_managed_run_id\":null,\"cost_mode\":1,\"lag_length\":0,\"metric_operation\":\"maximize\",\"preprocess\":true}',\n",
       "  'DataPrepJsonString': '{\\\\\"training_data\\\\\": \\\\\"{\\\\\\\\\\\\\"blocks\\\\\\\\\\\\\": [{\\\\\\\\\\\\\"id\\\\\\\\\\\\\": \\\\\\\\\\\\\"d18940d5-046c-4cc8-b78e-4ec49821f671\\\\\\\\\\\\\", \\\\\\\\\\\\\"type\\\\\\\\\\\\\": \\\\\\\\\\\\\"Microsoft.DPrep.GetDatastoreFilesBlock\\\\\\\\\\\\\", \\\\\\\\\\\\\"arguments\\\\\\\\\\\\\": {\\\\\\\\\\\\\"datastores\\\\\\\\\\\\\": [{\\\\\\\\\\\\\"datastoreName\\\\\\\\\\\\\": \\\\\\\\\\\\\"workspaceblobstore\\\\\\\\\\\\\", \\\\\\\\\\\\\"path\\\\\\\\\\\\\": \\\\\\\\\\\\\"UI/12-16-2020_031315_UTC/heart_failure_clinical_records_dataset.csv\\\\\\\\\\\\\", \\\\\\\\\\\\\"resourceGroup\\\\\\\\\\\\\": \\\\\\\\\\\\\"aml-quickstarts-130665\\\\\\\\\\\\\", \\\\\\\\\\\\\"subscription\\\\\\\\\\\\\": \\\\\\\\\\\\\"a7e82b92-bbed-4497-a8df-009b71b94f9c\\\\\\\\\\\\\", \\\\\\\\\\\\\"workspaceName\\\\\\\\\\\\\": \\\\\\\\\\\\\"quick-starts-ws-130665\\\\\\\\\\\\\"}]}, \\\\\\\\\\\\\"localData\\\\\\\\\\\\\": {}, \\\\\\\\\\\\\"isEnabled\\\\\\\\\\\\\": true, \\\\\\\\\\\\\"name\\\\\\\\\\\\\": null, \\\\\\\\\\\\\"annotation\\\\\\\\\\\\\": null}, {\\\\\\\\\\\\\"id\\\\\\\\\\\\\": \\\\\\\\\\\\\"dac4d64d-aa72-4aed-b3f5-c297dcdc6349\\\\\\\\\\\\\", \\\\\\\\\\\\\"type\\\\\\\\\\\\\": \\\\\\\\\\\\\"Microsoft.DPrep.ParseDelimitedBlock\\\\\\\\\\\\\", \\\\\\\\\\\\\"arguments\\\\\\\\\\\\\": {\\\\\\\\\\\\\"columnHeadersMode\\\\\\\\\\\\\": 1, \\\\\\\\\\\\\"fileEncoding\\\\\\\\\\\\\": 0, \\\\\\\\\\\\\"handleQuotedLineBreaks\\\\\\\\\\\\\": false, \\\\\\\\\\\\\"preview\\\\\\\\\\\\\": false, \\\\\\\\\\\\\"separator\\\\\\\\\\\\\": \\\\\\\\\\\\\",\\\\\\\\\\\\\", \\\\\\\\\\\\\"skipRows\\\\\\\\\\\\\": 0, \\\\\\\\\\\\\"skipRowsMode\\\\\\\\\\\\\": 0}, \\\\\\\\\\\\\"localData\\\\\\\\\\\\\": {}, \\\\\\\\\\\\\"isEnabled\\\\\\\\\\\\\": true, \\\\\\\\\\\\\"name\\\\\\\\\\\\\": null, \\\\\\\\\\\\\"annotation\\\\\\\\\\\\\": null}, {\\\\\\\\\\\\\"id\\\\\\\\\\\\\": \\\\\\\\\\\\\"ef34c8a8-7031-474f-9e41-314dc019cd6c\\\\\\\\\\\\\", \\\\\\\\\\\\\"type\\\\\\\\\\\\\": \\\\\\\\\\\\\"Microsoft.DPrep.DropColumnsBlock\\\\\\\\\\\\\", \\\\\\\\\\\\\"arguments\\\\\\\\\\\\\": {\\\\\\\\\\\\\"columns\\\\\\\\\\\\\": {\\\\\\\\\\\\\"type\\\\\\\\\\\\\": 0, \\\\\\\\\\\\\"details\\\\\\\\\\\\\": {\\\\\\\\\\\\\"selectedColumns\\\\\\\\\\\\\": [\\\\\\\\\\\\\"Path\\\\\\\\\\\\\"]}}}, \\\\\\\\\\\\\"localData\\\\\\\\\\\\\": {}, \\\\\\\\\\\\\"isEnabled\\\\\\\\\\\\\": true, \\\\\\\\\\\\\"name\\\\\\\\\\\\\": null, \\\\\\\\\\\\\"annotation\\\\\\\\\\\\\": null}, {\\\\\\\\\\\\\"id\\\\\\\\\\\\\": \\\\\\\\\\\\\"b0518075-dee6-40e2-b0bb-62607f762f18\\\\\\\\\\\\\", \\\\\\\\\\\\\"type\\\\\\\\\\\\\": \\\\\\\\\\\\\"Microsoft.DPrep.SetColumnTypesBlock\\\\\\\\\\\\\", \\\\\\\\\\\\\"arguments\\\\\\\\\\\\\": {\\\\\\\\\\\\\"columnConversion\\\\\\\\\\\\\": [{\\\\\\\\\\\\\"column\\\\\\\\\\\\\": {\\\\\\\\\\\\\"type\\\\\\\\\\\\\": 2, \\\\\\\\\\\\\"details\\\\\\\\\\\\\": {\\\\\\\\\\\\\"selectedColumn\\\\\\\\\\\\\": \\\\\\\\\\\\\"Path\\\\\\\\\\\\\"}}, \\\\\\\\\\\\\"typeProperty\\\\\\\\\\\\\": 0}, {\\\\\\\\\\\\\"column\\\\\\\\\\\\\": {\\\\\\\\\\\\\"type\\\\\\\\\\\\\": 2, \\\\\\\\\\\\\"details\\\\\\\\\\\\\": {\\\\\\\\\\\\\"selectedColumn\\\\\\\\\\\\\": \\\\\\\\\\\\\"age\\\\\\\\\\\\\"}}, \\\\\\\\\\\\\"typeProperty\\\\\\\\\\\\\": 3}, {\\\\\\\\\\\\\"column\\\\\\\\\\\\\": {\\\\\\\\\\\\\"type\\\\\\\\\\\\\": 2, \\\\\\\\\\\\\"details\\\\\\\\\\\\\": {\\\\\\\\\\\\\"selectedColumn\\\\\\\\\\\\\": \\\\\\\\\\\\\"anaemia\\\\\\\\\\\\\"}}, \\\\\\\\\\\\\"typeProperty\\\\\\\\\\\\\": 2}, {\\\\\\\\\\\\\"column\\\\\\\\\\\\\": {\\\\\\\\\\\\\"type\\\\\\\\\\\\\": 2, \\\\\\\\\\\\\"details\\\\\\\\\\\\\": {\\\\\\\\\\\\\"selectedColumn\\\\\\\\\\\\\": \\\\\\\\\\\\\"creatinine_phosphokinase\\\\\\\\\\\\\"}}, \\\\\\\\\\\\\"typeProperty\\\\\\\\\\\\\": 2}, {\\\\\\\\\\\\\"column\\\\\\\\\\\\\": {\\\\\\\\\\\\\"type\\\\\\\\\\\\\": 2, \\\\\\\\\\\\\"details\\\\\\\\\\\\\": {\\\\\\\\\\\\\"selectedColumn\\\\\\\\\\\\\": \\\\\\\\\\\\\"diabetes\\\\\\\\\\\\\"}}, \\\\\\\\\\\\\"typeProperty\\\\\\\\\\\\\": 2}, {\\\\\\\\\\\\\"column\\\\\\\\\\\\\": {\\\\\\\\\\\\\"type\\\\\\\\\\\\\": 2, \\\\\\\\\\\\\"details\\\\\\\\\\\\\": {\\\\\\\\\\\\\"selectedColumn\\\\\\\\\\\\\": \\\\\\\\\\\\\"ejection_fraction\\\\\\\\\\\\\"}}, \\\\\\\\\\\\\"typeProperty\\\\\\\\\\\\\": 2}, {\\\\\\\\\\\\\"column\\\\\\\\\\\\\": {\\\\\\\\\\\\\"type\\\\\\\\\\\\\": 2, \\\\\\\\\\\\\"details\\\\\\\\\\\\\": {\\\\\\\\\\\\\"selectedColumn\\\\\\\\\\\\\": \\\\\\\\\\\\\"high_blood_pressure\\\\\\\\\\\\\"}}, \\\\\\\\\\\\\"typeProperty\\\\\\\\\\\\\": 2}, {\\\\\\\\\\\\\"column\\\\\\\\\\\\\": {\\\\\\\\\\\\\"type\\\\\\\\\\\\\": 2, \\\\\\\\\\\\\"details\\\\\\\\\\\\\": {\\\\\\\\\\\\\"selectedColumn\\\\\\\\\\\\\": \\\\\\\\\\\\\"platelets\\\\\\\\\\\\\"}}, \\\\\\\\\\\\\"typeProperty\\\\\\\\\\\\\": 3}, {\\\\\\\\\\\\\"column\\\\\\\\\\\\\": {\\\\\\\\\\\\\"type\\\\\\\\\\\\\": 2, \\\\\\\\\\\\\"details\\\\\\\\\\\\\": {\\\\\\\\\\\\\"selectedColumn\\\\\\\\\\\\\": \\\\\\\\\\\\\"serum_creatinine\\\\\\\\\\\\\"}}, \\\\\\\\\\\\\"typeProperty\\\\\\\\\\\\\": 3}, {\\\\\\\\\\\\\"column\\\\\\\\\\\\\": {\\\\\\\\\\\\\"type\\\\\\\\\\\\\": 2, \\\\\\\\\\\\\"details\\\\\\\\\\\\\": {\\\\\\\\\\\\\"selectedColumn\\\\\\\\\\\\\": \\\\\\\\\\\\\"serum_sodium\\\\\\\\\\\\\"}}, \\\\\\\\\\\\\"typeProperty\\\\\\\\\\\\\": 2}, {\\\\\\\\\\\\\"column\\\\\\\\\\\\\": {\\\\\\\\\\\\\"type\\\\\\\\\\\\\": 2, \\\\\\\\\\\\\"details\\\\\\\\\\\\\": {\\\\\\\\\\\\\"selectedColumn\\\\\\\\\\\\\": \\\\\\\\\\\\\"sex\\\\\\\\\\\\\"}}, \\\\\\\\\\\\\"typeProperty\\\\\\\\\\\\\": 2}, {\\\\\\\\\\\\\"column\\\\\\\\\\\\\": {\\\\\\\\\\\\\"type\\\\\\\\\\\\\": 2, \\\\\\\\\\\\\"details\\\\\\\\\\\\\": {\\\\\\\\\\\\\"selectedColumn\\\\\\\\\\\\\": \\\\\\\\\\\\\"smoking\\\\\\\\\\\\\"}}, \\\\\\\\\\\\\"typeProperty\\\\\\\\\\\\\": 2}, {\\\\\\\\\\\\\"column\\\\\\\\\\\\\": {\\\\\\\\\\\\\"type\\\\\\\\\\\\\": 2, \\\\\\\\\\\\\"details\\\\\\\\\\\\\": {\\\\\\\\\\\\\"selectedColumn\\\\\\\\\\\\\": \\\\\\\\\\\\\"time\\\\\\\\\\\\\"}}, \\\\\\\\\\\\\"typeProperty\\\\\\\\\\\\\": 2}, {\\\\\\\\\\\\\"column\\\\\\\\\\\\\": {\\\\\\\\\\\\\"type\\\\\\\\\\\\\": 2, \\\\\\\\\\\\\"details\\\\\\\\\\\\\": {\\\\\\\\\\\\\"selectedColumn\\\\\\\\\\\\\": \\\\\\\\\\\\\"DEATH_EVENT\\\\\\\\\\\\\"}}, \\\\\\\\\\\\\"typeProperty\\\\\\\\\\\\\": 2}]}, \\\\\\\\\\\\\"localData\\\\\\\\\\\\\": {}, \\\\\\\\\\\\\"isEnabled\\\\\\\\\\\\\": true, \\\\\\\\\\\\\"name\\\\\\\\\\\\\": null, \\\\\\\\\\\\\"annotation\\\\\\\\\\\\\": null}], \\\\\\\\\\\\\"inspectors\\\\\\\\\\\\\": [], \\\\\\\\\\\\\"meta\\\\\\\\\\\\\": {\\\\\\\\\\\\\"savedDatasetId\\\\\\\\\\\\\": \\\\\\\\\\\\\"0e041bb2-0a35-41ff-af2e-cf513146d278\\\\\\\\\\\\\", \\\\\\\\\\\\\"datasetType\\\\\\\\\\\\\": \\\\\\\\\\\\\"tabular\\\\\\\\\\\\\", \\\\\\\\\\\\\"subscriptionId\\\\\\\\\\\\\": \\\\\\\\\\\\\"a7e82b92-bbed-4497-a8df-009b71b94f9c\\\\\\\\\\\\\", \\\\\\\\\\\\\"workspaceId\\\\\\\\\\\\\": \\\\\\\\\\\\\"e603250a-1a68-439c-8579-6a4c225d7a02\\\\\\\\\\\\\", \\\\\\\\\\\\\"workspaceLocation\\\\\\\\\\\\\": \\\\\\\\\\\\\"southcentralus\\\\\\\\\\\\\"}}\\\\\", \\\\\"activities\\\\\": 0}',\n",
       "  'EnableSubsampling': None,\n",
       "  'runTemplate': 'AutoML',\n",
       "  'azureml.runsource': 'automl',\n",
       "  'display_task_type': 'classification',\n",
       "  'dependencies_versions': '{\"azureml-widgets\": \"1.19.0\", \"azureml-train\": \"1.19.0\", \"azureml-train-restclients-hyperdrive\": \"1.19.0\", \"azureml-train-core\": \"1.19.0\", \"azureml-train-automl\": \"1.19.0\", \"azureml-train-automl-runtime\": \"1.19.0\", \"azureml-train-automl-client\": \"1.19.0\", \"azureml-tensorboard\": \"1.19.0\", \"azureml-telemetry\": \"1.19.0\", \"azureml-sdk\": \"1.19.0\", \"azureml-samples\": \"0+unknown\", \"azureml-pipeline\": \"1.19.0\", \"azureml-pipeline-steps\": \"1.19.0\", \"azureml-pipeline-core\": \"1.19.0\", \"azureml-opendatasets\": \"1.19.0\", \"azureml-model-management-sdk\": \"1.0.1b6.post1\", \"azureml-mlflow\": \"1.19.0\", \"azureml-interpret\": \"1.19.0\", \"azureml-explain-model\": \"1.19.0\", \"azureml-defaults\": \"1.19.0\", \"azureml-dataset-runtime\": \"1.19.0\", \"azureml-dataprep\": \"2.6.1\", \"azureml-dataprep-rslex\": \"1.4.0\", \"azureml-dataprep-native\": \"26.0.0\", \"azureml-datadrift\": \"1.19.0\", \"azureml-core\": \"1.19.0\", \"azureml-contrib-services\": \"1.19.0\", \"azureml-contrib-server\": \"1.19.0\", \"azureml-contrib-reinforcementlearning\": \"1.19.0\", \"azureml-contrib-pipeline-steps\": \"1.19.0\", \"azureml-contrib-notebook\": \"1.19.0\", \"azureml-contrib-interpret\": \"1.19.0\", \"azureml-contrib-gbdt\": \"1.19.0\", \"azureml-contrib-fairness\": \"1.19.0\", \"azureml-contrib-dataset\": \"1.19.0\", \"azureml-cli-common\": \"1.19.0\", \"azureml-automl-runtime\": \"1.19.0\", \"azureml-automl-core\": \"1.19.0\", \"azureml-accel-models\": \"1.19.0\"}',\n",
       "  '_aml_system_scenario_identification': 'Remote.Parent',\n",
       "  'ClientType': 'SDK',\n",
       "  'environment_cpu_name': 'AzureML-AutoML',\n",
       "  'environment_cpu_version': '49',\n",
       "  'environment_gpu_name': 'AzureML-AutoML-GPU',\n",
       "  'environment_gpu_version': '37',\n",
       "  'root_attribution': 'automl',\n",
       "  'attribution': 'AutoML',\n",
       "  'Orchestrator': 'AutoML',\n",
       "  'CancelUri': 'https://southcentralus.experiments.azureml.net/jasmine/v1.0/subscriptions/a7e82b92-bbed-4497-a8df-009b71b94f9c/resourceGroups/aml-quickstarts-130665/providers/Microsoft.MachineLearningServices/workspaces/quick-starts-ws-130665/experimentids/fe35d654-cf0c-46c9-ade6-4c5f2663c57b/cancel/AutoML_e329e4b4-7ab6-4771-af29-e13d01e88370',\n",
       "  'ClientSdkVersion': '1.18.0.post1',\n",
       "  'snapshotId': '00000000-0000-0000-0000-000000000000',\n",
       "  'SetupRunId': 'AutoML_e329e4b4-7ab6-4771-af29-e13d01e88370_setup',\n",
       "  'SetupRunContainerId': 'dcid.AutoML_e329e4b4-7ab6-4771-af29-e13d01e88370_setup',\n",
       "  'FeaturizationRunJsonPath': 'featurizer_container.json',\n",
       "  'FeaturizationRunId': 'AutoML_e329e4b4-7ab6-4771-af29-e13d01e88370_featurize',\n",
       "  'ProblemInfoJsonString': '{\"dataset_num_categorical\": 0, \"is_sparse\": false, \"subsampling\": false, \"dataset_classes\": 2, \"dataset_features\": 12, \"dataset_samples\": 299, \"single_frequency_class_detected\": false}',\n",
       "  'ModelExplainRunId': 'AutoML_e329e4b4-7ab6-4771-af29-e13d01e88370_ModelExplain'},\n",
       " 'inputDatasets': [{'dataset': {'id': '0e041bb2-0a35-41ff-af2e-cf513146d278'}, 'consumptionDetails': {'type': 'RunInput', 'inputName': 'training_data', 'mechanism': 'Direct'}}],\n",
       " 'outputDatasets': [],\n",
       " 'logFiles': {}}"
      ]
     },
     "execution_count": 10,
     "metadata": {},
     "output_type": "execute_result"
    }
   ],
   "source": [
    "# Wait for the remote run to complete\n",
    "remote_run.wait_for_completion()"
   ]
  },
  {
   "cell_type": "code",
   "execution_count": 11,
   "metadata": {},
   "outputs": [],
   "source": [
    "best_run_customized, fitted_model_customized = remote_run.get_output()"
   ]
  },
  {
   "cell_type": "markdown",
   "metadata": {},
   "source": [
    "## Transparency"
   ]
  },
  {
   "cell_type": "markdown",
   "metadata": {},
   "source": [
    "View updated featurization summary"
   ]
  },
  {
   "cell_type": "code",
   "execution_count": 12,
   "metadata": {},
   "outputs": [
    {
     "data": {
      "text/html": [
       "<div>\n",
       "<style scoped>\n",
       "    .dataframe tbody tr th:only-of-type {\n",
       "        vertical-align: middle;\n",
       "    }\n",
       "\n",
       "    .dataframe tbody tr th {\n",
       "        vertical-align: top;\n",
       "    }\n",
       "\n",
       "    .dataframe thead th {\n",
       "        text-align: right;\n",
       "    }\n",
       "</style>\n",
       "<table border=\"1\" class=\"dataframe\">\n",
       "  <thead>\n",
       "    <tr style=\"text-align: right;\">\n",
       "      <th></th>\n",
       "      <th>RawFeatureName</th>\n",
       "      <th>TypeDetected</th>\n",
       "      <th>Dropped</th>\n",
       "      <th>EngineeredFeatureCount</th>\n",
       "      <th>Transformations</th>\n",
       "    </tr>\n",
       "  </thead>\n",
       "  <tbody>\n",
       "    <tr>\n",
       "      <th>0</th>\n",
       "      <td>age</td>\n",
       "      <td>Numeric</td>\n",
       "      <td>No</td>\n",
       "      <td>1</td>\n",
       "      <td>[MeanImputer]</td>\n",
       "    </tr>\n",
       "    <tr>\n",
       "      <th>1</th>\n",
       "      <td>anaemia</td>\n",
       "      <td>Numeric</td>\n",
       "      <td>No</td>\n",
       "      <td>1</td>\n",
       "      <td>[MeanImputer]</td>\n",
       "    </tr>\n",
       "    <tr>\n",
       "      <th>2</th>\n",
       "      <td>creatinine_phosphokinase</td>\n",
       "      <td>Numeric</td>\n",
       "      <td>No</td>\n",
       "      <td>1</td>\n",
       "      <td>[MeanImputer]</td>\n",
       "    </tr>\n",
       "    <tr>\n",
       "      <th>3</th>\n",
       "      <td>diabetes</td>\n",
       "      <td>Numeric</td>\n",
       "      <td>No</td>\n",
       "      <td>1</td>\n",
       "      <td>[MeanImputer]</td>\n",
       "    </tr>\n",
       "    <tr>\n",
       "      <th>4</th>\n",
       "      <td>ejection_fraction</td>\n",
       "      <td>Numeric</td>\n",
       "      <td>No</td>\n",
       "      <td>1</td>\n",
       "      <td>[MeanImputer]</td>\n",
       "    </tr>\n",
       "    <tr>\n",
       "      <th>5</th>\n",
       "      <td>high_blood_pressure</td>\n",
       "      <td>Numeric</td>\n",
       "      <td>No</td>\n",
       "      <td>1</td>\n",
       "      <td>[MeanImputer]</td>\n",
       "    </tr>\n",
       "    <tr>\n",
       "      <th>6</th>\n",
       "      <td>platelets</td>\n",
       "      <td>Numeric</td>\n",
       "      <td>No</td>\n",
       "      <td>1</td>\n",
       "      <td>[MeanImputer]</td>\n",
       "    </tr>\n",
       "    <tr>\n",
       "      <th>7</th>\n",
       "      <td>serum_creatinine</td>\n",
       "      <td>Numeric</td>\n",
       "      <td>No</td>\n",
       "      <td>1</td>\n",
       "      <td>[MeanImputer]</td>\n",
       "    </tr>\n",
       "    <tr>\n",
       "      <th>8</th>\n",
       "      <td>serum_sodium</td>\n",
       "      <td>Numeric</td>\n",
       "      <td>No</td>\n",
       "      <td>1</td>\n",
       "      <td>[MeanImputer]</td>\n",
       "    </tr>\n",
       "    <tr>\n",
       "      <th>9</th>\n",
       "      <td>sex</td>\n",
       "      <td>Numeric</td>\n",
       "      <td>No</td>\n",
       "      <td>1</td>\n",
       "      <td>[MeanImputer]</td>\n",
       "    </tr>\n",
       "    <tr>\n",
       "      <th>10</th>\n",
       "      <td>smoking</td>\n",
       "      <td>Numeric</td>\n",
       "      <td>No</td>\n",
       "      <td>1</td>\n",
       "      <td>[MeanImputer]</td>\n",
       "    </tr>\n",
       "    <tr>\n",
       "      <th>11</th>\n",
       "      <td>time</td>\n",
       "      <td>Numeric</td>\n",
       "      <td>No</td>\n",
       "      <td>1</td>\n",
       "      <td>[MeanImputer]</td>\n",
       "    </tr>\n",
       "  </tbody>\n",
       "</table>\n",
       "</div>"
      ],
      "text/plain": [
       "              RawFeatureName TypeDetected Dropped  EngineeredFeatureCount  \\\n",
       "0   age                       Numeric      No      1                        \n",
       "1   anaemia                   Numeric      No      1                        \n",
       "2   creatinine_phosphokinase  Numeric      No      1                        \n",
       "3   diabetes                  Numeric      No      1                        \n",
       "4   ejection_fraction         Numeric      No      1                        \n",
       "5   high_blood_pressure       Numeric      No      1                        \n",
       "6   platelets                 Numeric      No      1                        \n",
       "7   serum_creatinine          Numeric      No      1                        \n",
       "8   serum_sodium              Numeric      No      1                        \n",
       "9   sex                       Numeric      No      1                        \n",
       "10  smoking                   Numeric      No      1                        \n",
       "11  time                      Numeric      No      1                        \n",
       "\n",
       "   Transformations  \n",
       "0   [MeanImputer]   \n",
       "1   [MeanImputer]   \n",
       "2   [MeanImputer]   \n",
       "3   [MeanImputer]   \n",
       "4   [MeanImputer]   \n",
       "5   [MeanImputer]   \n",
       "6   [MeanImputer]   \n",
       "7   [MeanImputer]   \n",
       "8   [MeanImputer]   \n",
       "9   [MeanImputer]   \n",
       "10  [MeanImputer]   \n",
       "11  [MeanImputer]   "
      ]
     },
     "execution_count": 12,
     "metadata": {},
     "output_type": "execute_result"
    }
   ],
   "source": [
    "custom_featurizer = fitted_model_customized.named_steps['datatransformer']\n",
    "df = custom_featurizer.get_featurization_summary()\n",
    "pd.DataFrame(data=df)"
   ]
  },
  {
   "cell_type": "code",
   "execution_count": 13,
   "metadata": {},
   "outputs": [
    {
     "data": {
      "text/html": [
       "<div>\n",
       "<style scoped>\n",
       "    .dataframe tbody tr th:only-of-type {\n",
       "        vertical-align: middle;\n",
       "    }\n",
       "\n",
       "    .dataframe tbody tr th {\n",
       "        vertical-align: top;\n",
       "    }\n",
       "\n",
       "    .dataframe thead th {\n",
       "        text-align: right;\n",
       "    }\n",
       "</style>\n",
       "<table border=\"1\" class=\"dataframe\">\n",
       "  <thead>\n",
       "    <tr style=\"text-align: right;\">\n",
       "      <th></th>\n",
       "      <th>RawFeatureName</th>\n",
       "      <th>TypeDetected</th>\n",
       "      <th>Dropped</th>\n",
       "      <th>EngineeredFeatureCount</th>\n",
       "      <th>Transformations</th>\n",
       "      <th>TransformationParams</th>\n",
       "    </tr>\n",
       "  </thead>\n",
       "  <tbody>\n",
       "    <tr>\n",
       "      <th>0</th>\n",
       "      <td>age</td>\n",
       "      <td>Numeric</td>\n",
       "      <td>No</td>\n",
       "      <td>1</td>\n",
       "      <td>[MeanImputer]</td>\n",
       "      <td>{'Transformer1': {'Input': ['age'], 'TransformationFunction': 'Imputer', 'Operator': 'Mean', 'FeatureType': 'Numeric', 'ShouldOutput': True, 'TransformationParams': {'add_indicator': False, 'copy': True, 'fill_value': None, 'missing_values': nan, 'strategy': 'mean', 'verbose': 0}}}</td>\n",
       "    </tr>\n",
       "    <tr>\n",
       "      <th>1</th>\n",
       "      <td>anaemia</td>\n",
       "      <td>Numeric</td>\n",
       "      <td>No</td>\n",
       "      <td>1</td>\n",
       "      <td>[MeanImputer]</td>\n",
       "      <td>{'Transformer1': {'Input': ['anaemia'], 'TransformationFunction': 'Imputer', 'Operator': 'Mean', 'FeatureType': 'Numeric', 'ShouldOutput': True, 'TransformationParams': {'add_indicator': False, 'copy': True, 'fill_value': None, 'missing_values': nan, 'strategy': 'mean', 'verbose': 0}}}</td>\n",
       "    </tr>\n",
       "    <tr>\n",
       "      <th>2</th>\n",
       "      <td>creatinine_phosphokinase</td>\n",
       "      <td>Numeric</td>\n",
       "      <td>No</td>\n",
       "      <td>1</td>\n",
       "      <td>[MeanImputer]</td>\n",
       "      <td>{'Transformer1': {'Input': ['creatinine_phosphokinase'], 'TransformationFunction': 'Imputer', 'Operator': 'Mean', 'FeatureType': 'Numeric', 'ShouldOutput': True, 'TransformationParams': {'add_indicator': False, 'copy': True, 'fill_value': None, 'missing_values': nan, 'strategy': 'mean', 'verbose': 0}}}</td>\n",
       "    </tr>\n",
       "    <tr>\n",
       "      <th>3</th>\n",
       "      <td>diabetes</td>\n",
       "      <td>Numeric</td>\n",
       "      <td>No</td>\n",
       "      <td>1</td>\n",
       "      <td>[MeanImputer]</td>\n",
       "      <td>{'Transformer1': {'Input': ['diabetes'], 'TransformationFunction': 'Imputer', 'Operator': 'Mean', 'FeatureType': 'Numeric', 'ShouldOutput': True, 'TransformationParams': {'add_indicator': False, 'copy': True, 'fill_value': None, 'missing_values': nan, 'strategy': 'mean', 'verbose': 0}}}</td>\n",
       "    </tr>\n",
       "    <tr>\n",
       "      <th>4</th>\n",
       "      <td>ejection_fraction</td>\n",
       "      <td>Numeric</td>\n",
       "      <td>No</td>\n",
       "      <td>1</td>\n",
       "      <td>[MeanImputer]</td>\n",
       "      <td>{'Transformer1': {'Input': ['ejection_fraction'], 'TransformationFunction': 'Imputer', 'Operator': 'Mean', 'FeatureType': 'Numeric', 'ShouldOutput': True, 'TransformationParams': {'add_indicator': False, 'copy': True, 'fill_value': None, 'missing_values': nan, 'strategy': 'mean', 'verbose': 0}}}</td>\n",
       "    </tr>\n",
       "    <tr>\n",
       "      <th>5</th>\n",
       "      <td>high_blood_pressure</td>\n",
       "      <td>Numeric</td>\n",
       "      <td>No</td>\n",
       "      <td>1</td>\n",
       "      <td>[MeanImputer]</td>\n",
       "      <td>{'Transformer1': {'Input': ['high_blood_pressure'], 'TransformationFunction': 'Imputer', 'Operator': 'Mean', 'FeatureType': 'Numeric', 'ShouldOutput': True, 'TransformationParams': {'add_indicator': False, 'copy': True, 'fill_value': None, 'missing_values': nan, 'strategy': 'mean', 'verbose': 0}}}</td>\n",
       "    </tr>\n",
       "    <tr>\n",
       "      <th>6</th>\n",
       "      <td>platelets</td>\n",
       "      <td>Numeric</td>\n",
       "      <td>No</td>\n",
       "      <td>1</td>\n",
       "      <td>[MeanImputer]</td>\n",
       "      <td>{'Transformer1': {'Input': ['platelets'], 'TransformationFunction': 'Imputer', 'Operator': 'Mean', 'FeatureType': 'Numeric', 'ShouldOutput': True, 'TransformationParams': {'add_indicator': False, 'copy': True, 'fill_value': None, 'missing_values': nan, 'strategy': 'mean', 'verbose': 0}}}</td>\n",
       "    </tr>\n",
       "    <tr>\n",
       "      <th>7</th>\n",
       "      <td>serum_creatinine</td>\n",
       "      <td>Numeric</td>\n",
       "      <td>No</td>\n",
       "      <td>1</td>\n",
       "      <td>[MeanImputer]</td>\n",
       "      <td>{'Transformer1': {'Input': ['serum_creatinine'], 'TransformationFunction': 'Imputer', 'Operator': 'Mean', 'FeatureType': 'Numeric', 'ShouldOutput': True, 'TransformationParams': {'add_indicator': False, 'copy': True, 'fill_value': None, 'missing_values': nan, 'strategy': 'mean', 'verbose': 0}}}</td>\n",
       "    </tr>\n",
       "    <tr>\n",
       "      <th>8</th>\n",
       "      <td>serum_sodium</td>\n",
       "      <td>Numeric</td>\n",
       "      <td>No</td>\n",
       "      <td>1</td>\n",
       "      <td>[MeanImputer]</td>\n",
       "      <td>{'Transformer1': {'Input': ['serum_sodium'], 'TransformationFunction': 'Imputer', 'Operator': 'Mean', 'FeatureType': 'Numeric', 'ShouldOutput': True, 'TransformationParams': {'add_indicator': False, 'copy': True, 'fill_value': None, 'missing_values': nan, 'strategy': 'mean', 'verbose': 0}}}</td>\n",
       "    </tr>\n",
       "    <tr>\n",
       "      <th>9</th>\n",
       "      <td>sex</td>\n",
       "      <td>Numeric</td>\n",
       "      <td>No</td>\n",
       "      <td>1</td>\n",
       "      <td>[MeanImputer]</td>\n",
       "      <td>{'Transformer1': {'Input': ['sex'], 'TransformationFunction': 'Imputer', 'Operator': 'Mean', 'FeatureType': 'Numeric', 'ShouldOutput': True, 'TransformationParams': {'add_indicator': False, 'copy': True, 'fill_value': None, 'missing_values': nan, 'strategy': 'mean', 'verbose': 0}}}</td>\n",
       "    </tr>\n",
       "    <tr>\n",
       "      <th>10</th>\n",
       "      <td>smoking</td>\n",
       "      <td>Numeric</td>\n",
       "      <td>No</td>\n",
       "      <td>1</td>\n",
       "      <td>[MeanImputer]</td>\n",
       "      <td>{'Transformer1': {'Input': ['smoking'], 'TransformationFunction': 'Imputer', 'Operator': 'Mean', 'FeatureType': 'Numeric', 'ShouldOutput': True, 'TransformationParams': {'add_indicator': False, 'copy': True, 'fill_value': None, 'missing_values': nan, 'strategy': 'mean', 'verbose': 0}}}</td>\n",
       "    </tr>\n",
       "    <tr>\n",
       "      <th>11</th>\n",
       "      <td>time</td>\n",
       "      <td>Numeric</td>\n",
       "      <td>No</td>\n",
       "      <td>1</td>\n",
       "      <td>[MeanImputer]</td>\n",
       "      <td>{'Transformer1': {'Input': ['time'], 'TransformationFunction': 'Imputer', 'Operator': 'Mean', 'FeatureType': 'Numeric', 'ShouldOutput': True, 'TransformationParams': {'add_indicator': False, 'copy': True, 'fill_value': None, 'missing_values': nan, 'strategy': 'mean', 'verbose': 0}}}</td>\n",
       "    </tr>\n",
       "  </tbody>\n",
       "</table>\n",
       "</div>"
      ],
      "text/plain": [
       "              RawFeatureName TypeDetected Dropped  EngineeredFeatureCount  \\\n",
       "0   age                       Numeric      No      1                        \n",
       "1   anaemia                   Numeric      No      1                        \n",
       "2   creatinine_phosphokinase  Numeric      No      1                        \n",
       "3   diabetes                  Numeric      No      1                        \n",
       "4   ejection_fraction         Numeric      No      1                        \n",
       "5   high_blood_pressure       Numeric      No      1                        \n",
       "6   platelets                 Numeric      No      1                        \n",
       "7   serum_creatinine          Numeric      No      1                        \n",
       "8   serum_sodium              Numeric      No      1                        \n",
       "9   sex                       Numeric      No      1                        \n",
       "10  smoking                   Numeric      No      1                        \n",
       "11  time                      Numeric      No      1                        \n",
       "\n",
       "   Transformations  \\\n",
       "0   [MeanImputer]    \n",
       "1   [MeanImputer]    \n",
       "2   [MeanImputer]    \n",
       "3   [MeanImputer]    \n",
       "4   [MeanImputer]    \n",
       "5   [MeanImputer]    \n",
       "6   [MeanImputer]    \n",
       "7   [MeanImputer]    \n",
       "8   [MeanImputer]    \n",
       "9   [MeanImputer]    \n",
       "10  [MeanImputer]    \n",
       "11  [MeanImputer]    \n",
       "\n",
       "                                                                                                                                                                                                                                                                                               TransformationParams  \n",
       "0   {'Transformer1': {'Input': ['age'], 'TransformationFunction': 'Imputer', 'Operator': 'Mean', 'FeatureType': 'Numeric', 'ShouldOutput': True, 'TransformationParams': {'add_indicator': False, 'copy': True, 'fill_value': None, 'missing_values': nan, 'strategy': 'mean', 'verbose': 0}}}                       \n",
       "1   {'Transformer1': {'Input': ['anaemia'], 'TransformationFunction': 'Imputer', 'Operator': 'Mean', 'FeatureType': 'Numeric', 'ShouldOutput': True, 'TransformationParams': {'add_indicator': False, 'copy': True, 'fill_value': None, 'missing_values': nan, 'strategy': 'mean', 'verbose': 0}}}                   \n",
       "2   {'Transformer1': {'Input': ['creatinine_phosphokinase'], 'TransformationFunction': 'Imputer', 'Operator': 'Mean', 'FeatureType': 'Numeric', 'ShouldOutput': True, 'TransformationParams': {'add_indicator': False, 'copy': True, 'fill_value': None, 'missing_values': nan, 'strategy': 'mean', 'verbose': 0}}}  \n",
       "3   {'Transformer1': {'Input': ['diabetes'], 'TransformationFunction': 'Imputer', 'Operator': 'Mean', 'FeatureType': 'Numeric', 'ShouldOutput': True, 'TransformationParams': {'add_indicator': False, 'copy': True, 'fill_value': None, 'missing_values': nan, 'strategy': 'mean', 'verbose': 0}}}                  \n",
       "4   {'Transformer1': {'Input': ['ejection_fraction'], 'TransformationFunction': 'Imputer', 'Operator': 'Mean', 'FeatureType': 'Numeric', 'ShouldOutput': True, 'TransformationParams': {'add_indicator': False, 'copy': True, 'fill_value': None, 'missing_values': nan, 'strategy': 'mean', 'verbose': 0}}}         \n",
       "5   {'Transformer1': {'Input': ['high_blood_pressure'], 'TransformationFunction': 'Imputer', 'Operator': 'Mean', 'FeatureType': 'Numeric', 'ShouldOutput': True, 'TransformationParams': {'add_indicator': False, 'copy': True, 'fill_value': None, 'missing_values': nan, 'strategy': 'mean', 'verbose': 0}}}       \n",
       "6   {'Transformer1': {'Input': ['platelets'], 'TransformationFunction': 'Imputer', 'Operator': 'Mean', 'FeatureType': 'Numeric', 'ShouldOutput': True, 'TransformationParams': {'add_indicator': False, 'copy': True, 'fill_value': None, 'missing_values': nan, 'strategy': 'mean', 'verbose': 0}}}                 \n",
       "7   {'Transformer1': {'Input': ['serum_creatinine'], 'TransformationFunction': 'Imputer', 'Operator': 'Mean', 'FeatureType': 'Numeric', 'ShouldOutput': True, 'TransformationParams': {'add_indicator': False, 'copy': True, 'fill_value': None, 'missing_values': nan, 'strategy': 'mean', 'verbose': 0}}}          \n",
       "8   {'Transformer1': {'Input': ['serum_sodium'], 'TransformationFunction': 'Imputer', 'Operator': 'Mean', 'FeatureType': 'Numeric', 'ShouldOutput': True, 'TransformationParams': {'add_indicator': False, 'copy': True, 'fill_value': None, 'missing_values': nan, 'strategy': 'mean', 'verbose': 0}}}              \n",
       "9   {'Transformer1': {'Input': ['sex'], 'TransformationFunction': 'Imputer', 'Operator': 'Mean', 'FeatureType': 'Numeric', 'ShouldOutput': True, 'TransformationParams': {'add_indicator': False, 'copy': True, 'fill_value': None, 'missing_values': nan, 'strategy': 'mean', 'verbose': 0}}}                       \n",
       "10  {'Transformer1': {'Input': ['smoking'], 'TransformationFunction': 'Imputer', 'Operator': 'Mean', 'FeatureType': 'Numeric', 'ShouldOutput': True, 'TransformationParams': {'add_indicator': False, 'copy': True, 'fill_value': None, 'missing_values': nan, 'strategy': 'mean', 'verbose': 0}}}                   \n",
       "11  {'Transformer1': {'Input': ['time'], 'TransformationFunction': 'Imputer', 'Operator': 'Mean', 'FeatureType': 'Numeric', 'ShouldOutput': True, 'TransformationParams': {'add_indicator': False, 'copy': True, 'fill_value': None, 'missing_values': nan, 'strategy': 'mean', 'verbose': 0}}}                      "
      ]
     },
     "execution_count": 13,
     "metadata": {},
     "output_type": "execute_result"
    }
   ],
   "source": [
    "df = custom_featurizer.get_featurization_summary(is_user_friendly=False)\n",
    "pd.DataFrame(data=df)"
   ]
  },
  {
   "cell_type": "code",
   "execution_count": 14,
   "metadata": {
    "scrolled": true
   },
   "outputs": [
    {
     "data": {
      "text/html": [
       "<div>\n",
       "<style scoped>\n",
       "    .dataframe tbody tr th:only-of-type {\n",
       "        vertical-align: middle;\n",
       "    }\n",
       "\n",
       "    .dataframe tbody tr th {\n",
       "        vertical-align: top;\n",
       "    }\n",
       "\n",
       "    .dataframe thead th {\n",
       "        text-align: right;\n",
       "    }\n",
       "</style>\n",
       "<table border=\"1\" class=\"dataframe\">\n",
       "  <thead>\n",
       "    <tr style=\"text-align: right;\">\n",
       "      <th></th>\n",
       "    </tr>\n",
       "  </thead>\n",
       "  <tbody>\n",
       "  </tbody>\n",
       "</table>\n",
       "</div>"
      ],
      "text/plain": [
       "Empty DataFrame\n",
       "Columns: []\n",
       "Index: []"
      ]
     },
     "execution_count": 14,
     "metadata": {},
     "output_type": "execute_result"
    }
   ],
   "source": [
    "df = custom_featurizer.get_stats_feature_type_summary()\n",
    "pd.DataFrame(data=df)"
   ]
  },
  {
   "cell_type": "markdown",
   "metadata": {},
   "source": [
    "## Results"
   ]
  },
  {
   "cell_type": "markdown",
   "metadata": {},
   "source": [
    "#### Retrieve the Best Model's explanation"
   ]
  },
  {
   "cell_type": "markdown",
   "metadata": {},
   "source": [
    "Retrieve the explanation from the best_run which includes explanations for engineered features and raw features. Make sure that the run for generating explanations for the best model is completed"
   ]
  },
  {
   "cell_type": "code",
   "execution_count": 16,
   "metadata": {
    "scrolled": true
   },
   "outputs": [
    {
     "name": "stdout",
     "output_type": "stream",
     "text": [
      "AutoML_e329e4b4-7ab6-4771-af29-e13d01e88370_ModelExplain\n"
     ]
    }
   ],
   "source": [
    "# Wait for the best model explanation run to complete\n",
    "from azureml.core.run import Run\n",
    "model_explainability_run_id = remote_run.id + \"_\" + \"ModelExplain\"\n",
    "print(model_explainability_run_id)\n",
    "model_explainability_run = Run(experiment=experiment, run_id=model_explainability_run_id)\n",
    "model_explainability_run.wait_for_completion()\n",
    "\n",
    "# Get the best run object\n",
    "best_run, fitted_model = remote_run.get_output()"
   ]
  },
  {
   "cell_type": "code",
   "execution_count": 18,
   "metadata": {},
   "outputs": [
    {
     "data": {
      "text/plain": [
       "'AutoML_e329e4b4-7ab6-4771-af29-e13d01e88370_38'"
      ]
     },
     "execution_count": 18,
     "metadata": {},
     "output_type": "execute_result"
    }
   ],
   "source": [
    "best_run.id"
   ]
  },
  {
   "cell_type": "code",
   "execution_count": 19,
   "metadata": {},
   "outputs": [
    {
     "data": {
      "text/plain": [
       "Pipeline(memory=None,\n",
       "         steps=[('datatransformer',\n",
       "                 DataTransformer(enable_dnn=None, enable_feature_sweeping=None,\n",
       "                                 feature_sweeping_config=None,\n",
       "                                 feature_sweeping_timeout=None,\n",
       "                                 featurization_config=None, force_text_dnn=None,\n",
       "                                 is_cross_validation=None,\n",
       "                                 is_onnx_compatible=None, logger=None,\n",
       "                                 observer=None, task=None, working_dir=None)),\n",
       "                ('prefittedsoftvotingclassifier',...\n",
       "                                                                                                min_child_samples=20,\n",
       "                                                                                                min_child_weight=0.001,\n",
       "                                                                                                min_split_gain=0.0,\n",
       "                                                                                                n_estimators=100,\n",
       "                                                                                                n_jobs=1,\n",
       "                                                                                                num_leaves=31,\n",
       "                                                                                                objective=None,\n",
       "                                                                                                random_state=None,\n",
       "                                                                                                reg_alpha=0.0,\n",
       "                                                                                                reg_lambda=0.0,\n",
       "                                                                                                silent=True,\n",
       "                                                                                                subsample=1.0,\n",
       "                                                                                                subsample_for_bin=200000,\n",
       "                                                                                                subsample_freq=0,\n",
       "                                                                                                verbose=-10))],\n",
       "                                                                     verbose=False))],\n",
       "                                               flatten_transform=None,\n",
       "                                               weights=[0.1, 0.1, 0.1, 0.1, 0.1,\n",
       "                                                        0.2, 0.1, 0.1, 0.1]))],\n",
       "         verbose=False)"
      ]
     },
     "execution_count": 19,
     "metadata": {},
     "output_type": "execute_result"
    }
   ],
   "source": [
    "fitted_model"
   ]
  },
  {
   "cell_type": "markdown",
   "metadata": {},
   "source": [
    "### Download engineered feature importance from artifact store"
   ]
  },
  {
   "cell_type": "code",
   "execution_count": 20,
   "metadata": {},
   "outputs": [
    {
     "data": {
      "text/plain": [
       "{'time_MeanImputer': 0.7176662531212957,\n",
       " 'ejection_fraction_MeanImputer': 0.27243463496598663,\n",
       " 'serum_creatinine_MeanImputer': 0.2645693800085053,\n",
       " 'age_MeanImputer': 0.1469450498393064,\n",
       " 'serum_sodium_MeanImputer': 0.10714054044733509,\n",
       " 'platelets_MeanImputer': 0.05957823585009143,\n",
       " 'creatinine_phosphokinase_MeanImputer': 0.04739369317616801,\n",
       " 'sex_MeanImputer': 0.0302882949221358,\n",
       " 'anaemia_MeanImputer': 0.013343098502983574,\n",
       " 'high_blood_pressure_MeanImputer': 0.01008357790717924,\n",
       " 'diabetes_MeanImputer': 0.005256542884292074,\n",
       " 'smoking_MeanImputer': 0.0027435854306202307}"
      ]
     },
     "execution_count": 20,
     "metadata": {},
     "output_type": "execute_result"
    }
   ],
   "source": [
    "client = ExplanationClient.from_run(best_run)\n",
    "engineered_explanations = client.download_model_explanation(raw=False)\n",
    "exp_data = engineered_explanations.get_feature_importance_dict()\n",
    "exp_data"
   ]
  },
  {
   "cell_type": "markdown",
   "metadata": {},
   "source": [
    "### Download raw feature importance from artifact store"
   ]
  },
  {
   "cell_type": "code",
   "execution_count": 21,
   "metadata": {},
   "outputs": [
    {
     "data": {
      "text/plain": [
       "{'time': 0.7176662531212957,\n",
       " 'ejection_fraction': 0.27243463496598663,\n",
       " 'serum_creatinine': 0.2645693800085053,\n",
       " 'age': 0.1469450498393064,\n",
       " 'serum_sodium': 0.10714054044733509,\n",
       " 'platelets': 0.05957823585009143,\n",
       " 'creatinine_phosphokinase': 0.04739369317616801,\n",
       " 'sex': 0.0302882949221358,\n",
       " 'anaemia': 0.013343098502983574,\n",
       " 'high_blood_pressure': 0.01008357790717924,\n",
       " 'diabetes': 0.005256542884292074,\n",
       " 'smoking': 0.0027435854306202307}"
      ]
     },
     "execution_count": 21,
     "metadata": {},
     "output_type": "execute_result"
    }
   ],
   "source": [
    "client = ExplanationClient.from_run(best_run)\n",
    "engineered_explanations = client.download_model_explanation(raw=True)\n",
    "exp_data = engineered_explanations.get_feature_importance_dict()\n",
    "exp_data"
   ]
  },
  {
   "cell_type": "markdown",
   "metadata": {},
   "source": [
    "## Retrieve the Best ONNX Mode"
   ]
  },
  {
   "cell_type": "markdown",
   "metadata": {},
   "source": [
    "Below we select the best pipeline from our iterations. The get_output method returns the best run and the fitted model. The Model includes the pipeline and any pre-processing. Overloads on get_output allow you to retrieve the best run and fitted model for any logged metric or for a particular iteration.\n",
    "\n",
    "Set the parameter return_onnx_model=True to retrieve the best ONNX model, instead of the Python model."
   ]
  },
  {
   "cell_type": "code",
   "execution_count": 22,
   "metadata": {},
   "outputs": [],
   "source": [
    "best_run, onnx_mdl = remote_run.get_output(return_onnx_model=True)"
   ]
  },
  {
   "cell_type": "markdown",
   "metadata": {},
   "source": [
    "## Save the best ONNX model"
   ]
  },
  {
   "cell_type": "code",
   "execution_count": 23,
   "metadata": {},
   "outputs": [],
   "source": [
    "from azureml.automl.runtime.onnx_convert import OnnxConverter\n",
    "onnx_fl_path = \"./best_automl_model.onnx\"\n",
    "OnnxConverter.save_onnx_model(onnx_mdl, onnx_fl_path)"
   ]
  },
  {
   "cell_type": "markdown",
   "metadata": {},
   "source": [
    "## Predict with the ONNX model, using onnxruntime package"
   ]
  },
  {
   "cell_type": "markdown",
   "metadata": {},
   "source": [
    "df_test = dataset.to_pandas_dataframe()\n",
    "df_test = df_test[pd.notnull(df_test['DEATH_EVENT'])]\n",
    "\n",
    "y_test = df_test['DEATH_EVENT']\n",
    "X_test = df_test.drop(['DEATH_EVENT'], axis=1)"
   ]
  },
  {
   "cell_type": "markdown",
   "metadata": {},
   "source": [
    "import sys\n",
    "import json\n",
    "from azureml.automl.core.onnx_convert import OnnxConvertConstants\n",
    "from azureml.train.automl import constants\n",
    "\n",
    "if sys.version_info < OnnxConvertConstants.OnnxIncompatiblePythonVersion:\n",
    "    python_version_compatible = True\n",
    "else:\n",
    "    python_version_compatible = False\n",
    "\n",
    "import onnxruntime\n",
    "from azureml.automl.runtime.onnx_convert import OnnxInferenceHelper\n",
    "\n",
    "def get_onnx_res(run):\n",
    "    res_path = 'onnx_resource.json'\n",
    "    run.download_file(name=constants.MODEL_RESOURCE_PATH_ONNX, output_file_path=res_path)\n",
    "    with open(res_path) as f:\n",
    "        onnx_res = json.load(f)\n",
    "    return onnx_res\n",
    "\n",
    "if python_version_compatible:\n",
    "    test_df = X_test\n",
    "    mdl_bytes = onnx_mdl.SerializeToString()\n",
    "    onnx_res = get_onnx_res(best_run)\n",
    "\n",
    "    onnxrt_helper = OnnxInferenceHelper(mdl_bytes, onnx_res)\n",
    "    pred_onnx, pred_prob_onnx = onnxrt_helper.predict(test_df)\n",
    "\n",
    "    print(pred_onnx)\n",
    "    print(pred_prob_onnx)\n",
    "else:\n",
    "    print('Please use Python version 3.6 or 3.7 to run the inference helper.')"
   ]
  },
  {
   "cell_type": "markdown",
   "metadata": {},
   "source": [
    "## Deploy"
   ]
  },
  {
   "cell_type": "markdown",
   "metadata": {},
   "source": [
    "Retrieve the Best Model\n",
    "Below we select the best pipeline from our iterations. The get_output method returns the best run and the fitted model. Overloads on get_output allow you to retrieve the best run and fitted model for any logged metric or for a particular iteration.\n",
    "\n",
    "Widget for Monitoring Runs\n",
    "The widget will first report a \"loading\" status while running the first iteration. After completing the first iteration, an auto-updating graph and table will be shown. The widget will refresh once per minute, so you should see the graph update as child runs complete.\n",
    "\n",
    "Note: The widget displays a link at the bottom. Use this link to open a web interface to explore the individual run details"
   ]
  },
  {
   "cell_type": "code",
   "execution_count": 26,
   "metadata": {},
   "outputs": [],
   "source": [
    "best_run, fitted_model = remote_run.get_output()"
   ]
  },
  {
   "cell_type": "code",
   "execution_count": 27,
   "metadata": {
    "scrolled": true
   },
   "outputs": [
    {
     "data": {
      "text/html": [
       "<table style=\"width:100%\"><tr><th>Experiment</th><th>Id</th><th>Type</th><th>Status</th><th>Details Page</th><th>Docs Page</th></tr><tr><td>automl-classification-experiment</td><td>AutoML_e329e4b4-7ab6-4771-af29-e13d01e88370_38</td><td>azureml.scriptrun</td><td>Completed</td><td><a href=\"https://ml.azure.com/experiments/automl-classification-experiment/runs/AutoML_e329e4b4-7ab6-4771-af29-e13d01e88370_38?wsid=/subscriptions/a7e82b92-bbed-4497-a8df-009b71b94f9c/resourcegroups/aml-quickstarts-130665/workspaces/quick-starts-ws-130665\" target=\"_blank\" rel=\"noopener\">Link to Azure Machine Learning studio</a></td><td><a href=\"https://docs.microsoft.com/en-us/python/api/azureml-core/azureml.core.run.Run?view=azure-ml-py\" target=\"_blank\" rel=\"noopener\">Link to Documentation</a></td></tr></table>"
      ],
      "text/plain": [
       "Run(Experiment: automl-classification-experiment,\n",
       "Id: AutoML_e329e4b4-7ab6-4771-af29-e13d01e88370_38,\n",
       "Type: azureml.scriptrun,\n",
       "Status: Completed)"
      ]
     },
     "execution_count": 27,
     "metadata": {},
     "output_type": "execute_result"
    }
   ],
   "source": [
    "best_run"
   ]
  },
  {
   "cell_type": "code",
   "execution_count": 28,
   "metadata": {},
   "outputs": [
    {
     "data": {
      "text/html": [
       "['accuracy_table', 'automl_driver.py', 'azureml-logs/55_azureml-execution-tvmps_78e77780f0e10e8d185bf7301301c1a6cdd6219c4a0a8984057b170d016c41a7_d.txt', 'azureml-logs/65_job_prep-tvmps_78e77780f0e10e8d185bf7301301c1a6cdd6219c4a0a8984057b170d016c41a7_d.txt', 'azureml-logs/70_driver_log.txt', 'azureml-logs/75_job_post-tvmps_78e77780f0e10e8d185bf7301301c1a6cdd6219c4a0a8984057b170d016c41a7_d.txt', 'azureml-logs/process_info.json', 'azureml-logs/process_status.json', 'confusion_matrix', 'explanation/53db4f6f/classes.interpret.json', 'explanation/53db4f6f/eval_data_viz.interpret.json', 'explanation/53db4f6f/expected_values.interpret.json', 'explanation/53db4f6f/features.interpret.json', 'explanation/53db4f6f/global_names/0.interpret.json', 'explanation/53db4f6f/global_rank/0.interpret.json', 'explanation/53db4f6f/global_values/0.interpret.json', 'explanation/53db4f6f/local_importance_values.interpret.json', 'explanation/53db4f6f/per_class_names/0.interpret.json', 'explanation/53db4f6f/per_class_rank/0.interpret.json', 'explanation/53db4f6f/per_class_values/0.interpret.json', 'explanation/53db4f6f/rich_metadata.interpret.json', 'explanation/53db4f6f/visualization_dict.interpret.json', 'explanation/7f4a9fab/classes.interpret.json', 'explanation/7f4a9fab/eval_data_viz.interpret.json', 'explanation/7f4a9fab/expected_values.interpret.json', 'explanation/7f4a9fab/features.interpret.json', 'explanation/7f4a9fab/global_names/0.interpret.json', 'explanation/7f4a9fab/global_rank/0.interpret.json', 'explanation/7f4a9fab/global_values/0.interpret.json', 'explanation/7f4a9fab/local_importance_values.interpret.json', 'explanation/7f4a9fab/per_class_names/0.interpret.json', 'explanation/7f4a9fab/per_class_rank/0.interpret.json', 'explanation/7f4a9fab/per_class_values/0.interpret.json', 'explanation/7f4a9fab/rich_metadata.interpret.json', 'explanation/7f4a9fab/visualization_dict.interpret.json', 'explanation/7f4a9fab/ys_pred_proba_viz.interpret.json', 'explanation/7f4a9fab/ys_pred_viz.interpret.json', 'logs/azureml/103_azureml.log', 'logs/azureml/azureml_automl.log', 'logs/azureml/dataprep/python_span_60249173-798d-4fda-a2f2-9db71c26f994.jsonl', 'logs/azureml/dataprep/python_span_d617aedf-571f-42d8-9210-6f8821ec56e1.jsonl', 'logs/azureml/job_prep_azureml.log', 'logs/azureml/job_release_azureml.log', 'outputs/conda_env_v_1_0_0.yml', 'outputs/env_dependencies.json', 'outputs/model.onnx', 'outputs/model.pkl', 'outputs/model_onnx.json', 'outputs/pipeline_graph.json', 'outputs/scoring_file_v_1_0_0.py']"
      ],
      "text/plain": [
       "['accuracy_table',\n",
       " 'automl_driver.py',\n",
       " 'azureml-logs/55_azureml-execution-tvmps_78e77780f0e10e8d185bf7301301c1a6cdd6219c4a0a8984057b170d016c41a7_d.txt',\n",
       " 'azureml-logs/65_job_prep-tvmps_78e77780f0e10e8d185bf7301301c1a6cdd6219c4a0a8984057b170d016c41a7_d.txt',\n",
       " 'azureml-logs/70_driver_log.txt',\n",
       " 'azureml-logs/75_job_post-tvmps_78e77780f0e10e8d185bf7301301c1a6cdd6219c4a0a8984057b170d016c41a7_d.txt',\n",
       " 'azureml-logs/process_info.json',\n",
       " 'azureml-logs/process_status.json',\n",
       " 'confusion_matrix',\n",
       " 'explanation/53db4f6f/classes.interpret.json',\n",
       " 'explanation/53db4f6f/eval_data_viz.interpret.json',\n",
       " 'explanation/53db4f6f/expected_values.interpret.json',\n",
       " 'explanation/53db4f6f/features.interpret.json',\n",
       " 'explanation/53db4f6f/global_names/0.interpret.json',\n",
       " 'explanation/53db4f6f/global_rank/0.interpret.json',\n",
       " 'explanation/53db4f6f/global_values/0.interpret.json',\n",
       " 'explanation/53db4f6f/local_importance_values.interpret.json',\n",
       " 'explanation/53db4f6f/per_class_names/0.interpret.json',\n",
       " 'explanation/53db4f6f/per_class_rank/0.interpret.json',\n",
       " 'explanation/53db4f6f/per_class_values/0.interpret.json',\n",
       " 'explanation/53db4f6f/rich_metadata.interpret.json',\n",
       " 'explanation/53db4f6f/visualization_dict.interpret.json',\n",
       " 'explanation/7f4a9fab/classes.interpret.json',\n",
       " 'explanation/7f4a9fab/eval_data_viz.interpret.json',\n",
       " 'explanation/7f4a9fab/expected_values.interpret.json',\n",
       " 'explanation/7f4a9fab/features.interpret.json',\n",
       " 'explanation/7f4a9fab/global_names/0.interpret.json',\n",
       " 'explanation/7f4a9fab/global_rank/0.interpret.json',\n",
       " 'explanation/7f4a9fab/global_values/0.interpret.json',\n",
       " 'explanation/7f4a9fab/local_importance_values.interpret.json',\n",
       " 'explanation/7f4a9fab/per_class_names/0.interpret.json',\n",
       " 'explanation/7f4a9fab/per_class_rank/0.interpret.json',\n",
       " 'explanation/7f4a9fab/per_class_values/0.interpret.json',\n",
       " 'explanation/7f4a9fab/rich_metadata.interpret.json',\n",
       " 'explanation/7f4a9fab/visualization_dict.interpret.json',\n",
       " 'explanation/7f4a9fab/ys_pred_proba_viz.interpret.json',\n",
       " 'explanation/7f4a9fab/ys_pred_viz.interpret.json',\n",
       " 'logs/azureml/103_azureml.log',\n",
       " 'logs/azureml/azureml_automl.log',\n",
       " 'logs/azureml/dataprep/python_span_60249173-798d-4fda-a2f2-9db71c26f994.jsonl',\n",
       " 'logs/azureml/dataprep/python_span_d617aedf-571f-42d8-9210-6f8821ec56e1.jsonl',\n",
       " 'logs/azureml/job_prep_azureml.log',\n",
       " 'logs/azureml/job_release_azureml.log',\n",
       " 'outputs/conda_env_v_1_0_0.yml',\n",
       " 'outputs/env_dependencies.json',\n",
       " 'outputs/model.onnx',\n",
       " 'outputs/model.pkl',\n",
       " 'outputs/model_onnx.json',\n",
       " 'outputs/pipeline_graph.json',\n",
       " 'outputs/scoring_file_v_1_0_0.py']"
      ]
     },
     "execution_count": 28,
     "metadata": {},
     "output_type": "execute_result"
    }
   ],
   "source": [
    "best_run.get_file_names()"
   ]
  },
  {
   "cell_type": "code",
   "execution_count": 29,
   "metadata": {},
   "outputs": [],
   "source": [
    "model_name = best_run.properties['model_name']\n",
    "\n",
    "script_file_name = 'inference/score.py'\n",
    "\n",
    "best_run.download_file('outputs/scoring_file_v_1_0_0.py', 'inference/score.py')"
   ]
  },
  {
   "cell_type": "code",
   "execution_count": 30,
   "metadata": {},
   "outputs": [
    {
     "data": {
      "text/plain": [
       "'AutoMLe329e4b4738'"
      ]
     },
     "execution_count": 30,
     "metadata": {},
     "output_type": "execute_result"
    }
   ],
   "source": [
    "model_name"
   ]
  },
  {
   "cell_type": "code",
   "execution_count": 31,
   "metadata": {},
   "outputs": [
    {
     "data": {
      "text/plain": [
       "'AutoML_e329e4b4-7ab6-4771-af29-e13d01e88370_38'"
      ]
     },
     "execution_count": 31,
     "metadata": {},
     "output_type": "execute_result"
    }
   ],
   "source": [
    "best_run.id"
   ]
  },
  {
   "cell_type": "markdown",
   "metadata": {},
   "source": [
    "## Register the Fitted Model for Deployment"
   ]
  },
  {
   "cell_type": "code",
   "execution_count": 32,
   "metadata": {},
   "outputs": [
    {
     "name": "stdout",
     "output_type": "stream",
     "text": [
      "AutoMLe329e4b4738\n"
     ]
    }
   ],
   "source": [
    "description = 'AutoML Model trained on bank marketing data to predict if a client will subscribe to a term deposit'\n",
    "tags = None\n",
    "model = remote_run.register_model(model_name = model_name, description = description, tags = tags)\n",
    "\n",
    "print(remote_run.model_id) # This will be written to the script file later in the notebook"
   ]
  },
  {
   "cell_type": "markdown",
   "metadata": {},
   "source": [
    "## Deploy the model as a Web Service on Azure Container Instance"
   ]
  },
  {
   "cell_type": "code",
   "execution_count": 36,
   "metadata": {},
   "outputs": [
    {
     "name": "stdout",
     "output_type": "stream",
     "text": [
      "automl-heart-failure\n",
      "Tips: You can try get_logs(): https://aka.ms/debugimage#dockerlog or local deployment: https://aka.ms/debugimage#debug-locally to debug if deployment takes longer than 10 minutes.\n",
      "Running...........................................\n",
      "Succeeded\n",
      "ACI service creation operation finished, operation \"Succeeded\"\n",
      "Healthy\n"
     ]
    }
   ],
   "source": [
    "from azureml.core.model import InferenceConfig\n",
    "from azureml.core.webservice import AciWebservice\n",
    "from azureml.core.webservice import Webservice\n",
    "from azureml.core.model import Model\n",
    "from azureml.core.environment import Environment\n",
    "\n",
    "inference_config = InferenceConfig(entry_script=script_file_name)\n",
    "\n",
    "aciconfig = AciWebservice.deploy_configuration(cpu_cores = 1, \n",
    "                                               memory_gb = 1, \n",
    "                                               tags = {'area': \"bmData\", 'type': \"automl_classification\"}, \n",
    "                                               description = 'sample service for Automl Classification',\n",
    "                                               auth_enabled = True,\n",
    "                                               primary_key = 'iOhff5Z0kJlzznr9Wq4c3KcGQULltKYB')\n",
    "\n",
    "aci_service_name = 'automl-heart-failure'\n",
    "print(aci_service_name)\n",
    "aci_service = Model.deploy(ws, aci_service_name, [model], inference_config, aciconfig)\n",
    "aci_service.wait_for_deployment(True)\n",
    "print(aci_service.state)"
   ]
  },
  {
   "cell_type": "markdown",
   "metadata": {},
   "source": [
    "## Get Logs from a Deployed Web Service"
   ]
  },
  {
   "cell_type": "code",
   "execution_count": 34,
   "metadata": {},
   "outputs": [
    {
     "data": {
      "text/plain": [
       "'2020-12-16T05:22:48,072465665+00:00 - iot-server/run \\n2020-12-16T05:22:48,072466365+00:00 - gunicorn/run \\n2020-12-16T05:22:48,073107493+00:00 - rsyslog/run \\n/usr/sbin/nginx: /azureml-envs/azureml_e1251fbb90896de9de2cde1255eba7bb/lib/libcrypto.so.1.0.0: no version information available (required by /usr/sbin/nginx)\\n/usr/sbin/nginx: /azureml-envs/azureml_e1251fbb90896de9de2cde1255eba7bb/lib/libcrypto.so.1.0.0: no version information available (required by /usr/sbin/nginx)\\n/usr/sbin/nginx: /azureml-envs/azureml_e1251fbb90896de9de2cde1255eba7bb/lib/libssl.so.1.0.0: no version information available (required by /usr/sbin/nginx)\\n/usr/sbin/nginx: /azureml-envs/azureml_e1251fbb90896de9de2cde1255eba7bb/lib/libssl.so.1.0.0: no version information available (required by /usr/sbin/nginx)\\n/usr/sbin/nginx: /azureml-envs/azureml_e1251fbb90896de9de2cde1255eba7bb/lib/libssl.so.1.0.0: no version information available (required by /usr/sbin/nginx)\\n2020-12-16T05:22:48,161091516+00:00 - nginx/run \\nrsyslogd: /azureml-envs/azureml_e1251fbb90896de9de2cde1255eba7bb/lib/libuuid.so.1: no version information available (required by rsyslogd)\\nEdgeHubConnectionString and IOTEDGE_IOTHUBHOSTNAME are not set. Exiting...\\n2020-12-16T05:22:48,338114208+00:00 - iot-server/finish 1 0\\n2020-12-16T05:22:48,339910288+00:00 - Exit code 1 is normal. Not restarting iot-server.\\nStarting gunicorn 19.9.0\\nListening at: http://127.0.0.1:31311 (16)\\nUsing worker: sync\\nworker timeout is set to 300\\nBooting worker with pid: 42\\nSPARK_HOME not set. Skipping PySpark Initialization.\\nGenerating new fontManager, this may take some time...\\nInitializing logger\\n2020-12-16 05:22:50,729 | root | INFO | Starting up app insights client\\nStarting up app insights client\\n2020-12-16 05:22:50,729 | root | INFO | Starting up request id generator\\nStarting up request id generator\\n2020-12-16 05:22:50,729 | root | INFO | Starting up app insight hooks\\nStarting up app insight hooks\\n2020-12-16 05:22:50,730 | root | INFO | Invoking user\\'s init function\\nInvoking user\\'s init function\\n2020-12-16 05:22:55,174 | root | INFO | Users\\'s init has completed successfully\\nUsers\\'s init has completed successfully\\n/azureml-envs/azureml_e1251fbb90896de9de2cde1255eba7bb/lib/python3.6/site-packages/sklearn/externals/joblib/__init__.py:15: FutureWarning: sklearn.externals.joblib is deprecated in 0.21 and will be removed in 0.23. Please import this functionality directly from joblib, which can be installed with: pip install joblib. If this warning is raised when loading pickled models, you may need to re-serialize those models with scikit-learn 0.21+.\\n  warnings.warn(msg, category=FutureWarning)\\n2020-12-16 05:22:55,179 | root | INFO | Skipping middleware: dbg_model_info as it\\'s not enabled.\\nSkipping middleware: dbg_model_info as it\\'s not enabled.\\n2020-12-16 05:22:55,179 | root | INFO | Skipping middleware: dbg_resource_usage as it\\'s not enabled.\\nSkipping middleware: dbg_resource_usage as it\\'s not enabled.\\n2020-12-16 05:22:55,182 | root | INFO | Scoring timeout is found from os.environ: 60000 ms\\nScoring timeout is found from os.environ: 60000 ms\\n2020-12-16 05:23:02,872 | root | INFO | 200\\n200\\n127.0.0.1 - - [16/Dec/2020:05:23:02 +0000] \"GET /swagger.json HTTP/1.0\" 200 2870 \"-\" \"Go-http-client/1.1\"\\n2020-12-16 05:23:04,732 | root | INFO | 200\\n200\\n127.0.0.1 - - [16/Dec/2020:05:23:04 +0000] \"GET /swagger.json HTTP/1.0\" 200 2870 \"-\" \"Go-http-client/1.1\"\\n'"
      ]
     },
     "execution_count": 34,
     "metadata": {},
     "output_type": "execute_result"
    }
   ],
   "source": [
    "aci_service.get_logs()"
   ]
  },
  {
   "cell_type": "markdown",
   "metadata": {},
   "source": [
    "## Test"
   ]
  },
  {
   "cell_type": "markdown",
   "metadata": {},
   "source": [
    "Now that the model is trained, run the test data through the trained model to get the predicted values. This calls the ACI web service to do the prediction.\n",
    "\n",
    "Note that the JSON passed to the ACI web service is an array of rows of data. Each row should either be an array of values in the same order that was used for training or a dictionary where the keys are the same as the column names used for training. The example below uses dictionary rows."
   ]
  },
  {
   "cell_type": "code",
   "execution_count": null,
   "metadata": {},
   "outputs": [],
   "source": [
    "from numpy import array\n",
    "\n",
    "X_test = dataset.drop_columns(columns=['DEATH_EVENT'])\n",
    "y_test = dataset.keep_columns(columns=['DEATH_EVENT'], validate=True)\n",
    "dataset.take(5).to_pandas_dataframe()"
   ]
  },
  {
   "cell_type": "code",
   "execution_count": null,
   "metadata": {},
   "outputs": [],
   "source": [
    "\n",
    "X_test = X_test.to_pandas_dataframe()\n",
    "y_test = y_test.to_pandas_dataframe()"
   ]
  },
  {
   "cell_type": "code",
   "execution_count": null,
   "metadata": {},
   "outputs": [],
   "source": [
    "X_test[0]"
   ]
  },
  {
   "cell_type": "code",
   "execution_count": null,
   "metadata": {},
   "outputs": [],
   "source": [
    "y_test[0]"
   ]
  },
  {
   "cell_type": "code",
   "execution_count": null,
   "metadata": {},
   "outputs": [],
   "source": []
  },
  {
   "cell_type": "code",
   "execution_count": null,
   "metadata": {},
   "outputs": [],
   "source": [
    "import json\n",
    "import requests\n",
    "\n",
    "X_test_json = X_test.to_json(orient='records')\n",
    "data = \"{\\\"data\\\": \" + X_test_json +\"}\"\n",
    "headers = {'Content-Type': 'application/json'}\n",
    "\n",
    "resp = requests.post(aci_service.scoring_uri, data, headers=headers)\n",
    "\n",
    "y_pred = json.loads(json.loads(resp.text))['result']"
   ]
  },
  {
   "cell_type": "code",
   "execution_count": null,
   "metadata": {},
   "outputs": [],
   "source": [
    "\n",
    "actual = array(y_test)\n",
    "actual = actual[:,0]\n",
    "print(len(y_pred), \" \", len(actual))"
   ]
  },
  {
   "cell_type": "markdown",
   "metadata": {},
   "source": [
    "## Calculate metrics for the prediction"
   ]
  },
  {
   "cell_type": "markdown",
   "metadata": {},
   "source": [
    "Now visualize the data as a confusion matrix that compared the predicted values against the actual values."
   ]
  },
  {
   "cell_type": "code",
   "execution_count": null,
   "metadata": {},
   "outputs": [],
   "source": [
    "%matplotlib notebook\n",
    "from sklearn.metrics import confusion_matrix\n",
    "import numpy as np\n",
    "import itertools\n",
    "\n",
    "cf =confusion_matrix(actual,y_pred)\n",
    "plt.imshow(cf,cmap=plt.cm.Blues,interpolation='nearest')\n",
    "plt.colorbar()\n",
    "plt.title('Confusion Matrix')\n",
    "plt.xlabel('Predicted')\n",
    "plt.ylabel('Actual')\n",
    "class_labels = ['no','yes']\n",
    "tick_marks = np.arange(len(class_labels))\n",
    "plt.xticks(tick_marks,class_labels)\n",
    "plt.yticks([-0.5,0,1,1.5],['','no','yes',''])\n",
    "# plotting text value inside cells\n",
    "thresh = cf.max() / 2.\n",
    "for i,j in itertools.product(range(cf.shape[0]),range(cf.shape[1])):\n",
    "    plt.text(j,i,format(cf[i,j],'d'),horizontalalignment='center',color='white' if cf[i,j] >thresh else 'black')\n",
    "plt.show()"
   ]
  },
  {
   "cell_type": "markdown",
   "metadata": {},
   "source": [
    "## Delete a Web Service (i.e. endpoint)"
   ]
  },
  {
   "cell_type": "code",
   "execution_count": 42,
   "metadata": {},
   "outputs": [],
   "source": [
    "aci_service.delete()"
   ]
  },
  {
   "cell_type": "code",
   "execution_count": null,
   "metadata": {},
   "outputs": [],
   "source": []
  }
 ],
 "metadata": {
  "kernel_info": {
   "name": "python3-azureml"
  },
  "kernelspec": {
   "display_name": "Python 3",
   "language": "python",
   "name": "python3"
  },
  "language_info": {
   "codemirror_mode": {
    "name": "ipython",
    "version": 3
   },
   "file_extension": ".py",
   "mimetype": "text/x-python",
   "name": "python",
   "nbconvert_exporter": "python",
   "pygments_lexer": "ipython3",
   "version": "3.6.9"
  },
  "nteract": {
   "version": "nteract-front-end@1.0.0"
  }
 },
 "nbformat": 4,
 "nbformat_minor": 2
}
